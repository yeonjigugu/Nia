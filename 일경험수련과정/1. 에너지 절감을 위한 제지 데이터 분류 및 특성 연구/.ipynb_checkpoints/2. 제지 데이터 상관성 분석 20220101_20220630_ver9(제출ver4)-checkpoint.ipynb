{
 "cells": [
  {
   "cell_type": "code",
   "execution_count": 1,
   "id": "0855e5be",
   "metadata": {
    "scrolled": true
   },
   "outputs": [
    {
     "name": "stderr",
     "output_type": "stream",
     "text": [
      "C:\\Users\\USER\\AppData\\Local\\Temp\\ipykernel_11128\\3335098552.py:22: DeprecationWarning: Importing display from IPython.core.display is deprecated since IPython 7.14, please import from IPython display\n",
      "  from IPython.core.display import display, HTML\n"
     ]
    },
    {
     "data": {
      "text/html": [
       "<style>.container {width:95% !important;}</style>"
      ],
      "text/plain": [
       "<IPython.core.display.HTML object>"
      ]
     },
     "metadata": {},
     "output_type": "display_data"
    }
   ],
   "source": [
    "%config Completer.use_jedi = False\n",
    "import seaborn as sns\n",
    "import matplotlib.pyplot as plt\n",
    "import pandas as pd\n",
    "import numpy as np\n",
    "import pprint\n",
    "import datetime\n",
    "from datetime import datetime, timedelta\n",
    "import torch\n",
    "from pyarrow import csv\n",
    "import os.path\n",
    "import matplotlib.pyplot as plt\n",
    "import seaborn as sns\n",
    "import os\n",
    "import re\n",
    "import gc\n",
    "from tqdm import tqdm\n",
    "import scipy.stats as stats\n",
    "from sklearn.preprocessing import MinMaxScaler\n",
    "os.environ['KMP_DUPLICATE_LIB_OK']='True'\n",
    "\n",
    "from IPython.core.display import display, HTML\n",
    "display(HTML(\"<style>.container {width:95% !important;}</style>\")) #셀 사이즈 조절\n",
    "\n",
    "import warnings\n",
    "warnings.simplefilter(action='ignore', category=FutureWarning) # FutureWarning 제거\n",
    "\n",
    "#matplotlib 한글\n",
    "from matplotlib import font_manager, rc\n",
    "font_path = \"C:/Windows/Fonts/NGULIM.TTF\"ㅂ\n",
    "font = font_manager.FontProperties(fname=font_path).get_name()\n",
    "rc('font', family=font)"
   ]
  },
  {
   "cell_type": "code",
   "execution_count": 2,
   "id": "cef14981",
   "metadata": {
    "scrolled": false
   },
   "outputs": [
    {
     "name": "stderr",
     "output_type": "stream",
     "text": [
      "C:\\Users\\USER\\AppData\\Local\\Temp\\ipykernel_11128\\428708869.py:1: DtypeWarning: Columns (8) have mixed types. Specify dtype option on import or set low_memory=False.\n",
      "  df = pd.read_csv('C:/Users/USER/etri_csv/논문/논문자료_v1.csv')\n"
     ]
    }
   ],
   "source": [
    "df = pd.read_csv('C:/Users/USER/etri_csv/논문/논문자료_v1.csv')"
   ]
  },
  {
   "cell_type": "code",
   "execution_count": 3,
   "id": "eaa3a36d",
   "metadata": {},
   "outputs": [],
   "source": [
    "df['작업시작시간'] =pd.to_datetime(df['작업시작시간'])"
   ]
  },
  {
   "cell_type": "code",
   "execution_count": 142,
   "id": "adfff703",
   "metadata": {},
   "outputs": [],
   "source": [
    "df.set_index('작업시작시간', inplace=True)"
   ]
  },
  {
   "cell_type": "code",
   "execution_count": 143,
   "id": "4dbb952a",
   "metadata": {},
   "outputs": [],
   "source": [
    "df.index =pd.to_datetime(df.index)"
   ]
  },
  {
   "cell_type": "code",
   "execution_count": 5,
   "id": "c96d689a",
   "metadata": {},
   "outputs": [],
   "source": [
    "df.interpolate('time', inplace=True)"
   ]
  },
  {
   "cell_type": "code",
   "execution_count": 6,
   "id": "7ae3e47a",
   "metadata": {},
   "outputs": [],
   "source": [
    "df.fillna(method='bfill', inplace=True)"
   ]
  },
  {
   "cell_type": "markdown",
   "id": "32b2145b",
   "metadata": {},
   "source": [
    "사용할 태그  "
   ]
  },
  {
   "cell_type": "code",
   "execution_count": 7,
   "id": "caa3fe63",
   "metadata": {},
   "outputs": [],
   "source": [
    "tags_Power = [\n",
    " 전력 관련 태그\n",
    " ]"
   ]
  },
  {
   "cell_type": "code",
   "execution_count": 8,
   "id": "6a958676",
   "metadata": {},
   "outputs": [],
   "source": [
    "tags_front=[\n",
    "    전건조 관련 태그\n",
    "]"
   ]
  },
  {
   "cell_type": "code",
   "execution_count": 9,
   "id": "dcdacee7",
   "metadata": {},
   "outputs": [],
   "source": [
    "tags_back=[\n",
    "    후건조 관련 태그\n",
    "]"
   ]
  },
  {
   "cell_type": "code",
   "execution_count": 10,
   "id": "8519609d",
   "metadata": {},
   "outputs": [],
   "source": [
    "tags_QCS=[\n",
    "    나머지 건조 관련 태그\n",
    "]"
   ]
  },
  {
   "cell_type": "code",
   "execution_count": 11,
   "id": "a9c78bed",
   "metadata": {},
   "outputs": [],
   "source": [
    "tags = tags_Power+tags_QCS+tags_front+tags_back"
   ]
  },
  {
   "cell_type": "markdown",
   "id": "0bd4254d",
   "metadata": {},
   "source": [
    "15분 단축"
   ]
  },
  {
   "cell_type": "code",
   "execution_count": 12,
   "id": "94dedd96",
   "metadata": {},
   "outputs": [],
   "source": [
    "df_MES = df.copy()"
   ]
  },
  {
   "cell_type": "code",
   "execution_count": 13,
   "id": "dd46bfa7",
   "metadata": {},
   "outputs": [],
   "source": [
    "df_event=df_MES[df_MES['지절']==1]#백업"
   ]
  },
  {
   "cell_type": "code",
   "execution_count": 14,
   "id": "3b9e0989",
   "metadata": {},
   "outputs": [],
   "source": [
    "df_MES.drop(df_event.index, inplace=True)"
   ]
  },
  {
   "cell_type": "code",
   "execution_count": 15,
   "id": "b57d9408",
   "metadata": {},
   "outputs": [],
   "source": [
    "df_MES_15T= df_MES[tags].resample('15T').mean()"
   ]
  },
  {
   "cell_type": "code",
   "execution_count": null,
   "id": "f5c8e97a",
   "metadata": {},
   "outputs": [],
   "source": [
    "df_MES_15T.isnull().sum()"
   ]
  },
  {
   "cell_type": "code",
   "execution_count": 17,
   "id": "9730bb82",
   "metadata": {},
   "outputs": [],
   "source": [
    "df_MES_15T.dropna(inplace=True)"
   ]
  },
  {
   "cell_type": "code",
   "execution_count": 18,
   "id": "08a48bb9",
   "metadata": {},
   "outputs": [],
   "source": [
    "df_MES_15T[['지절','지종','평량']] = df_MES[['지절','지종','평량']].resample('15T').first()"
   ]
  },
  {
   "cell_type": "code",
   "execution_count": 19,
   "id": "3f638e12",
   "metadata": {},
   "outputs": [],
   "source": [
    "tag = ['지절','지종','평량']+tags"
   ]
  },
  {
   "cell_type": "code",
   "execution_count": 20,
   "id": "ad9940f2",
   "metadata": {},
   "outputs": [],
   "source": [
    "df_MES_15T = pd.concat([df_MES_15T, df_event[tag]]) #15분 줄이고 이벤트 합침"
   ]
  },
  {
   "cell_type": "markdown",
   "id": "32db2b4d",
   "metadata": {},
   "source": [
    "데이터를 지종교체시간 기준 앞위 1시간으로 구성"
   ]
  },
  {
   "cell_type": "code",
   "execution_count": 21,
   "id": "c4087cef",
   "metadata": {},
   "outputs": [
    {
     "name": "stderr",
     "output_type": "stream",
     "text": [
      "C:\\Users\\USER\\AppData\\Local\\Temp\\ipykernel_10080\\2489196510.py:1: PerformanceWarning: DataFrame is highly fragmented.  This is usually the result of calling `frame.insert` many times, which has poor performance.  Consider joining all columns at once using pd.concat(axis=1) instead. To get a de-fragmented frame, use `newframe = frame.copy()`\n",
      "  df_MES_15T.reset_index(inplace=True)\n"
     ]
    }
   ],
   "source": [
    "df_MES_15T.reset_index(inplace=True)"
   ]
  },
  {
   "cell_type": "code",
   "execution_count": 22,
   "id": "476d6a65",
   "metadata": {},
   "outputs": [],
   "source": [
    "df_MES1 = pd.read_csv('C:/Users/USER/etri_csv/1/0_result/DataSet_v6.csv')"
   ]
  },
  {
   "cell_type": "code",
   "execution_count": null,
   "id": "d30afcca",
   "metadata": {},
   "outputs": [],
   "source": [
    "df_MES1['작업총시간'].describe()"
   ]
  },
  {
   "cell_type": "code",
   "execution_count": 24,
   "id": "b233c8a9",
   "metadata": {},
   "outputs": [],
   "source": [
    "df_MES1['작업시작시간']=pd.to_datetime(df_MES1['작업시작시간'])\n",
    "df_MES1['작업종료시간']=pd.to_datetime(df_MES1['작업종료시간'])"
   ]
  },
  {
   "cell_type": "code",
   "execution_count": 25,
   "id": "9185a2fe",
   "metadata": {},
   "outputs": [],
   "source": [
    "temp=df_MES1.loc[df_MES1['지절']==1,['작업시작시간', '작업종료시간']]"
   ]
  },
  {
   "cell_type": "code",
   "execution_count": 26,
   "id": "6a817913",
   "metadata": {},
   "outputs": [],
   "source": [
    "temp['작업시작 전'] = temp['작업시작시간']+ timedelta(minutes=-60)"
   ]
  },
  {
   "cell_type": "code",
   "execution_count": 27,
   "id": "7e8bd521",
   "metadata": {
    "scrolled": false
   },
   "outputs": [],
   "source": [
    "temp.reset_index(drop=True, inplace=True)"
   ]
  },
  {
   "cell_type": "code",
   "execution_count": 28,
   "id": "be3dfd2f",
   "metadata": {
    "scrolled": true
   },
   "outputs": [
    {
     "name": "stderr",
     "output_type": "stream",
     "text": [
      "100%|█████████████████████████████████████████████████████████████████████████████████| 89/89 [00:00<00:00, 484.41it/s]\n"
     ]
    }
   ],
   "source": [
    "df_MES_temp=pd.DataFrame()\n",
    "\n",
    "for i in tqdm(range(len(temp))):\n",
    "    df_MES_temp=pd.concat([df_MES_temp, df_MES_15T[(temp.loc[i,'작업시작 전']<=df_MES_15T['작업시작시간']) & (temp.loc[i,'작업종료시간']>=df_MES_15T['작업시작시간'])]])"
   ]
  },
  {
   "cell_type": "code",
   "execution_count": 29,
   "id": "8ac44524",
   "metadata": {},
   "outputs": [],
   "source": [
    "df_MES_temp=df_MES_temp.sort_values('작업시작시간')"
   ]
  },
  {
   "cell_type": "code",
   "execution_count": 30,
   "id": "cb958af7",
   "metadata": {},
   "outputs": [],
   "source": [
    "df_MES_15T=df_MES_temp.drop_duplicates(['작업시작시간'], keep='first')"
   ]
  },
  {
   "cell_type": "code",
   "execution_count": 31,
   "id": "9ba4a04b",
   "metadata": {},
   "outputs": [
    {
     "name": "stderr",
     "output_type": "stream",
     "text": [
      "100%|█████████████████████████████████████████████████████████████████████████████████| 89/89 [00:00<00:00, 608.38it/s]\n"
     ]
    }
   ],
   "source": [
    "df_MES_temp=pd.DataFrame()\n",
    "\n",
    "for i in tqdm(range(len(temp))):\n",
    "    df_MES_temp=pd.concat([df_MES_temp, df_MES_15T[(temp.loc[i,'작업시작 전']<=df_MES_15T['작업시작시간']) & (temp.loc[i,'작업종료시간']>=df_MES_15T['작업시작시간'])]])\n",
    "\n",
    "df_MES_temp=df_MES_temp.sort_values('작업시작시간')\n",
    "\n",
    "df_MES_15T=df_MES_temp.drop_duplicates(['작업시작시간'], keep='first')"
   ]
  },
  {
   "cell_type": "markdown",
   "id": "2ea694e2",
   "metadata": {},
   "source": [
    "지절 발생이 가장 많은 3월 데이터 사용"
   ]
  },
  {
   "cell_type": "code",
   "execution_count": 32,
   "id": "76dfbe1c",
   "metadata": {},
   "outputs": [],
   "source": [
    "df_3M_15T =df_MES_15T[df_MES_15T['작업시작시간'].dt.month==3]"
   ]
  },
  {
   "cell_type": "markdown",
   "id": "97b9e30c",
   "metadata": {},
   "source": [
    "#### 상관계수"
   ]
  },
  {
   "cell_type": "markdown",
   "id": "f88b26f4",
   "metadata": {},
   "source": [
    "레이블 인코딩"
   ]
  },
  {
   "cell_type": "code",
   "execution_count": 33,
   "id": "d405c843",
   "metadata": {},
   "outputs": [],
   "source": [
    "df_3M_15T.reset_index(drop=True, inplace=True)"
   ]
  },
  {
   "cell_type": "code",
   "execution_count": 34,
   "id": "837499a2",
   "metadata": {},
   "outputs": [],
   "source": [
    "condition_1 = ((df_3M_15T['지종']=='ㄱㄱ종이')&(df_3M_15T['평량']=='1'))\n",
    "condition_2 = ((df_3M_15T['지종']=='ㄴㄴ종이')&(df_3M_15T['평량']=='2'))\n",
    "condition_3 = ((df_3M_15T['지종']=='ㄷㄷ종이')&(df_3M_15T['평량']=='3'))\n",
    "condition_4 = ((df_3M_15T['지종']=='ㄹㄹ종이')&(df_3M_15T['평량']=='4'))\n",
    "condition_5 = ((df_3M_15T['지종']=='ㅁㅁ종이')&(df_3M_15T['평량']=='5'))\n",
    "condition_6 = ((df_3M_15T['지종']=='ㅂㅂ종이')&(df_3M_15T['평량']=='6'))\n",
    "condition_7 = ((df_3M_15T['지종']=='ㅅㅅ종이')&(df_3M_15T['평량']=='7'))\n",
    "condition_8 = ((df_3M_15T['지종']=='ㅇㅇ종이')&(df_3M_15T['평량']=='8'))\n",
    "condition_9 = ((df_3M_15T['지종']=='ㅈㅈ종이')&(df_3M_15T['평량']=='9'))"
   ]
  },
  {
   "cell_type": "code",
   "execution_count": 35,
   "id": "8025796e",
   "metadata": {},
   "outputs": [],
   "source": [
    "condition_legend=['ㄱㄱ종이(1)', \n",
    "                  'ㄴㄴ종이(2)',\n",
    "                  'ㄷㄷ종이(3)',\n",
    "                  'ㄹㄹ종이(4)',\n",
    "                  'ㅁㅁ종이(5)', \n",
    "                  'ㅂㅂ종이(6)',\n",
    "                  'ㅅㅅ종이(7)',\n",
    "                  'ㅇㅇ종이(8)', \n",
    "                  'ㅈㅈ종이(9)',\n",
    "                  ]"
   ]
  },
  {
   "cell_type": "code",
   "execution_count": 36,
   "id": "405618e5",
   "metadata": {},
   "outputs": [],
   "source": [
    "conditions=condition_1 | condition_2 | condition_3 | condition_4 | condition_5 | condition_6 | condition_7 | condition_8 | condition_9"
   ]
  },
  {
   "cell_type": "code",
   "execution_count": 37,
   "id": "c6810d1f",
   "metadata": {},
   "outputs": [],
   "source": [
    "tags = ['작업시작시간','지절','지종','평량']+tags_Power+tags_QCS+tags_front+tags_back"
   ]
  },
  {
   "cell_type": "code",
   "execution_count": 38,
   "id": "2c2afdaf",
   "metadata": {
    "scrolled": true
   },
   "outputs": [],
   "source": [
    "df_3M_15T_temp = df_3M_15T[conditions][tags]"
   ]
  },
  {
   "cell_type": "code",
   "execution_count": 39,
   "id": "18294d69",
   "metadata": {
    "scrolled": true
   },
   "outputs": [],
   "source": [
    "for index,condition in enumerate([condition_1,condition_2,condition_3,condition_4,condition_5,condition_6,condition_7,condition_8,condition_9]):\n",
    "    df_3M_15T_temp.loc[condition,['지종']]=index"
   ]
  },
  {
   "cell_type": "code",
   "execution_count": 40,
   "id": "4c9b9c16",
   "metadata": {
    "scrolled": true
   },
   "outputs": [
    {
     "data": {
      "text/plain": [
       "[8, 4, 5, 3, 6, 1, 2, 0, 7]"
      ]
     },
     "execution_count": 40,
     "metadata": {},
     "output_type": "execute_result"
    }
   ],
   "source": [
    "list(df_3M_15T_temp['지종'].unique())"
   ]
  },
  {
   "cell_type": "markdown",
   "id": "d27be35b",
   "metadata": {},
   "source": [
    "스피어만 상관계수"
   ]
  },
  {
   "cell_type": "code",
   "execution_count": null,
   "id": "0238e0d2",
   "metadata": {},
   "outputs": [],
   "source": [
    "#tags_QCS+tags_dry+tags_steam\n",
    "y = df_3M_15T_temp.loc[:, '지절'].values\n",
    "temp=pd.DataFrame(columns=['Corr', 'P-val'])\n",
    "\n",
    "tags = tags_QCS+tags_front+tags_back+['지종','평량']\n",
    "\n",
    "for item in tags:\n",
    "    X = df_3M_15T_temp.loc[:, item].values\n",
    "    if ((stats.spearmanr(X,y)[1]<0.05) and (abs(stats.spearmanr(X,y)[0])>0.3)):\n",
    "        temp.loc[item] = [stats.spearmanr(X, y)[0], stats.spearmanr(X, y)[1]]\n",
    "\n",
    "\n",
    "temp['Corr_abs'] = abs(temp['Corr'])\n",
    "target1 = list(temp.index)\n",
    "\n",
    "temp.sort_values(by = 'Corr_abs', ascending=False)"
   ]
  },
  {
   "cell_type": "code",
   "execution_count": null,
   "id": "5e94da81",
   "metadata": {},
   "outputs": [],
   "source": [
    "#tags_Power\n",
    "y = df_3M_15T_temp.loc[:, '지절'].values\n",
    "temp=pd.DataFrame(columns=['Corr', 'P-val'])\n",
    "\n",
    "tags = tags_Power\n",
    "\n",
    "for item in tags:\n",
    "    X = df_3M_15T_temp.loc[:, item].values\n",
    "    if ((stats.spearmanr(X,y)[1]<0.05)  and (abs(stats.spearmanr(X,y)[0])>0.5)):\n",
    "        temp.loc[item] = [stats.spearmanr(X, y)[0], stats.spearmanr(X, y)[1]]\n",
    "\n",
    "\n",
    "temp['Corr_abs'] = abs(temp['Corr'])\n",
    "target2 = list(temp.index)\n",
    "\n",
    "temp.sort_values(by = 'Corr_abs', ascending=False)"
   ]
  },
  {
   "cell_type": "markdown",
   "id": "75c2f698",
   "metadata": {},
   "source": [
    "svm(지종 vs 지절+DCS/QCS+Power)"
   ]
  },
  {
   "cell_type": "code",
   "execution_count": 44,
   "id": "b84caefd",
   "metadata": {},
   "outputs": [],
   "source": [
    "df.reset_index(inplace=True)"
   ]
  },
  {
   "cell_type": "code",
   "execution_count": 81,
   "id": "1ec0b3de",
   "metadata": {},
   "outputs": [],
   "source": [
    "condition_1 = ((df['지종']=='ㄱㄱ종이') & (df['평량']==1))\n",
    "condition_2 = ((df['지종']=='ㄴㄴ종이') & (df['평량']==2))\n",
    "condition_3 = ((df['지종']=='ㄷㄷ종이') & (df['평량']==3))\n",
    "condition_4 = ((df['지종']=='ㄹㄹ종이') & (df['평량']==4)) \n",
    "condition_5 = ((df['지종']=='ㅁㅁ종이') & (df['평량']==5))\n",
    "condition_6 = ((df['지종']=='ㅂㅂ종이') & (df['평량']==6))\n",
    "condition_7 = ((df['지종']=='ㅅㅅ종이') & (df['평량']==7))\n",
    "condition_8 = ((df['지종']=='ㅇㅇ종이') & (df['평량']==8))\n",
    "condition_9 = ((df['지종']=='ㅈㅈ종이') & (df['평량']==9))\n",
    "condition_10 = ((df['지종']=='ㅊㅊ종이') & (df['평량']==10))\n",
    "condition_11 = ((df['지종']=='ㅋㅋ종이') & (df['평량']==11))\n",
    "condition_12 = ((df['지종']=='ㅌㅌ종이') & (df['평량']==12))\n",
    "condition_13 = ((df['지종']=='ㅍㅍ종이') & (df['평량']==13))\n",
    "condition_14 = ((df['지종']=='ㅎㅎ종이') & (df['평량']==14))\n",
    "condition_15 = ((df['지종']=='AA종이') & (df['평량']==15))\n",
    "condition_16 = ((df['지종']=='BB종이') & (df['평량']==16))\n",
    "condition_17 = ((df['지종']=='CC종이') & (df['평량']==17))                   \n",
    "condition_18 = ((df['지종']=='DD종이') & (df['평량']==18))\n",
    "condition_19 = ((df['지종']=='EE종이') & (df['평량']==19))     \n",
    "condition_20 = ((df['지종']=='FF종이') & (df['평량']==20))    "
   ]
  },
  {
   "cell_type": "code",
   "execution_count": 83,
   "id": "ec12581e",
   "metadata": {},
   "outputs": [],
   "source": [
    "condition_legend2=['ㄱㄱ종이(1)',\n",
    "                   'ㄴㄴ종이(2)',\n",
    "                   'ㄷㄷ종이(3)',\n",
    "                   'ㄹㄹ종이(4)',\n",
    "                   'ㅁㅁ종이(5)', \n",
    "                   'ㅂㅂ종이(6)',\n",
    "                   'ㅅㅅ종이(7)',\n",
    "                   'ㅇㅇ종이(8)', \n",
    "                   'ㅈㅈ종이(9)',\n",
    "                   'ㅊㅊ종이(10)',\n",
    "                   'ㅋㅋ종이(11)',\n",
    "                   'ㅌㅌ종이(12)',\n",
    "                   'ㅍㅍ종이(13)',\n",
    "                   'ㅎㅎ종이(14)',\n",
    "                   'AA종이(15)',\n",
    "                   'BB종이(16)',\n",
    "                   'CC종이(17)',\n",
    "                   'DD종이(18)',\n",
    "                   'EE종이(19)',\n",
    "                   'FF종이(20)'\n",
    "]"
   ]
  },
  {
   "cell_type": "code",
   "execution_count": 84,
   "id": "e4d5cb25",
   "metadata": {},
   "outputs": [],
   "source": [
    "conditions=condition_1 | condition_2 | condition_3 | condition_4 | condition_5 | condition_6 | condition_7 | condition_8 | condition_9 | condition_10 | condition_11 | condition_12 | condition_13 | condition_14 | condition_15 | condition_16 | condition_17 | condition_18 | condition_19 | condition_20"
   ]
  },
  {
   "cell_type": "code",
   "execution_count": 85,
   "id": "ff690505",
   "metadata": {},
   "outputs": [],
   "source": [
    "#기존데이터\n",
    "tags = ['지절','평량','지종']+tags_Power+tags_QCS+tags_front+tags_back\n",
    "\n",
    "df_temp = df[conditions][tags]"
   ]
  },
  {
   "cell_type": "code",
   "execution_count": 86,
   "id": "efa1ec48",
   "metadata": {},
   "outputs": [],
   "source": [
    "for index,condition in enumerate([condition_1, condition_2, condition_3, condition_4, condition_5, condition_6, condition_7, condition_8, condition_9, condition_10, condition_11, condition_12, condition_13, condition_14, condition_15, condition_16, condition_17, condition_18, condition_19, condition_20]):\n",
    "    df_temp.loc[condition,['지종']]=index"
   ]
  },
  {
   "cell_type": "code",
   "execution_count": 87,
   "id": "771b8e21",
   "metadata": {},
   "outputs": [],
   "source": [
    "#svm\n",
    "target = (target1+target2)+['지절','평량']\n",
    "\n",
    "df_target = df[conditions][target]"
   ]
  },
  {
   "cell_type": "code",
   "execution_count": 88,
   "id": "89412b2d",
   "metadata": {},
   "outputs": [],
   "source": [
    "for index,condition in enumerate([condition_1, condition_2, condition_3, condition_4, condition_5, condition_6, condition_7, condition_8, condition_9, condition_10, condition_11, condition_12, condition_13, condition_14, condition_15, condition_16, condition_17, condition_18, condition_19, condition_20]):\n",
    "    df_target.loc[condition,['지종']]=index"
   ]
  },
  {
   "cell_type": "code",
   "execution_count": 128,
   "id": "1968c4af",
   "metadata": {},
   "outputs": [],
   "source": [
    "from sklearn.model_selection import train_test_split\n",
    "\n",
    "seed=1004\n",
    "sample_ratio=0.1\n",
    "\n",
    "X_df = df_temp[tags].sample(frac=sample_ratio,random_state=seed)\n",
    "y_df = df_temp['지종'].sample(frac=sample_ratio,random_state=seed).astype('int')\n",
    "\n",
    "X=df_target[target].sample(frac=sample_ratio,random_state=seed)\n",
    "y=df_target['지종'].sample(frac=sample_ratio,random_state=seed).astype('int')\n",
    "\n",
    "X_train, X_test, y_train, y_test = train_test_split(X, y, test_size = 0.3, random_state = 123)"
   ]
  },
  {
   "cell_type": "code",
   "execution_count": 129,
   "id": "dadf1d53",
   "metadata": {
    "scrolled": true
   },
   "outputs": [],
   "source": [
    "from sklearn.preprocessing import StandardScaler\n",
    "\n",
    "scaler = StandardScaler()\n",
    "scaler.fit(X_train) # X scaler 생성\n",
    "X_train = scaler.transform(X_train)   # 스케일링 적용"
   ]
  },
  {
   "cell_type": "markdown",
   "id": "e8cf84e5",
   "metadata": {},
   "source": [
    "svm모델 생성"
   ]
  },
  {
   "cell_type": "code",
   "execution_count": 135,
   "id": "5d3613c7",
   "metadata": {
    "scrolled": true
   },
   "outputs": [
    {
     "data": {
      "text/plain": [
       "SVC()"
      ]
     },
     "execution_count": 135,
     "metadata": {},
     "output_type": "execute_result"
    }
   ],
   "source": [
    "from sklearn import svm\n",
    "\n",
    "clf= svm.SVC(kernel='rbf')\n",
    "clf.fit(X_train, y_train)"
   ]
  },
  {
   "cell_type": "markdown",
   "id": "dbd7d3d3",
   "metadata": {},
   "source": [
    "정확도"
   ]
  },
  {
   "cell_type": "code",
   "execution_count": 136,
   "id": "477d4856",
   "metadata": {
    "scrolled": false
   },
   "outputs": [
    {
     "data": {
      "text/plain": [
       "0.9760847283908438"
      ]
     },
     "execution_count": 136,
     "metadata": {},
     "output_type": "execute_result"
    }
   ],
   "source": [
    "from sklearn.metrics import accuracy_score\n",
    "\n",
    "X_test = scaler.transform(X_test)\n",
    "ddd = pd.DataFrame(X_test,columns=target)\n",
    "\n",
    "z = clf.predict(X_test)\n",
    "accuracy_score(y_test, z)"
   ]
  },
  {
   "cell_type": "code",
   "execution_count": null,
   "id": "5a39da9b",
   "metadata": {},
   "outputs": [],
   "source": [
    "from sklearn.metrics import confusion_matrix\n",
    "\n",
    "LABELS =condition_legend\n",
    "\n",
    "plt.rc('font',)        # 기본 폰트 크기\n",
    "plt.rc('axes', labelsize=20)   # x,y축 label 폰트 크기\n",
    "plt.rc('xtick', labelsize=20)  # x축 눈금 폰트 크기 \n",
    "plt.rc('ytick', labelsize=20)  # y축 눈금 폰트 크기\n",
    "plt.rc('legend', fontsize=20)  # 범례 폰트 크기\n",
    "plt.rc('figure', titlesize=50) # figure title 폰트 크기\n",
    "plt.rcParams['font.family'] = 'Malgun Gothic'\n",
    "\n",
    "plt.figure(figsize=(15,9))\n",
    "sns.heatmap(confusion_matrix(y_test, y_pred), xticklabels=LABELS, yticklabels=LABELS, annot=True, fmt='d')\n",
    "plt.title('Confusion Matrix', size=30)\n",
    "plt.xlabel('Predicted Class'); plt.ylabel('True Class')\n",
    "\n",
    "\n",
    "\n",
    "plt.show()"
   ]
  },
  {
   "cell_type": "markdown",
   "id": "16b5cb2b",
   "metadata": {},
   "source": [
    "T-SNE"
   ]
  },
  {
   "cell_type": "code",
   "execution_count": 59,
   "id": "dec41fcb",
   "metadata": {},
   "outputs": [],
   "source": [
    "import matplotlib\n",
    "from matplotlib import font_manager, rc\n",
    "import platform\n",
    "\n",
    "if platform.system() == 'Windows':\n",
    "# 윈도우인 경우\n",
    "    font_name = font_manager.FontProperties(fname=\"c:/Windows/Fonts/malgun.ttf\").get_name()\n",
    "    rc('font', family=font_name)\n",
    "else:    \n",
    "# Mac 인 경우\n",
    "    rc('font', family='AppleGothic')\n",
    "matplotlib.rcParams['axes.unicode_minus'] = False   \n",
    "#그래프에서 마이너스 기호가 표시되도록 하는 설정입니다. "
   ]
  },
  {
   "cell_type": "markdown",
   "id": "22c9b2cd",
   "metadata": {},
   "source": [
    "t-SNE 2D"
   ]
  },
  {
   "cell_type": "code",
   "execution_count": 60,
   "id": "be599efd",
   "metadata": {},
   "outputs": [],
   "source": [
    "from sklearn.manifold import TSNE\n",
    "\n",
    "# class target 정보 제외\n",
    "\n",
    "# origin\n",
    "tsne_np_o = TSNE(n_components=2).fit_transform(X_df)\n",
    "tsne_df_o = pd.DataFrame(tsne_np_o, columns = ['component 0', 'component 1'])\n",
    "\n",
    "#svm\n",
    "tsne_np_s = TSNE(n_components=2, perplexity=50).fit_transform(X_test)\n",
    "tsne_df_s = pd.DataFrame(tsne_np_s, columns = ['component 0', 'component 1'])"
   ]
  },
  {
   "cell_type": "code",
   "execution_count": 61,
   "id": "5dc058dd",
   "metadata": {
    "scrolled": false
   },
   "outputs": [],
   "source": [
    "import matplotlib.pyplot as plt\n",
    "\n",
    "# class target 정보 불러오기 \n",
    "tsne_df_o['target'] = y_df.values\n",
    "tsne_df_s['target'] = y_pred\n",
    "\n",
    "# 기존\n",
    "tsne_o_0 = tsne_df_o[tsne_df_o['target'] == 0]\n",
    "tsne_o_1 = tsne_df_o[tsne_df_o['target'] == 1]\n",
    "tsne_o_2 = tsne_df_o[tsne_df_o['target'] == 2]\n",
    "tsne_o_3 = tsne_df_o[tsne_df_o['target'] == 3]\n",
    "tsne_o_4 = tsne_df_o[tsne_df_o['target'] == 4]\n",
    "tsne_o_5 = tsne_df_o[tsne_df_o['target'] == 5]\n",
    "tsne_o_6 = tsne_df_o[tsne_df_o['target'] == 6]\n",
    "tsne_o_7 = tsne_df_o[tsne_df_o['target'] == 7]\n",
    "tsne_o_8 = tsne_df_o[tsne_df_o['target'] == 8]\n",
    "tsne_o_9 = tsne_df_o[tsne_df_o['target'] == 9]\n",
    "tsne_o_10 = tsne_df_o[tsne_df_o['target'] == 10]\n",
    "tsne_o_11 = tsne_df_o[tsne_df_o['target'] == 11]\n",
    "tsne_o_12 = tsne_df_o[tsne_df_o['target'] == 12]\n",
    "tsne_o_13 = tsne_df_o[tsne_df_o['target'] == 13]\n",
    "tsne_o_14 = tsne_df_o[tsne_df_o['target'] == 14]\n",
    "tsne_o_15 = tsne_df_o[tsne_df_o['target'] == 15]\n",
    "tsne_o_17 = tsne_df_o[tsne_df_o['target'] == 17]\n",
    "\n",
    "#SVM\n",
    "tsne_s_0 = tsne_df_s[tsne_df_s['target'] == 0]\n",
    "tsne_s_1 = tsne_df_s[tsne_df_s['target'] == 1]\n",
    "tsne_s_2 = tsne_df_s[tsne_df_s['target'] == 2]\n",
    "tsne_s_3 = tsne_df_s[tsne_df_s['target'] == 3]\n",
    "tsne_s_4 = tsne_df_s[tsne_df_s['target'] == 4]\n",
    "tsne_s_5 = tsne_df_s[tsne_df_s['target'] == 5]\n",
    "tsne_s_6 = tsne_df_s[tsne_df_s['target'] == 6]\n",
    "tsne_s_7 = tsne_df_s[tsne_df_s['target'] == 7]\n",
    "tsne_s_8 = tsne_df_s[tsne_df_s['target'] == 8]\n",
    "tsne_s_9 = tsne_df_s[tsne_df_s['target'] == 9]\n",
    "tsne_s_10 = tsne_df_s[tsne_df_s['target'] == 10]\n",
    "tsne_s_11 = tsne_df_s[tsne_df_s['target'] == 11]\n",
    "tsne_s_12 = tsne_df_s[tsne_df_s['target'] == 12]\n",
    "tsne_s_13 = tsne_df_s[tsne_df_s['target'] == 13]\n",
    "tsne_s_14 = tsne_df_s[tsne_df_s['target'] == 14]\n",
    "tsne_s_15 = tsne_df_s[tsne_df_s['target'] == 15]\n",
    "tsne_s_17 = tsne_df_s[tsne_df_s['target'] == 17]\n",
    "\n",
    "\n",
    "plt.rc('axes', labelsize=20)   # x,y축 label 폰트 크기\n",
    "plt.rc('xtick', labelsize=20)  # x축 눈금 폰트 크기 \n",
    "plt.rc('ytick', labelsize=20)  # y축 눈금 폰트 크기\n",
    "plt.rc('legend', fontsize=12)  # 범례 폰트 크기\n",
    "plt.rc('figure', titlesize=50) # figure title 폰트 크기\n",
    "\n",
    "# target 별 시각화\n",
    "plt.figure(figsize = (20,6), constrained_layout = True)\n",
    "\n",
    "plt.subplot(121)\n",
    "plt.scatter(tsne_o_0['component 0'], tsne_o_0['component 1'], color = 'darkred', label = '0', s=50)\n",
    "plt.scatter(tsne_o_1['component 0'], tsne_o_1['component 1'], color = 'rosybrown', label = '1', s=50)\n",
    "plt.scatter(tsne_o_2['component 0'], tsne_o_2['component 1'], color = 'lightcoral', label = '2', s=50)\n",
    "plt.scatter(tsne_o_3['component 0'], tsne_o_3['component 1'], color = 'orange', label = '3', s=50)\n",
    "plt.scatter(tsne_o_4['component 0'], tsne_o_4['component 1'], color = 'peru', label = '4', s=50)\n",
    "plt.scatter(tsne_o_5['component 0'], tsne_o_5['component 1'], color = 'bisque', label = '5', s=50)\n",
    "plt.scatter(tsne_o_6['component 0'], tsne_o_6['component 1'], color = 'yellow', label = '6', s=50)\n",
    "plt.scatter(tsne_o_7['component 0'], tsne_o_7['component 1'], color = 'olive', label = '7', s=50)\n",
    "plt.scatter(tsne_o_8['component 0'], tsne_o_8['component 1'], color = 'yellowgreen', label = '8', s=50)\n",
    "plt.scatter(tsne_o_9['component 0'], tsne_o_9['component 1'], color = 'forestgreen', label = '9', s=50)\n",
    "plt.scatter(tsne_o_10['component 0'], tsne_o_10['component 1'], color = 'aquamarine', label = '10', s=50)\n",
    "plt.scatter(tsne_o_11['component 0'], tsne_o_11['component 1'], color = 'lightblue', label = '11', s=50)\n",
    "plt.scatter(tsne_o_12['component 0'], tsne_o_12['component 1'], color = 'deeppink', label = '12', s=50)\n",
    "plt.scatter(tsne_o_13['component 0'], tsne_o_13['component 1'], color = 'slateblue', label = '13', s=50)\n",
    "plt.scatter(tsne_o_14['component 0'], tsne_o_14['component 1'], color = 'plum', label = '14', s=50)\n",
    "plt.scatter(tsne_o_15['component 0'], tsne_o_15['component 1'], color = 'royalblue', label = '15', s=50)\n",
    "plt.scatter(tsne_o_17['component 0'], tsne_o_17['component 1'], color = 'purple', label = '17', s=50)\n",
    "\n",
    "plt.title('Original', size=15)\n",
    "plt.legend(condition_legend, loc=(1.05,0.1))\n",
    "plt.xlabel('Component 1')\n",
    "plt.ylabel('Component 2')\n",
    "plt.grid()\n",
    "\n",
    "plt.subplot(122)\n",
    "plt.scatter(tsne_s_0['component 0'], tsne_s_0['component 1'], color = 'darkred', label = '0', s=50)\n",
    "plt.scatter(tsne_s_1['component 0'], tsne_s_1['component 1'], color = 'rosybrown', label = '1', s=50)\n",
    "plt.scatter(tsne_s_2['component 0'], tsne_s_2['component 1'], color = 'lightcoral', label = '2', s=50)\n",
    "plt.scatter(tsne_s_3['component 0'], tsne_s_3['component 1'], color = 'orange', label = '3', s=50)\n",
    "plt.scatter(tsne_s_4['component 0'], tsne_s_4['component 1'], color = 'peru', label = '4', s=50)\n",
    "plt.scatter(tsne_s_5['component 0'], tsne_s_5['component 1'], color = 'bisque', label = '5', s=50)\n",
    "plt.scatter(tsne_s_6['component 0'], tsne_s_6['component 1'], color = 'yellow', label = '6', s=50)\n",
    "plt.scatter(tsne_s_7['component 0'], tsne_s_7['component 1'], color = 'olive', label = '7', s=50)\n",
    "plt.scatter(tsne_s_8['component 0'], tsne_s_8['component 1'], color = 'yellowgreen', label = '8', s=50)\n",
    "plt.scatter(tsne_s_9['component 0'], tsne_s_9['component 1'], color = 'forestgreen', label = '9', s=50)\n",
    "plt.scatter(tsne_s_10['component 0'], tsne_s_10['component 1'], color = 'aquamarine', label = '10', s=50)\n",
    "plt.scatter(tsne_s_11['component 0'], tsne_s_11['component 1'], color = 'lightblue', label = '11', s=50)\n",
    "plt.scatter(tsne_s_12['component 0'], tsne_s_12['component 1'], color = 'deeppink', label = '12', s=50)\n",
    "plt.scatter(tsne_s_13['component 0'], tsne_s_13['component 1'], color = 'slateblue', label = '13', s=50)\n",
    "plt.scatter(tsne_s_14['component 0'], tsne_s_14['component 1'], color = 'plum', label = '14', s=50)\n",
    "plt.scatter(tsne_s_15['component 0'], tsne_s_15['component 1'], color = 'royalblue', label = '15', s=50)\n",
    "plt.scatter(tsne_s_17['component 0'], tsne_s_17['component 1'], color = 'purple', label = '17', s=50)\n",
    "\n",
    "plt.title('SVM result', size=15)\n",
    "plt.legend(condition_legend, loc=(1.05,0.1))\n",
    "plt.xlabel('Component 1')\n",
    "plt.ylabel('Component 2')\n",
    "plt.grid()\n",
    "\n",
    "plt.show()"
   ]
  },
  {
   "cell_type": "markdown",
   "id": "3d573ec0",
   "metadata": {},
   "source": [
    "t-SNE 3D"
   ]
  },
  {
   "cell_type": "code",
   "execution_count": 62,
   "id": "759cb36a",
   "metadata": {},
   "outputs": [],
   "source": [
    "from sklearn.manifold import TSNE\n",
    "\n",
    "#original\n",
    "tsne_np_o = TSNE(n_components = 3).fit_transform(X_df)\n",
    "tsne_df_o = pd.DataFrame(tsne_np_o, columns = ['component 0', 'component 1', 'component2'])\n",
    "\n",
    "#original\n",
    "tsne_np_s = TSNE(n_components = 3, perplexity=50).fit_transform(X_test)\n",
    "tsne_df_s = pd.DataFrame(tsne_np_s, columns = ['component 0', 'component 1', 'component2'])"
   ]
  },
  {
   "cell_type": "code",
   "execution_count": 63,
   "id": "34e4484c",
   "metadata": {
    "scrolled": false
   },
   "outputs": [],
   "source": [
    "import matplotlib.pyplot as plt\n",
    "\n",
    "# class target 정보 불러오기 \n",
    "tsne_df_o['target'] = y_df.values\n",
    "tsne_df_s['target'] = y_pred\n",
    "\n",
    "# 기존\n",
    "tsne_o_0 = tsne_df_o[tsne_df_o['target'] == 0]\n",
    "tsne_o_1 = tsne_df_o[tsne_df_o['target'] == 1]\n",
    "tsne_o_2 = tsne_df_o[tsne_df_o['target'] == 2]\n",
    "tsne_o_3 = tsne_df_o[tsne_df_o['target'] == 3]\n",
    "tsne_o_4 = tsne_df_o[tsne_df_o['target'] == 4]\n",
    "tsne_o_5 = tsne_df_o[tsne_df_o['target'] == 5]\n",
    "tsne_o_6 = tsne_df_o[tsne_df_o['target'] == 6]\n",
    "tsne_o_7 = tsne_df_o[tsne_df_o['target'] == 7]\n",
    "tsne_o_8 = tsne_df_o[tsne_df_o['target'] == 8]\n",
    "tsne_o_9 = tsne_df_o[tsne_df_o['target'] == 9]\n",
    "tsne_o_10 = tsne_df_o[tsne_df_o['target'] == 10]\n",
    "tsne_o_11 = tsne_df_o[tsne_df_o['target'] == 11]\n",
    "tsne_o_12 = tsne_df_o[tsne_df_o['target'] == 12]\n",
    "tsne_o_13 = tsne_df_o[tsne_df_o['target'] == 13]\n",
    "tsne_o_14 = tsne_df_o[tsne_df_o['target'] == 14]\n",
    "tsne_o_15 = tsne_df_o[tsne_df_o['target'] == 15]\n",
    "tsne_o_17 = tsne_df_o[tsne_df_o['target'] == 17]\n",
    "\n",
    "#SVM\n",
    "tsne_s_0 = tsne_df_s[tsne_df_s['target'] == 0]\n",
    "tsne_s_1 = tsne_df_s[tsne_df_s['target'] == 1]\n",
    "tsne_s_2 = tsne_df_s[tsne_df_s['target'] == 2]\n",
    "tsne_s_3 = tsne_df_s[tsne_df_s['target'] == 3]\n",
    "tsne_s_4 = tsne_df_s[tsne_df_s['target'] == 4]\n",
    "tsne_s_5 = tsne_df_s[tsne_df_s['target'] == 5]\n",
    "tsne_s_6 = tsne_df_s[tsne_df_s['target'] == 6]\n",
    "tsne_s_7 = tsne_df_s[tsne_df_s['target'] == 7]\n",
    "tsne_s_8 = tsne_df_s[tsne_df_s['target'] == 8]\n",
    "tsne_s_9 = tsne_df_s[tsne_df_s['target'] == 9]\n",
    "tsne_s_10 = tsne_df_s[tsne_df_s['target'] == 10]\n",
    "tsne_s_11 = tsne_df_s[tsne_df_s['target'] == 11]\n",
    "tsne_s_12 = tsne_df_s[tsne_df_s['target'] == 12]\n",
    "tsne_s_13 = tsne_df_s[tsne_df_s['target'] == 13]\n",
    "tsne_s_14 = tsne_df_s[tsne_df_s['target'] == 14]\n",
    "tsne_s_15 = tsne_df_s[tsne_df_s['target'] == 15]\n",
    "tsne_s_17 = tsne_df_s[tsne_df_s['target'] == 17]\n",
    "\n",
    "# target 별 시각화\n",
    "fig = plt.figure(figsize=(17,17))\n",
    "\n",
    "plt.rc('axes', labelsize=20)   # x,y축 label 폰트 크기\n",
    "plt.rc('xtick', labelsize=20)  # x축 눈금 폰트 크기 \n",
    "plt.rc('ytick', labelsize=20)  # y축 눈금 폰트 크기\n",
    "plt.rc('legend', fontsize=20)  # 범례 폰트 크기\n",
    "#plt.rc('figure', titlesize=50) # figure title 폰트 크기\n",
    "\n",
    "ax = fig.add_subplot(121, projection='3d')\n",
    "ax.scatter(tsne_o_0['component 0'], tsne_o_0['component 1'], tsne_o_0['component2'], color = 'darkred', label = '0', s=25)\n",
    "ax.scatter(tsne_o_1['component 0'], tsne_o_1['component 1'], tsne_o_1['component2'], color = 'rosybrown', label = '1', s=25)\n",
    "ax.scatter(tsne_o_2['component 0'], tsne_o_2['component 1'], tsne_o_2['component2'], color = 'lightcoral', label = '2', s=25)\n",
    "ax.scatter(tsne_o_3['component 0'], tsne_o_3['component 1'], tsne_o_3['component2'], color = 'orange', label = '3', s=25)\n",
    "ax.scatter(tsne_o_4['component 0'], tsne_o_4['component 1'], tsne_o_4['component2'], color = 'peru', label = '4', s=25)\n",
    "ax.scatter(tsne_o_5['component 0'], tsne_o_5['component 1'], tsne_o_5['component2'], color = 'bisque', label = '5', s=25)\n",
    "ax.scatter(tsne_o_6['component 0'], tsne_o_6['component 1'], tsne_o_6['component2'], color = 'yellow', label = '6', s=25)\n",
    "ax.scatter(tsne_o_7['component 0'], tsne_o_7['component 1'], tsne_o_7['component2'], color = 'olive', label = '7', s=25)\n",
    "ax.scatter(tsne_o_8['component 0'], tsne_o_8['component 1'], tsne_o_8['component2'], color = 'yellowgreen', label = '8', s=25)\n",
    "ax.scatter(tsne_o_9['component 0'], tsne_o_9['component 1'], tsne_o_9['component2'], color = 'forestgreen', label = '9', s=25)\n",
    "ax.scatter(tsne_o_10['component 0'], tsne_o_10['component 1'], tsne_o_10['component2'], color = 'aquamarine', label = '10', s=25)\n",
    "ax.scatter(tsne_o_11['component 0'], tsne_o_11['component 1'], tsne_o_11['component2'], color = 'lightblue', label = '11', s=25)\n",
    "ax.scatter(tsne_o_12['component 0'], tsne_o_12['component 1'], tsne_o_12['component2'], color = 'deeppink', label = '12', s=25)\n",
    "ax.scatter(tsne_o_13['component 0'], tsne_o_13['component 1'], tsne_o_13['component2'], color = 'slateblue', label = '13', s=25)\n",
    "ax.scatter(tsne_o_14['component 0'], tsne_o_14['component 1'], tsne_o_14['component2'], color = 'plum', label = '14', s=25)\n",
    "ax.scatter(tsne_o_15['component 0'], tsne_o_15['component 1'], tsne_o_15['component2'], color = 'royalblue', label = '15', s=25)\n",
    "ax.scatter(tsne_o_17['component 0'], tsne_o_17['component 1'], tsne_o_17['component2'], color = 'purple', label = '17', s=25)\n",
    "\n",
    "ax.set_xlabel('Component 1', labelpad=17)\n",
    "ax.set_ylabel('Component 2', labelpad=17)\n",
    "ax.set_zlabel('Component 3', labelpad=17)\n",
    "ax.set_title('Original', fontsize=20)\n",
    "ax.view_init(15,50)\n",
    "ax.grid()\n",
    "\n",
    "plt.subplots_adjust(wspace=0.3)\n",
    "\n",
    "ax = fig.add_subplot(122, projection='3d')\n",
    "ax.scatter(tsne_s_0['component 0'], tsne_s_0['component 1'], tsne_s_0['component2'], color = 'darkred', label = '0', s=25)\n",
    "ax.scatter(tsne_s_1['component 0'], tsne_s_1['component 1'], tsne_s_1['component2'], color = 'rosybrown', label = '1', s=25)\n",
    "ax.scatter(tsne_s_2['component 0'], tsne_s_2['component 1'], tsne_s_2['component2'], color = 'lightcoral', label = '2', s=25)\n",
    "ax.scatter(tsne_s_3['component 0'], tsne_s_3['component 1'], tsne_s_3['component2'], color = 'orange', label = '3', s=25)\n",
    "ax.scatter(tsne_s_4['component 0'], tsne_s_4['component 1'], tsne_s_4['component2'], color = 'peru', label = '4', s=25)\n",
    "ax.scatter(tsne_s_5['component 0'], tsne_s_5['component 1'], tsne_s_5['component2'], color = 'bisque', label = '5', s=25)\n",
    "ax.scatter(tsne_s_6['component 0'], tsne_s_6['component 1'], tsne_s_6['component2'], color = 'yellow', label = '6', s=25)\n",
    "ax.scatter(tsne_s_7['component 0'], tsne_s_7['component 1'], tsne_s_7['component2'], color = 'olive', label = '7', s=25)\n",
    "ax.scatter(tsne_s_8['component 0'], tsne_s_8['component 1'], tsne_s_8['component2'], color = 'yellowgreen', label = '8', s=25)\n",
    "ax.scatter(tsne_s_9['component 0'], tsne_s_9['component 1'], tsne_s_9['component2'], color = 'forestgreen', label = '9', s=25)\n",
    "ax.scatter(tsne_s_10['component 0'], tsne_s_10['component 1'], tsne_s_10['component2'], color = 'aquamarine', label = '10', s=25)\n",
    "ax.scatter(tsne_s_11['component 0'], tsne_s_11['component 1'], tsne_s_11['component2'], color = 'lightblue', label = '11', s=25)\n",
    "ax.scatter(tsne_s_12['component 0'], tsne_s_12['component 1'], tsne_s_12['component2'], color = 'deeppink', label = '12', s=25)\n",
    "ax.scatter(tsne_s_13['component 0'], tsne_s_13['component 1'], tsne_s_13['component2'], color = 'slateblue', label = '13', s=25)\n",
    "ax.scatter(tsne_s_14['component 0'], tsne_s_14['component 1'], tsne_s_14['component2'], color = 'plum', label = '14', s=25)\n",
    "ax.scatter(tsne_s_15['component 0'], tsne_s_15['component 1'], tsne_s_15['component2'], color = 'royalblue', label = '15', s=25)\n",
    "ax.scatter(tsne_s_17['component 0'], tsne_s_17['component 1'], tsne_s_17['component2'], color = 'purple', label = '17', s=25)\n",
    "ax.legend(condition_legend, loc=(1.05,0.2), prop={'size': 15})\n",
    "\n",
    "ax.set_xlabel('Component 1', labelpad=17)\n",
    "ax.set_ylabel('Component 2', labelpad=17)\n",
    "ax.set_zlabel('Component 3', labelpad=17)\n",
    "ax.set_title('SVM result', fontsize=20)\n",
    "ax.view_init(15,50)\n",
    "ax.grid()\n",
    "\n",
    "plt.show()"
   ]
  },
  {
   "cell_type": "code",
   "execution_count": null,
   "id": "00d8301d",
   "metadata": {},
   "outputs": [],
   "source": []
  }
 ],
 "metadata": {
  "kernelspec": {
   "display_name": "Python 3 (ipykernel)",
   "language": "python",
   "name": "python3"
  },
  "language_info": {
   "codemirror_mode": {
    "name": "ipython",
    "version": 3
   },
   "file_extension": ".py",
   "mimetype": "text/x-python",
   "name": "python",
   "nbconvert_exporter": "python",
   "pygments_lexer": "ipython3",
   "version": "3.9.12"
  }
 },
 "nbformat": 4,
 "nbformat_minor": 5
}
