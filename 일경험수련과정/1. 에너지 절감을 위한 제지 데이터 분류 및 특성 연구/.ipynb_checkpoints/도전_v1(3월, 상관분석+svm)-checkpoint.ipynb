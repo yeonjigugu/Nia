{
 "cells": [
  {
   "cell_type": "code",
   "execution_count": 1,
   "id": "0855e5be",
   "metadata": {
    "scrolled": true
   },
   "outputs": [
    {
     "name": "stderr",
     "output_type": "stream",
     "text": [
      "C:\\Users\\USER\\AppData\\Local\\Temp\\ipykernel_2484\\4237012223.py:18: DeprecationWarning: Importing display from IPython.core.display is deprecated since IPython 7.14, please import from IPython display\n",
      "  from IPython.core.display import display, HTML\n"
     ]
    },
    {
     "data": {
      "text/html": [
       "<style>.container {width:95% !important;}</style>"
      ],
      "text/plain": [
       "<IPython.core.display.HTML object>"
      ]
     },
     "metadata": {},
     "output_type": "display_data"
    }
   ],
   "source": [
    "%config Completer.use_jedi = False\n",
    "import seaborn as sns\n",
    "import matplotlib.pyplot as plt\n",
    "import pandas as pd\n",
    "import numpy as np\n",
    "import pprint\n",
    "import datetime\n",
    "import torch\n",
    "from pyarrow import csv\n",
    "import os.path\n",
    "import matplotlib.pyplot as plt\n",
    "import seaborn as sns\n",
    "import os\n",
    "from tqdm import notebook\n",
    "import scipy.stats as stats\n",
    "os.environ['KMP_DUPLICATE_LIB_OK']='True'\n",
    "\n",
    "from IPython.core.display import display, HTML\n",
    "display(HTML(\"<style>.container {width:95% !important;}</style>\")) #셀 사이즈 조절"
   ]
  },
  {
   "cell_type": "code",
   "execution_count": 2,
   "id": "cef14981",
   "metadata": {},
   "outputs": [
    {
     "name": "stderr",
     "output_type": "stream",
     "text": [
      "C:\\Users\\USER\\AppData\\Local\\Temp\\ipykernel_2484\\428708869.py:1: DtypeWarning: Columns (8) have mixed types. Specify dtype option on import or set low_memory=False.\n",
      "  df = pd.read_csv('C:/Users/USER/etri_csv/논문/논문자료_v1.csv')\n"
     ]
    }
   ],
   "source": [
    "df = pd.read_csv('C:/Users/USER/etri_csv/논문/논문자료_v1.csv')"
   ]
  },
  {
   "cell_type": "code",
   "execution_count": 3,
   "id": "adfff703",
   "metadata": {},
   "outputs": [],
   "source": [
    "df.set_index('작업시작시간', inplace=True)"
   ]
  },
  {
   "cell_type": "code",
   "execution_count": 4,
   "id": "4dbb952a",
   "metadata": {},
   "outputs": [],
   "source": [
    "df.index =pd.to_datetime(df.index)"
   ]
  },
  {
   "cell_type": "markdown",
   "id": "32b2145b",
   "metadata": {},
   "source": [
    "사용할 태그  "
   ]
  },
  {
   "cell_type": "code",
   "execution_count": 5,
   "id": "caa3fe63",
   "metadata": {},
   "outputs": [],
   "source": [
    "tags_Power = [\n",
    " 'HFEMS.MRPAP.01.SH01.PL003.01.A_R',\n",
    " 'HFEMS.MRPAP.01.SH01.PL003.01.A_S',\n",
    " 'HFEMS.MRPAP.01.SH01.PL003.01.A_T',\n",
    " 'HFEMS.MRPAP.01.SH01.PL003.01.HZ',\n",
    " 'HFEMS.MRPAP.01.SH01.PL003.01.KVARH',\n",
    " 'HFEMS.MRPAP.01.SH01.PL003.01.KW',\n",
    " 'HFEMS.MRPAP.01.SH01.PL003.01.KWH',\n",
    " 'HFEMS.MRPAP.01.SH01.PL003.01.PF',\n",
    " 'HFEMS.MRPAP.01.SH01.PL003.01.VA',\n",
    " 'HFEMS.MRPAP.01.SH01.PL003.01.VAR',\n",
    " 'HFEMS.MRPAP.01.SH01.PL003.01.V_LL_R',\n",
    " 'HFEMS.MRPAP.01.SH01.PL003.01.V_LL_S',\n",
    " 'HFEMS.MRPAP.01.SH01.PL003.01.V_LL_T',\n",
    " 'HFEMS.MRPAP.01.SH01.PL003.01.V_R',\n",
    " 'HFEMS.MRPAP.01.SH01.PL003.01.V_S',\n",
    " 'HFEMS.MRPAP.01.SH01.PL003.01.V_T',\n",
    " 'HFEMS.MRPAP.01.SH01.PL003.02.A_R',\n",
    " 'HFEMS.MRPAP.01.SH01.PL003.02.A_S',\n",
    " 'HFEMS.MRPAP.01.SH01.PL003.02.A_T',\n",
    " 'HFEMS.MRPAP.01.SH01.PL003.02.HZ',\n",
    " 'HFEMS.MRPAP.01.SH01.PL003.02.KVARH',\n",
    " 'HFEMS.MRPAP.01.SH01.PL003.02.KW',\n",
    " 'HFEMS.MRPAP.01.SH01.PL003.02.KWH',\n",
    " 'HFEMS.MRPAP.01.SH01.PL003.02.PF',\n",
    " 'HFEMS.MRPAP.01.SH01.PL003.02.VA',\n",
    " 'HFEMS.MRPAP.01.SH01.PL003.02.VAR',\n",
    " 'HFEMS.MRPAP.01.SH01.PL003.02.V_LL_R',\n",
    " 'HFEMS.MRPAP.01.SH01.PL003.02.V_LL_S',\n",
    " 'HFEMS.MRPAP.01.SH01.PL003.02.V_LL_T',\n",
    " 'HFEMS.MRPAP.01.SH01.PL003.02.V_R',\n",
    " 'HFEMS.MRPAP.01.SH01.PL003.02.V_S',\n",
    " 'HFEMS.MRPAP.01.SH01.PL003.02.V_T',\n",
    " 'HFEMS.MRPAP.01.SH01.PL003.03.A_R',\n",
    " 'HFEMS.MRPAP.01.SH01.PL003.03.A_S',\n",
    " 'HFEMS.MRPAP.01.SH01.PL003.03.A_T',\n",
    " 'HFEMS.MRPAP.01.SH01.PL003.03.HZ',\n",
    " 'HFEMS.MRPAP.01.SH01.PL003.03.KVARH',\n",
    " 'HFEMS.MRPAP.01.SH01.PL003.03.KW',\n",
    " 'HFEMS.MRPAP.01.SH01.PL003.03.KWH',\n",
    " 'HFEMS.MRPAP.01.SH01.PL003.03.PF',\n",
    " 'HFEMS.MRPAP.01.SH01.PL003.03.VA',\n",
    " 'HFEMS.MRPAP.01.SH01.PL003.03.VAR',\n",
    " 'HFEMS.MRPAP.01.SH01.PL003.03.V_LL_R',\n",
    " 'HFEMS.MRPAP.01.SH01.PL003.03.V_LL_S',\n",
    " 'HFEMS.MRPAP.01.SH01.PL003.03.V_LL_T',\n",
    " 'HFEMS.MRPAP.01.SH01.PL003.03.V_R',\n",
    " 'HFEMS.MRPAP.01.SH01.PL003.03.V_S',\n",
    " 'HFEMS.MRPAP.01.SH01.PL003.03.V_T',\n",
    " 'HFEMS.MRPAP.01.SH01.PL003.04.A_R',\n",
    " 'HFEMS.MRPAP.01.SH01.PL003.04.A_S',\n",
    " 'HFEMS.MRPAP.01.SH01.PL003.04.A_T',\n",
    " 'HFEMS.MRPAP.01.SH01.PL003.04.HZ',\n",
    " 'HFEMS.MRPAP.01.SH01.PL003.04.KVARH',\n",
    " 'HFEMS.MRPAP.01.SH01.PL003.04.KW',\n",
    " 'HFEMS.MRPAP.01.SH01.PL003.04.KWH',\n",
    " 'HFEMS.MRPAP.01.SH01.PL003.04.PF',\n",
    " 'HFEMS.MRPAP.01.SH01.PL003.04.VA',\n",
    " 'HFEMS.MRPAP.01.SH01.PL003.04.VAR',\n",
    " 'HFEMS.MRPAP.01.SH01.PL003.04.V_LL_R',\n",
    " 'HFEMS.MRPAP.01.SH01.PL003.04.V_LL_S',\n",
    " 'HFEMS.MRPAP.01.SH01.PL003.04.V_LL_T',\n",
    " 'HFEMS.MRPAP.01.SH01.PL003.04.V_R',\n",
    " 'HFEMS.MRPAP.01.SH01.PL003.04.V_S',\n",
    " 'HFEMS.MRPAP.01.SH01.PL003.04.V_T',\n",
    " 'HFEMS.MRPAP.01.SH01.PL003.05.A_R',\n",
    " 'HFEMS.MRPAP.01.SH01.PL003.05.A_S',\n",
    " 'HFEMS.MRPAP.01.SH01.PL003.05.A_T',\n",
    " 'HFEMS.MRPAP.01.SH01.PL003.05.HZ',\n",
    " 'HFEMS.MRPAP.01.SH01.PL003.05.KVARH',\n",
    " 'HFEMS.MRPAP.01.SH01.PL003.05.KW',\n",
    " 'HFEMS.MRPAP.01.SH01.PL003.05.KWH',\n",
    " 'HFEMS.MRPAP.01.SH01.PL003.05.PF',\n",
    " 'HFEMS.MRPAP.01.SH01.PL003.05.VA',\n",
    " 'HFEMS.MRPAP.01.SH01.PL003.05.VAR',\n",
    " 'HFEMS.MRPAP.01.SH01.PL003.05.V_LL_R',\n",
    " 'HFEMS.MRPAP.01.SH01.PL003.05.V_LL_S',\n",
    " 'HFEMS.MRPAP.01.SH01.PL003.05.V_LL_T',\n",
    " 'HFEMS.MRPAP.01.SH01.PL003.05.V_R',\n",
    " 'HFEMS.MRPAP.01.SH01.PL003.05.V_S',\n",
    " 'HFEMS.MRPAP.01.SH01.PL003.05.V_T',\n",
    " 'HFEMS.MRPAP.01.SH01.PL003.06.A_R',\n",
    " 'HFEMS.MRPAP.01.SH01.PL003.06.A_S',\n",
    " 'HFEMS.MRPAP.01.SH01.PL003.06.A_T',\n",
    " 'HFEMS.MRPAP.01.SH01.PL003.06.HZ',\n",
    " 'HFEMS.MRPAP.01.SH01.PL003.06.KVARH',\n",
    " 'HFEMS.MRPAP.01.SH01.PL003.06.KW',\n",
    " 'HFEMS.MRPAP.01.SH01.PL003.06.KWH',\n",
    " 'HFEMS.MRPAP.01.SH01.PL003.06.PF',\n",
    " 'HFEMS.MRPAP.01.SH01.PL003.06.VA',\n",
    " 'HFEMS.MRPAP.01.SH01.PL003.06.VAR',\n",
    " 'HFEMS.MRPAP.01.SH01.PL003.06.V_LL_R',\n",
    " 'HFEMS.MRPAP.01.SH01.PL003.06.V_LL_S',\n",
    " 'HFEMS.MRPAP.01.SH01.PL003.06.V_LL_T',\n",
    " 'HFEMS.MRPAP.01.SH01.PL003.06.V_R',\n",
    " 'HFEMS.MRPAP.01.SH01.PL003.06.V_S',\n",
    " 'HFEMS.MRPAP.01.SH01.PL003.06.V_T'\n",
    " ]"
   ]
  },
  {
   "cell_type": "code",
   "execution_count": 6,
   "id": "6a958676",
   "metadata": {},
   "outputs": [],
   "source": [
    "tags_QCS=[\n",
    "    '320PIC7509:me',\n",
    " '320PIC7510:me',\n",
    " '320PIC7511:me',\n",
    " 'PM3-S3SC.opr:me',\n",
    " '320PIC7513:me',\n",
    " '320PIC7514:me',\n",
    " 'PM3-S5SC.opr:me',\n",
    " '320PIC7524:me',\n",
    " '320PIC7533:me',\n",
    " '320PIC7544:me',\n",
    " '320PIC7505:me',\n",
    " '320PIC7506:me',\n",
    " '320PIC7507:me',\n",
    " '320PIC7508:me',\n",
    " '320PDC7516:me',\n",
    " '320PDC7518:me',\n",
    " '320PDV7519.1:av',\n",
    " '320PDC7520:me',\n",
    " '320PDV7522.1:av',\n",
    " '320HIC7501:av',\n",
    " '320TIA7504:av',\n",
    " '320TIA7530:av',\n",
    " '320TIA7541:av',\n",
    " '320TIA7542:av',\n",
    " '320TIC7523:me',\n",
    " '320PIC7524:me.1',\n",
    " '320TIC0004:me',\n",
    " '320TIC7540:me',\n",
    " '320TIC7545:me',\n",
    " 'PM3_BASIS_WEIGHT_SP',\n",
    " 'PM3_BASIS_WEIGHT_SP2',\n",
    " 'PM3_MOISTURE_SP',\n",
    " 'PM3_MOISTURE_SP2',\n",
    " '329-GIC1002:me',\n",
    " '329-PIC7030.A:me',\n",
    " '329-PIC7030.B:me',\n",
    " '320-PIC0501:me',\n",
    " 'PM3_WIRE_SPEED',\n",
    " 'PM3_ASH_PV',\n",
    " 'PM3_STOCK_CONSISTENCY_PV',\n",
    " 'PM3_STOCK_FLOW_PV',\n",
    " 'PM3-JWC1.opr:me',\n",
    " 'PM3-TSF1.opr:me',\n",
    " 'PM3-RLS1.opr:me',\n",
    " 'PM3-TASH.opr:me',\n",
    " '320LIC7524:me',\n",
    " '320LIC7525:me',\n",
    " '320LIC7526:me',\n",
    " '320LIC7527:me',\n",
    " '320LIC7528:me',\n",
    " '320LIC7529:me',\n",
    " '320LIC7537:me',\n",
    " '320LIC7529:me.1',\n",
    " '320LIC7528:me.1',\n",
    " '320LIC7527:me.1',\n",
    " '320LIC7526:me.1',\n",
    " '320LIC7525:me.1',\n",
    " '320FIA7531:av',\n",
    " '320FIA7535:av'\n",
    "]"
   ]
  },
  {
   "cell_type": "code",
   "execution_count": 7,
   "id": "3a1e43d1",
   "metadata": {},
   "outputs": [],
   "source": [
    "tags_MES=['가동상태',\n",
    " '이력TYPE',\n",
    " '지절',\n",
    " '월',\n",
    " '지종',\n",
    " '평량']"
   ]
  },
  {
   "cell_type": "markdown",
   "id": "2ea694e2",
   "metadata": {},
   "source": [
    "지절 발생이 가장 많은 3월 데이터 사용"
   ]
  },
  {
   "cell_type": "code",
   "execution_count": 8,
   "id": "76dfbe1c",
   "metadata": {},
   "outputs": [],
   "source": [
    "df_3M =df[df['월']==3]"
   ]
  },
  {
   "cell_type": "markdown",
   "id": "18d96cda",
   "metadata": {},
   "source": [
    "결측치 처리"
   ]
  },
  {
   "cell_type": "code",
   "execution_count": 9,
   "id": "839c474a",
   "metadata": {},
   "outputs": [
    {
     "name": "stderr",
     "output_type": "stream",
     "text": [
      "C:\\Users\\USER\\AppData\\Local\\Temp\\ipykernel_2484\\4094662856.py:1: SettingWithCopyWarning: \n",
      "A value is trying to be set on a copy of a slice from a DataFrame\n",
      "\n",
      "See the caveats in the documentation: https://pandas.pydata.org/pandas-docs/stable/user_guide/indexing.html#returning-a-view-versus-a-copy\n",
      "  df_3M.dropna(subset=['설비'], inplace=True)\n"
     ]
    }
   ],
   "source": [
    "df_3M.dropna(subset=['설비'], inplace=True)"
   ]
  },
  {
   "cell_type": "code",
   "execution_count": 10,
   "id": "8ec9edf5",
   "metadata": {
    "scrolled": false
   },
   "outputs": [
    {
     "name": "stderr",
     "output_type": "stream",
     "text": [
      "C:\\Users\\USER\\AppData\\Local\\Temp\\ipykernel_2484\\2961796943.py:1: SettingWithCopyWarning: \n",
      "A value is trying to be set on a copy of a slice from a DataFrame\n",
      "\n",
      "See the caveats in the documentation: https://pandas.pydata.org/pandas-docs/stable/user_guide/indexing.html#returning-a-view-versus-a-copy\n",
      "  df_3M.interpolate('time', inplace=True)\n"
     ]
    }
   ],
   "source": [
    "df_3M.interpolate('time', inplace=True)\n",
    "#df_3M.interpolate('ffill', inplace=True)"
   ]
  },
  {
   "cell_type": "code",
   "execution_count": 11,
   "id": "ab869a58",
   "metadata": {
    "scrolled": true
   },
   "outputs": [
    {
     "name": "stderr",
     "output_type": "stream",
     "text": [
      "C:\\Users\\USER\\AppData\\Local\\Temp\\ipykernel_2484\\2730401420.py:1: SettingWithCopyWarning: \n",
      "A value is trying to be set on a copy of a slice from a DataFrame\n",
      "\n",
      "See the caveats in the documentation: https://pandas.pydata.org/pandas-docs/stable/user_guide/indexing.html#returning-a-view-versus-a-copy\n",
      "  df_3M.dropna(axis=1, inplace=True)\n"
     ]
    }
   ],
   "source": [
    "df_3M.dropna(axis=1, inplace=True)"
   ]
  },
  {
   "cell_type": "code",
   "execution_count": 12,
   "id": "4b87b446",
   "metadata": {},
   "outputs": [],
   "source": [
    "df_3M_1 = df_3M[df_3M['지절']==1]"
   ]
  },
  {
   "cell_type": "code",
   "execution_count": 13,
   "id": "f41ce136",
   "metadata": {},
   "outputs": [],
   "source": [
    "temp = df_3M_1.groupby(['지종','평량']).size().reset_index(name='횟수')"
   ]
  },
  {
   "cell_type": "code",
   "execution_count": 14,
   "id": "4c97ac8d",
   "metadata": {
    "scrolled": false
   },
   "outputs": [
    {
     "data": {
      "text/html": [
       "<div>\n",
       "<style scoped>\n",
       "    .dataframe tbody tr th:only-of-type {\n",
       "        vertical-align: middle;\n",
       "    }\n",
       "\n",
       "    .dataframe tbody tr th {\n",
       "        vertical-align: top;\n",
       "    }\n",
       "\n",
       "    .dataframe thead th {\n",
       "        text-align: right;\n",
       "    }\n",
       "</style>\n",
       "<table border=\"1\" class=\"dataframe\">\n",
       "  <thead>\n",
       "    <tr style=\"text-align: right;\">\n",
       "      <th></th>\n",
       "      <th>지종</th>\n",
       "      <th>평량</th>\n",
       "      <th>횟수</th>\n",
       "    </tr>\n",
       "  </thead>\n",
       "  <tbody>\n",
       "    <tr>\n",
       "      <th>0</th>\n",
       "      <td>네오★라벨기지</td>\n",
       "      <td>67.0</td>\n",
       "      <td>11</td>\n",
       "    </tr>\n",
       "    <tr>\n",
       "      <th>1</th>\n",
       "      <td>네오★백상</td>\n",
       "      <td>100.0</td>\n",
       "      <td>80</td>\n",
       "    </tr>\n",
       "    <tr>\n",
       "      <th>2</th>\n",
       "      <td>네오★스노우화이트 R10기지</td>\n",
       "      <td>67.0</td>\n",
       "      <td>1</td>\n",
       "    </tr>\n",
       "    <tr>\n",
       "      <th>3</th>\n",
       "      <td>네오★스노우화이트기지</td>\n",
       "      <td>62.0</td>\n",
       "      <td>26</td>\n",
       "    </tr>\n",
       "    <tr>\n",
       "      <th>4</th>\n",
       "      <td>네오★스노우화이트기지</td>\n",
       "      <td>73.0</td>\n",
       "      <td>53</td>\n",
       "    </tr>\n",
       "    <tr>\n",
       "      <th>5</th>\n",
       "      <td>네오★스노우화이트기지</td>\n",
       "      <td>77.0</td>\n",
       "      <td>39</td>\n",
       "    </tr>\n",
       "    <tr>\n",
       "      <th>6</th>\n",
       "      <td>네오★아트 R10기지</td>\n",
       "      <td>77.0</td>\n",
       "      <td>22</td>\n",
       "    </tr>\n",
       "    <tr>\n",
       "      <th>7</th>\n",
       "      <td>네오★아트기지</td>\n",
       "      <td>62.0</td>\n",
       "      <td>1</td>\n",
       "    </tr>\n",
       "    <tr>\n",
       "      <th>8</th>\n",
       "      <td>네오★아트기지</td>\n",
       "      <td>73.0</td>\n",
       "      <td>1</td>\n",
       "    </tr>\n",
       "  </tbody>\n",
       "</table>\n",
       "</div>"
      ],
      "text/plain": [
       "                지종     평량  횟수\n",
       "0          네오★라벨기지   67.0  11\n",
       "1            네오★백상  100.0  80\n",
       "2  네오★스노우화이트 R10기지   67.0   1\n",
       "3      네오★스노우화이트기지   62.0  26\n",
       "4      네오★스노우화이트기지   73.0  53\n",
       "5      네오★스노우화이트기지   77.0  39\n",
       "6      네오★아트 R10기지   77.0  22\n",
       "7          네오★아트기지   62.0   1\n",
       "8          네오★아트기지   73.0   1"
      ]
     },
     "execution_count": 14,
     "metadata": {},
     "output_type": "execute_result"
    }
   ],
   "source": [
    "temp #target"
   ]
  },
  {
   "cell_type": "code",
   "execution_count": 16,
   "id": "dee10291",
   "metadata": {},
   "outputs": [],
   "source": [
    "df_3M.reset_index(inplace=True)"
   ]
  },
  {
   "cell_type": "code",
   "execution_count": 17,
   "id": "837499a2",
   "metadata": {},
   "outputs": [],
   "source": [
    "condition_1 = ((df_3M['지종']=='네오★라벨기지')&(df_3M['평량']==67.0))\n",
    "condition_2 = ((df_3M['지종']=='네오★백상')&(df_3M['평량']==100.0))\n",
    "condition_3 = ((df_3M['지종']=='네오★스노우화이트 R10기지')&(df_3M['평량']==67.0))\n",
    "condition_4 = ((df_3M['지종']=='네오★스노우화이트기지')&(df_3M['평량']==62.0))\n",
    "condition_5 = ((df_3M['지종']=='네오★스노우화이트기지')&(df_3M['평량']==73.0))\n",
    "condition_6 = ((df_3M['지종']=='네오★스노우화이트기지')&(df_3M['평량']==77.0))\n",
    "condition_7 = ((df_3M['지종']=='네오★아트 R10기지')&(df_3M['평량']==77.0))\n",
    "condition_8 = ((df_3M['지종']=='네오★아트기지')&(df_3M['평량']==62.0))\n",
    "condition_9 = ((df_3M['지종']=='네오★아트기지')&(df_3M['평량']==73.0))"
   ]
  },
  {
   "cell_type": "code",
   "execution_count": null,
   "id": "60cbfe66",
   "metadata": {},
   "outputs": [],
   "source": [
    "condition_legend=['네오★라벨기지(67.0)',\n",
    "                  '네오★백상(100.0)', \n",
    "                  '네오★아트 R10기지(216.0)',\n",
    "                  '네오★스노우화이트 R10기지(67.0)',\n",
    "                  '네오★스노우화이트기지(62.0)',\n",
    "                  '네오★스노우화이트기지(73.0)',\n",
    "                  '네오★스노우화이트기지(77.0)',\n",
    "                  '네오★아트 R10기지(77.0)', \n",
    "                  '네오★아트기지(62.0)', \n",
    "                  '네오★아트기지(73.0)',\n",
    "                  ]"
   ]
  },
  {
   "cell_type": "code",
   "execution_count": 18,
   "id": "405618e5",
   "metadata": {},
   "outputs": [],
   "source": [
    "conditions=condition_1 | condition_2 | condition_3 | condition_4 | condition_5 | condition_6 | condition_7 | condition_8 | condition_9"
   ]
  },
  {
   "cell_type": "code",
   "execution_count": 19,
   "id": "c6810d1f",
   "metadata": {},
   "outputs": [],
   "source": [
    "tags = ['이력TYPE','지절','지종','평량']+tags_Power+tags_QCS\n",
    "\n",
    "remv = ['320PIC7509:me', '320PIC7510:me', 'PM3-S3SC.opr:me', '320PIC7513:me', 'PM3-S5SC.opr:me', '320PIC7544:me', '320PIC7506:me', '320PIC7507:me', '320PIC7508:me', '320PDC7516:me', '320PDC7518:me', '320PDV7519.1:av', '320PDV7522.1:av', '320TIA7504:av', '320TIA7541:av', '320TIC7523:me', '320TIC0004:me', '320TIC7540:me', '329-GIC1002:me', '329-PIC7030.A:me', '329-PIC7030.B:me', 'PM3-JWC1.opr:me', 'PM3-TSF1.opr:me', '320LIC7526:me', '320LIC7526:me.1', '320PIC7524:me', '320HIC7501:av', '320PIC7524:me.1', '320FIA7535:av']\n",
    "\n",
    "for i in remv:\n",
    "    tags.remove(i)"
   ]
  },
  {
   "cell_type": "code",
   "execution_count": 20,
   "id": "2c2afdaf",
   "metadata": {
    "scrolled": true
   },
   "outputs": [],
   "source": [
    "df_3M_temp = df_3M[conditions][tags]"
   ]
  },
  {
   "cell_type": "code",
   "execution_count": 21,
   "id": "0f71cbd4",
   "metadata": {
    "scrolled": true
   },
   "outputs": [
    {
     "data": {
      "text/html": [
       "<div>\n",
       "<style scoped>\n",
       "    .dataframe tbody tr th:only-of-type {\n",
       "        vertical-align: middle;\n",
       "    }\n",
       "\n",
       "    .dataframe tbody tr th {\n",
       "        vertical-align: top;\n",
       "    }\n",
       "\n",
       "    .dataframe thead th {\n",
       "        text-align: right;\n",
       "    }\n",
       "</style>\n",
       "<table border=\"1\" class=\"dataframe\">\n",
       "  <thead>\n",
       "    <tr style=\"text-align: right;\">\n",
       "      <th></th>\n",
       "      <th>이력TYPE</th>\n",
       "      <th>지절</th>\n",
       "      <th>지종</th>\n",
       "      <th>평량</th>\n",
       "      <th>HFEMS.MRPAP.01.SH01.PL003.01.A_R</th>\n",
       "      <th>HFEMS.MRPAP.01.SH01.PL003.01.A_S</th>\n",
       "      <th>HFEMS.MRPAP.01.SH01.PL003.01.A_T</th>\n",
       "      <th>HFEMS.MRPAP.01.SH01.PL003.01.HZ</th>\n",
       "      <th>HFEMS.MRPAP.01.SH01.PL003.01.KVARH</th>\n",
       "      <th>HFEMS.MRPAP.01.SH01.PL003.01.KW</th>\n",
       "      <th>...</th>\n",
       "      <th>320LIC7525:me</th>\n",
       "      <th>320LIC7527:me</th>\n",
       "      <th>320LIC7528:me</th>\n",
       "      <th>320LIC7529:me</th>\n",
       "      <th>320LIC7537:me</th>\n",
       "      <th>320LIC7529:me.1</th>\n",
       "      <th>320LIC7528:me.1</th>\n",
       "      <th>320LIC7527:me.1</th>\n",
       "      <th>320LIC7525:me.1</th>\n",
       "      <th>320FIA7531:av</th>\n",
       "    </tr>\n",
       "  </thead>\n",
       "  <tbody>\n",
       "    <tr>\n",
       "      <th>1194</th>\n",
       "      <td>지종교체</td>\n",
       "      <td>0.0</td>\n",
       "      <td>네오★백상</td>\n",
       "      <td>100.0</td>\n",
       "      <td>15.4537</td>\n",
       "      <td>15.4909</td>\n",
       "      <td>15.8578</td>\n",
       "      <td>59.9821</td>\n",
       "      <td>63932700.0</td>\n",
       "      <td>506378.0</td>\n",
       "      <td>...</td>\n",
       "      <td>49.21</td>\n",
       "      <td>14.09</td>\n",
       "      <td>54.87</td>\n",
       "      <td>48.520</td>\n",
       "      <td>49.47</td>\n",
       "      <td>48.520</td>\n",
       "      <td>54.87</td>\n",
       "      <td>14.09</td>\n",
       "      <td>49.21</td>\n",
       "      <td>18.11</td>\n",
       "    </tr>\n",
       "    <tr>\n",
       "      <th>1195</th>\n",
       "      <td>지종교체</td>\n",
       "      <td>0.0</td>\n",
       "      <td>네오★백상</td>\n",
       "      <td>100.0</td>\n",
       "      <td>15.5273</td>\n",
       "      <td>15.5633</td>\n",
       "      <td>15.9461</td>\n",
       "      <td>59.9753</td>\n",
       "      <td>63932700.0</td>\n",
       "      <td>511028.0</td>\n",
       "      <td>...</td>\n",
       "      <td>50.33</td>\n",
       "      <td>13.97</td>\n",
       "      <td>55.34</td>\n",
       "      <td>48.255</td>\n",
       "      <td>49.82</td>\n",
       "      <td>48.255</td>\n",
       "      <td>55.34</td>\n",
       "      <td>13.97</td>\n",
       "      <td>50.33</td>\n",
       "      <td>2.24</td>\n",
       "    </tr>\n",
       "    <tr>\n",
       "      <th>1196</th>\n",
       "      <td>지종교체</td>\n",
       "      <td>0.0</td>\n",
       "      <td>네오★백상</td>\n",
       "      <td>100.0</td>\n",
       "      <td>15.4873</td>\n",
       "      <td>15.5161</td>\n",
       "      <td>15.9046</td>\n",
       "      <td>60.0100</td>\n",
       "      <td>63932700.0</td>\n",
       "      <td>507814.0</td>\n",
       "      <td>...</td>\n",
       "      <td>52.87</td>\n",
       "      <td>12.60</td>\n",
       "      <td>54.58</td>\n",
       "      <td>47.990</td>\n",
       "      <td>48.42</td>\n",
       "      <td>47.990</td>\n",
       "      <td>54.58</td>\n",
       "      <td>12.60</td>\n",
       "      <td>52.87</td>\n",
       "      <td>0.93</td>\n",
       "    </tr>\n",
       "    <tr>\n",
       "      <th>1197</th>\n",
       "      <td>지종교체</td>\n",
       "      <td>0.0</td>\n",
       "      <td>네오★백상</td>\n",
       "      <td>100.0</td>\n",
       "      <td>15.4718</td>\n",
       "      <td>15.4800</td>\n",
       "      <td>15.8729</td>\n",
       "      <td>60.0032</td>\n",
       "      <td>63932700.0</td>\n",
       "      <td>506447.0</td>\n",
       "      <td>...</td>\n",
       "      <td>55.70</td>\n",
       "      <td>10.26</td>\n",
       "      <td>53.09</td>\n",
       "      <td>47.245</td>\n",
       "      <td>45.32</td>\n",
       "      <td>47.245</td>\n",
       "      <td>53.09</td>\n",
       "      <td>10.26</td>\n",
       "      <td>55.70</td>\n",
       "      <td>9.68</td>\n",
       "    </tr>\n",
       "    <tr>\n",
       "      <th>1198</th>\n",
       "      <td>지종교체</td>\n",
       "      <td>0.0</td>\n",
       "      <td>네오★백상</td>\n",
       "      <td>100.0</td>\n",
       "      <td>15.4951</td>\n",
       "      <td>15.5194</td>\n",
       "      <td>15.8794</td>\n",
       "      <td>59.9918</td>\n",
       "      <td>63932700.0</td>\n",
       "      <td>508191.0</td>\n",
       "      <td>...</td>\n",
       "      <td>56.95</td>\n",
       "      <td>8.38</td>\n",
       "      <td>51.38</td>\n",
       "      <td>46.500</td>\n",
       "      <td>43.22</td>\n",
       "      <td>46.500</td>\n",
       "      <td>51.38</td>\n",
       "      <td>8.38</td>\n",
       "      <td>56.95</td>\n",
       "      <td>10.06</td>\n",
       "    </tr>\n",
       "    <tr>\n",
       "      <th>...</th>\n",
       "      <td>...</td>\n",
       "      <td>...</td>\n",
       "      <td>...</td>\n",
       "      <td>...</td>\n",
       "      <td>...</td>\n",
       "      <td>...</td>\n",
       "      <td>...</td>\n",
       "      <td>...</td>\n",
       "      <td>...</td>\n",
       "      <td>...</td>\n",
       "      <td>...</td>\n",
       "      <td>...</td>\n",
       "      <td>...</td>\n",
       "      <td>...</td>\n",
       "      <td>...</td>\n",
       "      <td>...</td>\n",
       "      <td>...</td>\n",
       "      <td>...</td>\n",
       "      <td>...</td>\n",
       "      <td>...</td>\n",
       "      <td>...</td>\n",
       "    </tr>\n",
       "    <tr>\n",
       "      <th>39744</th>\n",
       "      <td>생산</td>\n",
       "      <td>0.0</td>\n",
       "      <td>네오★백상</td>\n",
       "      <td>100.0</td>\n",
       "      <td>16.4354</td>\n",
       "      <td>16.4382</td>\n",
       "      <td>16.8709</td>\n",
       "      <td>59.9733</td>\n",
       "      <td>63932800.0</td>\n",
       "      <td>587536.0</td>\n",
       "      <td>...</td>\n",
       "      <td>50.53</td>\n",
       "      <td>63.81</td>\n",
       "      <td>54.58</td>\n",
       "      <td>50.720</td>\n",
       "      <td>49.65</td>\n",
       "      <td>50.720</td>\n",
       "      <td>54.58</td>\n",
       "      <td>63.81</td>\n",
       "      <td>50.53</td>\n",
       "      <td>18.28</td>\n",
       "    </tr>\n",
       "    <tr>\n",
       "      <th>39745</th>\n",
       "      <td>생산</td>\n",
       "      <td>0.0</td>\n",
       "      <td>네오★백상</td>\n",
       "      <td>100.0</td>\n",
       "      <td>16.4959</td>\n",
       "      <td>16.4984</td>\n",
       "      <td>16.9187</td>\n",
       "      <td>59.9683</td>\n",
       "      <td>63932800.0</td>\n",
       "      <td>589407.0</td>\n",
       "      <td>...</td>\n",
       "      <td>50.53</td>\n",
       "      <td>63.81</td>\n",
       "      <td>54.58</td>\n",
       "      <td>50.720</td>\n",
       "      <td>49.65</td>\n",
       "      <td>50.720</td>\n",
       "      <td>54.58</td>\n",
       "      <td>63.81</td>\n",
       "      <td>50.53</td>\n",
       "      <td>18.28</td>\n",
       "    </tr>\n",
       "    <tr>\n",
       "      <th>39746</th>\n",
       "      <td>생산</td>\n",
       "      <td>0.0</td>\n",
       "      <td>네오★백상</td>\n",
       "      <td>100.0</td>\n",
       "      <td>16.5086</td>\n",
       "      <td>16.5453</td>\n",
       "      <td>16.8889</td>\n",
       "      <td>60.0090</td>\n",
       "      <td>63932800.0</td>\n",
       "      <td>589831.0</td>\n",
       "      <td>...</td>\n",
       "      <td>50.53</td>\n",
       "      <td>63.81</td>\n",
       "      <td>54.58</td>\n",
       "      <td>50.720</td>\n",
       "      <td>49.65</td>\n",
       "      <td>50.720</td>\n",
       "      <td>54.58</td>\n",
       "      <td>63.81</td>\n",
       "      <td>50.53</td>\n",
       "      <td>18.28</td>\n",
       "    </tr>\n",
       "    <tr>\n",
       "      <th>39747</th>\n",
       "      <td>생산</td>\n",
       "      <td>0.0</td>\n",
       "      <td>네오★백상</td>\n",
       "      <td>100.0</td>\n",
       "      <td>16.4851</td>\n",
       "      <td>16.5203</td>\n",
       "      <td>16.9042</td>\n",
       "      <td>59.9818</td>\n",
       "      <td>63932800.0</td>\n",
       "      <td>589484.0</td>\n",
       "      <td>...</td>\n",
       "      <td>50.53</td>\n",
       "      <td>63.81</td>\n",
       "      <td>54.58</td>\n",
       "      <td>50.720</td>\n",
       "      <td>49.65</td>\n",
       "      <td>50.720</td>\n",
       "      <td>54.58</td>\n",
       "      <td>63.81</td>\n",
       "      <td>50.53</td>\n",
       "      <td>18.28</td>\n",
       "    </tr>\n",
       "    <tr>\n",
       "      <th>39748</th>\n",
       "      <td>생산</td>\n",
       "      <td>0.0</td>\n",
       "      <td>네오★백상</td>\n",
       "      <td>100.0</td>\n",
       "      <td>16.4199</td>\n",
       "      <td>16.4269</td>\n",
       "      <td>16.8941</td>\n",
       "      <td>59.9967</td>\n",
       "      <td>63932800.0</td>\n",
       "      <td>587121.0</td>\n",
       "      <td>...</td>\n",
       "      <td>50.53</td>\n",
       "      <td>63.81</td>\n",
       "      <td>54.58</td>\n",
       "      <td>50.720</td>\n",
       "      <td>49.65</td>\n",
       "      <td>50.720</td>\n",
       "      <td>54.58</td>\n",
       "      <td>63.81</td>\n",
       "      <td>50.53</td>\n",
       "      <td>18.28</td>\n",
       "    </tr>\n",
       "  </tbody>\n",
       "</table>\n",
       "<p>10859 rows × 130 columns</p>\n",
       "</div>"
      ],
      "text/plain": [
       "      이력TYPE   지절     지종     평량  HFEMS.MRPAP.01.SH01.PL003.01.A_R  \\\n",
       "1194    지종교체  0.0  네오★백상  100.0                           15.4537   \n",
       "1195    지종교체  0.0  네오★백상  100.0                           15.5273   \n",
       "1196    지종교체  0.0  네오★백상  100.0                           15.4873   \n",
       "1197    지종교체  0.0  네오★백상  100.0                           15.4718   \n",
       "1198    지종교체  0.0  네오★백상  100.0                           15.4951   \n",
       "...      ...  ...    ...    ...                               ...   \n",
       "39744     생산  0.0  네오★백상  100.0                           16.4354   \n",
       "39745     생산  0.0  네오★백상  100.0                           16.4959   \n",
       "39746     생산  0.0  네오★백상  100.0                           16.5086   \n",
       "39747     생산  0.0  네오★백상  100.0                           16.4851   \n",
       "39748     생산  0.0  네오★백상  100.0                           16.4199   \n",
       "\n",
       "       HFEMS.MRPAP.01.SH01.PL003.01.A_S  HFEMS.MRPAP.01.SH01.PL003.01.A_T  \\\n",
       "1194                            15.4909                           15.8578   \n",
       "1195                            15.5633                           15.9461   \n",
       "1196                            15.5161                           15.9046   \n",
       "1197                            15.4800                           15.8729   \n",
       "1198                            15.5194                           15.8794   \n",
       "...                                 ...                               ...   \n",
       "39744                           16.4382                           16.8709   \n",
       "39745                           16.4984                           16.9187   \n",
       "39746                           16.5453                           16.8889   \n",
       "39747                           16.5203                           16.9042   \n",
       "39748                           16.4269                           16.8941   \n",
       "\n",
       "       HFEMS.MRPAP.01.SH01.PL003.01.HZ  HFEMS.MRPAP.01.SH01.PL003.01.KVARH  \\\n",
       "1194                           59.9821                          63932700.0   \n",
       "1195                           59.9753                          63932700.0   \n",
       "1196                           60.0100                          63932700.0   \n",
       "1197                           60.0032                          63932700.0   \n",
       "1198                           59.9918                          63932700.0   \n",
       "...                                ...                                 ...   \n",
       "39744                          59.9733                          63932800.0   \n",
       "39745                          59.9683                          63932800.0   \n",
       "39746                          60.0090                          63932800.0   \n",
       "39747                          59.9818                          63932800.0   \n",
       "39748                          59.9967                          63932800.0   \n",
       "\n",
       "       HFEMS.MRPAP.01.SH01.PL003.01.KW  ...  320LIC7525:me  320LIC7527:me  \\\n",
       "1194                          506378.0  ...          49.21          14.09   \n",
       "1195                          511028.0  ...          50.33          13.97   \n",
       "1196                          507814.0  ...          52.87          12.60   \n",
       "1197                          506447.0  ...          55.70          10.26   \n",
       "1198                          508191.0  ...          56.95           8.38   \n",
       "...                                ...  ...            ...            ...   \n",
       "39744                         587536.0  ...          50.53          63.81   \n",
       "39745                         589407.0  ...          50.53          63.81   \n",
       "39746                         589831.0  ...          50.53          63.81   \n",
       "39747                         589484.0  ...          50.53          63.81   \n",
       "39748                         587121.0  ...          50.53          63.81   \n",
       "\n",
       "       320LIC7528:me  320LIC7529:me  320LIC7537:me  320LIC7529:me.1  \\\n",
       "1194           54.87         48.520          49.47           48.520   \n",
       "1195           55.34         48.255          49.82           48.255   \n",
       "1196           54.58         47.990          48.42           47.990   \n",
       "1197           53.09         47.245          45.32           47.245   \n",
       "1198           51.38         46.500          43.22           46.500   \n",
       "...              ...            ...            ...              ...   \n",
       "39744          54.58         50.720          49.65           50.720   \n",
       "39745          54.58         50.720          49.65           50.720   \n",
       "39746          54.58         50.720          49.65           50.720   \n",
       "39747          54.58         50.720          49.65           50.720   \n",
       "39748          54.58         50.720          49.65           50.720   \n",
       "\n",
       "       320LIC7528:me.1  320LIC7527:me.1  320LIC7525:me.1  320FIA7531:av  \n",
       "1194             54.87            14.09            49.21          18.11  \n",
       "1195             55.34            13.97            50.33           2.24  \n",
       "1196             54.58            12.60            52.87           0.93  \n",
       "1197             53.09            10.26            55.70           9.68  \n",
       "1198             51.38             8.38            56.95          10.06  \n",
       "...                ...              ...              ...            ...  \n",
       "39744            54.58            63.81            50.53          18.28  \n",
       "39745            54.58            63.81            50.53          18.28  \n",
       "39746            54.58            63.81            50.53          18.28  \n",
       "39747            54.58            63.81            50.53          18.28  \n",
       "39748            54.58            63.81            50.53          18.28  \n",
       "\n",
       "[10859 rows x 130 columns]"
      ]
     },
     "execution_count": 21,
     "metadata": {},
     "output_type": "execute_result"
    }
   ],
   "source": [
    "df_3M_temp"
   ]
  },
  {
   "cell_type": "code",
   "execution_count": 22,
   "id": "18294d69",
   "metadata": {
    "scrolled": true
   },
   "outputs": [],
   "source": [
    "for index,condition in enumerate([condition_1,condition_2,condition_3,condition_4,condition_5,condition_6,condition_7,condition_8,condition_9 ]):\n",
    "    df_3M_temp.loc[condition,['지종']]=index"
   ]
  },
  {
   "cell_type": "code",
   "execution_count": 23,
   "id": "4c9b9c16",
   "metadata": {},
   "outputs": [
    {
     "data": {
      "text/plain": [
       "[1, 8, 6, 7, 0, 3, 2, 4, 5]"
      ]
     },
     "execution_count": 23,
     "metadata": {},
     "output_type": "execute_result"
    }
   ],
   "source": [
    "list(df_3M_temp['지종'].unique())"
   ]
  },
  {
   "cell_type": "code",
   "execution_count": 24,
   "id": "5dafcc0e",
   "metadata": {},
   "outputs": [],
   "source": [
    "event_1 = df_3M['이력TYPE']=='생산' \n",
    "event_2 = df_3M['이력TYPE']=='지종교체' \n",
    "event_3 = df_3M['이력TYPE']=='초출파지' \n",
    "event_4 = df_3M['이력TYPE']=='평량교체' \n",
    "event_5 = df_3M['이력TYPE']=='Press' \n",
    "event_6 = df_3M['이력TYPE']=='Size Press' \n",
    "event_7 = df_3M['이력TYPE']=='유효가동' \n",
    "event_8 = df_3M['이력TYPE']=='Calender' \n",
    "event_9 = df_3M['이력TYPE']=='Pre-Dryer' \n",
    "event_10 = df_3M['이력TYPE']=='계획보수' \n",
    "event_11 = df_3M['이력TYPE']=='설비가동' "
   ]
  },
  {
   "cell_type": "code",
   "execution_count": 27,
   "id": "3b7dd2a2",
   "metadata": {},
   "outputs": [],
   "source": [
    "for index,event in enumerate([event_1, event_2, event_3, event_4,event_5,event_6,event_7,event_8,event_9,event_10,event_11]):\n",
    "    df_3M_temp.loc[event,['이력TYPE']]=index"
   ]
  },
  {
   "cell_type": "markdown",
   "id": "97b9e30c",
   "metadata": {},
   "source": [
    "상관계수"
   ]
  },
  {
   "cell_type": "code",
   "execution_count": 29,
   "id": "852a4a40",
   "metadata": {
    "scrolled": false
   },
   "outputs": [
    {
     "name": "stderr",
     "output_type": "stream",
     "text": [
      "C:\\Users\\USER\\anaconda3\\lib\\site-packages\\scipy\\stats\\stats.py:4484: SpearmanRConstantInputWarning: An input array is constant; the correlation coefficient is not defined.\n",
      "  warnings.warn(SpearmanRConstantInputWarning())\n"
     ]
    },
    {
     "data": {
      "text/html": [
       "<div>\n",
       "<style scoped>\n",
       "    .dataframe tbody tr th:only-of-type {\n",
       "        vertical-align: middle;\n",
       "    }\n",
       "\n",
       "    .dataframe tbody tr th {\n",
       "        vertical-align: top;\n",
       "    }\n",
       "\n",
       "    .dataframe thead th {\n",
       "        text-align: right;\n",
       "    }\n",
       "</style>\n",
       "<table border=\"1\" class=\"dataframe\">\n",
       "  <thead>\n",
       "    <tr style=\"text-align: right;\">\n",
       "      <th></th>\n",
       "      <th>Corr</th>\n",
       "      <th>P-val</th>\n",
       "    </tr>\n",
       "  </thead>\n",
       "  <tbody>\n",
       "    <tr>\n",
       "      <th>HFEMS.MRPAP.01.SH01.PL003.01.KVARH</th>\n",
       "      <td>0.021035</td>\n",
       "      <td>0.028382</td>\n",
       "    </tr>\n",
       "    <tr>\n",
       "      <th>HFEMS.MRPAP.01.SH01.PL003.01.V_S</th>\n",
       "      <td>-0.020606</td>\n",
       "      <td>0.031769</td>\n",
       "    </tr>\n",
       "    <tr>\n",
       "      <th>HFEMS.MRPAP.01.SH01.PL003.02.V_LL_S</th>\n",
       "      <td>-0.018813</td>\n",
       "      <td>0.049949</td>\n",
       "    </tr>\n",
       "    <tr>\n",
       "      <th>HFEMS.MRPAP.01.SH01.PL003.02.V_S</th>\n",
       "      <td>-0.024300</td>\n",
       "      <td>0.011331</td>\n",
       "    </tr>\n",
       "    <tr>\n",
       "      <th>HFEMS.MRPAP.01.SH01.PL003.03.PF</th>\n",
       "      <td>0.019050</td>\n",
       "      <td>0.047140</td>\n",
       "    </tr>\n",
       "    <tr>\n",
       "      <th>HFEMS.MRPAP.01.SH01.PL003.03.V_LL_S</th>\n",
       "      <td>-0.019629</td>\n",
       "      <td>0.040811</td>\n",
       "    </tr>\n",
       "    <tr>\n",
       "      <th>HFEMS.MRPAP.01.SH01.PL003.03.V_S</th>\n",
       "      <td>-0.023738</td>\n",
       "      <td>0.013373</td>\n",
       "    </tr>\n",
       "    <tr>\n",
       "      <th>HFEMS.MRPAP.01.SH01.PL003.04.V_LL_S</th>\n",
       "      <td>-0.020022</td>\n",
       "      <td>0.036941</td>\n",
       "    </tr>\n",
       "    <tr>\n",
       "      <th>HFEMS.MRPAP.01.SH01.PL003.04.V_S</th>\n",
       "      <td>-0.023653</td>\n",
       "      <td>0.013708</td>\n",
       "    </tr>\n",
       "    <tr>\n",
       "      <th>HFEMS.MRPAP.01.SH01.PL003.05.V_LL_S</th>\n",
       "      <td>-0.019444</td>\n",
       "      <td>0.042746</td>\n",
       "    </tr>\n",
       "    <tr>\n",
       "      <th>HFEMS.MRPAP.01.SH01.PL003.05.V_S</th>\n",
       "      <td>-0.025172</td>\n",
       "      <td>0.008711</td>\n",
       "    </tr>\n",
       "    <tr>\n",
       "      <th>320PIC7514:me</th>\n",
       "      <td>0.029733</td>\n",
       "      <td>0.001944</td>\n",
       "    </tr>\n",
       "    <tr>\n",
       "      <th>PM3_WIRE_SPEED</th>\n",
       "      <td>-0.019425</td>\n",
       "      <td>0.042953</td>\n",
       "    </tr>\n",
       "    <tr>\n",
       "      <th>PM3_STOCK_CONSISTENCY_PV</th>\n",
       "      <td>-0.021668</td>\n",
       "      <td>0.023952</td>\n",
       "    </tr>\n",
       "    <tr>\n",
       "      <th>PM3_STOCK_FLOW_PV</th>\n",
       "      <td>0.030143</td>\n",
       "      <td>0.001681</td>\n",
       "    </tr>\n",
       "  </tbody>\n",
       "</table>\n",
       "</div>"
      ],
      "text/plain": [
       "                                         Corr     P-val\n",
       "HFEMS.MRPAP.01.SH01.PL003.01.KVARH   0.021035  0.028382\n",
       "HFEMS.MRPAP.01.SH01.PL003.01.V_S    -0.020606  0.031769\n",
       "HFEMS.MRPAP.01.SH01.PL003.02.V_LL_S -0.018813  0.049949\n",
       "HFEMS.MRPAP.01.SH01.PL003.02.V_S    -0.024300  0.011331\n",
       "HFEMS.MRPAP.01.SH01.PL003.03.PF      0.019050  0.047140\n",
       "HFEMS.MRPAP.01.SH01.PL003.03.V_LL_S -0.019629  0.040811\n",
       "HFEMS.MRPAP.01.SH01.PL003.03.V_S    -0.023738  0.013373\n",
       "HFEMS.MRPAP.01.SH01.PL003.04.V_LL_S -0.020022  0.036941\n",
       "HFEMS.MRPAP.01.SH01.PL003.04.V_S    -0.023653  0.013708\n",
       "HFEMS.MRPAP.01.SH01.PL003.05.V_LL_S -0.019444  0.042746\n",
       "HFEMS.MRPAP.01.SH01.PL003.05.V_S    -0.025172  0.008711\n",
       "320PIC7514:me                        0.029733  0.001944\n",
       "PM3_WIRE_SPEED                      -0.019425  0.042953\n",
       "PM3_STOCK_CONSISTENCY_PV            -0.021668  0.023952\n",
       "PM3_STOCK_FLOW_PV                    0.030143  0.001681"
      ]
     },
     "execution_count": 29,
     "metadata": {},
     "output_type": "execute_result"
    }
   ],
   "source": [
    "y = df_3M_temp.loc[:, '지절'].values\n",
    "temp=pd.DataFrame(columns=['Corr', 'P-val'])\n",
    "for item in tags:\n",
    "    X = df_3M_temp.loc[:, item].values\n",
    "    if (stats.spearmanr(X,y)[1]<0.05) and (stats.spearmanr(X,y)[1]>0.001):\n",
    "        temp.loc[item] = [stats.spearmanr(X, y)[0], stats.spearmanr(X, y)[1]]\n",
    "\n",
    "temp"
   ]
  },
  {
   "cell_type": "markdown",
   "id": "130ba73f",
   "metadata": {},
   "source": [
    "SVM"
   ]
  },
  {
   "cell_type": "code",
   "execution_count": 34,
   "id": "f9c8fdc3",
   "metadata": {},
   "outputs": [],
   "source": [
    "tags = list(temp.index)"
   ]
  },
  {
   "cell_type": "code",
   "execution_count": 36,
   "id": "1968c4af",
   "metadata": {},
   "outputs": [],
   "source": [
    "from sklearn.model_selection import train_test_split\n",
    "\n",
    "seed=1004\n",
    "sample_ratio=0.1\n",
    "\n",
    "X=df_3M_temp[tags].sample(frac=sample_ratio,random_state=seed)\n",
    "y=df_3M_temp['지종'].sample(frac=sample_ratio,random_state=seed).astype('int')\n",
    "\n",
    "X_train, X_test, y_train, y_test = train_test_split(X, y, test_size = 0.3, random_state = 123)"
   ]
  },
  {
   "cell_type": "markdown",
   "id": "20315e8a",
   "metadata": {},
   "source": [
    "스케일링"
   ]
  },
  {
   "cell_type": "code",
   "execution_count": 37,
   "id": "dadf1d53",
   "metadata": {
    "scrolled": true
   },
   "outputs": [],
   "source": [
    "from sklearn.preprocessing import StandardScaler\n",
    "\n",
    "scaler = StandardScaler()\n",
    "scaler.fit(X_train) # X scaler 생성\n",
    "X_train = scaler.transform(X_train)   # 스케일링 적용"
   ]
  },
  {
   "cell_type": "markdown",
   "id": "e8cf84e5",
   "metadata": {},
   "source": [
    "svm모델 생성"
   ]
  },
  {
   "cell_type": "code",
   "execution_count": 38,
   "id": "5d3613c7",
   "metadata": {},
   "outputs": [
    {
     "data": {
      "text/plain": [
       "SVC()"
      ]
     },
     "execution_count": 38,
     "metadata": {},
     "output_type": "execute_result"
    }
   ],
   "source": [
    "from sklearn import svm\n",
    "\n",
    "clf= svm.SVC(kernel='rbf')\n",
    "clf.fit(X_train, y_train)"
   ]
  },
  {
   "cell_type": "markdown",
   "id": "dbd7d3d3",
   "metadata": {},
   "source": [
    "정확도"
   ]
  },
  {
   "cell_type": "code",
   "execution_count": 39,
   "id": "477d4856",
   "metadata": {
    "scrolled": true
   },
   "outputs": [
    {
     "data": {
      "text/plain": [
       "0.852760736196319"
      ]
     },
     "execution_count": 39,
     "metadata": {},
     "output_type": "execute_result"
    }
   ],
   "source": [
    "from sklearn.metrics import accuracy_score\n",
    "\n",
    "X_test = scaler.transform(X_test)\n",
    "\n",
    "y_pred = clf.predict(X_test)\n",
    "accuracy_score(y_test, y_pred)"
   ]
  },
  {
   "cell_type": "code",
   "execution_count": 40,
   "id": "24605cb0",
   "metadata": {
    "scrolled": true
   },
   "outputs": [
    {
     "data": {
      "image/png": "[encoded data removed]",
      "text/plain": [
       "<Figure size 432x288 with 2 Axes>"
      ]
     },
     "metadata": {
      "needs_background": "light"
     },
     "output_type": "display_data"
    }
   ],
   "source": [
    "from sklearn.metrics import confusion_matrix\n",
    "\n",
    "LABELS = ['#0','#1']\n",
    "plt.figure()\n",
    "sns.heatmap(confusion_matrix(y_test, y_pred), xticklabels=LABELS, yticklabels=LABELS, annot=True, fmt='d')\n",
    "plt.title('Confusion Matrix')\n",
    "plt.xlabel('Predicted Class'); plt.ylabel('True Class')\n",
    "plt.show()"
   ]
  },
  {
   "cell_type": "markdown",
   "id": "d9ae3fba",
   "metadata": {},
   "source": [
    "T-SNE"
   ]
  },
  {
   "cell_type": "code",
   "execution_count": 41,
   "id": "f702028f",
   "metadata": {},
   "outputs": [],
   "source": [
    "import matplotlib\n",
    "from matplotlib import font_manager, rc\n",
    "import platform\n",
    "\n",
    "if platform.system() == 'Windows':\n",
    "# 윈도우인 경우\n",
    "    font_name = font_manager.FontProperties(fname=\"c:/Windows/Fonts/malgun.ttf\").get_name()\n",
    "    rc('font', family=font_name)\n",
    "else:    \n",
    "# Mac 인 경우\n",
    "    rc('font', family='AppleGothic')\n",
    "matplotlib.rcParams['axes.unicode_minus'] = False   \n",
    "#그래프에서 마이너스 기호가 표시되도록 하는 설정입니다. "
   ]
  },
  {
   "cell_type": "code",
   "execution_count": 42,
   "id": "dd857154",
   "metadata": {},
   "outputs": [
    {
     "name": "stderr",
     "output_type": "stream",
     "text": [
      "C:\\Users\\USER\\anaconda3\\lib\\site-packages\\sklearn\\manifold\\_t_sne.py:780: FutureWarning: The default initialization in TSNE will change from 'random' to 'pca' in 1.2.\n",
      "  warnings.warn(\n",
      "C:\\Users\\USER\\anaconda3\\lib\\site-packages\\sklearn\\manifold\\_t_sne.py:790: FutureWarning: The default learning rate in TSNE will change from 200.0 to 'auto' in 1.2.\n",
      "  warnings.warn(\n"
     ]
    }
   ],
   "source": [
    "from sklearn.manifold import TSNE\n",
    "\n",
    "# class target 정보 제외\n",
    "\n",
    "# 2차원 t-SNE 임베딩\n",
    "tsne_np = TSNE(n_components =2, perplexity=50).fit_transform(X_test)\n",
    "\n",
    "# numpy array -> DataFrame 변환\n",
    "tsne_df = pd.DataFrame(tsne_np, columns = ['component 0', 'component 1'])"
   ]
  },
  {
   "cell_type": "markdown",
   "id": "2b2327a5",
   "metadata": {},
   "source": [
    "2D T-SNE"
   ]
  },
  {
   "cell_type": "code",
   "execution_count": 43,
   "id": "3efd8faa",
   "metadata": {},
   "outputs": [
    {
     "ename": "NameError",
     "evalue": "name 'condition_legend' is not defined",
     "output_type": "error",
     "traceback": [
      "\u001b[1;31m---------------------------------------------------------------------------\u001b[0m",
      "\u001b[1;31mNameError\u001b[0m                                 Traceback (most recent call last)",
      "Input \u001b[1;32mIn [43]\u001b[0m, in \u001b[0;36m<cell line: 47>\u001b[1;34m()\u001b[0m\n\u001b[0;32m     45\u001b[0m plt\u001b[38;5;241m.\u001b[39mscatter(tsne_df_9[\u001b[38;5;124m'\u001b[39m\u001b[38;5;124mcomponent 0\u001b[39m\u001b[38;5;124m'\u001b[39m], tsne_df_9[\u001b[38;5;124m'\u001b[39m\u001b[38;5;124mcomponent 1\u001b[39m\u001b[38;5;124m'\u001b[39m], color \u001b[38;5;241m=\u001b[39m \u001b[38;5;124m'\u001b[39m\u001b[38;5;124mpurple\u001b[39m\u001b[38;5;124m'\u001b[39m, label \u001b[38;5;241m=\u001b[39m \u001b[38;5;124m'\u001b[39m\u001b[38;5;124m9\u001b[39m\u001b[38;5;124m'\u001b[39m)\n\u001b[0;32m     46\u001b[0m plt\u001b[38;5;241m.\u001b[39mtitle(\u001b[38;5;124m'\u001b[39m\u001b[38;5;124mReal target\u001b[39m\u001b[38;5;124m'\u001b[39m, size\u001b[38;5;241m=\u001b[39m\u001b[38;5;241m13\u001b[39m)\n\u001b[1;32m---> 47\u001b[0m plt\u001b[38;5;241m.\u001b[39mlegend(\u001b[43mcondition_legend\u001b[49m, loc\u001b[38;5;241m=\u001b[39m(\u001b[38;5;241m1.05\u001b[39m,\u001b[38;5;241m0.2\u001b[39m))\n\u001b[0;32m     49\u001b[0m plt\u001b[38;5;241m.\u001b[39mxlabel(\u001b[38;5;124m'\u001b[39m\u001b[38;5;124mComponent 1\u001b[39m\u001b[38;5;124m'\u001b[39m)\n\u001b[0;32m     50\u001b[0m plt\u001b[38;5;241m.\u001b[39mylabel(\u001b[38;5;124m'\u001b[39m\u001b[38;5;124mComponent 2\u001b[39m\u001b[38;5;124m'\u001b[39m)\n",
      "\u001b[1;31mNameError\u001b[0m: name 'condition_legend' is not defined"
     ]
    },
    {
     "data": {
      "image/png": "[encoded data removed]",
      "text/plain": [
       "<Figure size 1224x288 with 1 Axes>"
      ]
     },
     "metadata": {
      "needs_background": "light"
     },
     "output_type": "display_data"
    }
   ],
   "source": [
    "import matplotlib.pyplot as plt\n",
    "\n",
    "# class target 정보 불러오기 \n",
    "tsne_df['target'] = y_test.values\n",
    "tsne_df['pred'] = y_pred\n",
    "\n",
    "# target 별 분리\n",
    "tsne_df_0 = tsne_df[tsne_df['target'] == 0]\n",
    "tsne_df_1 = tsne_df[tsne_df['target'] == 1]\n",
    "tsne_df_2 = tsne_df[tsne_df['target'] == 2]\n",
    "tsne_df_3 = tsne_df[tsne_df['target'] == 3]\n",
    "tsne_df_4 = tsne_df[tsne_df['target'] == 4]\n",
    "tsne_df_5 = tsne_df[tsne_df['target'] == 5]\n",
    "tsne_df_6 = tsne_df[tsne_df['target'] == 6]\n",
    "tsne_df_7 = tsne_df[tsne_df['target'] == 7]\n",
    "tsne_df_8 = tsne_df[tsne_df['target'] == 8]\n",
    "tsne_df_9 = tsne_df[tsne_df['target'] == 9]\n",
    "\n",
    "#예측 라벨\n",
    "y_pred_0 = tsne_df[tsne_df['pred'] == 0]\n",
    "y_pred_1 = tsne_df[tsne_df['pred'] == 1]\n",
    "y_pred_2 = tsne_df[tsne_df['pred'] == 2]\n",
    "y_pred_3 = tsne_df[tsne_df['pred'] == 3]\n",
    "y_pred_4 = tsne_df[tsne_df['pred'] == 4]\n",
    "y_pred_5 = tsne_df[tsne_df['pred'] == 5]\n",
    "y_pred_6 = tsne_df[tsne_df['pred'] == 6]\n",
    "y_pred_7 = tsne_df[tsne_df['pred'] == 7]\n",
    "y_pred_8 = tsne_df[tsne_df['pred'] == 8]\n",
    "y_pred_9 = tsne_df[tsne_df['pred'] == 9]\n",
    "\n",
    "# target 별 시각화\n",
    "plt.figure(figsize = (17,4))\n",
    "plt.subplot(121)\n",
    "\n",
    "\n",
    "plt.scatter(tsne_df_0['component 0'], tsne_df_0['component 1'], color = 'red', label = '0')\n",
    "plt.scatter(tsne_df_1['component 0'], tsne_df_1['component 1'], color = 'blue', label = '1')\n",
    "plt.scatter(tsne_df_2['component 0'], tsne_df_2['component 1'], color = 'green', label = '2')\n",
    "plt.scatter(tsne_df_3['component 0'], tsne_df_3['component 1'], color = 'black', label = '3')\n",
    "plt.scatter(tsne_df_4['component 0'], tsne_df_4['component 1'], color = 'gray', label = '4')\n",
    "plt.scatter(tsne_df_5['component 0'], tsne_df_5['component 1'], color = 'yellow', label = '5')\n",
    "plt.scatter(tsne_df_6['component 0'], tsne_df_6['component 1'], color = 'pink', label = '6')\n",
    "plt.scatter(tsne_df_7['component 0'], tsne_df_7['component 1'], color = 'lightblue', label = '7')\n",
    "plt.scatter(tsne_df_8['component 0'], tsne_df_8['component 1'], color = 'darkblue', label = '8')\n",
    "plt.scatter(tsne_df_9['component 0'], tsne_df_9['component 1'], color = 'purple', label = '9')\n",
    "plt.title('Real target', size=13)\n",
    "plt.legend(condition_legend, loc=(1.05,0.2))\n",
    "\n",
    "plt.xlabel('Component 1')\n",
    "plt.ylabel('Component 2')\n",
    "plt.grid()\n",
    "\n",
    "plt.subplots_adjust(wspace=1)\n",
    "\n",
    "plt.subplot(122)\n",
    "plt.scatter(y_pred_0['component 0'], y_pred_0['component 1'], color = 'red', label = '0')\n",
    "plt.scatter(y_pred_1['component 0'], y_pred_1['component 1'], color = 'blue', label = '1')\n",
    "plt.scatter(y_pred_2['component 0'], y_pred_2['component 1'], color = 'green', label = '2')\n",
    "plt.scatter(y_pred_3['component 0'], y_pred_3['component 1'], color = 'black', label = '3')\n",
    "plt.scatter(y_pred_4['component 0'], y_pred_4['component 1'], color = 'gray', label = '4')\n",
    "plt.scatter(y_pred_5['component 0'], y_pred_5['component 1'], color = 'yellow', label = '5')\n",
    "plt.scatter(y_pred_6['component 0'], y_pred_6['component 1'], color = 'pink', label = '6')\n",
    "plt.scatter(y_pred_7['component 0'], y_pred_7['component 1'], color = 'lightblue', label = '7')\n",
    "plt.scatter(y_pred_8['component 0'], y_pred_8['component 1'], color = 'darkblue', label = '8')\n",
    "plt.scatter(y_pred_9['component 0'], y_pred_9['component 1'], color = 'purple', label = '9')\n",
    "plt.title('SVM result', size=13)\n",
    "plt.legend(condition_legend, loc=(1.05,0.2))\n",
    "\n",
    "\n",
    "plt.xlabel('Component 1')\n",
    "plt.ylabel('Component 2')\n",
    "plt.grid()\n",
    "plt.show()"
   ]
  },
  {
   "cell_type": "code",
   "execution_count": null,
   "id": "2bf81f13",
   "metadata": {},
   "outputs": [],
   "source": []
  }
 ],
 "metadata": {
  "kernelspec": {
   "display_name": "Python 3 (ipykernel)",
   "language": "python",
   "name": "python3"
  },
  "language_info": {
   "codemirror_mode": {
    "name": "ipython",
    "version": 3
   },
   "file_extension": ".py",
   "mimetype": "text/x-python",
   "name": "python",
   "nbconvert_exporter": "python",
   "pygments_lexer": "ipython3",
   "version": "3.9.12"
  }
 },
 "nbformat": 4,
 "nbformat_minor": 5
}
