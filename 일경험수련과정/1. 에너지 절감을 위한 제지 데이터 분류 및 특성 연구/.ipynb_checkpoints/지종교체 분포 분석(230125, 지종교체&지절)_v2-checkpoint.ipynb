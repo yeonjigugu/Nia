{
 "cells": [
  {
   "cell_type": "code",
   "execution_count": 1,
   "id": "233353d1",
   "metadata": {},
   "outputs": [
    {
     "name": "stderr",
     "output_type": "stream",
     "text": [
      "C:\\Users\\USER\\AppData\\Local\\Temp\\ipykernel_14756\\3335098552.py:22: DeprecationWarning: Importing display from IPython.core.display is deprecated since IPython 7.14, please import from IPython display\n",
      "  from IPython.core.display import display, HTML\n"
     ]
    },
    {
     "data": {
      "text/html": [
       "<style>.container {width:95% !important;}</style>"
      ],
      "text/plain": [
       "<IPython.core.display.HTML object>"
      ]
     },
     "metadata": {},
     "output_type": "display_data"
    }
   ],
   "source": [
    "%config Completer.use_jedi = False\n",
    "import seaborn as sns\n",
    "import matplotlib.pyplot as plt\n",
    "import pandas as pd\n",
    "import numpy as np\n",
    "import pprint\n",
    "import datetime\n",
    "from datetime import datetime, timedelta\n",
    "import torch\n",
    "from pyarrow import csv\n",
    "import os.path\n",
    "import matplotlib.pyplot as plt\n",
    "import seaborn as sns\n",
    "import os\n",
    "import re\n",
    "import gc\n",
    "from tqdm import tqdm\n",
    "import scipy.stats as stats\n",
    "from sklearn.preprocessing import MinMaxScaler\n",
    "os.environ['KMP_DUPLICATE_LIB_OK']='True'\n",
    "\n",
    "from IPython.core.display import display, HTML\n",
    "display(HTML(\"<style>.container {width:95% !important;}</style>\")) #셀 사이즈 조절\n",
    "\n",
    "import warnings\n",
    "warnings.simplefilter(action='ignore', category=FutureWarning) # FutureWarning 제거\n",
    "\n",
    "#matplotlib 한글\n",
    "from matplotlib import font_manager, rc\n",
    "font_path = \"C:/Windows/Fonts/NGULIM.TTF\"\n",
    "font = font_manager.FontProperties(fname=font_path).get_name()\n",
    "rc('font', family=font)"
   ]
  },
  {
   "cell_type": "code",
   "execution_count": 56,
   "id": "0139ffbb",
   "metadata": {},
   "outputs": [],
   "source": [
    "df_MES = pd.read_csv('C:/Users/USER/etri_csv/1/0_result/DataSet_v6.csv')"
   ]
  },
  {
   "cell_type": "code",
   "execution_count": 57,
   "id": "23c7f247",
   "metadata": {},
   "outputs": [],
   "source": [
    "df_MES['평량'] =df_MES['평량'].astype(str) "
   ]
  },
  {
   "cell_type": "code",
   "execution_count": 58,
   "id": "ce1ecd5b",
   "metadata": {},
   "outputs": [],
   "source": [
    "col = list(df_MES.columns)"
   ]
  },
  {
   "cell_type": "code",
   "execution_count": 59,
   "id": "54bc8859",
   "metadata": {},
   "outputs": [],
   "source": [
    "col.remove('설비')\n",
    "col.remove('가동상태')\n",
    "col.remove('작업종료시간')\n",
    "col.remove('작업총시간')\n",
    "col.remove('LOT')\n",
    "col.remove('제조번호')\n",
    "col.remove('지폭(규격)')\n",
    "col.remove('OrderNo')\n",
    "col.remove('TYPE')\n",
    "col.remove('릴No')\n",
    "col.remove('생산량길이(매/속수)')"
   ]
  },
  {
   "cell_type": "code",
   "execution_count": 60,
   "id": "791d4d0c",
   "metadata": {},
   "outputs": [],
   "source": [
    "df = df_MES.loc[:,col]"
   ]
  },
  {
   "cell_type": "code",
   "execution_count": 61,
   "id": "fdf5cee0",
   "metadata": {},
   "outputs": [],
   "source": [
    "df['지종'] =df['지종']+\"(\"+df['평량']+\")\""
   ]
  },
  {
   "cell_type": "code",
   "execution_count": 62,
   "id": "b972505a",
   "metadata": {
    "scrolled": true
   },
   "outputs": [
    {
     "name": "stderr",
     "output_type": "stream",
     "text": [
      "100%|████████████████████████████████████████████████████████████████████████████▉| 6131/6132 [00:10<00:00, 595.33it/s]\n"
     ]
    }
   ],
   "source": [
    "jijong = df.loc[0,'지종']\n",
    "df_change = df.loc[[0],:]\n",
    "\n",
    "with tqdm(total = len(df)) as pbar:\n",
    "    i=1\n",
    "    while i<len(df_MES):\n",
    "        if (jijong != df.loc[i,'지종']):\n",
    "            df_change=df_change.append(df.loc[i,:],ignore_index=True)\n",
    "            jijong = df.loc[i,'지종']\n",
    "        \n",
    "        pbar.update(1)\n",
    "        i=i+1\n",
    "        "
   ]
  },
  {
   "cell_type": "code",
   "execution_count": 63,
   "id": "c0690a67",
   "metadata": {},
   "outputs": [],
   "source": [
    "df_change['지종교체 전']=df_change['지종'].shift(1)"
   ]
  },
  {
   "cell_type": "code",
   "execution_count": 64,
   "id": "ef50d370",
   "metadata": {},
   "outputs": [
    {
     "data": {
      "text/plain": [
       "Index(['이력TYPE', '지절', '작업시작시간', '월', '지종', '평량', '생산량중량', '파지량길이', '파지량중량',\n",
       "       'Shift', '작업자', '속도표준', '속도계산', 'Note', 'HOLE 정보 M', 'HOLE 정보 L',\n",
       "       'HOLE 정보 XL', 'HOLE 정보 EC', 'HOLE 땜 정보 M', 'HOLE 땜 정보 L',\n",
       "       'HOLE 땜 정보 XL', 'HOLE 땜 정보 EC', '지종교체 전'],\n",
       "      dtype='object')"
      ]
     },
     "execution_count": 64,
     "metadata": {},
     "output_type": "execute_result"
    }
   ],
   "source": [
    "df_change.columns"
   ]
  },
  {
   "cell_type": "code",
   "execution_count": 65,
   "id": "6578ef9f",
   "metadata": {},
   "outputs": [],
   "source": [
    "temp = df_change"
   ]
  },
  {
   "cell_type": "code",
   "execution_count": 66,
   "id": "466b9a46",
   "metadata": {},
   "outputs": [],
   "source": [
    "temp.drop(0, inplace=True)"
   ]
  },
  {
   "cell_type": "code",
   "execution_count": 67,
   "id": "a0972a41",
   "metadata": {},
   "outputs": [],
   "source": [
    "temp['지종']=temp['지종교체 전']+\"→\"+temp['지종']"
   ]
  },
  {
   "cell_type": "code",
   "execution_count": 68,
   "id": "3dc0b3bb",
   "metadata": {},
   "outputs": [],
   "source": [
    "temp.drop('지종교체 전', axis=1, inplace=True)"
   ]
  },
  {
   "cell_type": "code",
   "execution_count": 69,
   "id": "cc00c95f",
   "metadata": {},
   "outputs": [],
   "source": [
    "df_change=temp.copy()\n",
    "temp1=temp.copy()"
   ]
  },
  {
   "cell_type": "markdown",
   "id": "cefb9ecd",
   "metadata": {},
   "source": [
    "1분 데이터셋에 지종교체 여부 포함시키기"
   ]
  },
  {
   "cell_type": "code",
   "execution_count": 70,
   "id": "b5925727",
   "metadata": {
    "scrolled": true
   },
   "outputs": [
    {
     "name": "stderr",
     "output_type": "stream",
     "text": [
      "C:\\Users\\USER\\AppData\\Local\\Temp\\ipykernel_14756\\461016358.py:1: DtypeWarning: Columns (8) have mixed types. Specify dtype option on import or set low_memory=False.\n",
      "  df_MES = pd.read_csv('C:/Users/USER/etri_csv/논문/논문자료_v1.csv')\n"
     ]
    }
   ],
   "source": [
    "df_MES = pd.read_csv('C:/Users/USER/etri_csv/논문/논문자료_v1.csv')"
   ]
  },
  {
   "cell_type": "code",
   "execution_count": 71,
   "id": "1c869af6",
   "metadata": {},
   "outputs": [],
   "source": [
    "df_MES['지종교체']=0"
   ]
  },
  {
   "cell_type": "code",
   "execution_count": 72,
   "id": "bc752d39",
   "metadata": {
    "scrolled": true
   },
   "outputs": [
    {
     "data": {
      "text/html": [
       "<div>\n",
       "<style scoped>\n",
       "    .dataframe tbody tr th:only-of-type {\n",
       "        vertical-align: middle;\n",
       "    }\n",
       "\n",
       "    .dataframe tbody tr th {\n",
       "        vertical-align: top;\n",
       "    }\n",
       "\n",
       "    .dataframe thead th {\n",
       "        text-align: right;\n",
       "    }\n",
       "</style>\n",
       "<table border=\"1\" class=\"dataframe\">\n",
       "  <thead>\n",
       "    <tr style=\"text-align: right;\">\n",
       "      <th></th>\n",
       "      <th>이력TYPE</th>\n",
       "      <th>지절</th>\n",
       "      <th>작업시작시간</th>\n",
       "      <th>월</th>\n",
       "      <th>지종</th>\n",
       "      <th>평량</th>\n",
       "      <th>생산량중량</th>\n",
       "      <th>파지량길이</th>\n",
       "      <th>파지량중량</th>\n",
       "      <th>Shift</th>\n",
       "      <th>...</th>\n",
       "      <th>속도계산</th>\n",
       "      <th>Note</th>\n",
       "      <th>HOLE 정보 M</th>\n",
       "      <th>HOLE 정보 L</th>\n",
       "      <th>HOLE 정보 XL</th>\n",
       "      <th>HOLE 정보 EC</th>\n",
       "      <th>HOLE 땜 정보 M</th>\n",
       "      <th>HOLE 땜 정보 L</th>\n",
       "      <th>HOLE 땜 정보 XL</th>\n",
       "      <th>HOLE 땜 정보 EC</th>\n",
       "    </tr>\n",
       "  </thead>\n",
       "  <tbody>\n",
       "    <tr>\n",
       "      <th>1</th>\n",
       "      <td>지종교체</td>\n",
       "      <td>0</td>\n",
       "      <td>2022-01-01 07:57:00</td>\n",
       "      <td>1</td>\n",
       "      <td>네오★백상(150.0)→네오★스노우화이트기지(81.0)</td>\n",
       "      <td>81.0</td>\n",
       "      <td>NaN</td>\n",
       "      <td>NaN</td>\n",
       "      <td>NaN</td>\n",
       "      <td>갑반</td>\n",
       "      <td>...</td>\n",
       "      <td>NaN</td>\n",
       "      <td>*150백상지-&gt;BP81(S/W) 지종교체.\\n -36, 38, 40Dry stea...</td>\n",
       "      <td>NaN</td>\n",
       "      <td>NaN</td>\n",
       "      <td>NaN</td>\n",
       "      <td>NaN</td>\n",
       "      <td>NaN</td>\n",
       "      <td>NaN</td>\n",
       "      <td>NaN</td>\n",
       "      <td>NaN</td>\n",
       "    </tr>\n",
       "    <tr>\n",
       "      <th>2</th>\n",
       "      <td>평량교체</td>\n",
       "      <td>0</td>\n",
       "      <td>2022-01-01 13:48:00</td>\n",
       "      <td>1</td>\n",
       "      <td>네오★스노우화이트기지(81.0)→네오★스노우화이트기지(73.0)</td>\n",
       "      <td>73.0</td>\n",
       "      <td>20498.4</td>\n",
       "      <td>NaN</td>\n",
       "      <td>268.056</td>\n",
       "      <td>갑반</td>\n",
       "      <td>...</td>\n",
       "      <td>1333.0</td>\n",
       "      <td>NO.1 77,000M감고파지.(평량교체)\\n평량:71.8, 두께:92.0, 인장강...</td>\n",
       "      <td>4.0</td>\n",
       "      <td>0.0</td>\n",
       "      <td>0.0</td>\n",
       "      <td>0.0</td>\n",
       "      <td>0.0</td>\n",
       "      <td>0.0</td>\n",
       "      <td>1.0</td>\n",
       "      <td>0.0</td>\n",
       "    </tr>\n",
       "    <tr>\n",
       "      <th>3</th>\n",
       "      <td>평량교체</td>\n",
       "      <td>0</td>\n",
       "      <td>2022-01-01 16:41:00</td>\n",
       "      <td>1</td>\n",
       "      <td>네오★스노우화이트기지(73.0)→네오★스노우화이트기지(62.0)</td>\n",
       "      <td>62.0</td>\n",
       "      <td>23101.2</td>\n",
       "      <td>NaN</td>\n",
       "      <td>892.800</td>\n",
       "      <td>을반</td>\n",
       "      <td>...</td>\n",
       "      <td>1170.0</td>\n",
       "      <td>No.1 99500m 감고파지(평량교체)\\n1군 칸바스 날코 Coral 6cc/mi...</td>\n",
       "      <td>4.0</td>\n",
       "      <td>0.0</td>\n",
       "      <td>0.0</td>\n",
       "      <td>0.0</td>\n",
       "      <td>0.0</td>\n",
       "      <td>0.0</td>\n",
       "      <td>0.0</td>\n",
       "      <td>0.0</td>\n",
       "    </tr>\n",
       "    <tr>\n",
       "      <th>4</th>\n",
       "      <td>평량교체</td>\n",
       "      <td>0</td>\n",
       "      <td>2022-01-01 20:53:00</td>\n",
       "      <td>1</td>\n",
       "      <td>네오★스노우화이트기지(62.0)→네오★스노우화이트기지(103.0)</td>\n",
       "      <td>103.0</td>\n",
       "      <td>NaN</td>\n",
       "      <td>NaN</td>\n",
       "      <td>NaN</td>\n",
       "      <td>을반</td>\n",
       "      <td>...</td>\n",
       "      <td>NaN</td>\n",
       "      <td>BP62 -&gt; BP103</td>\n",
       "      <td>NaN</td>\n",
       "      <td>NaN</td>\n",
       "      <td>NaN</td>\n",
       "      <td>NaN</td>\n",
       "      <td>NaN</td>\n",
       "      <td>NaN</td>\n",
       "      <td>NaN</td>\n",
       "      <td>NaN</td>\n",
       "    </tr>\n",
       "    <tr>\n",
       "      <th>5</th>\n",
       "      <td>지종교체</td>\n",
       "      <td>0</td>\n",
       "      <td>2022-01-02 06:16:00</td>\n",
       "      <td>1</td>\n",
       "      <td>네오★스노우화이트기지(103.0)→NEO★MATT 9+ R10기지(172.0)</td>\n",
       "      <td>172.0</td>\n",
       "      <td>NaN</td>\n",
       "      <td>NaN</td>\n",
       "      <td>NaN</td>\n",
       "      <td>병반</td>\n",
       "      <td>...</td>\n",
       "      <td>NaN</td>\n",
       "      <td>*BP103 (S/W) -&gt; BP172 (9+) 지종교체.\\n</td>\n",
       "      <td>NaN</td>\n",
       "      <td>NaN</td>\n",
       "      <td>NaN</td>\n",
       "      <td>NaN</td>\n",
       "      <td>NaN</td>\n",
       "      <td>NaN</td>\n",
       "      <td>NaN</td>\n",
       "      <td>NaN</td>\n",
       "    </tr>\n",
       "    <tr>\n",
       "      <th>...</th>\n",
       "      <td>...</td>\n",
       "      <td>...</td>\n",
       "      <td>...</td>\n",
       "      <td>...</td>\n",
       "      <td>...</td>\n",
       "      <td>...</td>\n",
       "      <td>...</td>\n",
       "      <td>...</td>\n",
       "      <td>...</td>\n",
       "      <td>...</td>\n",
       "      <td>...</td>\n",
       "      <td>...</td>\n",
       "      <td>...</td>\n",
       "      <td>...</td>\n",
       "      <td>...</td>\n",
       "      <td>...</td>\n",
       "      <td>...</td>\n",
       "      <td>...</td>\n",
       "      <td>...</td>\n",
       "      <td>...</td>\n",
       "      <td>...</td>\n",
       "    </tr>\n",
       "    <tr>\n",
       "      <th>796</th>\n",
       "      <td>지종교체</td>\n",
       "      <td>0</td>\n",
       "      <td>2022-07-31 01:23:00</td>\n",
       "      <td>7</td>\n",
       "      <td>네오★아트 R10기지(103.0)→네오★아트기지(134.0)</td>\n",
       "      <td>134.0</td>\n",
       "      <td>22914.0</td>\n",
       "      <td>NaN</td>\n",
       "      <td>9.648</td>\n",
       "      <td>병반</td>\n",
       "      <td>...</td>\n",
       "      <td>982.0</td>\n",
       "      <td>NO.1 *실속도986 Pre 스팀2.9,Aft 스팀 1.05,Reel 수분 4.9...</td>\n",
       "      <td>0.0</td>\n",
       "      <td>0.0</td>\n",
       "      <td>0.0</td>\n",
       "      <td>0.0</td>\n",
       "      <td>0.0</td>\n",
       "      <td>0.0</td>\n",
       "      <td>1.0</td>\n",
       "      <td>0.0</td>\n",
       "    </tr>\n",
       "    <tr>\n",
       "      <th>797</th>\n",
       "      <td>평량교체</td>\n",
       "      <td>0</td>\n",
       "      <td>2022-07-31 03:51:00</td>\n",
       "      <td>7</td>\n",
       "      <td>네오★아트기지(134.0)→네오★아트기지(152.0)</td>\n",
       "      <td>152.0</td>\n",
       "      <td>22982.4</td>\n",
       "      <td>NaN</td>\n",
       "      <td>10.944</td>\n",
       "      <td>병반</td>\n",
       "      <td>...</td>\n",
       "      <td>864.0</td>\n",
       "      <td>NO.1 *실속도864 Pre 스팀3.3,Aft 스팀 1.28,Reel 수분 4.8...</td>\n",
       "      <td>NaN</td>\n",
       "      <td>NaN</td>\n",
       "      <td>NaN</td>\n",
       "      <td>NaN</td>\n",
       "      <td>NaN</td>\n",
       "      <td>NaN</td>\n",
       "      <td>NaN</td>\n",
       "      <td>NaN</td>\n",
       "    </tr>\n",
       "    <tr>\n",
       "      <th>798</th>\n",
       "      <td>평량교체</td>\n",
       "      <td>0</td>\n",
       "      <td>2022-07-31 12:03:00</td>\n",
       "      <td>7</td>\n",
       "      <td>네오★아트기지(152.0)→네오★아트기지(169.0)</td>\n",
       "      <td>169.0</td>\n",
       "      <td>21598.2</td>\n",
       "      <td>NaN</td>\n",
       "      <td>12.168</td>\n",
       "      <td>갑반</td>\n",
       "      <td>...</td>\n",
       "      <td>779.0</td>\n",
       "      <td>NO.1\\n\"바닥전수검사 실시.특이사항 없음\"</td>\n",
       "      <td>NaN</td>\n",
       "      <td>NaN</td>\n",
       "      <td>NaN</td>\n",
       "      <td>NaN</td>\n",
       "      <td>NaN</td>\n",
       "      <td>NaN</td>\n",
       "      <td>NaN</td>\n",
       "      <td>NaN</td>\n",
       "    </tr>\n",
       "    <tr>\n",
       "      <th>799</th>\n",
       "      <td>평량교체</td>\n",
       "      <td>0</td>\n",
       "      <td>2022-07-31 16:37:00</td>\n",
       "      <td>7</td>\n",
       "      <td>네오★아트기지(169.0)→네오★아트 R10기지(216.0)</td>\n",
       "      <td>216.0</td>\n",
       "      <td>NaN</td>\n",
       "      <td>NaN</td>\n",
       "      <td>NaN</td>\n",
       "      <td>을반</td>\n",
       "      <td>...</td>\n",
       "      <td>NaN</td>\n",
       "      <td>*BP169-&gt;BP216 평량교체 및 S/P Rod 15mm(0.25/0.30) 교...</td>\n",
       "      <td>NaN</td>\n",
       "      <td>NaN</td>\n",
       "      <td>NaN</td>\n",
       "      <td>NaN</td>\n",
       "      <td>NaN</td>\n",
       "      <td>NaN</td>\n",
       "      <td>NaN</td>\n",
       "      <td>NaN</td>\n",
       "    </tr>\n",
       "    <tr>\n",
       "      <th>800</th>\n",
       "      <td>생산</td>\n",
       "      <td>0</td>\n",
       "      <td>2022-08-01 00:58:00</td>\n",
       "      <td>8</td>\n",
       "      <td>네오★아트 R10기지(216.0)→네오★아트기지(216.0)</td>\n",
       "      <td>216.0</td>\n",
       "      <td>20995.2</td>\n",
       "      <td>NaN</td>\n",
       "      <td>15.552</td>\n",
       "      <td>병반</td>\n",
       "      <td>...</td>\n",
       "      <td>532.0</td>\n",
       "      <td>NO.1 *동일지종 오더 변경함.\\n*27000M 감고 파지(스플부~5000M까지 ...</td>\n",
       "      <td>NaN</td>\n",
       "      <td>NaN</td>\n",
       "      <td>NaN</td>\n",
       "      <td>NaN</td>\n",
       "      <td>NaN</td>\n",
       "      <td>NaN</td>\n",
       "      <td>NaN</td>\n",
       "      <td>NaN</td>\n",
       "    </tr>\n",
       "  </tbody>\n",
       "</table>\n",
       "<p>800 rows × 22 columns</p>\n",
       "</div>"
      ],
      "text/plain": [
       "    이력TYPE  지절               작업시작시간  월  \\\n",
       "1     지종교체   0  2022-01-01 07:57:00  1   \n",
       "2     평량교체   0  2022-01-01 13:48:00  1   \n",
       "3     평량교체   0  2022-01-01 16:41:00  1   \n",
       "4     평량교체   0  2022-01-01 20:53:00  1   \n",
       "5     지종교체   0  2022-01-02 06:16:00  1   \n",
       "..     ...  ..                  ... ..   \n",
       "796   지종교체   0  2022-07-31 01:23:00  7   \n",
       "797   평량교체   0  2022-07-31 03:51:00  7   \n",
       "798   평량교체   0  2022-07-31 12:03:00  7   \n",
       "799   평량교체   0  2022-07-31 16:37:00  7   \n",
       "800     생산   0  2022-08-01 00:58:00  8   \n",
       "\n",
       "                                              지종     평량    생산량중량  파지량길이  \\\n",
       "1                 네오★백상(150.0)→네오★스노우화이트기지(81.0)   81.0      NaN    NaN   \n",
       "2            네오★스노우화이트기지(81.0)→네오★스노우화이트기지(73.0)   73.0  20498.4    NaN   \n",
       "3            네오★스노우화이트기지(73.0)→네오★스노우화이트기지(62.0)   62.0  23101.2    NaN   \n",
       "4           네오★스노우화이트기지(62.0)→네오★스노우화이트기지(103.0)  103.0      NaN    NaN   \n",
       "5    네오★스노우화이트기지(103.0)→NEO★MATT 9+ R10기지(172.0)  172.0      NaN    NaN   \n",
       "..                                           ...    ...      ...    ...   \n",
       "796            네오★아트 R10기지(103.0)→네오★아트기지(134.0)  134.0  22914.0    NaN   \n",
       "797                네오★아트기지(134.0)→네오★아트기지(152.0)  152.0  22982.4    NaN   \n",
       "798                네오★아트기지(152.0)→네오★아트기지(169.0)  169.0  21598.2    NaN   \n",
       "799            네오★아트기지(169.0)→네오★아트 R10기지(216.0)  216.0      NaN    NaN   \n",
       "800            네오★아트 R10기지(216.0)→네오★아트기지(216.0)  216.0  20995.2    NaN   \n",
       "\n",
       "       파지량중량 Shift  ...    속도계산  \\\n",
       "1        NaN    갑반  ...     NaN   \n",
       "2    268.056    갑반  ...  1333.0   \n",
       "3    892.800    을반  ...  1170.0   \n",
       "4        NaN    을반  ...     NaN   \n",
       "5        NaN    병반  ...     NaN   \n",
       "..       ...   ...  ...     ...   \n",
       "796    9.648    병반  ...   982.0   \n",
       "797   10.944    병반  ...   864.0   \n",
       "798   12.168    갑반  ...   779.0   \n",
       "799      NaN    을반  ...     NaN   \n",
       "800   15.552    병반  ...   532.0   \n",
       "\n",
       "                                                  Note  HOLE 정보 M HOLE 정보 L  \\\n",
       "1    *150백상지->BP81(S/W) 지종교체.\\n -36, 38, 40Dry stea...        NaN       NaN   \n",
       "2    NO.1 77,000M감고파지.(평량교체)\\n평량:71.8, 두께:92.0, 인장강...        4.0       0.0   \n",
       "3    No.1 99500m 감고파지(평량교체)\\n1군 칸바스 날코 Coral 6cc/mi...        4.0       0.0   \n",
       "4                                        BP62 -> BP103        NaN       NaN   \n",
       "5                   *BP103 (S/W) -> BP172 (9+) 지종교체.\\n        NaN       NaN   \n",
       "..                                                 ...        ...       ...   \n",
       "796  NO.1 *실속도986 Pre 스팀2.9,Aft 스팀 1.05,Reel 수분 4.9...        0.0       0.0   \n",
       "797  NO.1 *실속도864 Pre 스팀3.3,Aft 스팀 1.28,Reel 수분 4.8...        NaN       NaN   \n",
       "798                          NO.1\\n\"바닥전수검사 실시.특이사항 없음\"        NaN       NaN   \n",
       "799  *BP169->BP216 평량교체 및 S/P Rod 15mm(0.25/0.30) 교...        NaN       NaN   \n",
       "800  NO.1 *동일지종 오더 변경함.\\n*27000M 감고 파지(스플부~5000M까지 ...        NaN       NaN   \n",
       "\n",
       "     HOLE 정보 XL  HOLE 정보 EC  HOLE 땜 정보 M  HOLE 땜 정보 L  HOLE 땜 정보 XL  \\\n",
       "1           NaN         NaN          NaN          NaN           NaN   \n",
       "2           0.0         0.0          0.0          0.0           1.0   \n",
       "3           0.0         0.0          0.0          0.0           0.0   \n",
       "4           NaN         NaN          NaN          NaN           NaN   \n",
       "5           NaN         NaN          NaN          NaN           NaN   \n",
       "..          ...         ...          ...          ...           ...   \n",
       "796         0.0         0.0          0.0          0.0           1.0   \n",
       "797         NaN         NaN          NaN          NaN           NaN   \n",
       "798         NaN         NaN          NaN          NaN           NaN   \n",
       "799         NaN         NaN          NaN          NaN           NaN   \n",
       "800         NaN         NaN          NaN          NaN           NaN   \n",
       "\n",
       "     HOLE 땜 정보 EC  \n",
       "1             NaN  \n",
       "2             0.0  \n",
       "3             0.0  \n",
       "4             NaN  \n",
       "5             NaN  \n",
       "..            ...  \n",
       "796           0.0  \n",
       "797           NaN  \n",
       "798           NaN  \n",
       "799           NaN  \n",
       "800           NaN  \n",
       "\n",
       "[800 rows x 22 columns]"
      ]
     },
     "execution_count": 72,
     "metadata": {},
     "output_type": "execute_result"
    }
   ],
   "source": [
    "df_change"
   ]
  },
  {
   "cell_type": "code",
   "execution_count": 73,
   "id": "4319d5be",
   "metadata": {},
   "outputs": [],
   "source": [
    "df_MES.set_index('작업시작시간', inplace=True)\n",
    "df_change.set_index('작업시작시간', inplace=True)"
   ]
  },
  {
   "cell_type": "code",
   "execution_count": 74,
   "id": "aabdb423",
   "metadata": {},
   "outputs": [],
   "source": [
    "df_MES.loc[df_MES.index.isin(df_change.index), '지종교체']=1"
   ]
  },
  {
   "cell_type": "code",
   "execution_count": 75,
   "id": "4dbb952a",
   "metadata": {},
   "outputs": [],
   "source": [
    "df_MES.index =pd.to_datetime(df_MES.index)"
   ]
  },
  {
   "cell_type": "code",
   "execution_count": 76,
   "id": "35b3f90b",
   "metadata": {},
   "outputs": [],
   "source": [
    "df_MES.interpolate('time', inplace=True)"
   ]
  },
  {
   "cell_type": "code",
   "execution_count": 77,
   "id": "d2c329a5",
   "metadata": {},
   "outputs": [],
   "source": [
    "df_MES.fillna(method='bfill', inplace=True)"
   ]
  },
  {
   "cell_type": "markdown",
   "id": "5ca9a2f5",
   "metadata": {},
   "source": [
    "단위를 10분으로 단축"
   ]
  },
  {
   "cell_type": "code",
   "execution_count": 78,
   "id": "a80c3ee5",
   "metadata": {},
   "outputs": [],
   "source": [
    "tags_QCS=[\n",
    "    '320PIC7509:me',\n",
    " '320PIC7510:me',\n",
    " '320PIC7511:me',\n",
    " 'PM3-S3SC.opr:me',\n",
    " '320PIC7513:me',\n",
    " '320PIC7514:me',\n",
    " 'PM3-S5SC.opr:me',\n",
    " '320PIC7524:me',\n",
    " '320PIC7533:me',\n",
    " '320PIC7544:me',\n",
    " '320PIC7505:me',\n",
    " '320PIC7506:me',\n",
    " '320PIC7507:me',\n",
    " '320PIC7508:me',\n",
    " '320PDC7516:me',\n",
    " '320PDC7518:me',\n",
    " '320PDV7519.1:av',\n",
    " '320PDC7520:me',\n",
    " '320PDV7522.1:av',\n",
    " '320HIC7501:av',\n",
    " '320TIA7504:av',\n",
    " '320TIA7530:av',\n",
    " '320TIA7541:av',\n",
    " '320TIA7542:av',\n",
    " '320TIC7523:me',\n",
    " '320PIC7524:me.1',\n",
    " '320TIC0004:me',\n",
    " '320TIC7540:me',\n",
    " '320TIC7545:me',\n",
    " 'PM3_BASIS_WEIGHT_SP',\n",
    " 'PM3_BASIS_WEIGHT_SP2',\n",
    " 'PM3_MOISTURE_SP',\n",
    " 'PM3_MOISTURE_SP2',\n",
    " '329-GIC1002:me',\n",
    " '329-PIC7030.A:me',\n",
    " '329-PIC7030.B:me',\n",
    " '320-PIC0501:me',\n",
    " 'PM3_WIRE_SPEED',\n",
    " 'PM3_ASH_PV',\n",
    " 'PM3_STOCK_CONSISTENCY_PV',\n",
    " 'PM3_STOCK_FLOW_PV',\n",
    " 'PM3-JWC1.opr:me',\n",
    " 'PM3-TSF1.opr:me',\n",
    " 'PM3-RLS1.opr:me',\n",
    " 'PM3-TASH.opr:me',\n",
    " '320LIC7524:me',\n",
    " '320LIC7525:me',\n",
    " '320LIC7526:me',\n",
    " '320LIC7527:me',\n",
    " '320LIC7528:me',\n",
    " '320LIC7529:me',\n",
    " '320LIC7537:me',\n",
    " '320LIC7529:me.1',\n",
    " '320LIC7528:me.1',\n",
    " '320LIC7527:me.1',\n",
    " '320LIC7526:me.1',\n",
    " '320LIC7525:me.1',\n",
    " '320FIA7531:av',\n",
    " '320FIA7535:av'\n",
    "]"
   ]
  },
  {
   "cell_type": "code",
   "execution_count": 79,
   "id": "9024517b",
   "metadata": {},
   "outputs": [],
   "source": [
    "df_event=df_MES[(df_MES['지종교체']==1) | (df_MES['지절']==1)]#백업"
   ]
  },
  {
   "cell_type": "code",
   "execution_count": 80,
   "id": "8a3ce321",
   "metadata": {},
   "outputs": [],
   "source": [
    "df_MES.drop(df_event.index, inplace=True)"
   ]
  },
  {
   "cell_type": "code",
   "execution_count": 81,
   "id": "58379d1a",
   "metadata": {},
   "outputs": [],
   "source": [
    "df_MES_10T= df_MES[tags_QCS].resample('10T').mean()"
   ]
  },
  {
   "cell_type": "code",
   "execution_count": 82,
   "id": "fe91345d",
   "metadata": {},
   "outputs": [],
   "source": [
    "df_MES_10T[['지종교체','지종','평량','지절']] = df_MES[['지종교체','지종','평량','지절']].resample('10T').first()"
   ]
  },
  {
   "cell_type": "code",
   "execution_count": 83,
   "id": "33cdaae8",
   "metadata": {},
   "outputs": [],
   "source": [
    "tag = ['지종교체','지종','평량','지절']+tags_QCS"
   ]
  },
  {
   "cell_type": "code",
   "execution_count": 84,
   "id": "13698b14",
   "metadata": {},
   "outputs": [],
   "source": [
    "df_MES_10T = pd.concat([df_MES_10T, df_event[tag]]) #10분 줄이고 이벤트 합침"
   ]
  },
  {
   "cell_type": "markdown",
   "id": "5401cbc4",
   "metadata": {},
   "source": [
    "데이터를 지종교체시간 기준 앞위 1시간으로 구성"
   ]
  },
  {
   "cell_type": "code",
   "execution_count": 85,
   "id": "e36694c0",
   "metadata": {},
   "outputs": [],
   "source": [
    "df_event.reset_index(inplace=True)"
   ]
  },
  {
   "cell_type": "code",
   "execution_count": 86,
   "id": "9bd82905",
   "metadata": {},
   "outputs": [],
   "source": [
    "df_MES_10T.reset_index(inplace=True)"
   ]
  },
  {
   "cell_type": "code",
   "execution_count": 87,
   "id": "9185a2fe",
   "metadata": {},
   "outputs": [],
   "source": [
    "temp=df_event['작업시작시간'].to_frame()"
   ]
  },
  {
   "cell_type": "code",
   "execution_count": 88,
   "id": "6a817913",
   "metadata": {},
   "outputs": [],
   "source": [
    "temp['작업시작 전'] = df_event['작업시작시간']+ timedelta(minutes=-60)\n",
    "temp['작업시작 후'] = df_event['작업시작시간']+ timedelta(minutes=+60)"
   ]
  },
  {
   "cell_type": "code",
   "execution_count": 89,
   "id": "7e8bd521",
   "metadata": {
    "scrolled": false
   },
   "outputs": [
    {
     "data": {
      "text/html": [
       "<div>\n",
       "<style scoped>\n",
       "    .dataframe tbody tr th:only-of-type {\n",
       "        vertical-align: middle;\n",
       "    }\n",
       "\n",
       "    .dataframe tbody tr th {\n",
       "        vertical-align: top;\n",
       "    }\n",
       "\n",
       "    .dataframe thead th {\n",
       "        text-align: right;\n",
       "    }\n",
       "</style>\n",
       "<table border=\"1\" class=\"dataframe\">\n",
       "  <thead>\n",
       "    <tr style=\"text-align: right;\">\n",
       "      <th></th>\n",
       "      <th>작업시작시간</th>\n",
       "      <th>작업시작 전</th>\n",
       "      <th>작업시작 후</th>\n",
       "    </tr>\n",
       "  </thead>\n",
       "  <tbody>\n",
       "    <tr>\n",
       "      <th>0</th>\n",
       "      <td>2022-01-01 07:57:00</td>\n",
       "      <td>2022-01-01 06:57:00</td>\n",
       "      <td>2022-01-01 08:57:00</td>\n",
       "    </tr>\n",
       "    <tr>\n",
       "      <th>1</th>\n",
       "      <td>2022-01-01 13:48:00</td>\n",
       "      <td>2022-01-01 12:48:00</td>\n",
       "      <td>2022-01-01 14:48:00</td>\n",
       "    </tr>\n",
       "    <tr>\n",
       "      <th>2</th>\n",
       "      <td>2022-01-01 13:48:00</td>\n",
       "      <td>2022-01-01 12:48:00</td>\n",
       "      <td>2022-01-01 14:48:00</td>\n",
       "    </tr>\n",
       "    <tr>\n",
       "      <th>3</th>\n",
       "      <td>2022-01-01 16:41:00</td>\n",
       "      <td>2022-01-01 15:41:00</td>\n",
       "      <td>2022-01-01 17:41:00</td>\n",
       "    </tr>\n",
       "    <tr>\n",
       "      <th>4</th>\n",
       "      <td>2022-01-01 16:41:00</td>\n",
       "      <td>2022-01-01 15:41:00</td>\n",
       "      <td>2022-01-01 17:41:00</td>\n",
       "    </tr>\n",
       "    <tr>\n",
       "      <th>...</th>\n",
       "      <td>...</td>\n",
       "      <td>...</td>\n",
       "      <td>...</td>\n",
       "    </tr>\n",
       "    <tr>\n",
       "      <th>1839</th>\n",
       "      <td>2022-07-31 01:23:00</td>\n",
       "      <td>2022-07-31 00:23:00</td>\n",
       "      <td>2022-07-31 02:23:00</td>\n",
       "    </tr>\n",
       "    <tr>\n",
       "      <th>1840</th>\n",
       "      <td>2022-07-31 03:51:00</td>\n",
       "      <td>2022-07-31 02:51:00</td>\n",
       "      <td>2022-07-31 04:51:00</td>\n",
       "    </tr>\n",
       "    <tr>\n",
       "      <th>1841</th>\n",
       "      <td>2022-07-31 12:03:00</td>\n",
       "      <td>2022-07-31 11:03:00</td>\n",
       "      <td>2022-07-31 13:03:00</td>\n",
       "    </tr>\n",
       "    <tr>\n",
       "      <th>1842</th>\n",
       "      <td>2022-07-31 16:37:00</td>\n",
       "      <td>2022-07-31 15:37:00</td>\n",
       "      <td>2022-07-31 17:37:00</td>\n",
       "    </tr>\n",
       "    <tr>\n",
       "      <th>1843</th>\n",
       "      <td>2022-08-01 00:58:00</td>\n",
       "      <td>2022-07-31 23:58:00</td>\n",
       "      <td>2022-08-01 01:58:00</td>\n",
       "    </tr>\n",
       "  </tbody>\n",
       "</table>\n",
       "<p>1844 rows × 3 columns</p>\n",
       "</div>"
      ],
      "text/plain": [
       "                  작업시작시간              작업시작 전              작업시작 후\n",
       "0    2022-01-01 07:57:00 2022-01-01 06:57:00 2022-01-01 08:57:00\n",
       "1    2022-01-01 13:48:00 2022-01-01 12:48:00 2022-01-01 14:48:00\n",
       "2    2022-01-01 13:48:00 2022-01-01 12:48:00 2022-01-01 14:48:00\n",
       "3    2022-01-01 16:41:00 2022-01-01 15:41:00 2022-01-01 17:41:00\n",
       "4    2022-01-01 16:41:00 2022-01-01 15:41:00 2022-01-01 17:41:00\n",
       "...                  ...                 ...                 ...\n",
       "1839 2022-07-31 01:23:00 2022-07-31 00:23:00 2022-07-31 02:23:00\n",
       "1840 2022-07-31 03:51:00 2022-07-31 02:51:00 2022-07-31 04:51:00\n",
       "1841 2022-07-31 12:03:00 2022-07-31 11:03:00 2022-07-31 13:03:00\n",
       "1842 2022-07-31 16:37:00 2022-07-31 15:37:00 2022-07-31 17:37:00\n",
       "1843 2022-08-01 00:58:00 2022-07-31 23:58:00 2022-08-01 01:58:00\n",
       "\n",
       "[1844 rows x 3 columns]"
      ]
     },
     "execution_count": 89,
     "metadata": {},
     "output_type": "execute_result"
    }
   ],
   "source": [
    "temp"
   ]
  },
  {
   "cell_type": "code",
   "execution_count": 90,
   "id": "be3dfd2f",
   "metadata": {
    "scrolled": true
   },
   "outputs": [
    {
     "name": "stderr",
     "output_type": "stream",
     "text": [
      "100%|█████████████████████████████████████████████████████████████████████████████| 1844/1844 [00:07<00:00, 240.25it/s]\n"
     ]
    }
   ],
   "source": [
    "df_MES_temp=pd.DataFrame()\n",
    "\n",
    "for i in tqdm(range(len(temp))):\n",
    "    df_MES_temp=pd.concat([df_MES_temp, df_MES_10T[(temp.loc[i,'작업시작 전']<=df_MES_10T['작업시작시간']) & (temp.loc[i,'작업시작 후']>=df_MES_10T['작업시작시간'])]])"
   ]
  },
  {
   "cell_type": "markdown",
   "id": "635eb7e5",
   "metadata": {},
   "source": [
    "시각화(지종교체, 지절 횟수)"
   ]
  },
  {
   "cell_type": "code",
   "execution_count": 91,
   "id": "afabca10",
   "metadata": {},
   "outputs": [],
   "source": [
    "count = temp1.groupby('지종').size().reset_index(name='횟수')"
   ]
  },
  {
   "cell_type": "code",
   "execution_count": 92,
   "id": "eebf9e6a",
   "metadata": {},
   "outputs": [
    {
     "data": {
      "text/html": [
       "<div>\n",
       "<style scoped>\n",
       "    .dataframe tbody tr th:only-of-type {\n",
       "        vertical-align: middle;\n",
       "    }\n",
       "\n",
       "    .dataframe tbody tr th {\n",
       "        vertical-align: top;\n",
       "    }\n",
       "\n",
       "    .dataframe thead th {\n",
       "        text-align: right;\n",
       "    }\n",
       "</style>\n",
       "<table border=\"1\" class=\"dataframe\">\n",
       "  <thead>\n",
       "    <tr style=\"text-align: right;\">\n",
       "      <th></th>\n",
       "      <th>지종</th>\n",
       "      <th>횟수</th>\n",
       "    </tr>\n",
       "  </thead>\n",
       "  <tbody>\n",
       "    <tr>\n",
       "      <th>143</th>\n",
       "      <td>네오★쇼핑백기지(113.0)→네오★쇼핑백기지(133.0)</td>\n",
       "      <td>11</td>\n",
       "    </tr>\n",
       "    <tr>\n",
       "      <th>122</th>\n",
       "      <td>네오★백상쇼핑백(140.0)→네오★백상쇼핑백(160.0)</td>\n",
       "      <td>11</td>\n",
       "    </tr>\n",
       "    <tr>\n",
       "      <th>331</th>\n",
       "      <td>네오★아트 R10기지(216.0)→네오★아트기지(198.0)</td>\n",
       "      <td>10</td>\n",
       "    </tr>\n",
       "    <tr>\n",
       "      <th>189</th>\n",
       "      <td>네오★스노우화이트기지(103.0)→NEO★MATT 9+ R10기지(172.0)</td>\n",
       "      <td>10</td>\n",
       "    </tr>\n",
       "    <tr>\n",
       "      <th>442</th>\n",
       "      <td>네오★파워쇼핑백기지(103.0)→네오★파워쇼핑백기지(123.0)</td>\n",
       "      <td>9</td>\n",
       "    </tr>\n",
       "    <tr>\n",
       "      <th>...</th>\n",
       "      <td>...</td>\n",
       "      <td>...</td>\n",
       "    </tr>\n",
       "    <tr>\n",
       "      <th>169</th>\n",
       "      <td>네오★스노우화이트 R10기지(67.0)→네오★백상(100.0)</td>\n",
       "      <td>1</td>\n",
       "    </tr>\n",
       "    <tr>\n",
       "      <th>168</th>\n",
       "      <td>네오★스노우화이트 R10기지(56.0)→네오★스노우화이트기지(62.0)</td>\n",
       "      <td>1</td>\n",
       "    </tr>\n",
       "    <tr>\n",
       "      <th>167</th>\n",
       "      <td>네오★스노우화이트 R10기지(103.0)→네오★아트기지(77.0)</td>\n",
       "      <td>1</td>\n",
       "    </tr>\n",
       "    <tr>\n",
       "      <th>163</th>\n",
       "      <td>네오★스노우화이트 R10기지(103.0)→네오★스노우화이트기지(103.0)</td>\n",
       "      <td>1</td>\n",
       "    </tr>\n",
       "    <tr>\n",
       "      <th>226</th>\n",
       "      <td>네오★스노우화이트기지(73.0)→네오★스노우화이트 R10기지(56.0)</td>\n",
       "      <td>1</td>\n",
       "    </tr>\n",
       "  </tbody>\n",
       "</table>\n",
       "<p>452 rows × 2 columns</p>\n",
       "</div>"
      ],
      "text/plain": [
       "                                              지종  횟수\n",
       "143              네오★쇼핑백기지(113.0)→네오★쇼핑백기지(133.0)  11\n",
       "122              네오★백상쇼핑백(140.0)→네오★백상쇼핑백(160.0)  11\n",
       "331            네오★아트 R10기지(216.0)→네오★아트기지(198.0)  10\n",
       "189  네오★스노우화이트기지(103.0)→NEO★MATT 9+ R10기지(172.0)  10\n",
       "442          네오★파워쇼핑백기지(103.0)→네오★파워쇼핑백기지(123.0)   9\n",
       "..                                           ...  ..\n",
       "169           네오★스노우화이트 R10기지(67.0)→네오★백상(100.0)   1\n",
       "168      네오★스노우화이트 R10기지(56.0)→네오★스노우화이트기지(62.0)   1\n",
       "167         네오★스노우화이트 R10기지(103.0)→네오★아트기지(77.0)   1\n",
       "163    네오★스노우화이트 R10기지(103.0)→네오★스노우화이트기지(103.0)   1\n",
       "226      네오★스노우화이트기지(73.0)→네오★스노우화이트 R10기지(56.0)   1\n",
       "\n",
       "[452 rows x 2 columns]"
      ]
     },
     "execution_count": 92,
     "metadata": {},
     "output_type": "execute_result"
    }
   ],
   "source": [
    "count.sort_values('횟수', ascending=False)"
   ]
  },
  {
   "cell_type": "code",
   "execution_count": 93,
   "id": "6c49512e",
   "metadata": {},
   "outputs": [],
   "source": [
    "broken=temp1[temp1['지절']==1]"
   ]
  },
  {
   "cell_type": "code",
   "execution_count": 94,
   "id": "05afb0c1",
   "metadata": {},
   "outputs": [],
   "source": [
    "broken_count=broken.groupby('지종').size().reset_index(name='횟수')"
   ]
  },
  {
   "cell_type": "code",
   "execution_count": 95,
   "id": "97c9cfe3",
   "metadata": {},
   "outputs": [],
   "source": [
    "count=pd.merge(count, broken_count, on='지종', how='left')"
   ]
  },
  {
   "cell_type": "code",
   "execution_count": 96,
   "id": "8be6eafc",
   "metadata": {},
   "outputs": [],
   "source": [
    "count.columns=['지종', '횟수', '지절 횟수']"
   ]
  },
  {
   "cell_type": "code",
   "execution_count": 97,
   "id": "e339fae3",
   "metadata": {},
   "outputs": [],
   "source": [
    "count['지절 횟수'].fillna(0, inplace=True)"
   ]
  },
  {
   "cell_type": "code",
   "execution_count": 98,
   "id": "d515142d",
   "metadata": {},
   "outputs": [],
   "source": [
    "temp1=count[count['지절 횟수']!=0]"
   ]
  },
  {
   "cell_type": "code",
   "execution_count": 99,
   "id": "7fccdc16",
   "metadata": {},
   "outputs": [],
   "source": [
    "temp1.reset_index(drop=True, inplace=True)"
   ]
  },
  {
   "cell_type": "code",
   "execution_count": 100,
   "id": "0e484711",
   "metadata": {
    "scrolled": false
   },
   "outputs": [
    {
     "data": {
      "image/png": "[encoded data removed]",
      "text/plain": [
       "<Figure size 432x288 with 1 Axes>"
      ]
     },
     "metadata": {
      "needs_background": "light"
     },
     "output_type": "display_data"
    }
   ],
   "source": [
    "ind = np.arange(len(temp1))\n",
    "width = 0.35\n",
    "\n",
    "p1 = plt.barh(ind+0.2, temp1['횟수'], width, color='salmon')\n",
    "p2 = plt.barh(ind-0.2, temp1['지절 횟수'], width, color='skyblue')\n",
    "\n",
    "plt.yticks(ind, (temp1['지종']))\n",
    "plt.legend((p1[0], p2[0]), ('횟수', '지절 횟수'))\n",
    "plt.grid(color='gray', linestyle='dashed', linewidth=0.5)\n",
    "\n",
    "plt.show()"
   ]
  },
  {
   "cell_type": "markdown",
   "id": "b3163a14",
   "metadata": {},
   "source": [
    "## 분석"
   ]
  },
  {
   "cell_type": "markdown",
   "id": "a86731fb",
   "metadata": {},
   "source": [
    "상관성 분석"
   ]
  },
  {
   "cell_type": "code",
   "execution_count": 107,
   "id": "1b65236b",
   "metadata": {
    "scrolled": true
   },
   "outputs": [],
   "source": [
    "target = list(df_MES_temp.columns)"
   ]
  },
  {
   "cell_type": "code",
   "execution_count": 108,
   "id": "6ceb10fb",
   "metadata": {
    "scrolled": true
   },
   "outputs": [
    {
     "data": {
      "text/html": [
       "<div>\n",
       "<style scoped>\n",
       "    .dataframe tbody tr th:only-of-type {\n",
       "        vertical-align: middle;\n",
       "    }\n",
       "\n",
       "    .dataframe tbody tr th {\n",
       "        vertical-align: top;\n",
       "    }\n",
       "\n",
       "    .dataframe thead th {\n",
       "        text-align: right;\n",
       "    }\n",
       "</style>\n",
       "<table border=\"1\" class=\"dataframe\">\n",
       "  <thead>\n",
       "    <tr style=\"text-align: right;\">\n",
       "      <th></th>\n",
       "      <th>Corr</th>\n",
       "      <th>P-val</th>\n",
       "      <th>Corr_abs</th>\n",
       "    </tr>\n",
       "  </thead>\n",
       "  <tbody>\n",
       "  </tbody>\n",
       "</table>\n",
       "</div>"
      ],
      "text/plain": [
       "Empty DataFrame\n",
       "Columns: [Corr, P-val, Corr_abs]\n",
       "Index: []"
      ]
     },
     "execution_count": 108,
     "metadata": {},
     "output_type": "execute_result"
    }
   ],
   "source": [
    "y = df_MES_temp.loc[:, '지종교체'].values\n",
    "temp=pd.DataFrame(columns=['Corr', 'P-val'])\n",
    "\n",
    "tags = target\n",
    "tags.remove('지종교체')\n",
    "tags.remove('작업시작시간')\n",
    "tags.remove('지종')\n",
    "tags.remove('평량')\n",
    "tags.remove('지절')\n",
    "\n",
    "for item in tags:\n",
    "    X = df_MES_temp.loc[:, item].values\n",
    "    if (stats.spearmanr(X,y)[1]<0.05) and (stats.spearmanr(X,y)[1]>0.001):\n",
    "        temp.loc[item] = [stats.spearmanr(X, y)[0], stats.spearmanr(X, y)[1]]\n",
    "\n",
    "\n",
    "temp['Corr_abs'] = abs(temp['Corr'])\n",
    "target = list(temp.index)\n",
    "\n",
    "temp.sort_values(by = 'Corr_abs', ascending=False)"
   ]
  },
  {
   "attachments": {},
   "cell_type": "markdown",
   "id": "a6b1cbd1",
   "metadata": {},
   "source": [
    "320TIA7541:av ☞Steam line  \n",
    "320PIC7509:me ☞1st dry group  \n",
    "320TIC7523:me ☞Condenser  \n",
    "PM3_MOISTURE_SP ☞2nd end-dry group  \n",
    "320LIC7525:me ☞2nd condensate  \n",
    "320LIC7525:me.1  \n",
    "PM3_BASIS_WEIGHT_SP\t☞Basis Weight SP  \n",
    "320PIC7510:me ☞2nd pre-dry group  \n",
    "320PIC7511:me ☞2nd pre-dry group  \n",
    "320PDC7518:me ☞2nd end-dry group  \n",
    "PM3_BASIS_WEIGHT_SP2 ☞Basis Weight SP  \n",
    "PM3-TSF1.opr:me ☞stock flow"
   ]
  },
  {
   "cell_type": "markdown",
   "id": "d2d5f6ab",
   "metadata": {},
   "source": [
    "시각화"
   ]
  },
  {
   "cell_type": "code",
   "execution_count": 49,
   "id": "70c279d9",
   "metadata": {},
   "outputs": [
    {
     "data": {
      "image/png": "[encoded data removed]",
      "text/plain": [
       "<Figure size 1440x576 with 7 Axes>"
      ]
     },
     "metadata": {
      "needs_background": "light"
     },
     "output_type": "display_data"
    }
   ],
   "source": [
    "t=['작업시작시간','지종교체','지절','320TIA7541:av']\n",
    "temp = df_MES_temp[t]\n",
    "\n",
    "plt.figure(figsize=(20,8), constrained_layout = True)\n",
    "for i in range(1,8):\n",
    "    df_temp = temp.loc[temp['작업시작시간'].dt.month==i,:]\n",
    "\n",
    "    plt.subplot(2,4, i)\n",
    "    plt.plot(df_temp['작업시작시간'],df_temp['320TIA7541:av'])\n",
    "    \n",
    "    for i in (df_temp.loc[df_temp['지절']==1, '작업시작시간']):\n",
    "        plt.axvline(i, color='yellow', alpha=0.5)\n",
    "\n",
    "    plt.suptitle(t, size=20)\n",
    "    plt.xticks(rotation=45)\n",
    "    plt.grid()\n",
    "\n",
    "plt.show()"
   ]
  },
  {
   "cell_type": "code",
   "execution_count": 50,
   "id": "48b27f86",
   "metadata": {
    "scrolled": true
   },
   "outputs": [
    {
     "data": {
      "text/plain": [
       "{'whiskers': [<matplotlib.lines.Line2D at 0x2039ed624c0>,\n",
       "  <matplotlib.lines.Line2D at 0x2039ed62790>],\n",
       " 'caps': [<matplotlib.lines.Line2D at 0x2039ed62a90>,\n",
       "  <matplotlib.lines.Line2D at 0x2039ed62d60>],\n",
       " 'boxes': [<matplotlib.lines.Line2D at 0x2039ed621f0>],\n",
       " 'medians': [<matplotlib.lines.Line2D at 0x2039ed70070>],\n",
       " 'fliers': [<matplotlib.lines.Line2D at 0x2039ed70340>],\n",
       " 'means': []}"
      ]
     },
     "execution_count": 50,
     "metadata": {},
     "output_type": "execute_result"
    },
    {
     "data": {
      "image/png": "[encoded data removed]",
      "text/plain": [
       "<Figure size 432x288 with 1 Axes>"
      ]
     },
     "metadata": {
      "needs_background": "light"
     },
     "output_type": "display_data"
    }
   ],
   "source": [
    "plt.boxplot(df_MES_temp['320TIA7541:av'])"
   ]
  },
  {
   "cell_type": "code",
   "execution_count": 51,
   "id": "a6523545",
   "metadata": {},
   "outputs": [],
   "source": [
    "data_copy = df_MES_temp.copy()\n",
    "\n",
    "def remove_outlier(data, columns):\n",
    "    after = pd.DataFrame()\n",
    "    befor = data[columns]\n",
    "    for col in columns:\n",
    "        IQR = befor[col].quantile(0.75) - befor[col].quantile(0.25) \n",
    "        lowest = befor[col].quantile(0.25) - IQR*1.5\n",
    "        highest = befor[col].quantile(0.75) + IQR*1.5\n",
    "\n",
    "        after[col] = befor[col].clip(lowest, highest)\n",
    "        \n",
    "    return after\n",
    "\n",
    "df_MES_temp[tags_QCS] = remove_outlier(data_copy, tags_QCS)"
   ]
  },
  {
   "cell_type": "code",
   "execution_count": 52,
   "id": "879ac1cd",
   "metadata": {
    "scrolled": true
   },
   "outputs": [
    {
     "data": {
      "text/plain": [
       "{'whiskers': [<matplotlib.lines.Line2D at 0x2039ddbff70>,\n",
       "  <matplotlib.lines.Line2D at 0x2039ddb2280>],\n",
       " 'caps': [<matplotlib.lines.Line2D at 0x2039ddb2550>,\n",
       "  <matplotlib.lines.Line2D at 0x2039ddb2820>],\n",
       " 'boxes': [<matplotlib.lines.Line2D at 0x2039ddbfca0>],\n",
       " 'medians': [<matplotlib.lines.Line2D at 0x2039ddb2af0>],\n",
       " 'fliers': [<matplotlib.lines.Line2D at 0x2039ddb2dc0>],\n",
       " 'means': []}"
      ]
     },
     "execution_count": 52,
     "metadata": {},
     "output_type": "execute_result"
    },
    {
     "data": {
      "image/png": "[encoded data removed]",
      "text/plain": [
       "<Figure size 432x288 with 1 Axes>"
      ]
     },
     "metadata": {
      "needs_background": "light"
     },
     "output_type": "display_data"
    }
   ],
   "source": [
    "plt.boxplot(df_MES_temp['320TIA7541:av'])"
   ]
  },
  {
   "cell_type": "code",
   "execution_count": 53,
   "id": "d9fed301",
   "metadata": {
    "scrolled": true
   },
   "outputs": [
    {
     "data": {
      "text/html": [
       "<div>\n",
       "<style scoped>\n",
       "    .dataframe tbody tr th:only-of-type {\n",
       "        vertical-align: middle;\n",
       "    }\n",
       "\n",
       "    .dataframe tbody tr th {\n",
       "        vertical-align: top;\n",
       "    }\n",
       "\n",
       "    .dataframe thead th {\n",
       "        text-align: right;\n",
       "    }\n",
       "</style>\n",
       "<table border=\"1\" class=\"dataframe\">\n",
       "  <thead>\n",
       "    <tr style=\"text-align: right;\">\n",
       "      <th></th>\n",
       "      <th>Corr</th>\n",
       "      <th>P-val</th>\n",
       "      <th>Corr_abs</th>\n",
       "    </tr>\n",
       "  </thead>\n",
       "  <tbody>\n",
       "  </tbody>\n",
       "</table>\n",
       "</div>"
      ],
      "text/plain": [
       "Empty DataFrame\n",
       "Columns: [Corr, P-val, Corr_abs]\n",
       "Index: []"
      ]
     },
     "execution_count": 53,
     "metadata": {},
     "output_type": "execute_result"
    }
   ],
   "source": [
    "y = df_MES_temp.loc[:, '지종교체'].values\n",
    "temp=pd.DataFrame(columns=['Corr', 'P-val'])\n",
    "\n",
    "tags = tags_QCS+['지절']\n",
    "\n",
    "for item in tags:\n",
    "    X = df_MES_temp.loc[:, item].values\n",
    "    if (stats.spearmanr(X,y)[1]<0.05) and (stats.spearmanr(X,y)[1]>0.001):\n",
    "        temp.loc[item] = [stats.spearmanr(X, y)[0], stats.spearmanr(X, y)[1]]\n",
    "\n",
    "\n",
    "temp['Corr_abs'] = abs(temp['Corr'])\n",
    "target = list(temp.index)\n",
    "\n",
    "temp.sort_values(by = 'Corr_abs', ascending=False)"
   ]
  },
  {
   "cell_type": "code",
   "execution_count": 54,
   "id": "5563e420",
   "metadata": {
    "scrolled": true
   },
   "outputs": [
    {
     "data": {
      "text/html": [
       "<div>\n",
       "<style scoped>\n",
       "    .dataframe tbody tr th:only-of-type {\n",
       "        vertical-align: middle;\n",
       "    }\n",
       "\n",
       "    .dataframe tbody tr th {\n",
       "        vertical-align: top;\n",
       "    }\n",
       "\n",
       "    .dataframe thead th {\n",
       "        text-align: right;\n",
       "    }\n",
       "</style>\n",
       "<table border=\"1\" class=\"dataframe\">\n",
       "  <thead>\n",
       "    <tr style=\"text-align: right;\">\n",
       "      <th></th>\n",
       "      <th>작업시작시간</th>\n",
       "      <th>320PIC7509:me</th>\n",
       "      <th>320PIC7510:me</th>\n",
       "      <th>320PIC7511:me</th>\n",
       "      <th>PM3-S3SC.opr:me</th>\n",
       "      <th>320PIC7513:me</th>\n",
       "      <th>320PIC7514:me</th>\n",
       "      <th>PM3-S5SC.opr:me</th>\n",
       "      <th>320PIC7524:me</th>\n",
       "      <th>320PIC7533:me</th>\n",
       "      <th>...</th>\n",
       "      <th>320LIC7528:me.1</th>\n",
       "      <th>320LIC7527:me.1</th>\n",
       "      <th>320LIC7526:me.1</th>\n",
       "      <th>320LIC7525:me.1</th>\n",
       "      <th>320FIA7531:av</th>\n",
       "      <th>320FIA7535:av</th>\n",
       "      <th>지종교체</th>\n",
       "      <th>지종</th>\n",
       "      <th>평량</th>\n",
       "      <th>지절</th>\n",
       "    </tr>\n",
       "  </thead>\n",
       "  <tbody>\n",
       "    <tr>\n",
       "      <th>30542</th>\n",
       "      <td>2022-01-05 11:02:00</td>\n",
       "      <td>1.50</td>\n",
       "      <td>2.14</td>\n",
       "      <td>3.57</td>\n",
       "      <td>4.76</td>\n",
       "      <td>0.42</td>\n",
       "      <td>1.38</td>\n",
       "      <td>0.810000</td>\n",
       "      <td>-0.44</td>\n",
       "      <td>7.36</td>\n",
       "      <td>...</td>\n",
       "      <td>57.26</td>\n",
       "      <td>48.30</td>\n",
       "      <td>50.230000</td>\n",
       "      <td>51.106667</td>\n",
       "      <td>20.00</td>\n",
       "      <td>18.0</td>\n",
       "      <td>1.0</td>\n",
       "      <td>네오★아트 R10기지</td>\n",
       "      <td>103.0</td>\n",
       "      <td>1.0</td>\n",
       "    </tr>\n",
       "    <tr>\n",
       "      <th>30543</th>\n",
       "      <td>2022-01-05 11:03:00</td>\n",
       "      <td>1.47</td>\n",
       "      <td>1.91</td>\n",
       "      <td>3.22</td>\n",
       "      <td>4.08</td>\n",
       "      <td>0.55</td>\n",
       "      <td>1.76</td>\n",
       "      <td>1.590000</td>\n",
       "      <td>-0.44</td>\n",
       "      <td>7.87</td>\n",
       "      <td>...</td>\n",
       "      <td>57.09</td>\n",
       "      <td>48.60</td>\n",
       "      <td>40.204813</td>\n",
       "      <td>51.360000</td>\n",
       "      <td>19.56</td>\n",
       "      <td>18.0</td>\n",
       "      <td>0.0</td>\n",
       "      <td>네오★아트 R10기지</td>\n",
       "      <td>103.0</td>\n",
       "      <td>1.0</td>\n",
       "    </tr>\n",
       "    <tr>\n",
       "      <th>30544</th>\n",
       "      <td>2022-01-05 11:04:00</td>\n",
       "      <td>1.38</td>\n",
       "      <td>1.70</td>\n",
       "      <td>2.85</td>\n",
       "      <td>3.69</td>\n",
       "      <td>0.53</td>\n",
       "      <td>1.64</td>\n",
       "      <td>1.589167</td>\n",
       "      <td>-0.44</td>\n",
       "      <td>7.92</td>\n",
       "      <td>...</td>\n",
       "      <td>56.21</td>\n",
       "      <td>48.47</td>\n",
       "      <td>43.170000</td>\n",
       "      <td>50.620000</td>\n",
       "      <td>14.18</td>\n",
       "      <td>18.0</td>\n",
       "      <td>0.0</td>\n",
       "      <td>네오★아트 R10기지</td>\n",
       "      <td>103.0</td>\n",
       "      <td>1.0</td>\n",
       "    </tr>\n",
       "    <tr>\n",
       "      <th>30545</th>\n",
       "      <td>2022-01-05 11:05:00</td>\n",
       "      <td>1.27</td>\n",
       "      <td>1.55</td>\n",
       "      <td>2.57</td>\n",
       "      <td>3.63</td>\n",
       "      <td>0.56</td>\n",
       "      <td>1.59</td>\n",
       "      <td>1.588333</td>\n",
       "      <td>-0.44</td>\n",
       "      <td>7.86</td>\n",
       "      <td>...</td>\n",
       "      <td>56.12</td>\n",
       "      <td>48.34</td>\n",
       "      <td>58.485312</td>\n",
       "      <td>50.330000</td>\n",
       "      <td>1.06</td>\n",
       "      <td>18.0</td>\n",
       "      <td>0.0</td>\n",
       "      <td>네오★아트 R10기지</td>\n",
       "      <td>103.0</td>\n",
       "      <td>1.0</td>\n",
       "    </tr>\n",
       "    <tr>\n",
       "      <th>30546</th>\n",
       "      <td>2022-01-05 11:06:00</td>\n",
       "      <td>1.16</td>\n",
       "      <td>1.40</td>\n",
       "      <td>2.34</td>\n",
       "      <td>3.57</td>\n",
       "      <td>0.60</td>\n",
       "      <td>1.58</td>\n",
       "      <td>1.587500</td>\n",
       "      <td>-0.44</td>\n",
       "      <td>7.57</td>\n",
       "      <td>...</td>\n",
       "      <td>55.38</td>\n",
       "      <td>48.21</td>\n",
       "      <td>58.485312</td>\n",
       "      <td>52.600000</td>\n",
       "      <td>5.99</td>\n",
       "      <td>18.0</td>\n",
       "      <td>0.0</td>\n",
       "      <td>네오★아트 R10기지</td>\n",
       "      <td>103.0</td>\n",
       "      <td>1.0</td>\n",
       "    </tr>\n",
       "    <tr>\n",
       "      <th>...</th>\n",
       "      <td>...</td>\n",
       "      <td>...</td>\n",
       "      <td>...</td>\n",
       "      <td>...</td>\n",
       "      <td>...</td>\n",
       "      <td>...</td>\n",
       "      <td>...</td>\n",
       "      <td>...</td>\n",
       "      <td>...</td>\n",
       "      <td>...</td>\n",
       "      <td>...</td>\n",
       "      <td>...</td>\n",
       "      <td>...</td>\n",
       "      <td>...</td>\n",
       "      <td>...</td>\n",
       "      <td>...</td>\n",
       "      <td>...</td>\n",
       "      <td>...</td>\n",
       "      <td>...</td>\n",
       "      <td>...</td>\n",
       "      <td>...</td>\n",
       "    </tr>\n",
       "    <tr>\n",
       "      <th>32324</th>\n",
       "      <td>2022-07-25 02:45:00</td>\n",
       "      <td>1.50</td>\n",
       "      <td>2.11</td>\n",
       "      <td>3.53</td>\n",
       "      <td>4.69</td>\n",
       "      <td>1.06</td>\n",
       "      <td>2.14</td>\n",
       "      <td>1.600000</td>\n",
       "      <td>0.33</td>\n",
       "      <td>7.53</td>\n",
       "      <td>...</td>\n",
       "      <td>53.60</td>\n",
       "      <td>68.74</td>\n",
       "      <td>50.130000</td>\n",
       "      <td>47.110000</td>\n",
       "      <td>20.00</td>\n",
       "      <td>18.0</td>\n",
       "      <td>0.0</td>\n",
       "      <td>네오★백상</td>\n",
       "      <td>80.0</td>\n",
       "      <td>1.0</td>\n",
       "    </tr>\n",
       "    <tr>\n",
       "      <th>32325</th>\n",
       "      <td>2022-07-25 02:46:00</td>\n",
       "      <td>1.50</td>\n",
       "      <td>2.11</td>\n",
       "      <td>3.53</td>\n",
       "      <td>4.69</td>\n",
       "      <td>1.06</td>\n",
       "      <td>2.14</td>\n",
       "      <td>1.600000</td>\n",
       "      <td>0.33</td>\n",
       "      <td>7.53</td>\n",
       "      <td>...</td>\n",
       "      <td>53.60</td>\n",
       "      <td>68.74</td>\n",
       "      <td>50.130000</td>\n",
       "      <td>47.110000</td>\n",
       "      <td>20.00</td>\n",
       "      <td>18.0</td>\n",
       "      <td>0.0</td>\n",
       "      <td>네오★백상</td>\n",
       "      <td>80.0</td>\n",
       "      <td>1.0</td>\n",
       "    </tr>\n",
       "    <tr>\n",
       "      <th>32326</th>\n",
       "      <td>2022-07-25 02:47:00</td>\n",
       "      <td>1.50</td>\n",
       "      <td>2.11</td>\n",
       "      <td>3.53</td>\n",
       "      <td>4.69</td>\n",
       "      <td>1.06</td>\n",
       "      <td>2.14</td>\n",
       "      <td>1.600000</td>\n",
       "      <td>0.33</td>\n",
       "      <td>7.53</td>\n",
       "      <td>...</td>\n",
       "      <td>53.60</td>\n",
       "      <td>68.74</td>\n",
       "      <td>50.130000</td>\n",
       "      <td>47.110000</td>\n",
       "      <td>20.00</td>\n",
       "      <td>18.0</td>\n",
       "      <td>0.0</td>\n",
       "      <td>네오★백상</td>\n",
       "      <td>80.0</td>\n",
       "      <td>1.0</td>\n",
       "    </tr>\n",
       "    <tr>\n",
       "      <th>32353</th>\n",
       "      <td>2022-07-28 17:31:00</td>\n",
       "      <td>1.50</td>\n",
       "      <td>2.11</td>\n",
       "      <td>3.53</td>\n",
       "      <td>4.69</td>\n",
       "      <td>1.06</td>\n",
       "      <td>2.14</td>\n",
       "      <td>1.600000</td>\n",
       "      <td>0.33</td>\n",
       "      <td>7.53</td>\n",
       "      <td>...</td>\n",
       "      <td>53.60</td>\n",
       "      <td>68.74</td>\n",
       "      <td>50.130000</td>\n",
       "      <td>47.110000</td>\n",
       "      <td>20.00</td>\n",
       "      <td>18.0</td>\n",
       "      <td>0.0</td>\n",
       "      <td>네오★승화열전사지(속건형)기지</td>\n",
       "      <td>52.0</td>\n",
       "      <td>1.0</td>\n",
       "    </tr>\n",
       "    <tr>\n",
       "      <th>32353</th>\n",
       "      <td>2022-07-28 17:31:00</td>\n",
       "      <td>1.50</td>\n",
       "      <td>2.11</td>\n",
       "      <td>3.53</td>\n",
       "      <td>4.69</td>\n",
       "      <td>1.06</td>\n",
       "      <td>2.14</td>\n",
       "      <td>1.600000</td>\n",
       "      <td>0.33</td>\n",
       "      <td>7.53</td>\n",
       "      <td>...</td>\n",
       "      <td>53.60</td>\n",
       "      <td>68.74</td>\n",
       "      <td>50.130000</td>\n",
       "      <td>47.110000</td>\n",
       "      <td>20.00</td>\n",
       "      <td>18.0</td>\n",
       "      <td>0.0</td>\n",
       "      <td>네오★승화열전사지(속건형)기지</td>\n",
       "      <td>52.0</td>\n",
       "      <td>1.0</td>\n",
       "    </tr>\n",
       "  </tbody>\n",
       "</table>\n",
       "<p>34491 rows × 64 columns</p>\n",
       "</div>"
      ],
      "text/plain": [
       "                   작업시작시간  320PIC7509:me  320PIC7510:me  320PIC7511:me  \\\n",
       "30542 2022-01-05 11:02:00           1.50           2.14           3.57   \n",
       "30543 2022-01-05 11:03:00           1.47           1.91           3.22   \n",
       "30544 2022-01-05 11:04:00           1.38           1.70           2.85   \n",
       "30545 2022-01-05 11:05:00           1.27           1.55           2.57   \n",
       "30546 2022-01-05 11:06:00           1.16           1.40           2.34   \n",
       "...                   ...            ...            ...            ...   \n",
       "32324 2022-07-25 02:45:00           1.50           2.11           3.53   \n",
       "32325 2022-07-25 02:46:00           1.50           2.11           3.53   \n",
       "32326 2022-07-25 02:47:00           1.50           2.11           3.53   \n",
       "32353 2022-07-28 17:31:00           1.50           2.11           3.53   \n",
       "32353 2022-07-28 17:31:00           1.50           2.11           3.53   \n",
       "\n",
       "       PM3-S3SC.opr:me  320PIC7513:me  320PIC7514:me  PM3-S5SC.opr:me  \\\n",
       "30542             4.76           0.42           1.38         0.810000   \n",
       "30543             4.08           0.55           1.76         1.590000   \n",
       "30544             3.69           0.53           1.64         1.589167   \n",
       "30545             3.63           0.56           1.59         1.588333   \n",
       "30546             3.57           0.60           1.58         1.587500   \n",
       "...                ...            ...            ...              ...   \n",
       "32324             4.69           1.06           2.14         1.600000   \n",
       "32325             4.69           1.06           2.14         1.600000   \n",
       "32326             4.69           1.06           2.14         1.600000   \n",
       "32353             4.69           1.06           2.14         1.600000   \n",
       "32353             4.69           1.06           2.14         1.600000   \n",
       "\n",
       "       320PIC7524:me  320PIC7533:me  ...  320LIC7528:me.1  320LIC7527:me.1  \\\n",
       "30542          -0.44           7.36  ...            57.26            48.30   \n",
       "30543          -0.44           7.87  ...            57.09            48.60   \n",
       "30544          -0.44           7.92  ...            56.21            48.47   \n",
       "30545          -0.44           7.86  ...            56.12            48.34   \n",
       "30546          -0.44           7.57  ...            55.38            48.21   \n",
       "...              ...            ...  ...              ...              ...   \n",
       "32324           0.33           7.53  ...            53.60            68.74   \n",
       "32325           0.33           7.53  ...            53.60            68.74   \n",
       "32326           0.33           7.53  ...            53.60            68.74   \n",
       "32353           0.33           7.53  ...            53.60            68.74   \n",
       "32353           0.33           7.53  ...            53.60            68.74   \n",
       "\n",
       "       320LIC7526:me.1  320LIC7525:me.1  320FIA7531:av  320FIA7535:av  지종교체  \\\n",
       "30542        50.230000        51.106667          20.00           18.0   1.0   \n",
       "30543        40.204813        51.360000          19.56           18.0   0.0   \n",
       "30544        43.170000        50.620000          14.18           18.0   0.0   \n",
       "30545        58.485312        50.330000           1.06           18.0   0.0   \n",
       "30546        58.485312        52.600000           5.99           18.0   0.0   \n",
       "...                ...              ...            ...            ...   ...   \n",
       "32324        50.130000        47.110000          20.00           18.0   0.0   \n",
       "32325        50.130000        47.110000          20.00           18.0   0.0   \n",
       "32326        50.130000        47.110000          20.00           18.0   0.0   \n",
       "32353        50.130000        47.110000          20.00           18.0   0.0   \n",
       "32353        50.130000        47.110000          20.00           18.0   0.0   \n",
       "\n",
       "                     지종     평량   지절  \n",
       "30542       네오★아트 R10기지  103.0  1.0  \n",
       "30543       네오★아트 R10기지  103.0  1.0  \n",
       "30544       네오★아트 R10기지  103.0  1.0  \n",
       "30545       네오★아트 R10기지  103.0  1.0  \n",
       "30546       네오★아트 R10기지  103.0  1.0  \n",
       "...                 ...    ...  ...  \n",
       "32324             네오★백상   80.0  1.0  \n",
       "32325             네오★백상   80.0  1.0  \n",
       "32326             네오★백상   80.0  1.0  \n",
       "32353  네오★승화열전사지(속건형)기지   52.0  1.0  \n",
       "32353  네오★승화열전사지(속건형)기지   52.0  1.0  \n",
       "\n",
       "[34491 rows x 64 columns]"
      ]
     },
     "execution_count": 54,
     "metadata": {},
     "output_type": "execute_result"
    }
   ],
   "source": [
    "df_MES_temp[df_MES_temp['지절']==1]"
   ]
  },
  {
   "cell_type": "code",
   "execution_count": 55,
   "id": "ada128d4",
   "metadata": {},
   "outputs": [
    {
     "data": {
      "image/png": "[encoded data removed]",
      "text/plain": [
       "<Figure size 1440x576 with 7 Axes>"
      ]
     },
     "metadata": {
      "needs_background": "light"
     },
     "output_type": "display_data"
    }
   ],
   "source": [
    "t=['작업시작시간','지종교체','지절','320TIA7541:av']\n",
    "temp = df_MES_temp[t]\n",
    "\n",
    "plt.figure(figsize=(20,8), constrained_layout = True)\n",
    "for i in range(1,8):\n",
    "    df_temp = temp.loc[temp['작업시작시간'].dt.month==i,:]\n",
    "    \n",
    "    plt.subplot(2,4, i)\n",
    "    plt.plot(df_temp['작업시작시간'],df_temp['320TIA7541:av'])\n",
    "    \n",
    "    for i in (df_temp.loc[df_temp['지절']==1, '작업시작시간']):\n",
    "        plt.axvline(i, color='yellow', alpha=0.5)\n",
    "  \n",
    "\n",
    "    plt.suptitle(t, size=20)\n",
    "    plt.xticks(rotation=45)\n",
    "    plt.grid()\n",
    "\n",
    "plt.show()"
   ]
  },
  {
   "cell_type": "code",
   "execution_count": null,
   "id": "a36e0c4b",
   "metadata": {},
   "outputs": [],
   "source": []
  },
  {
   "cell_type": "markdown",
   "id": "676317ce",
   "metadata": {},
   "source": [
    "----------------------------------------------------------------------------------"
   ]
  },
  {
   "cell_type": "code",
   "execution_count": null,
   "id": "07aa99eb",
   "metadata": {},
   "outputs": [],
   "source": []
  }
 ],
 "metadata": {
  "kernelspec": {
   "display_name": "Python 3 (ipykernel)",
   "language": "python",
   "name": "python3"
  },
  "language_info": {
   "codemirror_mode": {
    "name": "ipython",
    "version": 3
   },
   "file_extension": ".py",
   "mimetype": "text/x-python",
   "name": "python",
   "nbconvert_exporter": "python",
   "pygments_lexer": "ipython3",
   "version": "3.9.12"
  }
 },
 "nbformat": 4,
 "nbformat_minor": 5
}
