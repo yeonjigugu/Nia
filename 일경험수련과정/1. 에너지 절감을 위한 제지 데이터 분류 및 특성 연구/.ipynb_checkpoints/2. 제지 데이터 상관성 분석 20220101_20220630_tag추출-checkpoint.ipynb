{
 "cells": [
  {
   "cell_type": "markdown",
   "id": "2325a893",
   "metadata": {},
   "source": [
    "디스플레이 설정"
   ]
  },
  {
   "cell_type": "code",
   "execution_count": 1,
   "id": "26b0d200",
   "metadata": {},
   "outputs": [
    {
     "data": {
      "text/html": [
       "<style>.container { width:90% !important; }</style>"
      ],
      "text/plain": [
       "<IPython.core.display.HTML object>"
      ]
     },
     "metadata": {},
     "output_type": "display_data"
    }
   ],
   "source": [
    "from IPython.display import display, HTML\n",
    "\n",
    "display(HTML(\"<style>.container { width:90% !important; }</style>\"))"
   ]
  },
  {
   "cell_type": "markdown",
   "id": "2f5df0f6",
   "metadata": {},
   "source": [
    "matplotlib 한글"
   ]
  },
  {
   "cell_type": "code",
   "execution_count": 2,
   "id": "717fcecf",
   "metadata": {},
   "outputs": [],
   "source": [
    "import matplotlib.pyplot as plt\n",
    "from matplotlib import font_manager, rc\n",
    "font_path = \"C:/Windows/Fonts/NGULIM.TTF\"\n",
    "font = font_manager.FontProperties(fname=font_path).get_name()\n",
    "rc('font', family=font)"
   ]
  },
  {
   "cell_type": "markdown",
   "id": "28eb9f8b",
   "metadata": {},
   "source": [
    "모든 행, 열 표시"
   ]
  },
  {
   "cell_type": "code",
   "execution_count": 3,
   "id": "1d5f7a3e",
   "metadata": {},
   "outputs": [],
   "source": [
    "import pandas as pd\n",
    "\n",
    "#pd.set_option('display.max_rows', None) \n",
    "pd.set_option('display.max_columns', None) "
   ]
  },
  {
   "cell_type": "markdown",
   "id": "940378a2",
   "metadata": {},
   "source": [
    "----------------------------------------------------------------------------------"
   ]
  },
  {
   "cell_type": "code",
   "execution_count": 4,
   "id": "5e981cb6",
   "metadata": {
    "scrolled": true
   },
   "outputs": [
    {
     "name": "stderr",
     "output_type": "stream",
     "text": [
      "C:\\Users\\USER\\AppData\\Local\\Temp\\ipykernel_17680\\863637120.py:3: DtypeWarning: Columns (3) have mixed types. Specify dtype option on import or set low_memory=False.\n",
      "  FMES_RESULT = pd.read_csv('C:/Users/USER/etri_csv/2/FMES_RESULT_20220101-20220115.csv')\n"
     ]
    }
   ],
   "source": [
    "import pandas as pd\n",
    "\n",
    "FMES_RESULT = pd.read_csv('C:/Users/USER/etri_csv/2/FMES_RESULT_20220101-20220115.csv')"
   ]
  },
  {
   "cell_type": "code",
   "execution_count": null,
   "id": "af2ce53e",
   "metadata": {},
   "outputs": [],
   "source": [
    "df1_1=FMES_RESULT\n",
    "\n",
    "df1_1.columns"
   ]
  },
  {
   "cell_type": "code",
   "execution_count": 6,
   "id": "c515a8c6",
   "metadata": {},
   "outputs": [],
   "source": [
    "new_data= {df1_1.columns}"
   ]
  },
  {
   "cell_type": "markdown",
   "id": "2e2a48ff",
   "metadata": {},
   "source": [
    "1. columns rename"
   ]
  },
  {
   "cell_type": "code",
   "execution_count": 7,
   "id": "bd13b066",
   "metadata": {},
   "outputs": [],
   "source": [
    "FMES_RESULT.columns=['Discrete/Analog','col1','day','col2','col3']"
   ]
  },
  {
   "cell_type": "code",
   "execution_count": 8,
   "id": "ee508538",
   "metadata": {},
   "outputs": [
    {
     "name": "stderr",
     "output_type": "stream",
     "text": [
      "C:\\Users\\USER\\AppData\\Local\\Temp\\ipykernel_17680\\2730894148.py:1: FutureWarning: The frame.append method is deprecated and will be removed from pandas in a future version. Use pandas.concat instead.\n",
      "  FMES_RESULT=FMES_RESULT.append(new_data, ignore_index=True)\n"
     ]
    }
   ],
   "source": [
    "FMES_RESULT=FMES_RESULT.append(new_data, ignore_index=True)"
   ]
  },
  {
   "cell_type": "code",
   "execution_count": 10,
   "id": "7fcf65d3",
   "metadata": {},
   "outputs": [],
   "source": [
    "df =FMES_RESULT.col1.unique()"
   ]
  },
  {
   "cell_type": "code",
   "execution_count": 11,
   "id": "0b45bf5f",
   "metadata": {},
   "outputs": [],
   "source": [
    "df = pd.DataFrame(df, columns=[\"col1\"])"
   ]
  },
  {
   "cell_type": "markdown",
   "id": "877fffd9",
   "metadata": {},
   "source": [
    "2. col1을 ':' 기준으로 분리"
   ]
  },
  {
   "cell_type": "code",
   "execution_count": 13,
   "id": "a5708290",
   "metadata": {},
   "outputs": [],
   "source": [
    "df['col1_1']=df.col1.str.split(':').str[0]\n",
    "df['col1_2']=df.col1.str.split(':').str[1]"
   ]
  },
  {
   "cell_type": "code",
   "execution_count": null,
   "id": "9ce6a0aa",
   "metadata": {},
   "outputs": [],
   "source": [
    "df[df.duplicated(['col1_1'])==True]"
   ]
  },
  {
   "cell_type": "markdown",
   "id": "8aa2bd9c",
   "metadata": {},
   "source": [
    "----------------------------------------------------------------------------------------"
   ]
  },
  {
   "cell_type": "code",
   "execution_count": 16,
   "id": "1d42b256",
   "metadata": {
    "scrolled": true
   },
   "outputs": [
    {
     "name": "stderr",
     "output_type": "stream",
     "text": [
      "C:\\Users\\USER\\AppData\\Local\\Temp\\ipykernel_17680\\2228252.py:1: DtypeWarning: Columns (289,291,293,295,297,299,1762,1766,1793,1804,1819,1827,1833,1845,1850,1851,1874,1876,1878,1883,1930,1931,1932,1933,1934,1936,1937,1938,1942,1944,1945,1946,1947,1948,1949,1952) have mixed types. Specify dtype option on import or set low_memory=False.\n",
      "  df_RTDB_MES_Power=pd.read_csv(\"C:/Users/USER/etri_csv/10/RTDB_MES_Power_20220101_20220630_sync.CSV\", index_col=0)\n"
     ]
    }
   ],
   "source": [
    "df_RTDB_MES_Power=pd.read_csv(\"C:/Users/USER/etri_csv/10/RTDB_MES_Power_20220101_20220630_sync.CSV\", index_col=0)"
   ]
  },
  {
   "cell_type": "code",
   "execution_count": 39,
   "id": "8cd4b1ca",
   "metadata": {
    "scrolled": true
   },
   "outputs": [
    {
     "data": {
      "text/plain": [
       "305566"
      ]
     },
     "execution_count": 39,
     "metadata": {},
     "output_type": "execute_result"
    }
   ],
   "source": [
    "df_RTDB_MES_Power.페이퍼머신1.isnull().sum()"
   ]
  },
  {
   "cell_type": "code",
   "execution_count": 40,
   "id": "6fc4a0d9",
   "metadata": {},
   "outputs": [
    {
     "data": {
      "text/plain": [
       "59719"
      ]
     },
     "execution_count": 40,
     "metadata": {},
     "output_type": "execute_result"
    }
   ],
   "source": [
    "df_RTDB_MES_Power.페이퍼머신2.isnull().sum()"
   ]
  },
  {
   "cell_type": "markdown",
   "id": "9f753a9d",
   "metadata": {},
   "source": [
    "----------------------------------------------------------------------------------------"
   ]
  },
  {
   "cell_type": "code",
   "execution_count": 107,
   "id": "0b5a9320",
   "metadata": {},
   "outputs": [],
   "source": [
    "columnsList = pd.read_csv('C:/Users/USER/etri_csv/10/0_result/columnsList.csv')"
   ]
  },
  {
   "cell_type": "markdown",
   "id": "64a5fa06",
   "metadata": {},
   "source": [
    "col1을 ':' 기준으로 분리"
   ]
  },
  {
   "cell_type": "code",
   "execution_count": 112,
   "id": "5d4652e3",
   "metadata": {},
   "outputs": [],
   "source": [
    "columnsList['col1_1']=columnsList.col1.str.split(':').str[0]\n",
    "columnsList['col1_2']=columnsList.col1.str.split(':').str[1]"
   ]
  },
  {
   "cell_type": "code",
   "execution_count": 175,
   "id": "d91a2861",
   "metadata": {},
   "outputs": [
    {
     "data": {
      "text/html": [
       "<div>\n",
       "<style scoped>\n",
       "    .dataframe tbody tr th:only-of-type {\n",
       "        vertical-align: middle;\n",
       "    }\n",
       "\n",
       "    .dataframe tbody tr th {\n",
       "        vertical-align: top;\n",
       "    }\n",
       "\n",
       "    .dataframe thead th {\n",
       "        text-align: right;\n",
       "    }\n",
       "</style>\n",
       "<table border=\"1\" class=\"dataframe\">\n",
       "  <thead>\n",
       "    <tr style=\"text-align: right;\">\n",
       "      <th></th>\n",
       "      <th>col1</th>\n",
       "      <th>col1_1</th>\n",
       "      <th>col1_2</th>\n",
       "    </tr>\n",
       "  </thead>\n",
       "  <tbody>\n",
       "  </tbody>\n",
       "</table>\n",
       "</div>"
      ],
      "text/plain": [
       "Empty DataFrame\n",
       "Columns: [col1, col1_1, col1_2]\n",
       "Index: []"
      ]
     },
     "execution_count": 175,
     "metadata": {},
     "output_type": "execute_result"
    }
   ],
   "source": [
    "columnsList[columnsList['col1_1']=='태그1']"
   ]
  },
  {
   "cell_type": "code",
   "execution_count": 119,
   "id": "4e8cfc48",
   "metadata": {},
   "outputs": [],
   "source": [
    "pptTags = pd.read_csv('C:/Users/USER/etri/FEMS/자료/10/ppt태그.csv')"
   ]
  },
  {
   "cell_type": "code",
   "execution_count": 122,
   "id": "9d376ded",
   "metadata": {},
   "outputs": [],
   "source": [
    "tagsMerge = pd.merge(pptTags, columnsList, left_on = \"tag\", right_on=\"col1_1\", how = \"inner\")"
   ]
  },
  {
   "cell_type": "code",
   "execution_count": 124,
   "id": "0116d972",
   "metadata": {},
   "outputs": [],
   "source": [
    "tagsMerge.to_csv(\"C:/Users/USER/etri/FEMS/자료/10/tag_v1.csv\", encoding='utf-8-sig',  index=False)"
   ]
  },
  {
   "cell_type": "markdown",
   "id": "bbadb0e5",
   "metadata": {},
   "source": [
    "----------------------------------------------------------------------------------------"
   ]
  },
  {
   "cell_type": "code",
   "execution_count": 28,
   "id": "5af9d753",
   "metadata": {},
   "outputs": [],
   "source": [
    "FEMS = pd.read_csv('C:/Users/USER/etri_csv/1/0_result/DataSet.csv')"
   ]
  },
  {
   "cell_type": "code",
   "execution_count": null,
   "id": "faa3e81f",
   "metadata": {},
   "outputs": [],
   "source": [
    "FEMS['이력TYPE'].unique()"
   ]
  },
  {
   "cell_type": "code",
   "execution_count": null,
   "id": "f8cad7c2",
   "metadata": {},
   "outputs": [],
   "source": [
    "temp = FEMS['제조번호'].unique()\n",
    "temp"
   ]
  },
  {
   "cell_type": "code",
   "execution_count": 108,
   "id": "5ac00c2d",
   "metadata": {},
   "outputs": [],
   "source": [
    "df_temp = pd.DataFrame(temp, columns=['col1'])"
   ]
  },
  {
   "cell_type": "code",
   "execution_count": 109,
   "id": "5f22c6b1",
   "metadata": {},
   "outputs": [],
   "source": [
    "df_temp.dropna(inplace=True)"
   ]
  },
  {
   "cell_type": "code",
   "execution_count": null,
   "id": "fe11ea47",
   "metadata": {},
   "outputs": [],
   "source": [
    "df_temp['col1'].sort_values()"
   ]
  },
  {
   "cell_type": "code",
   "execution_count": null,
   "id": "e277689b",
   "metadata": {},
   "outputs": [],
   "source": [
    "df_temp.info()"
   ]
  },
  {
   "cell_type": "code",
   "execution_count": null,
   "id": "6f0eeb69",
   "metadata": {},
   "outputs": [],
   "source": []
  }
 ],
 "metadata": {
  "kernelspec": {
   "display_name": "Python 3 (ipykernel)",
   "language": "python",
   "name": "python3"
  },
  "language_info": {
   "codemirror_mode": {
    "name": "ipython",
    "version": 3
   },
   "file_extension": ".py",
   "mimetype": "text/x-python",
   "name": "python",
   "nbconvert_exporter": "python",
   "pygments_lexer": "ipython3",
   "version": "3.9.12"
  }
 },
 "nbformat": 4,
 "nbformat_minor": 5
}
