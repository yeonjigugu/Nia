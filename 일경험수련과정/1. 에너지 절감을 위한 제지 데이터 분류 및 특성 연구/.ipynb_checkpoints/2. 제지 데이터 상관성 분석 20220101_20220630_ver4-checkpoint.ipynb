{
 "cells": [
  {
   "cell_type": "code",
   "execution_count": 1,
   "id": "b1c0820e",
   "metadata": {},
   "outputs": [
    {
     "name": "stderr",
     "output_type": "stream",
     "text": [
      "C:\\Users\\user\\AppData\\Local\\Temp\\ipykernel_3280\\4202050650.py:17: DeprecationWarning: Importing display from IPython.core.display is deprecated since IPython 7.14, please import from IPython display\n",
      "  from IPython.core.display import display, HTML\n"
     ]
    },
    {
     "data": {
      "text/html": [
       "<style>.container {width:95% !important;}</style>"
      ],
      "text/plain": [
       "<IPython.core.display.HTML object>"
      ]
     },
     "metadata": {},
     "output_type": "display_data"
    }
   ],
   "source": [
    "%config Completer.use_jedi = False\n",
    "import seaborn as sns\n",
    "import matplotlib.pyplot as plt\n",
    "import pandas as pd\n",
    "import numpy as np\n",
    "import pprint\n",
    "import datetime\n",
    "import torch\n",
    "from pyarrow import csv\n",
    "import os.path\n",
    "import matplotlib.pyplot as plt\n",
    "import seaborn as sns\n",
    "import os\n",
    "from tqdm import notebook\n",
    "os.environ['KMP_DUPLICATE_LIB_OK']='True'\n",
    "\n",
    "from IPython.core.display import display, HTML\n",
    "display(HTML(\"<style>.container {width:95% !important;}</style>\")) #셀 사이즈 조절"
   ]
  },
  {
   "cell_type": "code",
   "execution_count": 2,
   "id": "34e7dcbd",
   "metadata": {
    "scrolled": false
   },
   "outputs": [
    {
     "name": "stderr",
     "output_type": "stream",
     "text": [
      "C:\\Users\\user\\AppData\\Local\\Temp\\ipykernel_3280\\4125067571.py:1: DtypeWarning: Columns (289,291,293,295,297,299,1762,1766,1793,1804,1819,1827,1833,1845,1850,1851,1874,1876,1878,1883,1930,1931,1932,1933,1934,1936,1937,1938,1942,1944,1945,1946,1947,1948,1949,1952) have mixed types. Specify dtype option on import or set low_memory=False.\n",
      "  df_RTDB_MES_Power=pd.read_csv(\"C:/Users/USER/etri_csv/9/RTDB_MES_Power_20220101_20220630_sync.CSV\", index_col=0)\n"
     ]
    }
   ],
   "source": [
    "df_RTDB_MES_Power=pd.read_csv(\"C:/Users/USER/etri_csv/9/RTDB_MES_Power_20220101_20220630_sync.CSV\", index_col=0)"
   ]
  },
  {
   "cell_type": "code",
   "execution_count": 3,
   "id": "653e9d68",
   "metadata": {},
   "outputs": [],
   "source": [
    "## 전건조부 GR1, GR2A, GR2B, GR3\n",
    "## 후건조부 GR4, GR5B, GR5T\n",
    "tags=['320PIC7509:me'#,'320PIC7509:con','320PIC7509:spa' ##GR.1\n",
    "      ,'320PIC7510:me'#,'320PIC7510:con','320PIC7510R:spa' ##GR.2A\n",
    "      ,'320PIC7511:me'#,'320PIC7511:con','320PIC7511R:spa' ##GR.2B\n",
    "      #,'320PIC7512:me'#,'320PIC7512:spa','PM3_PREDRYER_PV','PM3_PREDRYER_SP' ##GR3\n",
    "      ,'PM3-S3SC.opr:me' ##s3 Steam press\n",
    "      ,'320PIC7513:me'#,'320PIC7513:con','320PIC7513:spa' ##GR.4\n",
    "      ,'320PIC7514:me'#,'320PIC7514:con','320PIC7514R:av' ##GR.5B  \n",
    "      #,'320PIC7515:me'#,'320PIC7515:spa','PM3_AFTERDRYER_PV','PM3_AFTERDRYER_SP' ##GR.5T\n",
    "      ,'PM3-S5SC.opr:me'##s5 Steam press\n",
    "      ,'320PIC7524:me'\n",
    "      ,'320PIC7533:me'#,'320PIC7533:con','320PIC7533:spa' ##건조기 스팀헤더 압력\n",
    "      ,'320PIC7544:me'#,'320PIC7544:con','320PIC7544:spa'\n",
    "      ,'320PIC7505:me'#,'320PIC7505:spa','320PIC7505:pos'\n",
    "      ,'320PIC7506:me'#,'320PIC7506:con','320PIC7506:spa'\n",
    "      ,'320PIC7507:me'#,'320PIC7507:con','320PIC7507:spa'\n",
    "      ,'320PIC7508:me'#,'320PIC7508:con','320PIC7508:spa'\n",
    "      ,'320PDC7516:me'#,'320PDC7516:con','320PDC7516:spa'\n",
    "      #,'320PDC7517'#,'320PDC7517.1','320PDC7517.2' \n",
    "      ,'320PDC7518:me'#,'320PDC7518:con','320PDC7518:spa'\n",
    "      ,'320PDV7519.1:av'#,'320PDV7519.2'.av\n",
    "      ,'320PDC7520:me'#,'320PDC7520:con'\n",
    "      #,'320PDV7521.1.av'#,'320PDV7521.2.av'\n",
    "      ,'320PDV7522.1:av'\n",
    "      #,'320PTT0301.3:av'\n",
    "      #,'320PTT0301.4:av'\n",
    "      ,'320HIC7501:av' ##스팀헤더 스팀량\n",
    "      ,'320TIA7504:av' ##스팀온도\n",
    "      ,'320TIA7530:av' ##스팀온도\n",
    "      ,'320TIA7541:av' ##스팀온도\n",
    "      ,'320TIA7542:av' ##스팀온도\n",
    "      ,'320TIC7523:me'#,'320TIC7523:con','320TIC7523:spa'\n",
    "      ,'320PIC7524:me'#,'320PIC7524:con','320PIC7524:spa'\n",
    "      ,'320TIC0004:me'#,'320TIC0004:con','320TIC0004:spa' ##스팀온도\n",
    "      ,'320TIC7540:me'#,'320TIC7540:con,'320TIC7540:spa' ##스팀온도\n",
    "      ,'320TIC7545:me'#,'320TIC7545:con','320TIC7545:spa' ##스팀온도\n",
    "      #,'320TIC723:con'#'320TIC723:spa' ##스팀온도\n",
    "      ,'PM3_BASIS_WEIGHT_SP'#,'PM3_BASIS_WEIGHT_PV'  ##size 스캐너 측정 평량\n",
    "      ,'PM3_BASIS_WEIGHT_SP2'#,'PM3_BASIS_WEIGHT_PV2' ##Reel 스캐너 측정 평량\n",
    "      ,'PM3_MOISTURE_SP'#,'PM3_MOISTURE_PV' ##Size 스캐너 측정 수분량\n",
    "      ,'PM3_MOISTURE_SP2'#,'PM3_MOISTURE_PV2' ##Reel 스캐너 측정 수분량\n",
    "      ,'329-GIC1002:me'#,'329-GIC1002:conb' ##Slice\n",
    "      ,'329-PIC7030.A:me'#,'329-PIC7030.A:spa','329-PYY7030.A1:av' ##T/S Nip\n",
    "      ,'329-PIC7030.B:me'#,'329-PIC7030.B:spa','329-PYY7030.A2:av' ##D/S Nip\n",
    "      #,'329-PYY7030.B:av' ##Z Nip\n",
    "      ,'320-PIC0501:me'#,'320-PIC0501:conb','320-PIC0501:spa'\n",
    "      ,'PM3_WIRE_SPEED'\n",
    "      ,'PM3_ASH_PV'\n",
    "      ,'PM3_STOCK_CONSISTENCY_PV'\n",
    "      ,'PM3_STOCK_FLOW_PV'\n",
    "      #,'PM3-CSC1.opr'##Wire Speed\n",
    "      ,'PM3-JWC1.opr:me'##Jet To Wire\n",
    "      ,'PM3-TSF1.opr:me'##Stock flow\n",
    "      ,'PM3-RLS1.opr:me'\n",
    "      ,'PM3-TASH.opr:me'#,'330FIC1501:me','330FIC1501:me' ##fil to H/B\n",
    "      ,'320LIC7524:me'#,'320LIC7524:con'\n",
    "      ,'320LIC7525:me'#,'320LIC7525:con'\n",
    "      ,'320LIC7526:me'#,'320LIC7526:con'\n",
    "      ,'320LIC7527:me'#,'320LIC7527:con'\n",
    "      ,'320LIC7528:me'#,'320LIC7528:con'\n",
    "      ,'320LIC7529:me'#,'320LIC7529:con'\n",
    "      ,'320LIC7537:me'#,'320LIC7537:con'\n",
    "      ,'320LIC7529:me'#,'320LIC7529:con'\n",
    "      ,'320LIC7528:me'#,'320LIC7528:con'\n",
    "      ,'320LIC7527:me'#,'320LIC7527:con'\n",
    "      ,'320LIC7526:me'#,'320LIC7526:con'\n",
    "      ,'320LIC7525:me'#,'320LIC7525:con'\n",
    "      ,'320FIA7531:av'\n",
    "      ,'320FIA7535:av'\n",
    "      ,'지종'\n",
    "      ,'평량'\n",
    "     ] "
   ]
  },
  {
   "cell_type": "code",
   "execution_count": 4,
   "id": "e6a1303b",
   "metadata": {},
   "outputs": [],
   "source": [
    "MES_tags=['이력TYPE' #생산, 설비가동, 초출파지, 설비DOWN\n",
    "          ,'이벤트'  #지종교체, 유효가동, Press, Pre-Dryer, 평량교체, Reel, After-Dryer, Calender, Air Line\n",
    "          ,'총시간(분)' #0~3,458\n",
    "          ,'지종' #32가지\n",
    "          ,'평량' #52~216\n",
    "          ,'릴No' #1~55\n",
    "          ,'생산량 길이 (매/속수)' #1000~136,000\n",
    "          ,'생산량 중량' #892.8~32,259.6\n",
    "          ,'파지량 길이' #1,000~54,000\n",
    "          ,'파지량 중량' #0~12,823.2\n",
    "          ,'속도 표준' #600~ 1,370\n",
    "          ,'속도 계산' #368 ~1,527\n",
    "          ,'LOT' #4944가지\n",
    "          ,'제조번호' #732가지\n",
    "          ,'Shift' #갑반, 을반, 병반\n",
    "          ,'작업자' #강선구, 김봉진, 김태우, 김태양, 조현용\n",
    "          ,'HOLE 정보 M' #0~1856\n",
    "          ,'HOLE 정보 L' #0~160\n",
    "          ,'HOLE 정보 XL' #0, 1, 2, 3, 4, 5, 498\n",
    "          ,'HOLE 정보 EC' #0, 1, 2, 3, 4, 5, 6, 10\n",
    "          ,'HOLE 땜 정보 M' #0, 32\n",
    "          ,'HOLE 땜 정보 L' #0, 1\n",
    "          ,'HOLE 땜 정보 XL' #0~29\n",
    "          ,'HOLE 땜 정보 EC' #0, 7\n",
    "         ] "
   ]
  },
  {
   "cell_type": "code",
   "execution_count": 5,
   "id": "3cd3d7c7",
   "metadata": {},
   "outputs": [],
   "source": [
    "df_RTDB_MES_Power.index=pd.to_datetime(df_RTDB_MES_Power.index)"
   ]
  },
  {
   "cell_type": "markdown",
   "id": "335cfdc7",
   "metadata": {},
   "source": [
    "# SVM"
   ]
  },
  {
   "cell_type": "code",
   "execution_count": 6,
   "id": "179be1dc",
   "metadata": {},
   "outputs": [],
   "source": [
    "import numpy as np\n",
    "import matplotlib.pyplot as plt\n",
    "from sklearn import svm\n",
    "from sklearn.datasets import make_blobs\n",
    "from sklearn.preprocessing import MinMaxScaler, StandardScaler, RobustScaler"
   ]
  },
  {
   "cell_type": "code",
   "execution_count": 7,
   "id": "7af45975",
   "metadata": {},
   "outputs": [],
   "source": [
    "condition_1 = ((df_RTDB_MES_Power['지종']=='NEO★MATT 9+ R10기지') & (df_RTDB_MES_Power['평량']==172.0))\n",
    "condition_2 = ((df_RTDB_MES_Power['지종']=='네오★아트 R10기지') & (df_RTDB_MES_Power['평량']==67.0))\n",
    "condition_3 = ((df_RTDB_MES_Power['지종']=='네오★아트 R10기지') & (df_RTDB_MES_Power['평량']==77.0))\n",
    "condition_4 = ((df_RTDB_MES_Power['지종']=='네오★아트 R10기지') & (df_RTDB_MES_Power['평량']==103.0)) \n",
    "condition_5 = ((df_RTDB_MES_Power['지종']=='네오★아트 R10기지') & (df_RTDB_MES_Power['평량']==216.0))\n",
    "condition_6 = ((df_RTDB_MES_Power['지종']=='네오★아트기지') & (df_RTDB_MES_Power['평량']==77.0))\n",
    "condition_7 = ((df_RTDB_MES_Power['지종']=='네오★아트기지') & (df_RTDB_MES_Power['평량']==103.0))\n",
    "condition_8 = ((df_RTDB_MES_Power['지종']=='네오★아트기지') & (df_RTDB_MES_Power['평량']==152.0))\n",
    "condition_9 = ((df_RTDB_MES_Power['지종']=='네오★아트기지') & (df_RTDB_MES_Power['평량']==198.0))\n",
    "condition_10 = ((df_RTDB_MES_Power['지종']=='네오★아트기지') & (df_RTDB_MES_Power['평량']==216.0))\n",
    "condition_11 = ((df_RTDB_MES_Power['지종']=='네오★스노우화이트기지') & (df_RTDB_MES_Power['평량']==62.0))\n",
    "condition_12 = ((df_RTDB_MES_Power['지종']=='네오★스노우화이트기지') & (df_RTDB_MES_Power['평량']==77.0))\n",
    "condition_13 = ((df_RTDB_MES_Power['지종']=='네오★스노우화이트기지') & (df_RTDB_MES_Power['평량']==103.0))\n",
    "condition_14 = ((df_RTDB_MES_Power['지종']=='네오★쇼핑백기지') & (df_RTDB_MES_Power['평량']==113.0))\n",
    "condition_15 = ((df_RTDB_MES_Power['지종']=='네오★백상') & (df_RTDB_MES_Power['평량']==100.0))\n",
    "condition_16 = ((df_RTDB_MES_Power['지종']=='네오★백상') & (df_RTDB_MES_Power['평량']==150.0))\n",
    "condition_17 = ((df_RTDB_MES_Power['지종']=='네오★백상') & (df_RTDB_MES_Power['평량']==180.0))                   #x\n",
    "condition_18 = ((df_RTDB_MES_Power['지종']=='네오★라벨기지') & (df_RTDB_MES_Power['평량']==67.0))\n",
    "condition_19 = ((df_RTDB_MES_Power['지종']=='네오★스노우화이트R10가지') & (df_RTDB_MES_Power['평량']==77.0))     #x\n",
    "condition_20 = ((df_RTDB_MES_Power['지종']=='네오★스노우화이트R10가지') & (df_RTDB_MES_Power['평량']==103.0))    #x"
   ]
  },
  {
   "cell_type": "code",
   "execution_count": 8,
   "id": "1218f5c6",
   "metadata": {},
   "outputs": [],
   "source": [
    "condition_legend=['NEO★MATT 9+ R10기지(172.0)'\n",
    "                ,'네오★아트 R10기지(67.0)'\n",
    "                ,'네오★아트 R10기지(77.0)'\n",
    "                ,'네오★아트 R10기지(103.0)'\n",
    "                ,'네오★아트 R10기지(216.0)'\n",
    "                ,'네오★아트기지(77.0)'\n",
    "                ,'네오★아트기지(103.0)'\n",
    "                ,'네오★아트기지(152.0)'\n",
    "                ,'네오★아트기지(198.0)'\n",
    "                ,'네오★아트기지(216.0)'\n",
    "                ,'네오★스노우화이트기지(62.0)'\n",
    "                ,'네오★스노우화이트기지(77.0)'\n",
    "                ,'네오★스노우화이트기지(103.0)'\n",
    "                ,'네오★쇼핑백기지(113.0)'\n",
    "                ,'네오★백상(100.0)'\n",
    "                ,'네오★백상(150.0)'\n",
    "                ,'네오★백상(180.0)' #drop\n",
    "                ,'네오★라벨기지(67.0)'\n",
    "                ,'네오★스노우화이트R10가지(77.0)'#drop\n",
    "                ,'네오★스노우화이트R10가지(103.0)']#drop"
   ]
  },
  {
   "cell_type": "code",
   "execution_count": 9,
   "id": "250192e0",
   "metadata": {},
   "outputs": [],
   "source": [
    "conditions=condition_1 | condition_2 | condition_3 | condition_4 | condition_5 | condition_6 | condition_7 | condition_8 | condition_9 | condition_10 | condition_11 | condition_12 | condition_13 | condition_14 | condition_15 | condition_16 | condition_17 | condition_18 | condition_19 | condition_20"
   ]
  },
  {
   "cell_type": "code",
   "execution_count": 81,
   "id": "5c9f1126",
   "metadata": {
    "scrolled": true
   },
   "outputs": [],
   "source": [
    "df_temp=df_RTDB_MES_Power[conditions][tags].interpolate('ffill')"
   ]
  },
  {
   "cell_type": "code",
   "execution_count": 82,
   "id": "9360fb7d",
   "metadata": {},
   "outputs": [],
   "source": [
    "seed=1004\n",
    "sample_ratio=0.1"
   ]
  },
  {
   "cell_type": "code",
   "execution_count": 83,
   "id": "0c7e1544",
   "metadata": {},
   "outputs": [],
   "source": [
    "for index,condition in enumerate([condition_1, condition_2, condition_3, condition_4, condition_5, condition_6, condition_7, condition_8, condition_9, condition_10, condition_11, condition_12, condition_13, condition_14, condition_15, condition_16, condition_17, condition_18, condition_19, condition_20]):\n",
    "    df_temp.loc[condition,['지종']]=index"
   ]
  },
  {
   "cell_type": "code",
   "execution_count": 84,
   "id": "bf64cd3d",
   "metadata": {},
   "outputs": [],
   "source": [
    "df_temp.dropna(inplace=True)"
   ]
  },
  {
   "cell_type": "code",
   "execution_count": 85,
   "id": "555d202e",
   "metadata": {},
   "outputs": [],
   "source": [
    "from sklearn.model_selection import train_test_split\n",
    "\n",
    "X=df_temp[['320PIC7509:me','320PIC7510:me','320PIC7511:me','PM3-S3SC.opr:me','320PIC7513:me','320PIC7514:me','PM3-S5SC.opr:me'\n",
    "           ,'320PIC7524:me','320PIC7533:me','320PIC7544:me','320PIC7505:me','320PIC7506:me','320PIC7507:me','320PIC7508:me'\n",
    "           ,'320PDC7516:me','320PDC7518:me','320PDV7519.1:av','320PDC7520:me','320PDV7522.1:av','320HIC7501:av','320TIA7504:av'\n",
    "           ,'320TIA7530:av','320TIA7541:av','320TIA7542:av','320TIC7523:me','320PIC7524:me','320TIC0004:me','320TIC7540:me'\n",
    "           ,'320TIC7545:me','PM3_BASIS_WEIGHT_SP','PM3_BASIS_WEIGHT_SP2','PM3_MOISTURE_SP','PM3_MOISTURE_SP2','329-GIC1002:me'\n",
    "           ,'329-PIC7030.A:me','329-PIC7030.B:me','320-PIC0501:me','PM3_WIRE_SPEED','PM3_ASH_PV','PM3_STOCK_CONSISTENCY_PV'\n",
    "           ,'PM3_STOCK_FLOW_PV','PM3-JWC1.opr:me','PM3-TSF1.opr:me','PM3-RLS1.opr:me','PM3-TASH.opr:me','320LIC7524:me','320LIC7525:me'\n",
    "           ,'320LIC7526:me','320LIC7527:me','320LIC7528:me','320LIC7529:me','320LIC7537:me','320LIC7529:me','320LIC7528:me'\n",
    "           ,'320LIC7527:me','320LIC7526:me','320LIC7525:me','320FIA7531:av','320FIA7535:av']].sample(frac=sample_ratio,random_state=seed)\n",
    "y=df_temp['지종'].sample(frac=sample_ratio,random_state=seed).astype('int')\n",
    "#frac : 추출할 비율\n",
    "#random_state : 랜덤 추출한 값에 시드를 설정\n",
    "\n",
    "X_train, X_test, y_train, y_test = train_test_split(X, y, test_size = 0.3, random_state = 123)"
   ]
  },
  {
   "cell_type": "markdown",
   "id": "d5d8a6f1",
   "metadata": {},
   "source": [
    "# 스케일링 문법 다시 보기"
   ]
  },
  {
   "cell_type": "code",
   "execution_count": 86,
   "id": "6166447a",
   "metadata": {},
   "outputs": [],
   "source": [
    "scaler = StandardScaler()\n",
    "scaler.fit(X_train) # X scaler 생성\n",
    "X_train = scaler.transform(X_train)   # 스케일링 적용"
   ]
  },
  {
   "cell_type": "markdown",
   "id": "1ab1414c",
   "metadata": {},
   "source": [
    "svm모델 생성"
   ]
  },
  {
   "cell_type": "code",
   "execution_count": 119,
   "id": "0d18ece2",
   "metadata": {},
   "outputs": [],
   "source": [
    "# from sklearn.model_selection import GridSearchCV\n",
    "\n",
    "# param = {'C': [0.001, 0.01, 0.1, 1, 10, 100],\n",
    "#          'gamma': [0.001, 0.01, 0.1, 1, 10, 100] }\n",
    "\n",
    "# GS=GridSearchCV(svm.SVC(kernel='rbf'), param)\n",
    "# GS.fit(X_train,y_train)\n",
    "# print(GS.best_params_)\n",
    "# print(GS.best_score_)"
   ]
  },
  {
   "cell_type": "code",
   "execution_count": 88,
   "id": "19ff8ec2",
   "metadata": {},
   "outputs": [
    {
     "data": {
      "text/plain": [
       "SVC(C=100, gamma=0.01)"
      ]
     },
     "execution_count": 88,
     "metadata": {},
     "output_type": "execute_result"
    }
   ],
   "source": [
    "clf = svm.SVC(kernel='rbf', C=100, gamma = 0.01) # {'linear', 'poly', 'rbf', 'sigmoid', 'precomputed'}, default='rbf'\n",
    "clf.fit(X_train,y_train)"
   ]
  },
  {
   "cell_type": "markdown",
   "id": "283c975e",
   "metadata": {},
   "source": [
    "svm 성능 평가 \n",
    "- 정확성"
   ]
  },
  {
   "cell_type": "code",
   "execution_count": 100,
   "id": "95eabd57",
   "metadata": {},
   "outputs": [
    {
     "name": "stderr",
     "output_type": "stream",
     "text": [
      "C:\\Users\\user\\anaconda3\\lib\\site-packages\\sklearn\\base.py:450: UserWarning: X does not have valid feature names, but StandardScaler was fitted with feature names\n",
      "  warnings.warn(\n"
     ]
    }
   ],
   "source": [
    "from sklearn.metrics import confusion_matrix\n",
    "\n",
    "X_test = scaler.transform(X_test)   # 스케일링 적용\n",
    "\n",
    "y_pred = clf.predict(X_test)                                             # 학습데이터 분류예측\n",
    "df_confusion_matrix=confusion_matrix(y_test, y_pred).ravel()                     # 정확성검정"
   ]
  },
  {
   "cell_type": "code",
   "execution_count": 90,
   "id": "1eb0890b",
   "metadata": {
    "scrolled": true
   },
   "outputs": [
    {
     "data": {
      "image/png": "[encoded data removed]",
      "text/plain": [
       "<Figure size 432x288 with 2 Axes>"
      ]
     },
     "metadata": {
      "needs_background": "light"
     },
     "output_type": "display_data"
    }
   ],
   "source": [
    "# classification by threshold\n",
    "LABELS = ['0','1','2','3','4','5','6','7','8','9','10','11','12','13','14','15','17']\n",
    "plt.figure()\n",
    "sns.heatmap(confusion_matrix(y_test, y_pred), xticklabels=LABELS, yticklabels=LABELS, annot=True, fmt='d')\n",
    "plt.title('Confusion Matrix')\n",
    "plt.xlabel('Predicted Class'); plt.ylabel('True Class')\n",
    "plt.show()"
   ]
  },
  {
   "cell_type": "code",
   "execution_count": 91,
   "id": "2afacbaa",
   "metadata": {
    "scrolled": true
   },
   "outputs": [
    {
     "data": {
      "text/plain": [
       "0.8736146218160606"
      ]
     },
     "execution_count": 91,
     "metadata": {},
     "output_type": "execute_result"
    }
   ],
   "source": [
    "from sklearn.metrics import accuracy_score\n",
    "\n",
    "accuracy_score(y_test, y_pred)"
   ]
  },
  {
   "cell_type": "markdown",
   "id": "002b38bf",
   "metadata": {},
   "source": [
    "# T-SNE"
   ]
  },
  {
   "cell_type": "code",
   "execution_count": 93,
   "id": "ce24bdc7",
   "metadata": {},
   "outputs": [],
   "source": [
    "import matplotlib\n",
    "from matplotlib import font_manager, rc\n",
    "import platform\n",
    "\n",
    "if platform.system() == 'Windows':\n",
    "# 윈도우인 경우\n",
    "    font_name = font_manager.FontProperties(fname=\"c:/Windows/Fonts/malgun.ttf\").get_name()\n",
    "    rc('font', family=font_name)\n",
    "else:    \n",
    "# Mac 인 경우\n",
    "    rc('font', family='AppleGothic')\n",
    "matplotlib.rcParams['axes.unicode_minus'] = False   \n",
    "#그래프에서 마이너스 기호가 표시되도록 하는 설정입니다. "
   ]
  },
  {
   "cell_type": "code",
   "execution_count": 94,
   "id": "65863d1f",
   "metadata": {
    "scrolled": true
   },
   "outputs": [
    {
     "name": "stderr",
     "output_type": "stream",
     "text": [
      "C:\\Users\\user\\anaconda3\\lib\\site-packages\\sklearn\\manifold\\_t_sne.py:780: FutureWarning: The default initialization in TSNE will change from 'random' to 'pca' in 1.2.\n",
      "  warnings.warn(\n",
      "C:\\Users\\user\\anaconda3\\lib\\site-packages\\sklearn\\manifold\\_t_sne.py:790: FutureWarning: The default learning rate in TSNE will change from 200.0 to 'auto' in 1.2.\n",
      "  warnings.warn(\n"
     ]
    },
    {
     "name": "stdout",
     "output_type": "stream",
     "text": [
      "[t-SNE] Computing 91 nearest neighbors...\n",
      "[t-SNE] Indexed 15429 samples in 0.002s...\n",
      "[t-SNE] Computed neighbors for 15429 samples in 4.375s...\n",
      "[t-SNE] Computed conditional probabilities for sample 1000 / 15429\n",
      "[t-SNE] Computed conditional probabilities for sample 2000 / 15429\n",
      "[t-SNE] Computed conditional probabilities for sample 3000 / 15429\n",
      "[t-SNE] Computed conditional probabilities for sample 4000 / 15429\n",
      "[t-SNE] Computed conditional probabilities for sample 5000 / 15429\n",
      "[t-SNE] Computed conditional probabilities for sample 6000 / 15429\n",
      "[t-SNE] Computed conditional probabilities for sample 7000 / 15429\n",
      "[t-SNE] Computed conditional probabilities for sample 8000 / 15429\n",
      "[t-SNE] Computed conditional probabilities for sample 9000 / 15429\n",
      "[t-SNE] Computed conditional probabilities for sample 10000 / 15429\n",
      "[t-SNE] Computed conditional probabilities for sample 11000 / 15429\n",
      "[t-SNE] Computed conditional probabilities for sample 12000 / 15429\n",
      "[t-SNE] Computed conditional probabilities for sample 13000 / 15429\n",
      "[t-SNE] Computed conditional probabilities for sample 14000 / 15429\n",
      "[t-SNE] Computed conditional probabilities for sample 15000 / 15429\n",
      "[t-SNE] Computed conditional probabilities for sample 15429 / 15429\n",
      "[t-SNE] Mean sigma: 0.000000\n",
      "[t-SNE] KL divergence after 250 iterations with early exaggeration: 74.875984\n",
      "[t-SNE] KL divergence after 1000 iterations: 1.049912\n"
     ]
    }
   ],
   "source": [
    "from sklearn.manifold import TSNE\n",
    "import winsound as sd\n",
    "\n",
    "# class target 정보 제외\n",
    "\n",
    "# 2차원 t-SNE 임베딩\n",
    "tsne_np = TSNE(n_components =2, verbose=1).fit_transform(X_test)\n",
    "\n",
    "# numpy array -> DataFrame 변환\n",
    "tsne_df = pd.DataFrame(tsne_np, columns = ['component 0', 'component 1'])\n",
    "\n",
    "sd.Beep(2000, 1000)"
   ]
  },
  {
   "cell_type": "code",
   "execution_count": 98,
   "id": "767b4c1b",
   "metadata": {},
   "outputs": [
    {
     "data": {
      "text/plain": [
       "((51430,), (15429, 2), (15429,))"
      ]
     },
     "execution_count": 98,
     "metadata": {},
     "output_type": "execute_result"
    }
   ],
   "source": [
    "y.shape, tsne_df.shape , y_test.shape"
   ]
  },
  {
   "cell_type": "code",
   "execution_count": 95,
   "id": "a0cb0c22",
   "metadata": {},
   "outputs": [
    {
     "ename": "ValueError",
     "evalue": "Length of values (51430) does not match length of index (15429)",
     "output_type": "error",
     "traceback": [
      "\u001b[1;31m---------------------------------------------------------------------------\u001b[0m",
      "\u001b[1;31mValueError\u001b[0m                                Traceback (most recent call last)",
      "Input \u001b[1;32mIn [95]\u001b[0m, in \u001b[0;36m<cell line: 4>\u001b[1;34m()\u001b[0m\n\u001b[0;32m      1\u001b[0m \u001b[38;5;66;03m##### import matplotlib.pyplot as plt\u001b[39;00m\n\u001b[0;32m      2\u001b[0m \n\u001b[0;32m      3\u001b[0m \u001b[38;5;66;03m# class target 정보 불러오기 \u001b[39;00m\n\u001b[1;32m----> 4\u001b[0m tsne_df[\u001b[38;5;124m'\u001b[39m\u001b[38;5;124mtarget\u001b[39m\u001b[38;5;124m'\u001b[39m] \u001b[38;5;241m=\u001b[39m y\u001b[38;5;241m.\u001b[39mvalues\n\u001b[0;32m      6\u001b[0m \u001b[38;5;66;03m# target 별 분리\u001b[39;00m\n\u001b[0;32m      7\u001b[0m tsne_df_0 \u001b[38;5;241m=\u001b[39m tsne_df[tsne_df[\u001b[38;5;124m'\u001b[39m\u001b[38;5;124mtarget\u001b[39m\u001b[38;5;124m'\u001b[39m] \u001b[38;5;241m==\u001b[39m \u001b[38;5;241m0\u001b[39m]\n",
      "File \u001b[1;32m~\\anaconda3\\lib\\site-packages\\pandas\\core\\frame.py:3655\u001b[0m, in \u001b[0;36mDataFrame.__setitem__\u001b[1;34m(self, key, value)\u001b[0m\n\u001b[0;32m   3652\u001b[0m     \u001b[38;5;28mself\u001b[39m\u001b[38;5;241m.\u001b[39m_setitem_array([key], value)\n\u001b[0;32m   3653\u001b[0m \u001b[38;5;28;01melse\u001b[39;00m:\n\u001b[0;32m   3654\u001b[0m     \u001b[38;5;66;03m# set column\u001b[39;00m\n\u001b[1;32m-> 3655\u001b[0m     \u001b[38;5;28;43mself\u001b[39;49m\u001b[38;5;241;43m.\u001b[39;49m\u001b[43m_set_item\u001b[49m\u001b[43m(\u001b[49m\u001b[43mkey\u001b[49m\u001b[43m,\u001b[49m\u001b[43m \u001b[49m\u001b[43mvalue\u001b[49m\u001b[43m)\u001b[49m\n",
      "File \u001b[1;32m~\\anaconda3\\lib\\site-packages\\pandas\\core\\frame.py:3832\u001b[0m, in \u001b[0;36mDataFrame._set_item\u001b[1;34m(self, key, value)\u001b[0m\n\u001b[0;32m   3822\u001b[0m \u001b[38;5;28;01mdef\u001b[39;00m \u001b[38;5;21m_set_item\u001b[39m(\u001b[38;5;28mself\u001b[39m, key, value) \u001b[38;5;241m-\u001b[39m\u001b[38;5;241m>\u001b[39m \u001b[38;5;28;01mNone\u001b[39;00m:\n\u001b[0;32m   3823\u001b[0m     \u001b[38;5;124;03m\"\"\"\u001b[39;00m\n\u001b[0;32m   3824\u001b[0m \u001b[38;5;124;03m    Add series to DataFrame in specified column.\u001b[39;00m\n\u001b[0;32m   3825\u001b[0m \n\u001b[1;32m   (...)\u001b[0m\n\u001b[0;32m   3830\u001b[0m \u001b[38;5;124;03m    ensure homogeneity.\u001b[39;00m\n\u001b[0;32m   3831\u001b[0m \u001b[38;5;124;03m    \"\"\"\u001b[39;00m\n\u001b[1;32m-> 3832\u001b[0m     value \u001b[38;5;241m=\u001b[39m \u001b[38;5;28;43mself\u001b[39;49m\u001b[38;5;241;43m.\u001b[39;49m\u001b[43m_sanitize_column\u001b[49m\u001b[43m(\u001b[49m\u001b[43mvalue\u001b[49m\u001b[43m)\u001b[49m\n\u001b[0;32m   3834\u001b[0m     \u001b[38;5;28;01mif\u001b[39;00m (\n\u001b[0;32m   3835\u001b[0m         key \u001b[38;5;129;01min\u001b[39;00m \u001b[38;5;28mself\u001b[39m\u001b[38;5;241m.\u001b[39mcolumns\n\u001b[0;32m   3836\u001b[0m         \u001b[38;5;129;01mand\u001b[39;00m value\u001b[38;5;241m.\u001b[39mndim \u001b[38;5;241m==\u001b[39m \u001b[38;5;241m1\u001b[39m\n\u001b[0;32m   3837\u001b[0m         \u001b[38;5;129;01mand\u001b[39;00m \u001b[38;5;129;01mnot\u001b[39;00m is_extension_array_dtype(value)\n\u001b[0;32m   3838\u001b[0m     ):\n\u001b[0;32m   3839\u001b[0m         \u001b[38;5;66;03m# broadcast across multiple columns if necessary\u001b[39;00m\n\u001b[0;32m   3840\u001b[0m         \u001b[38;5;28;01mif\u001b[39;00m \u001b[38;5;129;01mnot\u001b[39;00m \u001b[38;5;28mself\u001b[39m\u001b[38;5;241m.\u001b[39mcolumns\u001b[38;5;241m.\u001b[39mis_unique \u001b[38;5;129;01mor\u001b[39;00m \u001b[38;5;28misinstance\u001b[39m(\u001b[38;5;28mself\u001b[39m\u001b[38;5;241m.\u001b[39mcolumns, MultiIndex):\n",
      "File \u001b[1;32m~\\anaconda3\\lib\\site-packages\\pandas\\core\\frame.py:4535\u001b[0m, in \u001b[0;36mDataFrame._sanitize_column\u001b[1;34m(self, value)\u001b[0m\n\u001b[0;32m   4532\u001b[0m     \u001b[38;5;28;01mreturn\u001b[39;00m _reindex_for_setitem(value, \u001b[38;5;28mself\u001b[39m\u001b[38;5;241m.\u001b[39mindex)\n\u001b[0;32m   4534\u001b[0m \u001b[38;5;28;01mif\u001b[39;00m is_list_like(value):\n\u001b[1;32m-> 4535\u001b[0m     \u001b[43mcom\u001b[49m\u001b[38;5;241;43m.\u001b[39;49m\u001b[43mrequire_length_match\u001b[49m\u001b[43m(\u001b[49m\u001b[43mvalue\u001b[49m\u001b[43m,\u001b[49m\u001b[43m \u001b[49m\u001b[38;5;28;43mself\u001b[39;49m\u001b[38;5;241;43m.\u001b[39;49m\u001b[43mindex\u001b[49m\u001b[43m)\u001b[49m\n\u001b[0;32m   4536\u001b[0m \u001b[38;5;28;01mreturn\u001b[39;00m sanitize_array(value, \u001b[38;5;28mself\u001b[39m\u001b[38;5;241m.\u001b[39mindex, copy\u001b[38;5;241m=\u001b[39m\u001b[38;5;28;01mTrue\u001b[39;00m, allow_2d\u001b[38;5;241m=\u001b[39m\u001b[38;5;28;01mTrue\u001b[39;00m)\n",
      "File \u001b[1;32m~\\anaconda3\\lib\\site-packages\\pandas\\core\\common.py:557\u001b[0m, in \u001b[0;36mrequire_length_match\u001b[1;34m(data, index)\u001b[0m\n\u001b[0;32m    553\u001b[0m \u001b[38;5;124;03m\"\"\"\u001b[39;00m\n\u001b[0;32m    554\u001b[0m \u001b[38;5;124;03mCheck the length of data matches the length of the index.\u001b[39;00m\n\u001b[0;32m    555\u001b[0m \u001b[38;5;124;03m\"\"\"\u001b[39;00m\n\u001b[0;32m    556\u001b[0m \u001b[38;5;28;01mif\u001b[39;00m \u001b[38;5;28mlen\u001b[39m(data) \u001b[38;5;241m!=\u001b[39m \u001b[38;5;28mlen\u001b[39m(index):\n\u001b[1;32m--> 557\u001b[0m     \u001b[38;5;28;01mraise\u001b[39;00m \u001b[38;5;167;01mValueError\u001b[39;00m(\n\u001b[0;32m    558\u001b[0m         \u001b[38;5;124m\"\u001b[39m\u001b[38;5;124mLength of values \u001b[39m\u001b[38;5;124m\"\u001b[39m\n\u001b[0;32m    559\u001b[0m         \u001b[38;5;124mf\u001b[39m\u001b[38;5;124m\"\u001b[39m\u001b[38;5;124m(\u001b[39m\u001b[38;5;132;01m{\u001b[39;00m\u001b[38;5;28mlen\u001b[39m(data)\u001b[38;5;132;01m}\u001b[39;00m\u001b[38;5;124m) \u001b[39m\u001b[38;5;124m\"\u001b[39m\n\u001b[0;32m    560\u001b[0m         \u001b[38;5;124m\"\u001b[39m\u001b[38;5;124mdoes not match length of index \u001b[39m\u001b[38;5;124m\"\u001b[39m\n\u001b[0;32m    561\u001b[0m         \u001b[38;5;124mf\u001b[39m\u001b[38;5;124m\"\u001b[39m\u001b[38;5;124m(\u001b[39m\u001b[38;5;132;01m{\u001b[39;00m\u001b[38;5;28mlen\u001b[39m(index)\u001b[38;5;132;01m}\u001b[39;00m\u001b[38;5;124m)\u001b[39m\u001b[38;5;124m\"\u001b[39m\n\u001b[0;32m    562\u001b[0m     )\n",
      "\u001b[1;31mValueError\u001b[0m: Length of values (51430) does not match length of index (15429)"
     ]
    }
   ],
   "source": [
    "##### import matplotlib.pyplot as plt\n",
    "\n",
    "# class target 정보 불러오기 \n",
    "tsne_df['target'] = y_test.values\n",
    "\n",
    "# target 별 분리\n",
    "tsne_df_0 = tsne_df[tsne_df['target'] == 0]\n",
    "tsne_df_1 = tsne_df[tsne_df['target'] == 1]\n",
    "tsne_df_2 = tsne_df[tsne_df['target'] == 2]\n",
    "tsne_df_3 = tsne_df[tsne_df['target'] == 3]\n",
    "tsne_df_4 = tsne_df[tsne_df['target'] == 4]\n",
    "tsne_df_5 = tsne_df[tsne_df['target'] == 5]\n",
    "tsne_df_6 = tsne_df[tsne_df['target'] == 6]\n",
    "tsne_df_7 = tsne_df[tsne_df['target'] == 7]\n",
    "tsne_df_8 = tsne_df[tsne_df['target'] == 8]\n",
    "tsne_df_9 = tsne_df[tsne_df['target'] == 9]\n",
    "tsne_df_10 = tsne_df[tsne_df['target'] == 10]\n",
    "tsne_df_11 = tsne_df[tsne_df['target'] == 11]\n",
    "tsne_df_12 = tsne_df[tsne_df['target'] == 12]\n",
    "tsne_df_13 = tsne_df[tsne_df['target'] == 13]\n",
    "tsne_df_14 = tsne_df[tsne_df['target'] == 14]\n",
    "tsne_df_15 = tsne_df[tsne_df['target'] == 15]\n",
    "tsne_df_17 = tsne_df[tsne_df['target'] == 17]\n",
    "\n",
    "# target 별 시각화\n",
    "plt.figure(figsize = (9,8))\n",
    "plt.subplot(211)\n",
    "plt.scatter(tsne_df_0['component 0'], tsne_df_0['component 1'], color = 'red', label = '0')\n",
    "plt.scatter(tsne_df_1['component 0'], tsne_df_1['component 1'], color = 'blue', label = '1')\n",
    "plt.scatter(tsne_df_2['component 0'], tsne_df_2['component 1'], color = 'green', label = '2')\n",
    "plt.scatter(tsne_df_3['component 0'], tsne_df_3['component 1'], color = 'black', label = '3')\n",
    "plt.scatter(tsne_df_4['component 0'], tsne_df_4['component 1'], color = 'gray', label = '4')\n",
    "plt.scatter(tsne_df_5['component 0'], tsne_df_5['component 1'], color = 'yellow', label = '5')\n",
    "plt.scatter(tsne_df_6['component 0'], tsne_df_6['component 1'], color = 'pink', label = '6')\n",
    "plt.scatter(tsne_df_7['component 0'], tsne_df_7['component 1'], color = 'lightblue', label = '7')\n",
    "plt.scatter(tsne_df_8['component 0'], tsne_df_8['component 1'], color = 'darkblue', label = '8')\n",
    "plt.scatter(tsne_df_9['component 0'], tsne_df_9['component 1'], color = 'purple', label = '9')\n",
    "plt.legend(condition_legend, loc=(1.05,0.2))\n",
    "plt.xlabel('Component 1')\n",
    "plt.ylabel('Component 2')\n",
    "plt.grid()\n",
    "\n",
    "plt.subplot(212)\n",
    "plt.scatter(tsne_df_10['component 0'], tsne_df_10['component 1'], color = 'coral', label = '10')\n",
    "plt.scatter(tsne_df_11['component 0'], tsne_df_11['component 1'], color = 'olive', label = '11')\n",
    "plt.scatter(tsne_df_12['component 0'], tsne_df_12['component 1'], color = 'aquamarine', label = '12')\n",
    "plt.scatter(tsne_df_13['component 0'], tsne_df_13['component 1'], color = 'darkorange', label = '13')\n",
    "plt.scatter(tsne_df_14['component 0'], tsne_df_14['component 1'], color = 'goldenrod', label = '14')\n",
    "plt.scatter(tsne_df_15['component 0'], tsne_df_15['component 1'], color = 'palegreen', label = '15')\n",
    "plt.scatter(tsne_df_17['component 0'], tsne_df_17['component 1'], color = 'violet', label = '17')\n",
    "plt.legend(condition_legend, loc=(1.05,0.2))\n",
    "plt.xlabel('Component 1')\n",
    "plt.ylabel('Component 2')\n",
    "plt.grid()\n",
    "plt.show()"
   ]
  },
  {
   "cell_type": "code",
   "execution_count": null,
   "id": "4b505744",
   "metadata": {},
   "outputs": [],
   "source": []
  },
  {
   "cell_type": "code",
   "execution_count": 175,
   "id": "551770a8",
   "metadata": {},
   "outputs": [
    {
     "ename": "ValueError",
     "evalue": "Found input variables with inconsistent numbers of samples: [17144, 5144]",
     "output_type": "error",
     "traceback": [
      "\u001b[1;31m---------------------------------------------------------------------------\u001b[0m",
      "\u001b[1;31mValueError\u001b[0m                                Traceback (most recent call last)",
      "Input \u001b[1;32mIn [175]\u001b[0m, in \u001b[0;36m<cell line: 3>\u001b[1;34m()\u001b[0m\n\u001b[0;32m      1\u001b[0m LABELS \u001b[38;5;241m=\u001b[39m [\u001b[38;5;124m'\u001b[39m\u001b[38;5;124m0\u001b[39m\u001b[38;5;124m'\u001b[39m,\u001b[38;5;124m'\u001b[39m\u001b[38;5;124m1\u001b[39m\u001b[38;5;124m'\u001b[39m,\u001b[38;5;124m'\u001b[39m\u001b[38;5;124m2\u001b[39m\u001b[38;5;124m'\u001b[39m,\u001b[38;5;124m'\u001b[39m\u001b[38;5;124m3\u001b[39m\u001b[38;5;124m'\u001b[39m,\u001b[38;5;124m'\u001b[39m\u001b[38;5;124m4\u001b[39m\u001b[38;5;124m'\u001b[39m,\u001b[38;5;124m'\u001b[39m\u001b[38;5;124m5\u001b[39m\u001b[38;5;124m'\u001b[39m,\u001b[38;5;124m'\u001b[39m\u001b[38;5;124m6\u001b[39m\u001b[38;5;124m'\u001b[39m,\u001b[38;5;124m'\u001b[39m\u001b[38;5;124m7\u001b[39m\u001b[38;5;124m'\u001b[39m,\u001b[38;5;124m'\u001b[39m\u001b[38;5;124m8\u001b[39m\u001b[38;5;124m'\u001b[39m,\u001b[38;5;124m'\u001b[39m\u001b[38;5;124m9\u001b[39m\u001b[38;5;124m'\u001b[39m,\u001b[38;5;124m'\u001b[39m\u001b[38;5;124m10\u001b[39m\u001b[38;5;124m'\u001b[39m,\u001b[38;5;124m'\u001b[39m\u001b[38;5;124m11\u001b[39m\u001b[38;5;124m'\u001b[39m,\u001b[38;5;124m'\u001b[39m\u001b[38;5;124m12\u001b[39m\u001b[38;5;124m'\u001b[39m,\u001b[38;5;124m'\u001b[39m\u001b[38;5;124m13\u001b[39m\u001b[38;5;124m'\u001b[39m,\u001b[38;5;124m'\u001b[39m\u001b[38;5;124m14\u001b[39m\u001b[38;5;124m'\u001b[39m,\u001b[38;5;124m'\u001b[39m\u001b[38;5;124m15\u001b[39m\u001b[38;5;124m'\u001b[39m,\u001b[38;5;124m'\u001b[39m\u001b[38;5;124m17\u001b[39m\u001b[38;5;124m'\u001b[39m]\n\u001b[0;32m      2\u001b[0m plt\u001b[38;5;241m.\u001b[39mfigure()\n\u001b[1;32m----> 3\u001b[0m sns\u001b[38;5;241m.\u001b[39mheatmap(\u001b[43mconfusion_matrix\u001b[49m\u001b[43m(\u001b[49m\u001b[43my\u001b[49m\u001b[43m,\u001b[49m\u001b[43m \u001b[49m\u001b[43my_pred\u001b[49m\u001b[43m)\u001b[49m, xticklabels\u001b[38;5;241m=\u001b[39mLABELS, yticklabels\u001b[38;5;241m=\u001b[39mLABELS, annot\u001b[38;5;241m=\u001b[39m\u001b[38;5;28;01mTrue\u001b[39;00m, fmt\u001b[38;5;241m=\u001b[39m\u001b[38;5;124m'\u001b[39m\u001b[38;5;124md\u001b[39m\u001b[38;5;124m'\u001b[39m)\n\u001b[0;32m      4\u001b[0m plt\u001b[38;5;241m.\u001b[39mtitle(\u001b[38;5;124m'\u001b[39m\u001b[38;5;124mConfusion Matrix\u001b[39m\u001b[38;5;124m'\u001b[39m)\n\u001b[0;32m      5\u001b[0m plt\u001b[38;5;241m.\u001b[39mxlabel(\u001b[38;5;124m'\u001b[39m\u001b[38;5;124mPredicted Class\u001b[39m\u001b[38;5;124m'\u001b[39m); plt\u001b[38;5;241m.\u001b[39mylabel(\u001b[38;5;124m'\u001b[39m\u001b[38;5;124mTrue Class\u001b[39m\u001b[38;5;124m'\u001b[39m)\n",
      "File \u001b[1;32m~\\anaconda3\\lib\\site-packages\\sklearn\\metrics\\_classification.py:307\u001b[0m, in \u001b[0;36mconfusion_matrix\u001b[1;34m(y_true, y_pred, labels, sample_weight, normalize)\u001b[0m\n\u001b[0;32m    222\u001b[0m \u001b[38;5;28;01mdef\u001b[39;00m \u001b[38;5;21mconfusion_matrix\u001b[39m(\n\u001b[0;32m    223\u001b[0m     y_true, y_pred, \u001b[38;5;241m*\u001b[39m, labels\u001b[38;5;241m=\u001b[39m\u001b[38;5;28;01mNone\u001b[39;00m, sample_weight\u001b[38;5;241m=\u001b[39m\u001b[38;5;28;01mNone\u001b[39;00m, normalize\u001b[38;5;241m=\u001b[39m\u001b[38;5;28;01mNone\u001b[39;00m\n\u001b[0;32m    224\u001b[0m ):\n\u001b[0;32m    225\u001b[0m     \u001b[38;5;124;03m\"\"\"Compute confusion matrix to evaluate the accuracy of a classification.\u001b[39;00m\n\u001b[0;32m    226\u001b[0m \n\u001b[0;32m    227\u001b[0m \u001b[38;5;124;03m    By definition a confusion matrix :math:`C` is such that :math:`C_{i, j}`\u001b[39;00m\n\u001b[1;32m   (...)\u001b[0m\n\u001b[0;32m    305\u001b[0m \u001b[38;5;124;03m    (0, 2, 1, 1)\u001b[39;00m\n\u001b[0;32m    306\u001b[0m \u001b[38;5;124;03m    \"\"\"\u001b[39;00m\n\u001b[1;32m--> 307\u001b[0m     y_type, y_true, y_pred \u001b[38;5;241m=\u001b[39m \u001b[43m_check_targets\u001b[49m\u001b[43m(\u001b[49m\u001b[43my_true\u001b[49m\u001b[43m,\u001b[49m\u001b[43m \u001b[49m\u001b[43my_pred\u001b[49m\u001b[43m)\u001b[49m\n\u001b[0;32m    308\u001b[0m     \u001b[38;5;28;01mif\u001b[39;00m y_type \u001b[38;5;129;01mnot\u001b[39;00m \u001b[38;5;129;01min\u001b[39;00m (\u001b[38;5;124m\"\u001b[39m\u001b[38;5;124mbinary\u001b[39m\u001b[38;5;124m\"\u001b[39m, \u001b[38;5;124m\"\u001b[39m\u001b[38;5;124mmulticlass\u001b[39m\u001b[38;5;124m\"\u001b[39m):\n\u001b[0;32m    309\u001b[0m         \u001b[38;5;28;01mraise\u001b[39;00m \u001b[38;5;167;01mValueError\u001b[39;00m(\u001b[38;5;124m\"\u001b[39m\u001b[38;5;132;01m%s\u001b[39;00m\u001b[38;5;124m is not supported\u001b[39m\u001b[38;5;124m\"\u001b[39m \u001b[38;5;241m%\u001b[39m y_type)\n",
      "File \u001b[1;32m~\\anaconda3\\lib\\site-packages\\sklearn\\metrics\\_classification.py:84\u001b[0m, in \u001b[0;36m_check_targets\u001b[1;34m(y_true, y_pred)\u001b[0m\n\u001b[0;32m     57\u001b[0m \u001b[38;5;28;01mdef\u001b[39;00m \u001b[38;5;21m_check_targets\u001b[39m(y_true, y_pred):\n\u001b[0;32m     58\u001b[0m     \u001b[38;5;124;03m\"\"\"Check that y_true and y_pred belong to the same classification task.\u001b[39;00m\n\u001b[0;32m     59\u001b[0m \n\u001b[0;32m     60\u001b[0m \u001b[38;5;124;03m    This converts multiclass or binary types to a common shape, and raises a\u001b[39;00m\n\u001b[1;32m   (...)\u001b[0m\n\u001b[0;32m     82\u001b[0m \u001b[38;5;124;03m    y_pred : array or indicator matrix\u001b[39;00m\n\u001b[0;32m     83\u001b[0m \u001b[38;5;124;03m    \"\"\"\u001b[39;00m\n\u001b[1;32m---> 84\u001b[0m     \u001b[43mcheck_consistent_length\u001b[49m\u001b[43m(\u001b[49m\u001b[43my_true\u001b[49m\u001b[43m,\u001b[49m\u001b[43m \u001b[49m\u001b[43my_pred\u001b[49m\u001b[43m)\u001b[49m\n\u001b[0;32m     85\u001b[0m     type_true \u001b[38;5;241m=\u001b[39m type_of_target(y_true)\n\u001b[0;32m     86\u001b[0m     type_pred \u001b[38;5;241m=\u001b[39m type_of_target(y_pred)\n",
      "File \u001b[1;32m~\\anaconda3\\lib\\site-packages\\sklearn\\utils\\validation.py:332\u001b[0m, in \u001b[0;36mcheck_consistent_length\u001b[1;34m(*arrays)\u001b[0m\n\u001b[0;32m    330\u001b[0m uniques \u001b[38;5;241m=\u001b[39m np\u001b[38;5;241m.\u001b[39munique(lengths)\n\u001b[0;32m    331\u001b[0m \u001b[38;5;28;01mif\u001b[39;00m \u001b[38;5;28mlen\u001b[39m(uniques) \u001b[38;5;241m>\u001b[39m \u001b[38;5;241m1\u001b[39m:\n\u001b[1;32m--> 332\u001b[0m     \u001b[38;5;28;01mraise\u001b[39;00m \u001b[38;5;167;01mValueError\u001b[39;00m(\n\u001b[0;32m    333\u001b[0m         \u001b[38;5;124m\"\u001b[39m\u001b[38;5;124mFound input variables with inconsistent numbers of samples: \u001b[39m\u001b[38;5;132;01m%r\u001b[39;00m\u001b[38;5;124m\"\u001b[39m\n\u001b[0;32m    334\u001b[0m         \u001b[38;5;241m%\u001b[39m [\u001b[38;5;28mint\u001b[39m(l) \u001b[38;5;28;01mfor\u001b[39;00m l \u001b[38;5;129;01min\u001b[39;00m lengths]\n\u001b[0;32m    335\u001b[0m     )\n",
      "\u001b[1;31mValueError\u001b[0m: Found input variables with inconsistent numbers of samples: [17144, 5144]"
     ]
    },
    {
     "data": {
      "text/plain": [
       "<Figure size 432x288 with 0 Axes>"
      ]
     },
     "metadata": {},
     "output_type": "display_data"
    }
   ],
   "source": [
    "LABELS = ['0','1','2','3','4','5','6','7','8','9','10','11','12','13','14','15','17']\n",
    "plt.figure()\n",
    "sns.heatmap(confusion_matrix(y, y_pred), xticklabels=LABELS, yticklabels=LABELS, annot=True, fmt='d')\n",
    "plt.title('Confusion Matrix')\n",
    "plt.xlabel('Predicted Class'); plt.ylabel('True Class')\n",
    "plt.show()"
   ]
  },
  {
   "cell_type": "markdown",
   "id": "535cfb18",
   "metadata": {},
   "source": [
    "# 지종 하나에 대해 분석\n",
    "- 10/7 할일\n",
    "- 1.(파이썬) 하나의 평량, 지종에 한달 단위로 클러스터링 표시\n",
    "- 2.(매트랩) 피직스 모델은 MESH로 표현, DATA 모델은 Point로 표현, 뉴럴넷을 이용해서 이상치 탐지"
   ]
  },
  {
   "cell_type": "code",
   "execution_count": 24,
   "id": "2d8b2d05",
   "metadata": {},
   "outputs": [],
   "source": [
    "df_temp=df_RTDB_MES_Power[condition_4][tags].interpolate('ffill')\n",
    "df_temp['지종']=pd.DatetimeIndex(df_temp.index).month"
   ]
  },
  {
   "cell_type": "code",
   "execution_count": null,
   "id": "af0b36f8",
   "metadata": {},
   "outputs": [],
   "source": [
    "tsne_np.shape"
   ]
  },
  {
   "cell_type": "code",
   "execution_count": 25,
   "id": "cf0905d0",
   "metadata": {},
   "outputs": [
    {
     "data": {
      "text/plain": [
       "(11396, 61)"
      ]
     },
     "execution_count": 25,
     "metadata": {},
     "output_type": "execute_result"
    }
   ],
   "source": [
    "df_temp.shape"
   ]
  },
  {
   "cell_type": "code",
   "execution_count": 26,
   "id": "eeaba385",
   "metadata": {
    "scrolled": true
   },
   "outputs": [
    {
     "data": {
      "text/plain": [
       "Int64Index([1, 1, 1, 1, 1, 1, 1, 1, 1, 1,\n",
       "            ...\n",
       "            7, 7, 7, 7, 7, 7, 7, 7, 7, 7],\n",
       "           dtype='int64', length=11396)"
      ]
     },
     "execution_count": 26,
     "metadata": {},
     "output_type": "execute_result"
    }
   ],
   "source": [
    "pd.DatetimeIndex(df_temp.index).month"
   ]
  },
  {
   "cell_type": "code",
   "execution_count": 20,
   "id": "294162fd",
   "metadata": {
    "scrolled": true
   },
   "outputs": [
    {
     "name": "stderr",
     "output_type": "stream",
     "text": [
      "C:\\Users\\user\\anaconda3\\lib\\site-packages\\sklearn\\base.py:443: UserWarning: X has feature names, but StandardScaler was fitted without feature names\n",
      "  warnings.warn(\n"
     ]
    },
    {
     "data": {
      "text/plain": [
       "0.0484106153397492"
      ]
     },
     "execution_count": 20,
     "metadata": {},
     "output_type": "execute_result"
    }
   ],
   "source": [
    "from sklearn.metrics import accuracy_score\n",
    "\n"
   ]
  },
  {
   "cell_type": "code",
   "execution_count": 27,
   "id": "aaadf537",
   "metadata": {},
   "outputs": [],
   "source": [
    "seed=1004\n",
    "sample_ratio=0.1"
   ]
  },
  {
   "cell_type": "code",
   "execution_count": 28,
   "id": "24f55b72",
   "metadata": {},
   "outputs": [],
   "source": [
    "df_temp=df_temp[['320PIC7509:me','320PIC7510:me','320PIC7511:me','PM3-S3SC.opr:me','320PIC7513:me','320PIC7514:me','PM3-S5SC.opr:me'\n",
    "           ,'320PIC7524:me','320PIC7533:me','320PIC7544:me','320PIC7505:me','320PIC7506:me','320PIC7507:me','320PIC7508:me'\n",
    "           ,'320PDC7516:me','320PDC7518:me','320PDV7519.1:av','320PDC7520:me','320PDV7522.1:av','320HIC7501:av','320TIA7504:av'\n",
    "           ,'320TIA7530:av','320TIA7541:av','320TIA7542:av','320TIC7523:me','320PIC7524:me','320TIC0004:me','320TIC7540:me'\n",
    "           ,'320TIC7545:me','PM3_BASIS_WEIGHT_SP','PM3_BASIS_WEIGHT_SP2','PM3_MOISTURE_SP','PM3_MOISTURE_SP2','329-GIC1002:me'\n",
    "           ,'329-PIC7030.A:me','329-PIC7030.B:me','320-PIC0501:me','PM3_WIRE_SPEED','PM3_ASH_PV','PM3_STOCK_CONSISTENCY_PV'\n",
    "           ,'PM3_STOCK_FLOW_PV','PM3-JWC1.opr:me','PM3-TSF1.opr:me','PM3-RLS1.opr:me','PM3-TASH.opr:me','320LIC7524:me','320LIC7525:me'\n",
    "           ,'320LIC7526:me','320LIC7527:me','320LIC7528:me','320LIC7529:me','320LIC7537:me','320LIC7529:me','320LIC7528:me'\n",
    "           ,'320LIC7527:me','320LIC7526:me','320LIC7525:me','320FIA7531:av','320FIA7535:av','지종']].dropna()"
   ]
  },
  {
   "cell_type": "code",
   "execution_count": 29,
   "id": "a401fba2",
   "metadata": {},
   "outputs": [],
   "source": [
    "X=df_temp[['320PIC7509:me','320PIC7510:me','320PIC7511:me','PM3-S3SC.opr:me','320PIC7513:me','320PIC7514:me','PM3-S5SC.opr:me'\n",
    "           ,'320PIC7524:me','320PIC7533:me','320PIC7544:me','320PIC7505:me','320PIC7506:me','320PIC7507:me','320PIC7508:me'\n",
    "           ,'320PDC7516:me','320PDC7518:me','320PDV7519.1:av','320PDC7520:me','320PDV7522.1:av','320HIC7501:av','320TIA7504:av'\n",
    "           ,'320TIA7530:av','320TIA7541:av','320TIA7542:av','320TIC7523:me','320PIC7524:me','320TIC0004:me','320TIC7540:me'\n",
    "           ,'320TIC7545:me','PM3_BASIS_WEIGHT_SP','PM3_BASIS_WEIGHT_SP2','PM3_MOISTURE_SP','PM3_MOISTURE_SP2','329-GIC1002:me'\n",
    "           ,'329-PIC7030.A:me','329-PIC7030.B:me','320-PIC0501:me','PM3_WIRE_SPEED','PM3_ASH_PV','PM3_STOCK_CONSISTENCY_PV'\n",
    "           ,'PM3_STOCK_FLOW_PV','PM3-JWC1.opr:me','PM3-TSF1.opr:me','PM3-RLS1.opr:me','PM3-TASH.opr:me','320LIC7524:me','320LIC7525:me'\n",
    "           ,'320LIC7526:me','320LIC7527:me','320LIC7528:me','320LIC7529:me','320LIC7537:me','320LIC7529:me','320LIC7528:me'\n",
    "           ,'320LIC7527:me','320LIC7526:me','320LIC7525:me','320FIA7531:av','320FIA7535:av']].sample(frac=sample_ratio,random_state=seed)\n",
    "y=df_temp['지종'].sample(frac=sample_ratio,random_state=seed).astype('int')"
   ]
  },
  {
   "cell_type": "code",
   "execution_count": 30,
   "id": "f7c6eef4",
   "metadata": {},
   "outputs": [],
   "source": [
    "scaler = StandardScaler()\n",
    "scaler.fit(X_train) # X scaler 생성\n",
    "X_train = scaler.transform(X_train)   # 스케일링 적용"
   ]
  },
  {
   "cell_type": "code",
   "execution_count": 31,
   "id": "8564125c",
   "metadata": {},
   "outputs": [
    {
     "data": {
      "text/plain": [
       "((1010, 95), (1010,))"
      ]
     },
     "execution_count": 31,
     "metadata": {},
     "output_type": "execute_result"
    }
   ],
   "source": [
    "X.shape, y.shape"
   ]
  },
  {
   "cell_type": "code",
   "execution_count": 32,
   "id": "b4f6c547",
   "metadata": {},
   "outputs": [
    {
     "data": {
      "text/plain": [
       "SVC()"
      ]
     },
     "execution_count": 32,
     "metadata": {},
     "output_type": "execute_result"
    }
   ],
   "source": [
    "clf = svm.SVC(kernel='rbf') # {'linear', 'poly', 'rbf', 'sigmoid', 'precomputed'}, default='rbf'\n",
    "clf.fit(X_train,y_train)"
   ]
  },
  {
   "cell_type": "code",
   "execution_count": 33,
   "id": "57240684",
   "metadata": {},
   "outputs": [],
   "source": [
    "from sklearn.metrics import confusion_matrix \n",
    "y_pred = clf.predict(X_test)                                             # 학습데이터 분류예측\n",
    "df_confusion_matrix=confusion_matrix(y_test, y_pred).ravel()                 # 정확성검정"
   ]
  },
  {
   "cell_type": "code",
   "execution_count": 34,
   "id": "c3c6b97a",
   "metadata": {},
   "outputs": [
    {
     "data": {
      "image/png": "[encoded data removed]",
      "text/plain": [
       "<Figure size 432x288 with 2 Axes>"
      ]
     },
     "metadata": {
      "needs_background": "light"
     },
     "output_type": "display_data"
    }
   ],
   "source": [
    "# classification by threshold\n",
    "LABELS = ['0','1','2','3','4','5','6','7']\n",
    "plt.figure()\n",
    "sns.heatmap(confusion_matrix(y_test, y_pred), xticklabels=LABELS, yticklabels=LABELS, annot=True, fmt='d')\n",
    "plt.title('Confusion Matrix')\n",
    "plt.xlabel('Predicted Class'); plt.ylabel('True Class')\n",
    "plt.show()"
   ]
  },
  {
   "cell_type": "code",
   "execution_count": 35,
   "id": "3d658e44",
   "metadata": {},
   "outputs": [
    {
     "data": {
      "text/plain": [
       "0.8448678071539658"
      ]
     },
     "execution_count": 35,
     "metadata": {},
     "output_type": "execute_result"
    }
   ],
   "source": [
    "from sklearn.metrics import accuracy_score\n",
    "accuracy_score(y_test, y_pred)"
   ]
  },
  {
   "cell_type": "code",
   "execution_count": 36,
   "id": "30631f15",
   "metadata": {
    "scrolled": true
   },
   "outputs": [
    {
     "name": "stdout",
     "output_type": "stream",
     "text": [
      "[t-SNE] Computing 151 nearest neighbors...\n",
      "[t-SNE] Indexed 5144 samples in 0.001s...\n"
     ]
    },
    {
     "name": "stderr",
     "output_type": "stream",
     "text": [
      "C:\\Users\\user\\anaconda3\\lib\\site-packages\\sklearn\\manifold\\_t_sne.py:780: FutureWarning: The default initialization in TSNE will change from 'random' to 'pca' in 1.2.\n",
      "  warnings.warn(\n",
      "C:\\Users\\user\\anaconda3\\lib\\site-packages\\sklearn\\manifold\\_t_sne.py:790: FutureWarning: The default learning rate in TSNE will change from 200.0 to 'auto' in 1.2.\n",
      "  warnings.warn(\n"
     ]
    },
    {
     "name": "stdout",
     "output_type": "stream",
     "text": [
      "[t-SNE] Computed neighbors for 5144 samples in 0.668s...\n",
      "[t-SNE] Computed conditional probabilities for sample 1000 / 5144\n",
      "[t-SNE] Computed conditional probabilities for sample 2000 / 5144\n",
      "[t-SNE] Computed conditional probabilities for sample 3000 / 5144\n",
      "[t-SNE] Computed conditional probabilities for sample 4000 / 5144\n",
      "[t-SNE] Computed conditional probabilities for sample 5000 / 5144\n",
      "[t-SNE] Computed conditional probabilities for sample 5144 / 5144\n",
      "[t-SNE] Mean sigma: 0.000000\n",
      "[t-SNE] KL divergence after 250 iterations with early exaggeration: 68.580360\n",
      "[t-SNE] KL divergence after 1000 iterations: 0.881451\n"
     ]
    }
   ],
   "source": [
    "from sklearn.manifold import TSNE\n",
    "\n",
    "# class target 정보 제외\n",
    "\n",
    "# 2차원 t-SNE 임베딩\n",
    "tsne_np = TSNE(n_components =2, perplexity = 50, verbose=1).fit_transform(X_test)\n",
    "\n",
    "# numpy array -> DataFrame 변환\n",
    "tsne_df = pd.DataFrame(tsne_np, columns = ['component 0', 'component 1'])"
   ]
  },
  {
   "cell_type": "code",
   "execution_count": 37,
   "id": "8ec605cb",
   "metadata": {
    "scrolled": false
   },
   "outputs": [
    {
     "data": {
      "image/png": "[encoded data removed]",
      "text/plain": [
       "<Figure size 432x288 with 1 Axes>"
      ]
     },
     "metadata": {
      "needs_background": "light"
     },
     "output_type": "display_data"
    }
   ],
   "source": [
    "import matplotlib.pyplot as plt\n",
    "\n",
    "# class target 정보 불러오기 \n",
    "tsne_df['target'] = y_test.values\n",
    "\n",
    "# target 별 분리\n",
    "tsne_df_0 = tsne_df[tsne_df['target'] == 0]\n",
    "tsne_df_1 = tsne_df[tsne_df['target'] == 1]\n",
    "tsne_df_2 = tsne_df[tsne_df['target'] == 2]\n",
    "tsne_df_3 = tsne_df[tsne_df['target'] == 3]\n",
    "tsne_df_4 = tsne_df[tsne_df['target'] == 4]\n",
    "tsne_df_5 = tsne_df[tsne_df['target'] == 5]\n",
    "tsne_df_6 = tsne_df[tsne_df['target'] == 6]\n",
    "tsne_df_7 = tsne_df[tsne_df['target'] == 7]\n",
    "tsne_df_8 = tsne_df[tsne_df['target'] == 8]\n",
    "tsne_df_9 = tsne_df[tsne_df['target'] == 9]\n",
    "\n",
    "# target 별 시각화\n",
    "#plt.scatter(tsne_df_0['component 0'], tsne_df_0['component 1'], color = 'r', label = '12월')\n",
    "#plt.scatter(tsne_df_1['component 0'], tsne_df_1['component 1'], color = 'b', label = '1월')\n",
    "#plt.scatter(tsne_df_2['component 0'], tsne_df_2['component 1'], color = 'g', label = '2월')\n",
    "#plt.scatter(tsne_df_3['component 0'], tsne_df_3['component 1'], color = 'k', label = '3월')\n",
    "plt.scatter(tsne_df_4['component 0'], tsne_df_4['component 1'], color = 'gray', label = '4월')\n",
    "plt.scatter(tsne_df_5['component 0'], tsne_df_5['component 1'], color = 'y', label = '5월')\n",
    "plt.scatter(tsne_df_6['component 0'], tsne_df_6['component 1'], color = 'pink', label = '6월')\n",
    "plt.scatter(tsne_df_7['component 0'], tsne_df_7['component 1'], color = 'lightblue', label = '7월')\n",
    "#plt.scatter(tsne_df_8['component 0'], tsne_df_8['component 1'], color = 'darkblue', label = '8월')\n",
    "#plt.scatter(tsne_df_9['component 0'], tsne_df_9['component 1'], color = 'purple', label = '9월')\n",
    "\n",
    "plt.xlabel('Component 1')\n",
    "plt.ylabel('Component 2')\n",
    "plt.grid()\n",
    "plt.legend(loc=(1.05,0.2))\n",
    "plt.show()"
   ]
  },
  {
   "cell_type": "code",
   "execution_count": null,
   "id": "edc99ef2",
   "metadata": {},
   "outputs": [],
   "source": []
  }
 ],
 "metadata": {
  "kernelspec": {
   "display_name": "Python 3 (ipykernel)",
   "language": "python",
   "name": "python3"
  },
  "language_info": {
   "codemirror_mode": {
    "name": "ipython",
    "version": 3
   },
   "file_extension": ".py",
   "mimetype": "text/x-python",
   "name": "python",
   "nbconvert_exporter": "python",
   "pygments_lexer": "ipython3",
   "version": "3.9.12"
  }
 },
 "nbformat": 4,
 "nbformat_minor": 5
}
