{
 "cells": [
  {
   "cell_type": "code",
   "execution_count": 3,
   "id": "0855e5be",
   "metadata": {
    "scrolled": true
   },
   "outputs": [
    {
     "name": "stderr",
     "output_type": "stream",
     "text": [
      "C:\\Users\\USER\\AppData\\Local\\Temp\\ipykernel_21360\\2594418531.py:19: DeprecationWarning: Importing display from IPython.core.display is deprecated since IPython 7.14, please import from IPython display\n",
      "  from IPython.core.display import display, HTML\n"
     ]
    },
    {
     "data": {
      "text/html": [
       "<style>.container {width:95% !important;}</style>"
      ],
      "text/plain": [
       "<IPython.core.display.HTML object>"
      ]
     },
     "metadata": {},
     "output_type": "display_data"
    }
   ],
   "source": [
    "%config Completer.use_jedi = False\n",
    "import seaborn as sns\n",
    "import matplotlib.pyplot as plt\n",
    "import pandas as pd\n",
    "import numpy as np\n",
    "import pprint\n",
    "import datetime\n",
    "import torch\n",
    "from pyarrow import csv\n",
    "import os.path\n",
    "import matplotlib.pyplot as plt\n",
    "import seaborn as sns\n",
    "import os\n",
    "from tqdm import notebook\n",
    "import scipy.stats as stats\n",
    "from sklearn.preprocessing import MinMaxScaler\n",
    "os.environ['KMP_DUPLICATE_LIB_OK']='True'\n",
    "\n",
    "from IPython.core.display import display, HTML\n",
    "display(HTML(\"<style>.container {width:95% !important;}</style>\")) #셀 사이즈 조절"
   ]
  },
  {
   "cell_type": "code",
   "execution_count": 56,
   "id": "cef14981",
   "metadata": {
    "scrolled": true
   },
   "outputs": [
    {
     "name": "stderr",
     "output_type": "stream",
     "text": [
      "C:\\Users\\USER\\AppData\\Local\\Temp\\ipykernel_21360\\428708869.py:1: DtypeWarning: Columns (8) have mixed types. Specify dtype option on import or set low_memory=False.\n",
      "  df = pd.read_csv('C:/Users/USER/etri_csv/논문/논문자료_v1.csv')\n"
     ]
    }
   ],
   "source": [
    "df = pd.read_csv('C:/Users/USER/etri_csv/논문/논문자료_v1.csv')"
   ]
  },
  {
   "cell_type": "code",
   "execution_count": 57,
   "id": "adfff703",
   "metadata": {},
   "outputs": [],
   "source": [
    "df.set_index('작업시작시간', inplace=True)"
   ]
  },
  {
   "cell_type": "code",
   "execution_count": 58,
   "id": "4dbb952a",
   "metadata": {},
   "outputs": [],
   "source": [
    "df.index =pd.to_datetime(df.index)"
   ]
  },
  {
   "cell_type": "code",
   "execution_count": 59,
   "id": "35b3f90b",
   "metadata": {},
   "outputs": [],
   "source": [
    "df.interpolate('time', inplace=True)"
   ]
  },
  {
   "cell_type": "code",
   "execution_count": 60,
   "id": "d7312b87",
   "metadata": {},
   "outputs": [],
   "source": [
    "df.fillna(method='bfill', inplace=True)"
   ]
  },
  {
   "cell_type": "markdown",
   "id": "32b2145b",
   "metadata": {},
   "source": [
    "사용할 태그  "
   ]
  },
  {
   "cell_type": "code",
   "execution_count": 692,
   "id": "614185cb",
   "metadata": {},
   "outputs": [],
   "source": [
    "tags_Power = [\n",
    " 'HFEMS.MRPAP.01.SH01.PL003.01.A_R',\n",
    " 'HFEMS.MRPAP.01.SH01.PL003.01.A_S',\n",
    " 'HFEMS.MRPAP.01.SH01.PL003.01.A_T',\n",
    " 'HFEMS.MRPAP.01.SH01.PL003.01.HZ',\n",
    " 'HFEMS.MRPAP.01.SH01.PL003.01.KVARH',\n",
    " 'HFEMS.MRPAP.01.SH01.PL003.01.KW',\n",
    " 'HFEMS.MRPAP.01.SH01.PL003.01.KWH',\n",
    " 'HFEMS.MRPAP.01.SH01.PL003.01.PF',\n",
    " 'HFEMS.MRPAP.01.SH01.PL003.01.VA',\n",
    " 'HFEMS.MRPAP.01.SH01.PL003.01.VAR',\n",
    " 'HFEMS.MRPAP.01.SH01.PL003.01.V_LL_R',\n",
    " 'HFEMS.MRPAP.01.SH01.PL003.01.V_LL_S',\n",
    " 'HFEMS.MRPAP.01.SH01.PL003.01.V_LL_T',\n",
    " 'HFEMS.MRPAP.01.SH01.PL003.01.V_R',\n",
    " 'HFEMS.MRPAP.01.SH01.PL003.01.V_S',\n",
    " 'HFEMS.MRPAP.01.SH01.PL003.01.V_T',\n",
    " 'HFEMS.MRPAP.01.SH01.PL003.02.A_R',\n",
    " 'HFEMS.MRPAP.01.SH01.PL003.02.A_S',\n",
    " 'HFEMS.MRPAP.01.SH01.PL003.02.A_T',\n",
    " 'HFEMS.MRPAP.01.SH01.PL003.02.HZ',\n",
    " 'HFEMS.MRPAP.01.SH01.PL003.02.KVARH',\n",
    " 'HFEMS.MRPAP.01.SH01.PL003.02.KW',\n",
    " 'HFEMS.MRPAP.01.SH01.PL003.02.KWH',\n",
    " 'HFEMS.MRPAP.01.SH01.PL003.02.PF',\n",
    " 'HFEMS.MRPAP.01.SH01.PL003.02.VA',\n",
    " 'HFEMS.MRPAP.01.SH01.PL003.02.VAR',\n",
    " 'HFEMS.MRPAP.01.SH01.PL003.02.V_LL_R',\n",
    " 'HFEMS.MRPAP.01.SH01.PL003.02.V_LL_S',\n",
    " 'HFEMS.MRPAP.01.SH01.PL003.02.V_LL_T',\n",
    " 'HFEMS.MRPAP.01.SH01.PL003.02.V_R',\n",
    " 'HFEMS.MRPAP.01.SH01.PL003.02.V_S',\n",
    " 'HFEMS.MRPAP.01.SH01.PL003.02.V_T',\n",
    " 'HFEMS.MRPAP.01.SH01.PL003.03.A_R',\n",
    " 'HFEMS.MRPAP.01.SH01.PL003.03.A_S',\n",
    " 'HFEMS.MRPAP.01.SH01.PL003.03.A_T',\n",
    " 'HFEMS.MRPAP.01.SH01.PL003.03.HZ',\n",
    " 'HFEMS.MRPAP.01.SH01.PL003.03.KVARH',\n",
    " 'HFEMS.MRPAP.01.SH01.PL003.03.KW',\n",
    " 'HFEMS.MRPAP.01.SH01.PL003.03.KWH',\n",
    " 'HFEMS.MRPAP.01.SH01.PL003.03.PF',\n",
    " 'HFEMS.MRPAP.01.SH01.PL003.03.VA',\n",
    " 'HFEMS.MRPAP.01.SH01.PL003.03.VAR',\n",
    " 'HFEMS.MRPAP.01.SH01.PL003.03.V_LL_R',\n",
    " 'HFEMS.MRPAP.01.SH01.PL003.03.V_LL_S',\n",
    " 'HFEMS.MRPAP.01.SH01.PL003.03.V_LL_T',\n",
    " 'HFEMS.MRPAP.01.SH01.PL003.03.V_R',\n",
    " 'HFEMS.MRPAP.01.SH01.PL003.03.V_S',\n",
    " 'HFEMS.MRPAP.01.SH01.PL003.03.V_T',\n",
    " 'HFEMS.MRPAP.01.SH01.PL003.04.A_R',\n",
    " 'HFEMS.MRPAP.01.SH01.PL003.04.A_S',\n",
    " 'HFEMS.MRPAP.01.SH01.PL003.04.A_T',\n",
    " 'HFEMS.MRPAP.01.SH01.PL003.04.HZ',\n",
    " 'HFEMS.MRPAP.01.SH01.PL003.04.KVARH',\n",
    " 'HFEMS.MRPAP.01.SH01.PL003.04.KW',\n",
    " 'HFEMS.MRPAP.01.SH01.PL003.04.KWH',\n",
    " 'HFEMS.MRPAP.01.SH01.PL003.04.PF',\n",
    " 'HFEMS.MRPAP.01.SH01.PL003.04.VA',\n",
    " 'HFEMS.MRPAP.01.SH01.PL003.04.VAR',\n",
    " 'HFEMS.MRPAP.01.SH01.PL003.04.V_LL_R',\n",
    " 'HFEMS.MRPAP.01.SH01.PL003.04.V_LL_S',\n",
    " 'HFEMS.MRPAP.01.SH01.PL003.04.V_LL_T',\n",
    " 'HFEMS.MRPAP.01.SH01.PL003.04.V_R',\n",
    " 'HFEMS.MRPAP.01.SH01.PL003.04.V_S',\n",
    " 'HFEMS.MRPAP.01.SH01.PL003.04.V_T',\n",
    " 'HFEMS.MRPAP.01.SH01.PL003.05.A_R',\n",
    " 'HFEMS.MRPAP.01.SH01.PL003.05.A_S',\n",
    " 'HFEMS.MRPAP.01.SH01.PL003.05.A_T',\n",
    " 'HFEMS.MRPAP.01.SH01.PL003.05.HZ',\n",
    " 'HFEMS.MRPAP.01.SH01.PL003.05.KVARH',\n",
    " 'HFEMS.MRPAP.01.SH01.PL003.05.KW',\n",
    " 'HFEMS.MRPAP.01.SH01.PL003.05.KWH',\n",
    " 'HFEMS.MRPAP.01.SH01.PL003.05.PF',\n",
    " 'HFEMS.MRPAP.01.SH01.PL003.05.VA',\n",
    " 'HFEMS.MRPAP.01.SH01.PL003.05.VAR',\n",
    " 'HFEMS.MRPAP.01.SH01.PL003.05.V_LL_R',\n",
    " 'HFEMS.MRPAP.01.SH01.PL003.05.V_LL_S',\n",
    " 'HFEMS.MRPAP.01.SH01.PL003.05.V_LL_T',\n",
    " 'HFEMS.MRPAP.01.SH01.PL003.05.V_R',\n",
    " 'HFEMS.MRPAP.01.SH01.PL003.05.V_S',\n",
    " 'HFEMS.MRPAP.01.SH01.PL003.05.V_T',\n",
    " 'HFEMS.MRPAP.01.SH01.PL003.06.A_R',\n",
    " 'HFEMS.MRPAP.01.SH01.PL003.06.A_S',\n",
    " 'HFEMS.MRPAP.01.SH01.PL003.06.A_T',\n",
    " 'HFEMS.MRPAP.01.SH01.PL003.06.HZ',\n",
    " 'HFEMS.MRPAP.01.SH01.PL003.06.KVARH',\n",
    " 'HFEMS.MRPAP.01.SH01.PL003.06.KW',\n",
    " 'HFEMS.MRPAP.01.SH01.PL003.06.KWH',\n",
    " 'HFEMS.MRPAP.01.SH01.PL003.06.PF',\n",
    " 'HFEMS.MRPAP.01.SH01.PL003.06.VA',\n",
    " 'HFEMS.MRPAP.01.SH01.PL003.06.VAR',\n",
    " 'HFEMS.MRPAP.01.SH01.PL003.06.V_LL_R',\n",
    " 'HFEMS.MRPAP.01.SH01.PL003.06.V_LL_S',\n",
    " 'HFEMS.MRPAP.01.SH01.PL003.06.V_LL_T',\n",
    " 'HFEMS.MRPAP.01.SH01.PL003.06.V_R',\n",
    " 'HFEMS.MRPAP.01.SH01.PL003.06.V_S',\n",
    " 'HFEMS.MRPAP.01.SH01.PL003.06.V_T'\n",
    " ]"
   ]
  },
  {
   "cell_type": "code",
   "execution_count": 611,
   "id": "23f60955",
   "metadata": {},
   "outputs": [],
   "source": [
    "tags_320=[\n",
    "    '320PIC7509:me',\n",
    " '320PIC7510:me',\n",
    " '320PIC7511:me',\n",
    " '320PIC7513:me',\n",
    " '320PIC7514:me',\n",
    " '320PIC7524:me',\n",
    " '320PIC7533:me',\n",
    " '320PIC7544:me',\n",
    " '320PIC7505:me',\n",
    " '320PIC7506:me',\n",
    " '320PIC7507:me',\n",
    " '320PIC7508:me',\n",
    " '320PDC7516:me',\n",
    " '320PDC7518:me',\n",
    " '320PDV7519.1:av',\n",
    " '320PDC7520:me',\n",
    " '320PDV7522.1:av',\n",
    " '320HIC7501:av',\n",
    " '320TIA7504:av',\n",
    " '320TIA7530:av',\n",
    " '320TIA7541:av',\n",
    " '320TIA7542:av',\n",
    " '320TIC7523:me',\n",
    " '320PIC7524:me.1',\n",
    " '320TIC0004:me',\n",
    " '320TIC7540:me',\n",
    " '320TIC7545:me',\n",
    " '329-GIC1002:me',\n",
    " '329-PIC7030.A:me',\n",
    " '329-PIC7030.B:me',\n",
    " '320-PIC0501:me',\n",
    " '320LIC7524:me',\n",
    " '320LIC7525:me',\n",
    " '320LIC7526:me',\n",
    " '320LIC7527:me',\n",
    " '320LIC7528:me',\n",
    " '320LIC7529:me',\n",
    " '320LIC7537:me',\n",
    " '320LIC7529:me.1',\n",
    " '320LIC7528:me.1',\n",
    " '320LIC7527:me.1',\n",
    " '320LIC7526:me.1',\n",
    " '320LIC7525:me.1',\n",
    " '320FIA7531:av',\n",
    " '320FIA7535:av'\n",
    "]"
   ]
  },
  {
   "cell_type": "code",
   "execution_count": 612,
   "id": "eb53da25",
   "metadata": {},
   "outputs": [],
   "source": [
    "tags_PM3=[\n",
    "     'PM3-S3SC.opr:me',\n",
    "     'PM3-S5SC.opr:me',\n",
    "     'PM3_BASIS_WEIGHT_SP',\n",
    "     'PM3_BASIS_WEIGHT_SP2',\n",
    "     'PM3_MOISTURE_SP',\n",
    "     'PM3_MOISTURE_SP2',\n",
    "     'PM3_WIRE_SPEED',\n",
    " 'PM3_ASH_PV',\n",
    " 'PM3_STOCK_CONSISTENCY_PV',\n",
    " 'PM3_STOCK_FLOW_PV',\n",
    " 'PM3-JWC1.opr:me',\n",
    " 'PM3-TSF1.opr:me',\n",
    " 'PM3-RLS1.opr:me',\n",
    " 'PM3-TASH.opr:me'\n",
    "]"
   ]
  },
  {
   "cell_type": "markdown",
   "id": "2ea694e2",
   "metadata": {},
   "source": [
    "지절 발생이 가장 많은 3월 데이터 사용"
   ]
  },
  {
   "cell_type": "code",
   "execution_count": 675,
   "id": "76dfbe1c",
   "metadata": {},
   "outputs": [],
   "source": [
    "df_3M =df[df['월']==3]"
   ]
  },
  {
   "cell_type": "markdown",
   "id": "18d96cda",
   "metadata": {},
   "source": [
    "### 결측치 처리"
   ]
  },
  {
   "cell_type": "code",
   "execution_count": 676,
   "id": "839c474a",
   "metadata": {},
   "outputs": [
    {
     "name": "stderr",
     "output_type": "stream",
     "text": [
      "C:\\Users\\USER\\AppData\\Local\\Temp\\ipykernel_21360\\3805525285.py:1: SettingWithCopyWarning: \n",
      "A value is trying to be set on a copy of a slice from a DataFrame\n",
      "\n",
      "See the caveats in the documentation: https://pandas.pydata.org/pandas-docs/stable/user_guide/indexing.html#returning-a-view-versus-a-copy\n",
      "  df_3M.dropna(subset=['설비'], inplace=True)\n",
      "C:\\Users\\USER\\AppData\\Local\\Temp\\ipykernel_21360\\3805525285.py:2: SettingWithCopyWarning: \n",
      "A value is trying to be set on a copy of a slice from a DataFrame\n",
      "\n",
      "See the caveats in the documentation: https://pandas.pydata.org/pandas-docs/stable/user_guide/indexing.html#returning-a-view-versus-a-copy\n",
      "  df_3M.dropna(axis=1, inplace=True)\n"
     ]
    }
   ],
   "source": [
    "df_3M.dropna(subset=['설비'], inplace=True)\n",
    "df_3M.dropna(axis=1, inplace=True)"
   ]
  },
  {
   "cell_type": "code",
   "execution_count": 677,
   "id": "dee10291",
   "metadata": {},
   "outputs": [],
   "source": [
    "df_3M.reset_index(inplace=True)"
   ]
  },
  {
   "cell_type": "code",
   "execution_count": 678,
   "id": "837499a2",
   "metadata": {},
   "outputs": [],
   "source": [
    "condition_1 = ((df_3M['지종']=='네오★백상')&(df_3M['평량']==100.0))\n",
    "condition_2 = ((df_3M['지종']=='네오★스노우화이트기지')&(df_3M['평량']==73.0))\n",
    "condition_3 = ((df_3M['지종']=='네오★스노우화이트기지')&(df_3M['평량']==77.0))\n",
    "condition_4 = ((df_3M['지종']=='네오★스노우화이트기지')&(df_3M['평량']==62.0))\n",
    "condition_5 = ((df_3M['지종']=='네오★아트 R10기지')&(df_3M['평량']==77.0))\n",
    "condition_6 = ((df_3M['지종']=='네오★라벨기지')&(df_3M['평량']==67.0))\n",
    "condition_7 = ((df_3M['지종']=='네오★스노우화이트 R10기지')&(df_3M['평량']==67.0))\n",
    "condition_8 = ((df_3M['지종']=='네오★아트기지')&(df_3M['평량']==62.0))\n",
    "condition_9 = ((df_3M['지종']=='네오★아트기지')&(df_3M['평량']==73.0))"
   ]
  },
  {
   "cell_type": "code",
   "execution_count": 679,
   "id": "8025796e",
   "metadata": {},
   "outputs": [],
   "source": [
    "condition_legend=['네오★백상(100.0)', \n",
    "                  '네오★스노우화이트기지(73.0)',\n",
    "                  '네오★스노우화이트기지(77.0)',\n",
    "                  '네오★스노우화이트기지(62.0)',\n",
    "                  '네오★아트 R10기지(77.0)', \n",
    "                  '네오★라벨기지(67.0)',\n",
    "                  '네오★스노우화이트 R10기지(67.0)',\n",
    "                  '네오★아트기지(62.0)', \n",
    "                  '네오★아트기지(73.0)',\n",
    "                  ]"
   ]
  },
  {
   "cell_type": "code",
   "execution_count": 680,
   "id": "405618e5",
   "metadata": {},
   "outputs": [],
   "source": [
    "conditions=condition_1 | condition_2 | condition_3 | condition_4 | condition_5 | condition_6 | condition_7 | condition_8 | condition_9"
   ]
  },
  {
   "cell_type": "code",
   "execution_count": 694,
   "id": "c6810d1f",
   "metadata": {},
   "outputs": [],
   "source": [
    "tags = ['작업시작시간','지절','지종','평량']+tags_PM3+tags_320+tags_Power\n",
    "#tags = ['작업시작시간','지절','지종','평량']+tags_QCS #15T\n",
    "\n",
    "\n",
    "#remv = ['320PIC7509:me', '320PIC7510:me', 'PM3-S3SC.opr:me', '320PIC7513:me', 'PM3-S5SC.opr:me', '320PIC7544:me', '320PIC7506:me', '320PIC7507:me', '320PIC7508:me', '320PDC7516:me', '320PDC7518:me', '320PDV7519.1:av', '320PDV7522.1:av', '320TIA7504:av', '320TIA7541:av', '320TIC7523:me', '320TIC0004:me', '320TIC7540:me', '329-GIC1002:me', '329-PIC7030.A:me', '329-PIC7030.B:me', 'PM3-JWC1.opr:me', 'PM3-TSF1.opr:me', '320LIC7526:me', '320LIC7526:me.1', '320PIC7524:me', '320HIC7501:av', '320PIC7524:me.1', '320FIA7535:av']\n",
    "\n",
    "# for i in remv:\n",
    "#     tags.remove(i)"
   ]
  },
  {
   "cell_type": "code",
   "execution_count": 695,
   "id": "2c2afdaf",
   "metadata": {
    "scrolled": true
   },
   "outputs": [],
   "source": [
    "df_3M_temp = df_3M[conditions][tags]"
   ]
  },
  {
   "cell_type": "code",
   "execution_count": 696,
   "id": "18294d69",
   "metadata": {
    "scrolled": true
   },
   "outputs": [],
   "source": [
    "for index,condition in enumerate([condition_1,condition_2,condition_3,condition_4,condition_5,condition_6,condition_7,condition_8,condition_9 ]):\n",
    "    df_3M_temp.loc[condition,['지종']]=index"
   ]
  },
  {
   "cell_type": "code",
   "execution_count": 697,
   "id": "4c9b9c16",
   "metadata": {
    "scrolled": true
   },
   "outputs": [
    {
     "data": {
      "text/plain": [
       "[0, 8, 4, 7, 5, 3, 6, 1, 2]"
      ]
     },
     "execution_count": 697,
     "metadata": {},
     "output_type": "execute_result"
    }
   ],
   "source": [
    "list(df_3M_temp['지종'].unique())"
   ]
  },
  {
   "cell_type": "code",
   "execution_count": 672,
   "id": "070ed8f9",
   "metadata": {
    "scrolled": true
   },
   "outputs": [
    {
     "data": {
      "text/html": [
       "<div>\n",
       "<style scoped>\n",
       "    .dataframe tbody tr th:only-of-type {\n",
       "        vertical-align: middle;\n",
       "    }\n",
       "\n",
       "    .dataframe tbody tr th {\n",
       "        vertical-align: top;\n",
       "    }\n",
       "\n",
       "    .dataframe thead th {\n",
       "        text-align: right;\n",
       "    }\n",
       "</style>\n",
       "<table border=\"1\" class=\"dataframe\">\n",
       "  <thead>\n",
       "    <tr style=\"text-align: right;\">\n",
       "      <th></th>\n",
       "      <th>작업시작시간</th>\n",
       "      <th>설비</th>\n",
       "      <th>가동상태</th>\n",
       "      <th>이력TYPE</th>\n",
       "      <th>지절</th>\n",
       "      <th>월</th>\n",
       "      <th>작업총시간</th>\n",
       "      <th>LOT</th>\n",
       "      <th>제조번호</th>\n",
       "      <th>지종</th>\n",
       "      <th>...</th>\n",
       "      <th>320LIC7528:me</th>\n",
       "      <th>320LIC7529:me</th>\n",
       "      <th>320LIC7537:me</th>\n",
       "      <th>320LIC7529:me.1</th>\n",
       "      <th>320LIC7528:me.1</th>\n",
       "      <th>320LIC7527:me.1</th>\n",
       "      <th>320LIC7526:me.1</th>\n",
       "      <th>320LIC7525:me.1</th>\n",
       "      <th>320FIA7531:av</th>\n",
       "      <th>320FIA7535:av</th>\n",
       "    </tr>\n",
       "  </thead>\n",
       "  <tbody>\n",
       "    <tr>\n",
       "      <th>0</th>\n",
       "      <td>2022-03-01 00:16:00</td>\n",
       "      <td>초지3호기</td>\n",
       "      <td>생산</td>\n",
       "      <td>생산</td>\n",
       "      <td>0.0</td>\n",
       "      <td>3.0</td>\n",
       "      <td>59.0</td>\n",
       "      <td>J3M2A0700000</td>\n",
       "      <td>2322172.0</td>\n",
       "      <td>네오★그린박리지(D1)기지</td>\n",
       "      <td>...</td>\n",
       "      <td>54.290000</td>\n",
       "      <td>49.650000</td>\n",
       "      <td>51.750000</td>\n",
       "      <td>49.650000</td>\n",
       "      <td>54.290000</td>\n",
       "      <td>44.080000</td>\n",
       "      <td>51.295000</td>\n",
       "      <td>48.600000</td>\n",
       "      <td>18.110000</td>\n",
       "      <td>18.000000</td>\n",
       "    </tr>\n",
       "    <tr>\n",
       "      <th>1</th>\n",
       "      <td>2022-03-01 00:17:00</td>\n",
       "      <td>초지3호기</td>\n",
       "      <td>생산</td>\n",
       "      <td>생산</td>\n",
       "      <td>0.0</td>\n",
       "      <td>3.0</td>\n",
       "      <td>59.0</td>\n",
       "      <td>J3M2A0700000</td>\n",
       "      <td>2322172.0</td>\n",
       "      <td>네오★그린박리지(D1)기지</td>\n",
       "      <td>...</td>\n",
       "      <td>55.120000</td>\n",
       "      <td>49.520000</td>\n",
       "      <td>52.160000</td>\n",
       "      <td>49.520000</td>\n",
       "      <td>55.120000</td>\n",
       "      <td>44.910000</td>\n",
       "      <td>53.190000</td>\n",
       "      <td>48.600000</td>\n",
       "      <td>18.460000</td>\n",
       "      <td>18.000000</td>\n",
       "    </tr>\n",
       "    <tr>\n",
       "      <th>2</th>\n",
       "      <td>2022-03-01 00:18:00</td>\n",
       "      <td>초지3호기</td>\n",
       "      <td>생산</td>\n",
       "      <td>생산</td>\n",
       "      <td>0.0</td>\n",
       "      <td>3.0</td>\n",
       "      <td>59.0</td>\n",
       "      <td>J3M2A0700000</td>\n",
       "      <td>2322172.0</td>\n",
       "      <td>네오★그린박리지(D1)기지</td>\n",
       "      <td>...</td>\n",
       "      <td>54.380000</td>\n",
       "      <td>49.650000</td>\n",
       "      <td>51.380000</td>\n",
       "      <td>49.650000</td>\n",
       "      <td>54.380000</td>\n",
       "      <td>47.010000</td>\n",
       "      <td>52.310000</td>\n",
       "      <td>48.600000</td>\n",
       "      <td>18.180000</td>\n",
       "      <td>18.000000</td>\n",
       "    </tr>\n",
       "    <tr>\n",
       "      <th>3</th>\n",
       "      <td>2022-03-01 00:19:00</td>\n",
       "      <td>초지3호기</td>\n",
       "      <td>생산</td>\n",
       "      <td>생산</td>\n",
       "      <td>0.0</td>\n",
       "      <td>3.0</td>\n",
       "      <td>59.0</td>\n",
       "      <td>J3M2A0700000</td>\n",
       "      <td>2322172.0</td>\n",
       "      <td>네오★그린박리지(D1)기지</td>\n",
       "      <td>...</td>\n",
       "      <td>54.710000</td>\n",
       "      <td>49.633333</td>\n",
       "      <td>50.245000</td>\n",
       "      <td>49.633333</td>\n",
       "      <td>54.710000</td>\n",
       "      <td>49.830000</td>\n",
       "      <td>51.600000</td>\n",
       "      <td>48.600000</td>\n",
       "      <td>19.140000</td>\n",
       "      <td>18.000000</td>\n",
       "    </tr>\n",
       "    <tr>\n",
       "      <th>4</th>\n",
       "      <td>2022-03-01 00:20:00</td>\n",
       "      <td>초지3호기</td>\n",
       "      <td>생산</td>\n",
       "      <td>생산</td>\n",
       "      <td>0.0</td>\n",
       "      <td>3.0</td>\n",
       "      <td>59.0</td>\n",
       "      <td>J3M2A0700000</td>\n",
       "      <td>2322172.0</td>\n",
       "      <td>네오★그린박리지(D1)기지</td>\n",
       "      <td>...</td>\n",
       "      <td>55.040000</td>\n",
       "      <td>49.616667</td>\n",
       "      <td>49.110000</td>\n",
       "      <td>49.616667</td>\n",
       "      <td>55.040000</td>\n",
       "      <td>52.650000</td>\n",
       "      <td>50.040000</td>\n",
       "      <td>48.860000</td>\n",
       "      <td>19.240000</td>\n",
       "      <td>18.000000</td>\n",
       "    </tr>\n",
       "    <tr>\n",
       "      <th>...</th>\n",
       "      <td>...</td>\n",
       "      <td>...</td>\n",
       "      <td>...</td>\n",
       "      <td>...</td>\n",
       "      <td>...</td>\n",
       "      <td>...</td>\n",
       "      <td>...</td>\n",
       "      <td>...</td>\n",
       "      <td>...</td>\n",
       "      <td>...</td>\n",
       "      <td>...</td>\n",
       "      <td>...</td>\n",
       "      <td>...</td>\n",
       "      <td>...</td>\n",
       "      <td>...</td>\n",
       "      <td>...</td>\n",
       "      <td>...</td>\n",
       "      <td>...</td>\n",
       "      <td>...</td>\n",
       "      <td>...</td>\n",
       "      <td>...</td>\n",
       "    </tr>\n",
       "    <tr>\n",
       "      <th>44673</th>\n",
       "      <td>2022-04-01 00:13:00</td>\n",
       "      <td>초지3호기</td>\n",
       "      <td>생산</td>\n",
       "      <td>생산</td>\n",
       "      <td>0.0</td>\n",
       "      <td>3.0</td>\n",
       "      <td>61.0</td>\n",
       "      <td>J3M3A0733000</td>\n",
       "      <td>1322055.0</td>\n",
       "      <td>네오★백상</td>\n",
       "      <td>...</td>\n",
       "      <td>28.033108</td>\n",
       "      <td>26.050554</td>\n",
       "      <td>25.500986</td>\n",
       "      <td>26.050554</td>\n",
       "      <td>28.033108</td>\n",
       "      <td>32.773775</td>\n",
       "      <td>25.172272</td>\n",
       "      <td>25.952967</td>\n",
       "      <td>9.388883</td>\n",
       "      <td>9.245070</td>\n",
       "    </tr>\n",
       "    <tr>\n",
       "      <th>44674</th>\n",
       "      <td>2022-04-01 00:14:00</td>\n",
       "      <td>초지3호기</td>\n",
       "      <td>생산</td>\n",
       "      <td>생산</td>\n",
       "      <td>0.0</td>\n",
       "      <td>3.0</td>\n",
       "      <td>61.0</td>\n",
       "      <td>J3M3A0733000</td>\n",
       "      <td>1322055.0</td>\n",
       "      <td>네오★백상</td>\n",
       "      <td>...</td>\n",
       "      <td>27.981859</td>\n",
       "      <td>26.002930</td>\n",
       "      <td>25.454366</td>\n",
       "      <td>26.002930</td>\n",
       "      <td>27.981859</td>\n",
       "      <td>32.713859</td>\n",
       "      <td>25.126254</td>\n",
       "      <td>25.905521</td>\n",
       "      <td>9.371718</td>\n",
       "      <td>9.228169</td>\n",
       "    </tr>\n",
       "    <tr>\n",
       "      <th>44675</th>\n",
       "      <td>2022-04-01 00:15:00</td>\n",
       "      <td>초지3호기</td>\n",
       "      <td>생산</td>\n",
       "      <td>생산</td>\n",
       "      <td>0.0</td>\n",
       "      <td>3.0</td>\n",
       "      <td>61.0</td>\n",
       "      <td>J3M3A0733000</td>\n",
       "      <td>1322055.0</td>\n",
       "      <td>네오★백상</td>\n",
       "      <td>...</td>\n",
       "      <td>27.930610</td>\n",
       "      <td>25.955305</td>\n",
       "      <td>25.407746</td>\n",
       "      <td>25.955305</td>\n",
       "      <td>27.930610</td>\n",
       "      <td>32.653944</td>\n",
       "      <td>25.080235</td>\n",
       "      <td>25.858075</td>\n",
       "      <td>9.354554</td>\n",
       "      <td>9.211268</td>\n",
       "    </tr>\n",
       "    <tr>\n",
       "      <th>44676</th>\n",
       "      <td>2022-04-01 00:16:00</td>\n",
       "      <td>초지3호기</td>\n",
       "      <td>생산</td>\n",
       "      <td>생산</td>\n",
       "      <td>0.0</td>\n",
       "      <td>3.0</td>\n",
       "      <td>61.0</td>\n",
       "      <td>J3M3A0733000</td>\n",
       "      <td>1322055.0</td>\n",
       "      <td>네오★백상</td>\n",
       "      <td>...</td>\n",
       "      <td>27.879362</td>\n",
       "      <td>25.907681</td>\n",
       "      <td>25.361127</td>\n",
       "      <td>25.907681</td>\n",
       "      <td>27.879362</td>\n",
       "      <td>32.594028</td>\n",
       "      <td>25.034216</td>\n",
       "      <td>25.810629</td>\n",
       "      <td>9.337390</td>\n",
       "      <td>9.194366</td>\n",
       "    </tr>\n",
       "    <tr>\n",
       "      <th>44677</th>\n",
       "      <td>2022-04-01 00:17:00</td>\n",
       "      <td>초지3호기</td>\n",
       "      <td>생산</td>\n",
       "      <td>생산</td>\n",
       "      <td>0.0</td>\n",
       "      <td>3.0</td>\n",
       "      <td>61.0</td>\n",
       "      <td>J3M3A0733000</td>\n",
       "      <td>1322055.0</td>\n",
       "      <td>네오★백상</td>\n",
       "      <td>...</td>\n",
       "      <td>27.828113</td>\n",
       "      <td>25.860056</td>\n",
       "      <td>25.314507</td>\n",
       "      <td>25.860056</td>\n",
       "      <td>27.828113</td>\n",
       "      <td>32.534113</td>\n",
       "      <td>24.988197</td>\n",
       "      <td>25.763183</td>\n",
       "      <td>9.320225</td>\n",
       "      <td>9.177465</td>\n",
       "    </tr>\n",
       "  </tbody>\n",
       "</table>\n",
       "<p>44678 rows × 187 columns</p>\n",
       "</div>"
      ],
      "text/plain": [
       "                   작업시작시간     설비 가동상태 이력TYPE   지절    월  작업총시간           LOT  \\\n",
       "0     2022-03-01 00:16:00  초지3호기   생산     생산  0.0  3.0   59.0  J3M2A0700000   \n",
       "1     2022-03-01 00:17:00  초지3호기   생산     생산  0.0  3.0   59.0  J3M2A0700000   \n",
       "2     2022-03-01 00:18:00  초지3호기   생산     생산  0.0  3.0   59.0  J3M2A0700000   \n",
       "3     2022-03-01 00:19:00  초지3호기   생산     생산  0.0  3.0   59.0  J3M2A0700000   \n",
       "4     2022-03-01 00:20:00  초지3호기   생산     생산  0.0  3.0   59.0  J3M2A0700000   \n",
       "...                   ...    ...  ...    ...  ...  ...    ...           ...   \n",
       "44673 2022-04-01 00:13:00  초지3호기   생산     생산  0.0  3.0   61.0  J3M3A0733000   \n",
       "44674 2022-04-01 00:14:00  초지3호기   생산     생산  0.0  3.0   61.0  J3M3A0733000   \n",
       "44675 2022-04-01 00:15:00  초지3호기   생산     생산  0.0  3.0   61.0  J3M3A0733000   \n",
       "44676 2022-04-01 00:16:00  초지3호기   생산     생산  0.0  3.0   61.0  J3M3A0733000   \n",
       "44677 2022-04-01 00:17:00  초지3호기   생산     생산  0.0  3.0   61.0  J3M3A0733000   \n",
       "\n",
       "            제조번호              지종  ...  320LIC7528:me  320LIC7529:me  \\\n",
       "0      2322172.0  네오★그린박리지(D1)기지  ...      54.290000      49.650000   \n",
       "1      2322172.0  네오★그린박리지(D1)기지  ...      55.120000      49.520000   \n",
       "2      2322172.0  네오★그린박리지(D1)기지  ...      54.380000      49.650000   \n",
       "3      2322172.0  네오★그린박리지(D1)기지  ...      54.710000      49.633333   \n",
       "4      2322172.0  네오★그린박리지(D1)기지  ...      55.040000      49.616667   \n",
       "...          ...             ...  ...            ...            ...   \n",
       "44673  1322055.0           네오★백상  ...      28.033108      26.050554   \n",
       "44674  1322055.0           네오★백상  ...      27.981859      26.002930   \n",
       "44675  1322055.0           네오★백상  ...      27.930610      25.955305   \n",
       "44676  1322055.0           네오★백상  ...      27.879362      25.907681   \n",
       "44677  1322055.0           네오★백상  ...      27.828113      25.860056   \n",
       "\n",
       "       320LIC7537:me 320LIC7529:me.1  320LIC7528:me.1 320LIC7527:me.1  \\\n",
       "0          51.750000       49.650000        54.290000       44.080000   \n",
       "1          52.160000       49.520000        55.120000       44.910000   \n",
       "2          51.380000       49.650000        54.380000       47.010000   \n",
       "3          50.245000       49.633333        54.710000       49.830000   \n",
       "4          49.110000       49.616667        55.040000       52.650000   \n",
       "...              ...             ...              ...             ...   \n",
       "44673      25.500986       26.050554        28.033108       32.773775   \n",
       "44674      25.454366       26.002930        27.981859       32.713859   \n",
       "44675      25.407746       25.955305        27.930610       32.653944   \n",
       "44676      25.361127       25.907681        27.879362       32.594028   \n",
       "44677      25.314507       25.860056        27.828113       32.534113   \n",
       "\n",
       "       320LIC7526:me.1  320LIC7525:me.1  320FIA7531:av 320FIA7535:av  \n",
       "0            51.295000        48.600000      18.110000     18.000000  \n",
       "1            53.190000        48.600000      18.460000     18.000000  \n",
       "2            52.310000        48.600000      18.180000     18.000000  \n",
       "3            51.600000        48.600000      19.140000     18.000000  \n",
       "4            50.040000        48.860000      19.240000     18.000000  \n",
       "...                ...              ...            ...           ...  \n",
       "44673        25.172272        25.952967       9.388883      9.245070  \n",
       "44674        25.126254        25.905521       9.371718      9.228169  \n",
       "44675        25.080235        25.858075       9.354554      9.211268  \n",
       "44676        25.034216        25.810629       9.337390      9.194366  \n",
       "44677        24.988197        25.763183       9.320225      9.177465  \n",
       "\n",
       "[44678 rows x 187 columns]"
      ]
     },
     "execution_count": 672,
     "metadata": {},
     "output_type": "execute_result"
    }
   ],
   "source": [
    "df_3M"
   ]
  },
  {
   "cell_type": "code",
   "execution_count": 673,
   "id": "856757d6",
   "metadata": {},
   "outputs": [],
   "source": [
    "target = df_3M.loc[:,tags]"
   ]
  },
  {
   "cell_type": "code",
   "execution_count": 674,
   "id": "5ceb19a3",
   "metadata": {},
   "outputs": [],
   "source": [
    "event = target[target['지절']==1]"
   ]
  },
  {
   "cell_type": "code",
   "execution_count": 625,
   "id": "6a009145",
   "metadata": {},
   "outputs": [],
   "source": [
    "event.reset_index(drop=True, inplace=True)"
   ]
  },
  {
   "cell_type": "code",
   "execution_count": 626,
   "id": "9aece7b9",
   "metadata": {},
   "outputs": [
    {
     "data": {
      "text/plain": [
       "Timestamp('2022-03-13 21:25:00')"
      ]
     },
     "execution_count": 626,
     "metadata": {},
     "output_type": "execute_result"
    }
   ],
   "source": [
    "event.loc[i,'작업시작시간']"
   ]
  },
  {
   "cell_type": "code",
   "execution_count": 261,
   "id": "876441fb",
   "metadata": {
    "scrolled": true
   },
   "outputs": [
    {
     "data": {
      "image/png": "[encoded data removed]",
      "text/plain": [
       "<Figure size 1440x576 with 1 Axes>"
      ]
     },
     "metadata": {
      "needs_background": "light"
     },
     "output_type": "display_data"
    }
   ],
   "source": [
    "plt.figure(figsize=(20,8))\n",
    "\n",
    "plt.plot(target['작업시작시간'], target['320PIC7513:me'])\n",
    "for i in range(len(event)):\n",
    "    plt.axvspan(event.loc[i,'작업시작시간'],event.loc[i,'작업시작시간'], color='yellow', alpha=0.5, hatch='///')\n",
    "    \n",
    "\n",
    "plt.xticks(rotation=45)\n",
    "plt.grid()\n",
    "\n",
    "plt.show()"
   ]
  },
  {
   "cell_type": "code",
   "execution_count": 262,
   "id": "b6b840d3",
   "metadata": {},
   "outputs": [],
   "source": [
    "temp = target[(target['작업시작시간']>='2022-03-05')&(target['작업시작시간']<='2022-03-19')]"
   ]
  },
  {
   "cell_type": "code",
   "execution_count": 263,
   "id": "c1a557dd",
   "metadata": {},
   "outputs": [],
   "source": [
    "temp.reset_index(drop=True, inplace=True)"
   ]
  },
  {
   "cell_type": "code",
   "execution_count": 264,
   "id": "6135bd52",
   "metadata": {
    "scrolled": true
   },
   "outputs": [
    {
     "data": {
      "image/png": "[encoded data removed]",
      "text/plain": [
       "<Figure size 1440x576 with 1 Axes>"
      ]
     },
     "metadata": {
      "needs_background": "light"
     },
     "output_type": "display_data"
    }
   ],
   "source": [
    "plt.figure(figsize=(20,8))\n",
    "\n",
    "plt.plot(temp['작업시작시간'], temp['320PIC7513:me'])\n",
    "for i in range(len(event)):\n",
    "    plt.axvspan(event.loc[i,'작업시작시간'],event.loc[i,'작업시작시간'], color='yellow', alpha=0.5, hatch='///')\n",
    "    \n",
    "\n",
    "plt.xticks(rotation=45)\n",
    "plt.grid()\n",
    "\n",
    "plt.show()"
   ]
  },
  {
   "cell_type": "code",
   "execution_count": 265,
   "id": "2b092254",
   "metadata": {},
   "outputs": [],
   "source": [
    "temp = target[(target['작업시작시간']>='2022-03-10')&(target['작업시작시간']<='2022-03-14')]"
   ]
  },
  {
   "cell_type": "code",
   "execution_count": 266,
   "id": "139e1b2a",
   "metadata": {},
   "outputs": [],
   "source": [
    "event = temp[temp['지절']==1]"
   ]
  },
  {
   "cell_type": "code",
   "execution_count": 267,
   "id": "117b7c22",
   "metadata": {},
   "outputs": [],
   "source": [
    "temp.reset_index(drop=True, inplace=True)\n",
    "event.reset_index(drop=True, inplace=True)"
   ]
  },
  {
   "cell_type": "code",
   "execution_count": 268,
   "id": "26ac72d1",
   "metadata": {
    "scrolled": true
   },
   "outputs": [
    {
     "data": {
      "image/png": "[encoded data removed]",
      "text/plain": [
       "<Figure size 1440x576 with 1 Axes>"
      ]
     },
     "metadata": {
      "needs_background": "light"
     },
     "output_type": "display_data"
    }
   ],
   "source": [
    "plt.figure(figsize=(20,8))\n",
    "\n",
    "plt.plot(temp['작업시작시간'], temp['320PIC7513:me'])\n",
    "for i in range(len(event)):\n",
    "    plt.axvspan(event.loc[i,'작업시작시간'],event.loc[i,'작업시작시간'], color='yellow', alpha=0.5, hatch='///')\n",
    "    \n",
    "\n",
    "plt.xticks(rotation=45)\n",
    "plt.grid()\n",
    "\n",
    "plt.show()"
   ]
  },
  {
   "cell_type": "code",
   "execution_count": 269,
   "id": "27f51210",
   "metadata": {},
   "outputs": [],
   "source": [
    "temp.set_index('작업시작시간', inplace=True)"
   ]
  },
  {
   "cell_type": "code",
   "execution_count": 270,
   "id": "ed269249",
   "metadata": {
    "scrolled": true
   },
   "outputs": [
    {
     "name": "stderr",
     "output_type": "stream",
     "text": [
      "C:\\Users\\USER\\AppData\\Local\\Temp\\ipykernel_21360\\3282851353.py:1: SettingWithCopyWarning: \n",
      "A value is trying to be set on a copy of a slice from a DataFrame\n",
      "\n",
      "See the caveats in the documentation: https://pandas.pydata.org/pandas-docs/stable/user_guide/indexing.html#returning-a-view-versus-a-copy\n",
      "  temp.drop('지절',axis=1,inplace=True)\n"
     ]
    }
   ],
   "source": [
    "temp.drop('지절',axis=1,inplace=True)"
   ]
  },
  {
   "cell_type": "markdown",
   "id": "376831df",
   "metadata": {},
   "source": [
    "https://pseudo-lab.github.io/Tutorial-Book/chapters/time-series/Ch4-LSTM.html"
   ]
  },
  {
   "cell_type": "code",
   "execution_count": 246,
   "id": "04283a91",
   "metadata": {},
   "outputs": [],
   "source": [
    "def create_sequences(data, seq_length):\n",
    "    xs = []\n",
    "    ys = []\n",
    "    for i in range(len(data)-seq_length):\n",
    "        x = data.iloc[i:(i+seq_length)]\n",
    "        y = data.iloc[i+seq_length]\n",
    "        xs.append(x)\n",
    "        ys.append(y)\n",
    "    return np.array(xs), np.array(ys)\n",
    "\n",
    "#지도학습용 데이터로 변환\n",
    "seq_length = 5\n",
    "X, y = create_sequences(temp, seq_length)\n",
    "\n",
    "#학습용, 검증용, 시험용으로 분리\n",
    "train_size = int(327 * 0.8)\n",
    "X_train, y_train = X[:train_size], y[:train_size]\n",
    "X_val, y_val = X[train_size:train_size+33], y[train_size:train_size+33]\n",
    "X_test, y_test = X[train_size+33:], y[train_size+33:]\n",
    "\n",
    "MIN = X_train.min()\n",
    "MAX = X_train.max()\n",
    "\n",
    "def MinMaxScale(array, min, max):\n",
    "\n",
    "    return (array - min) / (max - min)\n",
    "\n",
    "#MinMax 스케일링\n",
    "X_train = MinMaxScale(X_train, MIN, MAX)\n",
    "y_train = MinMaxScale(y_train, MIN, MAX)\n",
    "X_val = MinMaxScale(X_val, MIN, MAX)\n",
    "y_val = MinMaxScale(y_val, MIN, MAX)\n",
    "X_test = MinMaxScale(X_test, MIN, MAX)\n",
    "y_test = MinMaxScale(y_test, MIN, MAX)\n",
    "\n",
    "#Tensor 형태로 변환\n",
    "def make_Tensor(array):\n",
    "    return torch.from_numpy(array).float()\n",
    "\n",
    "X_train = make_Tensor(X_train)\n",
    "y_train = make_Tensor(y_train)\n",
    "X_val = make_Tensor(X_val)\n",
    "y_val = make_Tensor(y_val)\n",
    "X_test = make_Tensor(X_test)\n",
    "y_test = make_Tensor(y_test)"
   ]
  },
  {
   "cell_type": "code",
   "execution_count": 247,
   "id": "1b015610",
   "metadata": {},
   "outputs": [
    {
     "name": "stdout",
     "output_type": "stream",
     "text": [
      "torch.Size([261, 5, 1]) torch.Size([33, 5, 1]) torch.Size([5473, 5, 1])\n",
      "torch.Size([261, 1]) torch.Size([33, 1]) torch.Size([5473, 1])\n"
     ]
    }
   ],
   "source": [
    "print(X_train.shape, X_val.shape, X_test.shape)\n",
    "print(y_train.shape, y_val.shape, y_test.shape)"
   ]
  },
  {
   "cell_type": "code",
   "execution_count": 248,
   "id": "e1bee069",
   "metadata": {},
   "outputs": [],
   "source": [
    "class CovidPredictor(nn.Module):\n",
    "    def __init__(self, n_features, n_hidden, seq_len, n_layers):\n",
    "        super(CovidPredictor, self).__init__()\n",
    "        self.n_hidden = n_hidden\n",
    "        self.seq_len = seq_len\n",
    "        self.n_layers = n_layers\n",
    "        self.lstm = nn.LSTM(\n",
    "            input_size=n_features,\n",
    "            hidden_size=n_hidden,\n",
    "            num_layers=n_layers\n",
    "        )\n",
    "        self.linear = nn.Linear(in_features=n_hidden, out_features=1)\n",
    "    def reset_hidden_state(self):\n",
    "        self.hidden = (\n",
    "            torch.zeros(self.n_layers, self.seq_len, self.n_hidden),\n",
    "            torch.zeros(self.n_layers, self.seq_len, self.n_hidden)\n",
    "        )\n",
    "    def forward(self, sequences):\n",
    "        lstm_out, self.hidden = self.lstm(\n",
    "            sequences.view(len(sequences), self.seq_len, -1),\n",
    "            self.hidden\n",
    "        )\n",
    "        last_time_step = lstm_out.view(self.seq_len, len(sequences), self.n_hidden)[-1]\n",
    "        y_pred = self.linear(last_time_step)\n",
    "        return y_pred"
   ]
  },
  {
   "cell_type": "code",
   "execution_count": 249,
   "id": "b29d39a5",
   "metadata": {},
   "outputs": [],
   "source": [
    "def train_model(model, train_data, train_labels, val_data=None, val_labels=None, num_epochs=100, verbose = 10, patience = 10):\n",
    "    loss_fn = torch.nn.L1Loss() #\n",
    "    optimiser = torch.optim.Adam(model.parameters(), lr=0.001)\n",
    "    train_hist = []\n",
    "    val_hist = []\n",
    "    for t in range(num_epochs):\n",
    "\n",
    "        epoch_loss = 0\n",
    "\n",
    "        for idx, seq in enumerate(train_data): \n",
    "\n",
    "            model.reset_hidden_state() # seq 별 hidden state reset\n",
    "\n",
    "            # train loss\n",
    "            seq = torch.unsqueeze(seq, 0)\n",
    "            y_pred = model(seq)\n",
    "            loss = loss_fn(y_pred[0].float(), train_labels[idx]) # 1개의 step에 대한 loss\n",
    "\n",
    "            # update weights\n",
    "            optimiser.zero_grad()\n",
    "            loss.backward()\n",
    "            optimiser.step()\n",
    "\n",
    "            epoch_loss += loss.item()\n",
    "\n",
    "        train_hist.append(epoch_loss / len(train_data))\n",
    "\n",
    "        if val_data is not None:\n",
    "\n",
    "            with torch.no_grad():\n",
    "\n",
    "                val_loss = 0\n",
    "\n",
    "                for val_idx, val_seq in enumerate(val_data):\n",
    "\n",
    "                    model.reset_hidden_state() # seq 별로 hidden state 초기화 \n",
    "\n",
    "                    val_seq = torch.unsqueeze(val_seq, 0)\n",
    "                    y_val_pred = model(val_seq)\n",
    "                    val_step_loss = loss_fn(y_val_pred[0].float(), val_labels[val_idx])\n",
    "\n",
    "                    val_loss += val_step_loss\n",
    "                \n",
    "            val_hist.append(val_loss / len(val_data)) # val hist에 추가\n",
    "\n",
    "            ## verbose 번째 마다 loss 출력 \n",
    "            if t % verbose == 0:\n",
    "                print(f'Epoch {t} train loss: {epoch_loss / len(train_data)} val loss: {val_loss / len(val_data)}')\n",
    "\n",
    "            ## patience 번째 마다 early stopping 여부 확인\n",
    "            if (t % patience == 0) & (t != 0):\n",
    "                \n",
    "                ## loss가 커졌다면 early stop\n",
    "                if val_hist[t - patience] < val_hist[t] :\n",
    "\n",
    "                    print('\\n Early Stopping')\n",
    "\n",
    "                    break\n",
    "\n",
    "        elif t % verbose == 0:\n",
    "            print(f'Epoch {t} train loss: {epoch_loss / len(train_data)}')\n",
    "\n",
    "            \n",
    "    return model, train_hist, val_hist"
   ]
  },
  {
   "cell_type": "code",
   "execution_count": 252,
   "id": "02f3a927",
   "metadata": {},
   "outputs": [
    {
     "name": "stdout",
     "output_type": "stream",
     "text": [
      "Epoch 0 train loss: 0.7879763685195382 val loss: 0.09526094794273376\n",
      "Epoch 10 train loss: 0.03714152862285745 val loss: 0.02426188811659813\n",
      "Epoch 20 train loss: 0.015667670388559728 val loss: 0.017402101308107376\n",
      "Epoch 30 train loss: 0.014936727154072217 val loss: 0.017377231270074844\n",
      "Epoch 40 train loss: 0.014999375803488882 val loss: 0.01757245510816574\n",
      "Epoch 50 train loss: 0.015388673920741027 val loss: 0.017262976616621017\n",
      "Epoch 60 train loss: 0.015014856825386428 val loss: 0.017364561557769775\n",
      "Epoch 70 train loss: 0.01475753352559846 val loss: 0.01728101819753647\n",
      "Epoch 80 train loss: 0.014490794233435415 val loss: 0.01735137403011322\n",
      "Epoch 90 train loss: 0.01482879530310174 val loss: 0.01750008761882782\n"
     ]
    }
   ],
   "source": [
    "model = CovidPredictor(\n",
    "    n_features=1,\n",
    "    n_hidden=4,\n",
    "    seq_len=seq_length,\n",
    "    n_layers=1\n",
    ")\n",
    "model, train_hist, val_hist = train_model(\n",
    "    model,\n",
    "    X_train,\n",
    "    y_train,\n",
    "    X_val,\n",
    "    y_val,\n",
    "    num_epochs=100,\n",
    "    verbose=10,\n",
    "    patience=50\n",
    ")"
   ]
  },
  {
   "cell_type": "code",
   "execution_count": 253,
   "id": "1b4b6d54",
   "metadata": {},
   "outputs": [
    {
     "data": {
      "text/plain": [
       "<matplotlib.legend.Legend at 0x14a6ebc8cd0>"
      ]
     },
     "execution_count": 253,
     "metadata": {},
     "output_type": "execute_result"
    },
    {
     "data": {
      "image/png": "[encoded data removed]",
      "text/plain": [
       "<Figure size 432x288 with 1 Axes>"
      ]
     },
     "metadata": {
      "needs_background": "light"
     },
     "output_type": "display_data"
    }
   ],
   "source": [
    "plt.plot(train_hist, label=\"Training loss\")\n",
    "plt.plot(val_hist, label=\"Val loss\")\n",
    "plt.legend()"
   ]
  },
  {
   "cell_type": "code",
   "execution_count": 254,
   "id": "c9ea9745",
   "metadata": {},
   "outputs": [],
   "source": [
    "pred_dataset = X_test\n",
    "\n",
    "with torch.no_grad():\n",
    "    preds = []\n",
    "    for _ in range(len(pred_dataset)):\n",
    "        model.reset_hidden_state()\n",
    "        y_test_pred = model(torch.unsqueeze(pred_dataset[_], 0))\n",
    "        pred = torch.flatten(y_test_pred).item()\n",
    "        preds.append(pred)"
   ]
  },
  {
   "cell_type": "code",
   "execution_count": 255,
   "id": "c3d1fcf4",
   "metadata": {},
   "outputs": [
    {
     "data": {
      "text/plain": [
       "<matplotlib.legend.Legend at 0x14a719f72b0>"
      ]
     },
     "execution_count": 255,
     "metadata": {},
     "output_type": "execute_result"
    },
    {
     "data": {
      "image/png": "[encoded data removed]",
      "text/plain": [
       "<Figure size 432x288 with 1 Axes>"
      ]
     },
     "metadata": {
      "needs_background": "light"
     },
     "output_type": "display_data"
    }
   ],
   "source": [
    "plt.plot(temp.index[-len(y_test):], np.array(y_test) * MAX, label='True')\n",
    "plt.plot(temp.index[-len(preds):], np.array(preds) * MAX, label='Pred')\n",
    "plt.xticks(rotation=45)\n",
    "plt.legend()"
   ]
  },
  {
   "cell_type": "code",
   "execution_count": 256,
   "id": "9152fa96",
   "metadata": {
    "collapsed": true
   },
   "outputs": [
    {
     "data": {
      "text/html": [
       "<div>\n",
       "<style scoped>\n",
       "    .dataframe tbody tr th:only-of-type {\n",
       "        vertical-align: middle;\n",
       "    }\n",
       "\n",
       "    .dataframe tbody tr th {\n",
       "        vertical-align: top;\n",
       "    }\n",
       "\n",
       "    .dataframe thead th {\n",
       "        text-align: right;\n",
       "    }\n",
       "</style>\n",
       "<table border=\"1\" class=\"dataframe\">\n",
       "  <thead>\n",
       "    <tr style=\"text-align: right;\">\n",
       "      <th></th>\n",
       "      <th>320PIC7513:me</th>\n",
       "    </tr>\n",
       "    <tr>\n",
       "      <th>작업시작시간</th>\n",
       "      <th></th>\n",
       "    </tr>\n",
       "  </thead>\n",
       "  <tbody>\n",
       "    <tr>\n",
       "      <th>2022-03-10 00:00:00</th>\n",
       "      <td>1.56</td>\n",
       "    </tr>\n",
       "    <tr>\n",
       "      <th>2022-03-10 00:01:00</th>\n",
       "      <td>1.56</td>\n",
       "    </tr>\n",
       "    <tr>\n",
       "      <th>2022-03-10 00:02:00</th>\n",
       "      <td>1.56</td>\n",
       "    </tr>\n",
       "    <tr>\n",
       "      <th>2022-03-10 00:03:00</th>\n",
       "      <td>1.56</td>\n",
       "    </tr>\n",
       "    <tr>\n",
       "      <th>2022-03-10 00:04:00</th>\n",
       "      <td>1.56</td>\n",
       "    </tr>\n",
       "    <tr>\n",
       "      <th>...</th>\n",
       "      <td>...</td>\n",
       "    </tr>\n",
       "    <tr>\n",
       "      <th>2022-03-13 23:56:00</th>\n",
       "      <td>1.33</td>\n",
       "    </tr>\n",
       "    <tr>\n",
       "      <th>2022-03-13 23:57:00</th>\n",
       "      <td>1.35</td>\n",
       "    </tr>\n",
       "    <tr>\n",
       "      <th>2022-03-13 23:58:00</th>\n",
       "      <td>1.33</td>\n",
       "    </tr>\n",
       "    <tr>\n",
       "      <th>2022-03-13 23:59:00</th>\n",
       "      <td>1.39</td>\n",
       "    </tr>\n",
       "    <tr>\n",
       "      <th>2022-03-14 00:00:00</th>\n",
       "      <td>1.41</td>\n",
       "    </tr>\n",
       "  </tbody>\n",
       "</table>\n",
       "<p>5772 rows × 1 columns</p>\n",
       "</div>"
      ],
      "text/plain": [
       "                     320PIC7513:me\n",
       "작업시작시간                            \n",
       "2022-03-10 00:00:00           1.56\n",
       "2022-03-10 00:01:00           1.56\n",
       "2022-03-10 00:02:00           1.56\n",
       "2022-03-10 00:03:00           1.56\n",
       "2022-03-10 00:04:00           1.56\n",
       "...                            ...\n",
       "2022-03-13 23:56:00           1.33\n",
       "2022-03-13 23:57:00           1.35\n",
       "2022-03-13 23:58:00           1.33\n",
       "2022-03-13 23:59:00           1.39\n",
       "2022-03-14 00:00:00           1.41\n",
       "\n",
       "[5772 rows x 1 columns]"
      ]
     },
     "execution_count": 256,
     "metadata": {},
     "output_type": "execute_result"
    }
   ],
   "source": [
    "temp"
   ]
  },
  {
   "cell_type": "markdown",
   "id": "f6a2b60d",
   "metadata": {},
   "source": [
    "https://dschloe.github.io/python/python_edu/07_deeplearning/deep_learning_lstm/"
   ]
  },
  {
   "cell_type": "code",
   "execution_count": 1059,
   "id": "143247cc",
   "metadata": {},
   "outputs": [
    {
     "data": {
      "text/html": [
       "<div>\n",
       "<style scoped>\n",
       "    .dataframe tbody tr th:only-of-type {\n",
       "        vertical-align: middle;\n",
       "    }\n",
       "\n",
       "    .dataframe tbody tr th {\n",
       "        vertical-align: top;\n",
       "    }\n",
       "\n",
       "    .dataframe thead th {\n",
       "        text-align: right;\n",
       "    }\n",
       "</style>\n",
       "<table border=\"1\" class=\"dataframe\">\n",
       "  <thead>\n",
       "    <tr style=\"text-align: right;\">\n",
       "      <th></th>\n",
       "      <th>작업시작시간</th>\n",
       "      <th>지절</th>\n",
       "      <th>지종</th>\n",
       "      <th>평량</th>\n",
       "      <th>PM3-S3SC.opr:me</th>\n",
       "      <th>PM3-S5SC.opr:me</th>\n",
       "      <th>PM3_BASIS_WEIGHT_SP</th>\n",
       "      <th>PM3_BASIS_WEIGHT_SP2</th>\n",
       "      <th>PM3_MOISTURE_SP</th>\n",
       "      <th>PM3_MOISTURE_SP2</th>\n",
       "      <th>...</th>\n",
       "      <th>HFEMS.MRPAP.01.SH01.PL003.06.KWH</th>\n",
       "      <th>HFEMS.MRPAP.01.SH01.PL003.06.PF</th>\n",
       "      <th>HFEMS.MRPAP.01.SH01.PL003.06.VA</th>\n",
       "      <th>HFEMS.MRPAP.01.SH01.PL003.06.VAR</th>\n",
       "      <th>HFEMS.MRPAP.01.SH01.PL003.06.V_LL_R</th>\n",
       "      <th>HFEMS.MRPAP.01.SH01.PL003.06.V_LL_S</th>\n",
       "      <th>HFEMS.MRPAP.01.SH01.PL003.06.V_LL_T</th>\n",
       "      <th>HFEMS.MRPAP.01.SH01.PL003.06.V_R</th>\n",
       "      <th>HFEMS.MRPAP.01.SH01.PL003.06.V_S</th>\n",
       "      <th>HFEMS.MRPAP.01.SH01.PL003.06.V_T</th>\n",
       "    </tr>\n",
       "  </thead>\n",
       "  <tbody>\n",
       "    <tr>\n",
       "      <th>1313</th>\n",
       "      <td>2022-03-01 22:08:00</td>\n",
       "      <td>0.0</td>\n",
       "      <td>0</td>\n",
       "      <td>100.0</td>\n",
       "      <td>4.851231</td>\n",
       "      <td>1.590000</td>\n",
       "      <td>65.0</td>\n",
       "      <td>98.0</td>\n",
       "      <td>2.6</td>\n",
       "      <td>5.0</td>\n",
       "      <td>...</td>\n",
       "      <td>18244100.0</td>\n",
       "      <td>96.3937</td>\n",
       "      <td>721035.0</td>\n",
       "      <td>199068.0</td>\n",
       "      <td>22601.7</td>\n",
       "      <td>22559.2</td>\n",
       "      <td>22659.9</td>\n",
       "      <td>0.0</td>\n",
       "      <td>0.0</td>\n",
       "      <td>0.0</td>\n",
       "    </tr>\n",
       "    <tr>\n",
       "      <th>1314</th>\n",
       "      <td>2022-03-01 22:09:00</td>\n",
       "      <td>0.0</td>\n",
       "      <td>0</td>\n",
       "      <td>100.0</td>\n",
       "      <td>4.851077</td>\n",
       "      <td>1.590000</td>\n",
       "      <td>65.0</td>\n",
       "      <td>98.0</td>\n",
       "      <td>2.6</td>\n",
       "      <td>5.0</td>\n",
       "      <td>...</td>\n",
       "      <td>18244100.0</td>\n",
       "      <td>96.2834</td>\n",
       "      <td>722425.0</td>\n",
       "      <td>202654.0</td>\n",
       "      <td>22617.9</td>\n",
       "      <td>22585.8</td>\n",
       "      <td>22686.9</td>\n",
       "      <td>0.0</td>\n",
       "      <td>0.0</td>\n",
       "      <td>0.0</td>\n",
       "    </tr>\n",
       "    <tr>\n",
       "      <th>1315</th>\n",
       "      <td>2022-03-01 22:10:00</td>\n",
       "      <td>0.0</td>\n",
       "      <td>0</td>\n",
       "      <td>100.0</td>\n",
       "      <td>4.850923</td>\n",
       "      <td>1.590000</td>\n",
       "      <td>65.0</td>\n",
       "      <td>98.0</td>\n",
       "      <td>2.6</td>\n",
       "      <td>5.0</td>\n",
       "      <td>...</td>\n",
       "      <td>18244100.0</td>\n",
       "      <td>96.2162</td>\n",
       "      <td>729495.0</td>\n",
       "      <td>206588.0</td>\n",
       "      <td>22642.9</td>\n",
       "      <td>22569.9</td>\n",
       "      <td>22683.6</td>\n",
       "      <td>0.0</td>\n",
       "      <td>0.0</td>\n",
       "      <td>0.0</td>\n",
       "    </tr>\n",
       "    <tr>\n",
       "      <th>1316</th>\n",
       "      <td>2022-03-01 22:11:00</td>\n",
       "      <td>0.0</td>\n",
       "      <td>0</td>\n",
       "      <td>100.0</td>\n",
       "      <td>4.850769</td>\n",
       "      <td>1.590000</td>\n",
       "      <td>65.0</td>\n",
       "      <td>98.0</td>\n",
       "      <td>2.6</td>\n",
       "      <td>5.0</td>\n",
       "      <td>...</td>\n",
       "      <td>18244100.0</td>\n",
       "      <td>96.3623</td>\n",
       "      <td>722322.0</td>\n",
       "      <td>200340.0</td>\n",
       "      <td>22615.4</td>\n",
       "      <td>22581.0</td>\n",
       "      <td>22684.4</td>\n",
       "      <td>0.0</td>\n",
       "      <td>0.0</td>\n",
       "      <td>0.0</td>\n",
       "    </tr>\n",
       "    <tr>\n",
       "      <th>1317</th>\n",
       "      <td>2022-03-01 22:12:00</td>\n",
       "      <td>0.0</td>\n",
       "      <td>0</td>\n",
       "      <td>100.0</td>\n",
       "      <td>4.850615</td>\n",
       "      <td>1.590000</td>\n",
       "      <td>65.0</td>\n",
       "      <td>98.0</td>\n",
       "      <td>2.6</td>\n",
       "      <td>5.0</td>\n",
       "      <td>...</td>\n",
       "      <td>18244200.0</td>\n",
       "      <td>96.4620</td>\n",
       "      <td>718822.0</td>\n",
       "      <td>196464.0</td>\n",
       "      <td>22620.8</td>\n",
       "      <td>22580.5</td>\n",
       "      <td>22672.1</td>\n",
       "      <td>0.0</td>\n",
       "      <td>0.0</td>\n",
       "      <td>0.0</td>\n",
       "    </tr>\n",
       "    <tr>\n",
       "      <th>...</th>\n",
       "      <td>...</td>\n",
       "      <td>...</td>\n",
       "      <td>...</td>\n",
       "      <td>...</td>\n",
       "      <td>...</td>\n",
       "      <td>...</td>\n",
       "      <td>...</td>\n",
       "      <td>...</td>\n",
       "      <td>...</td>\n",
       "      <td>...</td>\n",
       "      <td>...</td>\n",
       "      <td>...</td>\n",
       "      <td>...</td>\n",
       "      <td>...</td>\n",
       "      <td>...</td>\n",
       "      <td>...</td>\n",
       "      <td>...</td>\n",
       "      <td>...</td>\n",
       "      <td>...</td>\n",
       "      <td>...</td>\n",
       "      <td>...</td>\n",
       "    </tr>\n",
       "    <tr>\n",
       "      <th>44673</th>\n",
       "      <td>2022-04-01 00:13:00</td>\n",
       "      <td>0.0</td>\n",
       "      <td>0</td>\n",
       "      <td>100.0</td>\n",
       "      <td>3.196181</td>\n",
       "      <td>2.559617</td>\n",
       "      <td>65.0</td>\n",
       "      <td>99.0</td>\n",
       "      <td>2.5</td>\n",
       "      <td>5.0</td>\n",
       "      <td>...</td>\n",
       "      <td>18842600.0</td>\n",
       "      <td>96.3825</td>\n",
       "      <td>813512.0</td>\n",
       "      <td>224968.0</td>\n",
       "      <td>22580.7</td>\n",
       "      <td>22551.5</td>\n",
       "      <td>22638.0</td>\n",
       "      <td>0.0</td>\n",
       "      <td>0.0</td>\n",
       "      <td>0.0</td>\n",
       "    </tr>\n",
       "    <tr>\n",
       "      <th>44674</th>\n",
       "      <td>2022-04-01 00:14:00</td>\n",
       "      <td>0.0</td>\n",
       "      <td>0</td>\n",
       "      <td>100.0</td>\n",
       "      <td>3.196457</td>\n",
       "      <td>2.559522</td>\n",
       "      <td>65.0</td>\n",
       "      <td>99.0</td>\n",
       "      <td>2.5</td>\n",
       "      <td>5.0</td>\n",
       "      <td>...</td>\n",
       "      <td>18842600.0</td>\n",
       "      <td>96.3920</td>\n",
       "      <td>804333.0</td>\n",
       "      <td>222120.0</td>\n",
       "      <td>22559.3</td>\n",
       "      <td>22533.5</td>\n",
       "      <td>22614.9</td>\n",
       "      <td>0.0</td>\n",
       "      <td>0.0</td>\n",
       "      <td>0.0</td>\n",
       "    </tr>\n",
       "    <tr>\n",
       "      <th>44675</th>\n",
       "      <td>2022-04-01 00:15:00</td>\n",
       "      <td>0.0</td>\n",
       "      <td>0</td>\n",
       "      <td>100.0</td>\n",
       "      <td>3.196732</td>\n",
       "      <td>2.559426</td>\n",
       "      <td>65.0</td>\n",
       "      <td>99.0</td>\n",
       "      <td>2.5</td>\n",
       "      <td>5.0</td>\n",
       "      <td>...</td>\n",
       "      <td>18842600.0</td>\n",
       "      <td>96.2587</td>\n",
       "      <td>817491.0</td>\n",
       "      <td>230129.0</td>\n",
       "      <td>22575.0</td>\n",
       "      <td>22558.1</td>\n",
       "      <td>22614.9</td>\n",
       "      <td>0.0</td>\n",
       "      <td>0.0</td>\n",
       "      <td>0.0</td>\n",
       "    </tr>\n",
       "    <tr>\n",
       "      <th>44676</th>\n",
       "      <td>2022-04-01 00:16:00</td>\n",
       "      <td>0.0</td>\n",
       "      <td>0</td>\n",
       "      <td>100.0</td>\n",
       "      <td>3.197008</td>\n",
       "      <td>2.559330</td>\n",
       "      <td>65.0</td>\n",
       "      <td>99.0</td>\n",
       "      <td>2.5</td>\n",
       "      <td>5.0</td>\n",
       "      <td>...</td>\n",
       "      <td>18842600.0</td>\n",
       "      <td>96.1636</td>\n",
       "      <td>823153.0</td>\n",
       "      <td>234822.0</td>\n",
       "      <td>22575.5</td>\n",
       "      <td>22551.6</td>\n",
       "      <td>22627.8</td>\n",
       "      <td>0.0</td>\n",
       "      <td>0.0</td>\n",
       "      <td>0.0</td>\n",
       "    </tr>\n",
       "    <tr>\n",
       "      <th>44677</th>\n",
       "      <td>2022-04-01 00:17:00</td>\n",
       "      <td>0.0</td>\n",
       "      <td>0</td>\n",
       "      <td>100.0</td>\n",
       "      <td>3.197283</td>\n",
       "      <td>2.559234</td>\n",
       "      <td>65.0</td>\n",
       "      <td>99.0</td>\n",
       "      <td>2.5</td>\n",
       "      <td>5.0</td>\n",
       "      <td>...</td>\n",
       "      <td>18842700.0</td>\n",
       "      <td>96.1895</td>\n",
       "      <td>825920.0</td>\n",
       "      <td>235199.0</td>\n",
       "      <td>22584.1</td>\n",
       "      <td>22559.9</td>\n",
       "      <td>22649.4</td>\n",
       "      <td>0.0</td>\n",
       "      <td>0.0</td>\n",
       "      <td>0.0</td>\n",
       "    </tr>\n",
       "  </tbody>\n",
       "</table>\n",
       "<p>12555 rows × 159 columns</p>\n",
       "</div>"
      ],
      "text/plain": [
       "                   작업시작시간   지절 지종     평량  PM3-S3SC.opr:me  PM3-S5SC.opr:me  \\\n",
       "1313  2022-03-01 22:08:00  0.0  0  100.0         4.851231         1.590000   \n",
       "1314  2022-03-01 22:09:00  0.0  0  100.0         4.851077         1.590000   \n",
       "1315  2022-03-01 22:10:00  0.0  0  100.0         4.850923         1.590000   \n",
       "1316  2022-03-01 22:11:00  0.0  0  100.0         4.850769         1.590000   \n",
       "1317  2022-03-01 22:12:00  0.0  0  100.0         4.850615         1.590000   \n",
       "...                   ...  ... ..    ...              ...              ...   \n",
       "44673 2022-04-01 00:13:00  0.0  0  100.0         3.196181         2.559617   \n",
       "44674 2022-04-01 00:14:00  0.0  0  100.0         3.196457         2.559522   \n",
       "44675 2022-04-01 00:15:00  0.0  0  100.0         3.196732         2.559426   \n",
       "44676 2022-04-01 00:16:00  0.0  0  100.0         3.197008         2.559330   \n",
       "44677 2022-04-01 00:17:00  0.0  0  100.0         3.197283         2.559234   \n",
       "\n",
       "       PM3_BASIS_WEIGHT_SP  PM3_BASIS_WEIGHT_SP2  PM3_MOISTURE_SP  \\\n",
       "1313                  65.0                  98.0              2.6   \n",
       "1314                  65.0                  98.0              2.6   \n",
       "1315                  65.0                  98.0              2.6   \n",
       "1316                  65.0                  98.0              2.6   \n",
       "1317                  65.0                  98.0              2.6   \n",
       "...                    ...                   ...              ...   \n",
       "44673                 65.0                  99.0              2.5   \n",
       "44674                 65.0                  99.0              2.5   \n",
       "44675                 65.0                  99.0              2.5   \n",
       "44676                 65.0                  99.0              2.5   \n",
       "44677                 65.0                  99.0              2.5   \n",
       "\n",
       "       PM3_MOISTURE_SP2  ...  HFEMS.MRPAP.01.SH01.PL003.06.KWH  \\\n",
       "1313                5.0  ...                        18244100.0   \n",
       "1314                5.0  ...                        18244100.0   \n",
       "1315                5.0  ...                        18244100.0   \n",
       "1316                5.0  ...                        18244100.0   \n",
       "1317                5.0  ...                        18244200.0   \n",
       "...                 ...  ...                               ...   \n",
       "44673               5.0  ...                        18842600.0   \n",
       "44674               5.0  ...                        18842600.0   \n",
       "44675               5.0  ...                        18842600.0   \n",
       "44676               5.0  ...                        18842600.0   \n",
       "44677               5.0  ...                        18842700.0   \n",
       "\n",
       "       HFEMS.MRPAP.01.SH01.PL003.06.PF  HFEMS.MRPAP.01.SH01.PL003.06.VA  \\\n",
       "1313                           96.3937                         721035.0   \n",
       "1314                           96.2834                         722425.0   \n",
       "1315                           96.2162                         729495.0   \n",
       "1316                           96.3623                         722322.0   \n",
       "1317                           96.4620                         718822.0   \n",
       "...                                ...                              ...   \n",
       "44673                          96.3825                         813512.0   \n",
       "44674                          96.3920                         804333.0   \n",
       "44675                          96.2587                         817491.0   \n",
       "44676                          96.1636                         823153.0   \n",
       "44677                          96.1895                         825920.0   \n",
       "\n",
       "       HFEMS.MRPAP.01.SH01.PL003.06.VAR  HFEMS.MRPAP.01.SH01.PL003.06.V_LL_R  \\\n",
       "1313                           199068.0                              22601.7   \n",
       "1314                           202654.0                              22617.9   \n",
       "1315                           206588.0                              22642.9   \n",
       "1316                           200340.0                              22615.4   \n",
       "1317                           196464.0                              22620.8   \n",
       "...                                 ...                                  ...   \n",
       "44673                          224968.0                              22580.7   \n",
       "44674                          222120.0                              22559.3   \n",
       "44675                          230129.0                              22575.0   \n",
       "44676                          234822.0                              22575.5   \n",
       "44677                          235199.0                              22584.1   \n",
       "\n",
       "       HFEMS.MRPAP.01.SH01.PL003.06.V_LL_S  \\\n",
       "1313                               22559.2   \n",
       "1314                               22585.8   \n",
       "1315                               22569.9   \n",
       "1316                               22581.0   \n",
       "1317                               22580.5   \n",
       "...                                    ...   \n",
       "44673                              22551.5   \n",
       "44674                              22533.5   \n",
       "44675                              22558.1   \n",
       "44676                              22551.6   \n",
       "44677                              22559.9   \n",
       "\n",
       "       HFEMS.MRPAP.01.SH01.PL003.06.V_LL_T  HFEMS.MRPAP.01.SH01.PL003.06.V_R  \\\n",
       "1313                               22659.9                               0.0   \n",
       "1314                               22686.9                               0.0   \n",
       "1315                               22683.6                               0.0   \n",
       "1316                               22684.4                               0.0   \n",
       "1317                               22672.1                               0.0   \n",
       "...                                    ...                               ...   \n",
       "44673                              22638.0                               0.0   \n",
       "44674                              22614.9                               0.0   \n",
       "44675                              22614.9                               0.0   \n",
       "44676                              22627.8                               0.0   \n",
       "44677                              22649.4                               0.0   \n",
       "\n",
       "       HFEMS.MRPAP.01.SH01.PL003.06.V_S  HFEMS.MRPAP.01.SH01.PL003.06.V_T  \n",
       "1313                                0.0                               0.0  \n",
       "1314                                0.0                               0.0  \n",
       "1315                                0.0                               0.0  \n",
       "1316                                0.0                               0.0  \n",
       "1317                                0.0                               0.0  \n",
       "...                                 ...                               ...  \n",
       "44673                               0.0                               0.0  \n",
       "44674                               0.0                               0.0  \n",
       "44675                               0.0                               0.0  \n",
       "44676                               0.0                               0.0  \n",
       "44677                               0.0                               0.0  \n",
       "\n",
       "[12555 rows x 159 columns]"
      ]
     },
     "execution_count": 1059,
     "metadata": {},
     "output_type": "execute_result"
    }
   ],
   "source": [
    "df_3M_temp"
   ]
  },
  {
   "cell_type": "markdown",
   "id": "28d2bd87",
   "metadata": {},
   "source": [
    "tags_320 상관계수"
   ]
  },
  {
   "cell_type": "code",
   "execution_count": 1060,
   "id": "064256f1",
   "metadata": {},
   "outputs": [],
   "source": [
    "tags = ['작업시작시간','지종','평량','지절']+tags_320\n",
    "\n",
    "target = df_3M_temp.loc[:,tags]"
   ]
  },
  {
   "cell_type": "code",
   "execution_count": 1061,
   "id": "5ddcba49",
   "metadata": {},
   "outputs": [],
   "source": [
    "target.set_index('작업시작시간', inplace=True)"
   ]
  },
  {
   "cell_type": "code",
   "execution_count": 1062,
   "id": "f5000db9",
   "metadata": {
    "scrolled": true
   },
   "outputs": [],
   "source": [
    "target['지종']=target['지종'].astype(float)"
   ]
  },
  {
   "cell_type": "code",
   "execution_count": 1063,
   "id": "253d15ba",
   "metadata": {},
   "outputs": [],
   "source": [
    "event = target[target['지절']==1]"
   ]
  },
  {
   "cell_type": "code",
   "execution_count": 1064,
   "id": "b230924e",
   "metadata": {},
   "outputs": [],
   "source": [
    "tags.remove('작업시작시간')"
   ]
  },
  {
   "cell_type": "code",
   "execution_count": 1065,
   "id": "2f3eef5e",
   "metadata": {},
   "outputs": [],
   "source": [
    "scaler = MinMaxScaler()\n",
    "scaler.fit(target[tags])\n",
    "target[tags] = scaler.transform(target[tags])"
   ]
  },
  {
   "cell_type": "code",
   "execution_count": 1066,
   "id": "944f7172",
   "metadata": {},
   "outputs": [],
   "source": [
    "target320 = target"
   ]
  },
  {
   "cell_type": "code",
   "execution_count": 1067,
   "id": "9bbf58d2",
   "metadata": {
    "scrolled": true
   },
   "outputs": [
    {
     "data": {
      "text/plain": [
       "Index(['320TIA7504:av', '320LIC7525:me', '320LIC7525:me.1', '320HIC7501:av',\n",
       "       '320FIA7535:av', '320-PIC0501:me'],\n",
       "      dtype='object')"
      ]
     },
     "execution_count": 1067,
     "metadata": {},
     "output_type": "execute_result"
    }
   ],
   "source": [
    "y = target.loc[:, '지절'].values\n",
    "temp=pd.DataFrame(columns=['Corr', 'P-val'])\n",
    "\n",
    "tags.remove('지절')\n",
    "\n",
    "for item in tags:\n",
    "    X = target.loc[:, item].values\n",
    "    if (stats.spearmanr(X,y)[1]<0.05) and (stats.spearmanr(X,y)[1]>0.001):\n",
    "        temp.loc[item] = [stats.spearmanr(X, y)[0], stats.spearmanr(X, y)[1]]\n",
    "\n",
    "\n",
    "temp['Corr_abs'] = abs(temp['Corr'])\n",
    "temp.sort_values(by = 'Corr_abs', ascending=False).index"
   ]
  },
  {
   "cell_type": "markdown",
   "id": "45435b19",
   "metadata": {},
   "source": [
    "pm3 상관분석"
   ]
  },
  {
   "cell_type": "code",
   "execution_count": 1068,
   "id": "a4905dd3",
   "metadata": {},
   "outputs": [],
   "source": [
    "tags = ['작업시작시간','지종','평량','지절']+tags_PM3\n",
    "\n",
    "target = df_3M_temp.loc[:,tags]"
   ]
  },
  {
   "cell_type": "code",
   "execution_count": 1069,
   "id": "2d185c73",
   "metadata": {},
   "outputs": [],
   "source": [
    "target.set_index('작업시작시간', inplace=True)"
   ]
  },
  {
   "cell_type": "code",
   "execution_count": 1070,
   "id": "5b57dd1e",
   "metadata": {
    "scrolled": true
   },
   "outputs": [],
   "source": [
    "target['지종']=target['지종'].astype(float)"
   ]
  },
  {
   "cell_type": "code",
   "execution_count": 1071,
   "id": "e6f030d8",
   "metadata": {},
   "outputs": [],
   "source": [
    "event = target[target['지절']==1]"
   ]
  },
  {
   "cell_type": "code",
   "execution_count": 1072,
   "id": "9489812e",
   "metadata": {},
   "outputs": [],
   "source": [
    "tags.remove('작업시작시간')"
   ]
  },
  {
   "cell_type": "code",
   "execution_count": 1073,
   "id": "59a7c6ef",
   "metadata": {},
   "outputs": [],
   "source": [
    "scaler = MinMaxScaler()\n",
    "scaler.fit(target[tags])\n",
    "target[tags] = scaler.transform(target[tags])"
   ]
  },
  {
   "cell_type": "code",
   "execution_count": 1074,
   "id": "5f473055",
   "metadata": {},
   "outputs": [],
   "source": [
    "targetPM3 = target"
   ]
  },
  {
   "cell_type": "code",
   "execution_count": 1075,
   "id": "58d3a1bd",
   "metadata": {
    "scrolled": false
   },
   "outputs": [
    {
     "data": {
      "text/plain": [
       "Index(['PM3_WIRE_SPEED', 'PM3-S3SC.opr:me'], dtype='object')"
      ]
     },
     "execution_count": 1075,
     "metadata": {},
     "output_type": "execute_result"
    }
   ],
   "source": [
    "y = target.loc[:, '지절'].values\n",
    "temp=pd.DataFrame(columns=['Corr', 'P-val'])\n",
    "\n",
    "tags.remove('지절')\n",
    "\n",
    "for item in tags:\n",
    "    X = target.loc[:, item].values\n",
    "    if (stats.spearmanr(X,y)[1]<0.05) and (stats.spearmanr(X,y)[1]>0.001):\n",
    "        temp.loc[item] = [stats.spearmanr(X, y)[0], stats.spearmanr(X, y)[1]]\n",
    "\n",
    "\n",
    "temp['Corr_abs'] = abs(temp['Corr'])\n",
    "temp.sort_values(by = 'Corr_abs', ascending=False).index"
   ]
  },
  {
   "cell_type": "markdown",
   "id": "b981be47",
   "metadata": {},
   "source": [
    "power 상관성분석"
   ]
  },
  {
   "cell_type": "code",
   "execution_count": 1076,
   "id": "6141b8e6",
   "metadata": {},
   "outputs": [],
   "source": [
    "tags = ['작업시작시간','지종','평량','지절']+tags_Power\n",
    "\n",
    "target = df_3M_temp.loc[:,tags]"
   ]
  },
  {
   "cell_type": "code",
   "execution_count": 1077,
   "id": "c3ceab2e",
   "metadata": {},
   "outputs": [],
   "source": [
    "target.set_index('작업시작시간', inplace=True)"
   ]
  },
  {
   "cell_type": "code",
   "execution_count": 1078,
   "id": "88cd3633",
   "metadata": {
    "scrolled": true
   },
   "outputs": [],
   "source": [
    "target['지종']=target['지종'].astype(float)"
   ]
  },
  {
   "cell_type": "code",
   "execution_count": 1079,
   "id": "15b29994",
   "metadata": {},
   "outputs": [],
   "source": [
    "event = target[target['지절']==1]"
   ]
  },
  {
   "cell_type": "code",
   "execution_count": 1080,
   "id": "af7a3749",
   "metadata": {},
   "outputs": [],
   "source": [
    "tags.remove('작업시작시간')"
   ]
  },
  {
   "cell_type": "code",
   "execution_count": 1081,
   "id": "14a16ead",
   "metadata": {},
   "outputs": [],
   "source": [
    "scaler = MinMaxScaler()\n",
    "scaler.fit(target[tags])\n",
    "target[tags] = scaler.transform(target[tags])"
   ]
  },
  {
   "cell_type": "code",
   "execution_count": 1082,
   "id": "8a25bfd9",
   "metadata": {},
   "outputs": [],
   "source": [
    "targetPower = target"
   ]
  },
  {
   "cell_type": "code",
   "execution_count": 1083,
   "id": "75572b0d",
   "metadata": {
    "scrolled": true
   },
   "outputs": [
    {
     "name": "stderr",
     "output_type": "stream",
     "text": [
      "C:\\Users\\USER\\anaconda3\\lib\\site-packages\\scipy\\stats\\stats.py:4484: SpearmanRConstantInputWarning: An input array is constant; the correlation coefficient is not defined.\n",
      "  warnings.warn(SpearmanRConstantInputWarning())\n"
     ]
    },
    {
     "data": {
      "text/plain": [
       "Index(['HFEMS.MRPAP.01.SH01.PL003.05.V_R', 'HFEMS.MRPAP.01.SH01.PL003.02.V_R',\n",
       "       'HFEMS.MRPAP.01.SH01.PL003.03.V_R', 'HFEMS.MRPAP.01.SH01.PL003.01.V_R',\n",
       "       'HFEMS.MRPAP.01.SH01.PL003.04.V_R', 'HFEMS.MRPAP.01.SH01.PL003.05.A_R',\n",
       "       'HFEMS.MRPAP.01.SH01.PL003.02.HZ'],\n",
       "      dtype='object')"
      ]
     },
     "execution_count": 1083,
     "metadata": {},
     "output_type": "execute_result"
    }
   ],
   "source": [
    "y = target.loc[:, '지절'].values\n",
    "temp=pd.DataFrame(columns=['Corr', 'P-val'])\n",
    "\n",
    "tags.remove('지절')\n",
    "\n",
    "for item in tags:\n",
    "    X = target.loc[:, item].values\n",
    "    if (stats.spearmanr(X,y)[1]<0.05) and (stats.spearmanr(X,y)[1]>0.001):\n",
    "        temp.loc[item] = [stats.spearmanr(X, y)[0], stats.spearmanr(X, y)[1]]\n",
    "\n",
    "\n",
    "temp['Corr_abs'] = abs(temp['Corr'])\n",
    "temp.sort_values(by = 'Corr_abs', ascending=False).index"
   ]
  },
  {
   "cell_type": "markdown",
   "id": "6bfa5b3c",
   "metadata": {},
   "source": [
    "한번에 상관분석"
   ]
  },
  {
   "cell_type": "code",
   "execution_count": 1091,
   "id": "68d0767d",
   "metadata": {},
   "outputs": [],
   "source": [
    "target_total = pd.concat([target320, targetPM3, targetPower], axis=1)"
   ]
  },
  {
   "cell_type": "code",
   "execution_count": 1096,
   "id": "ace41d5d",
   "metadata": {},
   "outputs": [
    {
     "name": "stdout",
     "output_type": "stream",
     "text": [
      "<class 'pandas.core.frame.DataFrame'>\n",
      "DatetimeIndex: 12555 entries, 2022-03-01 22:08:00 to 2022-04-01 00:17:00\n",
      "Columns: 164 entries, 지종 to HFEMS.MRPAP.01.SH01.PL003.06.V_T\n",
      "dtypes: float64(164)\n",
      "memory usage: 15.8 MB\n"
     ]
    }
   ],
   "source": [
    "target_total.info()"
   ]
  },
  {
   "cell_type": "code",
   "execution_count": 1100,
   "id": "433743c6",
   "metadata": {},
   "outputs": [],
   "source": [
    "tags_total = ['지종','평량','지절']+tags_320+tags_PM3+tags_Power"
   ]
  },
  {
   "cell_type": "code",
   "execution_count": 1105,
   "id": "2f11fad3",
   "metadata": {},
   "outputs": [
    {
     "ename": "ValueError",
     "evalue": "The truth value of an array with more than one element is ambiguous. Use a.any() or a.all()",
     "output_type": "error",
     "traceback": [
      "\u001b[1;31m---------------------------------------------------------------------------\u001b[0m",
      "\u001b[1;31mValueError\u001b[0m                                Traceback (most recent call last)",
      "Input \u001b[1;32mIn [1105]\u001b[0m, in \u001b[0;36m<cell line: 6>\u001b[1;34m()\u001b[0m\n\u001b[0;32m      6\u001b[0m \u001b[38;5;28;01mfor\u001b[39;00m item \u001b[38;5;129;01min\u001b[39;00m tags_total:\n\u001b[0;32m      7\u001b[0m     X \u001b[38;5;241m=\u001b[39m target_total\u001b[38;5;241m.\u001b[39mloc[:, item]\u001b[38;5;241m.\u001b[39mvalues\n\u001b[1;32m----> 8\u001b[0m     \u001b[38;5;28;01mif\u001b[39;00m (\u001b[43mstats\u001b[49m\u001b[38;5;241;43m.\u001b[39;49m\u001b[43mspearmanr\u001b[49m\u001b[43m(\u001b[49m\u001b[43mX\u001b[49m\u001b[43m,\u001b[49m\u001b[43my\u001b[49m\u001b[43m)\u001b[49m\u001b[43m[\u001b[49m\u001b[38;5;241;43m1\u001b[39;49m\u001b[43m]\u001b[49m\u001b[38;5;241;43m<\u001b[39;49m\u001b[38;5;241;43m0.05\u001b[39;49m) \u001b[38;5;129;01mand\u001b[39;00m (stats\u001b[38;5;241m.\u001b[39mspearmanr(X,y)[\u001b[38;5;241m1\u001b[39m]\u001b[38;5;241m>\u001b[39m\u001b[38;5;241m0.001\u001b[39m):\n\u001b[0;32m      9\u001b[0m         temp\u001b[38;5;241m.\u001b[39mloc[item] \u001b[38;5;241m=\u001b[39m [stats\u001b[38;5;241m.\u001b[39mspearmanr(X, y)[\u001b[38;5;241m0\u001b[39m], stats\u001b[38;5;241m.\u001b[39mspearmanr(X, y)[\u001b[38;5;241m1\u001b[39m]]\n\u001b[0;32m     12\u001b[0m temp[\u001b[38;5;124m'\u001b[39m\u001b[38;5;124mCorr_abs\u001b[39m\u001b[38;5;124m'\u001b[39m] \u001b[38;5;241m=\u001b[39m \u001b[38;5;28mabs\u001b[39m(temp[\u001b[38;5;124m'\u001b[39m\u001b[38;5;124mCorr\u001b[39m\u001b[38;5;124m'\u001b[39m])\n",
      "\u001b[1;31mValueError\u001b[0m: The truth value of an array with more than one element is ambiguous. Use a.any() or a.all()"
     ]
    }
   ],
   "source": [
    "y = target_total.loc[:, '지절'].values\n",
    "temp=pd.DataFrame(columns=['Corr', 'P-val'])\n",
    "\n",
    "# tags_total.remove('지절')\n",
    "\n",
    "for item in tags_total:\n",
    "    X = target_total.loc[:, item].values\n",
    "    if (stats.spearmanr(X,y)[1]<0.05) and (stats.spearmanr(X,y)[1]>0.001):\n",
    "        temp.loc[item] = [stats.spearmanr(X, y)[0], stats.spearmanr(X, y)[1]]\n",
    "\n",
    "\n",
    "temp['Corr_abs'] = abs(temp['Corr'])\n",
    "temp.sort_values(by = 'Corr_abs', ascending=False).index"
   ]
  },
  {
   "cell_type": "code",
   "execution_count": 1094,
   "id": "70b13de9",
   "metadata": {},
   "outputs": [
    {
     "data": {
      "text/html": [
       "<div>\n",
       "<style scoped>\n",
       "    .dataframe tbody tr th:only-of-type {\n",
       "        vertical-align: middle;\n",
       "    }\n",
       "\n",
       "    .dataframe tbody tr th {\n",
       "        vertical-align: top;\n",
       "    }\n",
       "\n",
       "    .dataframe thead th {\n",
       "        text-align: right;\n",
       "    }\n",
       "</style>\n",
       "<table border=\"1\" class=\"dataframe\">\n",
       "  <thead>\n",
       "    <tr style=\"text-align: right;\">\n",
       "      <th></th>\n",
       "      <th>Corr</th>\n",
       "      <th>P-val</th>\n",
       "      <th>Corr_abs</th>\n",
       "    </tr>\n",
       "  </thead>\n",
       "  <tbody>\n",
       "    <tr>\n",
       "      <th>지종</th>\n",
       "      <td>[[1.0, 1.0, 1.0, -0.10993618323069841, -0.1099...</td>\n",
       "      <td>[[0.0, 0.0, 0.0, 4.606959997125736e-35, 4.6069...</td>\n",
       "      <td>[[1.0, 1.0, 1.0, 0.10993618323069841, 0.109936...</td>\n",
       "    </tr>\n",
       "    <tr>\n",
       "      <th>평량</th>\n",
       "      <td>[[1.0, 1.0, 1.0, 0.04673631648439666, 0.046736...</td>\n",
       "      <td>[[0.0, 0.0, 0.0, 1.6135862526358863e-07, 1.613...</td>\n",
       "      <td>[[1.0, 1.0, 1.0, 0.04673631648439666, 0.046736...</td>\n",
       "    </tr>\n",
       "    <tr>\n",
       "      <th>320PIC7509:me</th>\n",
       "      <td>[[1.0, -0.04440035297451479, -0.04440035297451...</td>\n",
       "      <td>[[0.0, 6.458452362062009e-07, 6.45845236206200...</td>\n",
       "      <td>[[1.0, 0.04440035297451479, 0.0444003529745147...</td>\n",
       "    </tr>\n",
       "    <tr>\n",
       "      <th>320PIC7510:me</th>\n",
       "      <td>[[1.0, -0.0009940497377119964, -0.000994049737...</td>\n",
       "      <td>[[0.0, 0.9113219078789713, 0.9113219078789713,...</td>\n",
       "      <td>[[1.0, 0.0009940497377119964, 0.00099404973771...</td>\n",
       "    </tr>\n",
       "    <tr>\n",
       "      <th>320PIC7511:me</th>\n",
       "      <td>[[1.0, 0.0015107414377439272, 0.00151074143774...</td>\n",
       "      <td>[[0.0, 0.8655917793088862, 0.8655917793088862,...</td>\n",
       "      <td>[[1.0, 0.0015107414377439272, 0.00151074143774...</td>\n",
       "    </tr>\n",
       "    <tr>\n",
       "      <th>...</th>\n",
       "      <td>...</td>\n",
       "      <td>...</td>\n",
       "      <td>...</td>\n",
       "    </tr>\n",
       "    <tr>\n",
       "      <th>HFEMS.MRPAP.01.SH01.PL003.06.V_LL_S</th>\n",
       "      <td>[[1.0, 0.0038132168738017444, 0.00381321687380...</td>\n",
       "      <td>[[0.0, 0.6692143494241332, 0.6692143494241332,...</td>\n",
       "      <td>[[1.0, 0.0038132168738017444, 0.00381321687380...</td>\n",
       "    </tr>\n",
       "    <tr>\n",
       "      <th>HFEMS.MRPAP.01.SH01.PL003.06.V_LL_T</th>\n",
       "      <td>[[1.0, 0.015309392960221479, 0.015309392960221...</td>\n",
       "      <td>[[0.0, 0.08628412432671367, 0.0862841243267136...</td>\n",
       "      <td>[[1.0, 0.015309392960221479, 0.015309392960221...</td>\n",
       "    </tr>\n",
       "    <tr>\n",
       "      <th>HFEMS.MRPAP.01.SH01.PL003.06.V_R</th>\n",
       "      <td>NaN</td>\n",
       "      <td>NaN</td>\n",
       "      <td>NaN</td>\n",
       "    </tr>\n",
       "    <tr>\n",
       "      <th>HFEMS.MRPAP.01.SH01.PL003.06.V_S</th>\n",
       "      <td>NaN</td>\n",
       "      <td>NaN</td>\n",
       "      <td>NaN</td>\n",
       "    </tr>\n",
       "    <tr>\n",
       "      <th>HFEMS.MRPAP.01.SH01.PL003.06.V_T</th>\n",
       "      <td>NaN</td>\n",
       "      <td>NaN</td>\n",
       "      <td>NaN</td>\n",
       "    </tr>\n",
       "  </tbody>\n",
       "</table>\n",
       "<p>158 rows × 3 columns</p>\n",
       "</div>"
      ],
      "text/plain": [
       "                                                                                  Corr  \\\n",
       "지종                                   [[1.0, 1.0, 1.0, -0.10993618323069841, -0.1099...   \n",
       "평량                                   [[1.0, 1.0, 1.0, 0.04673631648439666, 0.046736...   \n",
       "320PIC7509:me                        [[1.0, -0.04440035297451479, -0.04440035297451...   \n",
       "320PIC7510:me                        [[1.0, -0.0009940497377119964, -0.000994049737...   \n",
       "320PIC7511:me                        [[1.0, 0.0015107414377439272, 0.00151074143774...   \n",
       "...                                                                                ...   \n",
       "HFEMS.MRPAP.01.SH01.PL003.06.V_LL_S  [[1.0, 0.0038132168738017444, 0.00381321687380...   \n",
       "HFEMS.MRPAP.01.SH01.PL003.06.V_LL_T  [[1.0, 0.015309392960221479, 0.015309392960221...   \n",
       "HFEMS.MRPAP.01.SH01.PL003.06.V_R                                                   NaN   \n",
       "HFEMS.MRPAP.01.SH01.PL003.06.V_S                                                   NaN   \n",
       "HFEMS.MRPAP.01.SH01.PL003.06.V_T                                                   NaN   \n",
       "\n",
       "                                                                                 P-val  \\\n",
       "지종                                   [[0.0, 0.0, 0.0, 4.606959997125736e-35, 4.6069...   \n",
       "평량                                   [[0.0, 0.0, 0.0, 1.6135862526358863e-07, 1.613...   \n",
       "320PIC7509:me                        [[0.0, 6.458452362062009e-07, 6.45845236206200...   \n",
       "320PIC7510:me                        [[0.0, 0.9113219078789713, 0.9113219078789713,...   \n",
       "320PIC7511:me                        [[0.0, 0.8655917793088862, 0.8655917793088862,...   \n",
       "...                                                                                ...   \n",
       "HFEMS.MRPAP.01.SH01.PL003.06.V_LL_S  [[0.0, 0.6692143494241332, 0.6692143494241332,...   \n",
       "HFEMS.MRPAP.01.SH01.PL003.06.V_LL_T  [[0.0, 0.08628412432671367, 0.0862841243267136...   \n",
       "HFEMS.MRPAP.01.SH01.PL003.06.V_R                                                   NaN   \n",
       "HFEMS.MRPAP.01.SH01.PL003.06.V_S                                                   NaN   \n",
       "HFEMS.MRPAP.01.SH01.PL003.06.V_T                                                   NaN   \n",
       "\n",
       "                                                                              Corr_abs  \n",
       "지종                                   [[1.0, 1.0, 1.0, 0.10993618323069841, 0.109936...  \n",
       "평량                                   [[1.0, 1.0, 1.0, 0.04673631648439666, 0.046736...  \n",
       "320PIC7509:me                        [[1.0, 0.04440035297451479, 0.0444003529745147...  \n",
       "320PIC7510:me                        [[1.0, 0.0009940497377119964, 0.00099404973771...  \n",
       "320PIC7511:me                        [[1.0, 0.0015107414377439272, 0.00151074143774...  \n",
       "...                                                                                ...  \n",
       "HFEMS.MRPAP.01.SH01.PL003.06.V_LL_S  [[1.0, 0.0038132168738017444, 0.00381321687380...  \n",
       "HFEMS.MRPAP.01.SH01.PL003.06.V_LL_T  [[1.0, 0.015309392960221479, 0.015309392960221...  \n",
       "HFEMS.MRPAP.01.SH01.PL003.06.V_R                                                   NaN  \n",
       "HFEMS.MRPAP.01.SH01.PL003.06.V_S                                                   NaN  \n",
       "HFEMS.MRPAP.01.SH01.PL003.06.V_T                                                   NaN  \n",
       "\n",
       "[158 rows x 3 columns]"
      ]
     },
     "execution_count": 1094,
     "metadata": {},
     "output_type": "execute_result"
    }
   ],
   "source": [
    "temp"
   ]
  },
  {
   "cell_type": "code",
   "execution_count": null,
   "id": "bfe7bf75",
   "metadata": {},
   "outputs": [],
   "source": []
  },
  {
   "cell_type": "markdown",
   "id": "331d5162",
   "metadata": {},
   "source": [
    "실험1"
   ]
  },
  {
   "cell_type": "code",
   "execution_count": 1125,
   "id": "fa881666",
   "metadata": {},
   "outputs": [],
   "source": [
    "tags = ['작업시작시간','지종','평량','지절']+['320PIC7513:me', 'PM3-S5SC.opr:me', '320PIC7544:me', '320PIC7508:me','320PDC7516:me', '320PIC7505:me', '320PIC7514:me', '320PDC7520:me', '320PIC7509:me', 'PM3_ASH_PV']\n",
    "\n",
    "target = df_3M_temp.loc[:,tags]\n",
    "\n",
    "target.set_index('작업시작시간', inplace=True)\n",
    "\n",
    "target['지종']=target['지종'].astype(float)\n",
    "\n",
    "event = target[target['지절']==1]\n",
    "\n",
    "tags.remove('작업시작시간')\n",
    "\n",
    "scaler = MinMaxScaler()\n",
    "scaler.fit(target[tags])\n",
    "target[tags] = scaler.transform(target[tags])\n",
    "\n",
    "target1_1 = target"
   ]
  },
  {
   "cell_type": "code",
   "execution_count": null,
   "id": "96cfcd5f",
   "metadata": {},
   "outputs": [],
   "source": []
  },
  {
   "cell_type": "code",
   "execution_count": null,
   "id": "c4449b10",
   "metadata": {},
   "outputs": [],
   "source": []
  },
  {
   "cell_type": "code",
   "execution_count": 971,
   "id": "18591711",
   "metadata": {},
   "outputs": [],
   "source": [
    "tags1 =['지종','평량']+ ['320TIA7504:av', '320LIC7525:me', '320LIC7525:me.1', '320HIC7501:av','320FIA7535:av', '320-PIC0501:me']"
   ]
  },
  {
   "cell_type": "code",
   "execution_count": 1122,
   "id": "87b17f19",
   "metadata": {},
   "outputs": [],
   "source": [
    "tags1_1 =['지종','평량']+ ['320PIC7513:me', '320PIC7544:me', '320PIC7508:me','320PDC7516:me', '320PIC7505:me', '320PIC7514:me', '320PDC7520:me', '320PIC7509:me', 'PM3_ASH_PV']"
   ]
  },
  {
   "cell_type": "code",
   "execution_count": 972,
   "id": "0538a468",
   "metadata": {},
   "outputs": [],
   "source": [
    "tags2 =['지종','평량']+ ['PM3_WIRE_SPEED', 'PM3-S3SC.opr:me']"
   ]
  },
  {
   "cell_type": "code",
   "execution_count": 973,
   "id": "dc613e7d",
   "metadata": {},
   "outputs": [],
   "source": [
    "tags3 =['지종','평량']+ ['HFEMS.MRPAP.01.SH01.PL003.05.V_R', 'HFEMS.MRPAP.01.SH01.PL003.02.V_R','HFEMS.MRPAP.01.SH01.PL003.03.V_R', 'HFEMS.MRPAP.01.SH01.PL003.01.V_R','HFEMS.MRPAP.01.SH01.PL003.04.V_R', 'HFEMS.MRPAP.01.SH01.PL003.05.A_R','HFEMS.MRPAP.01.SH01.PL003.02.HZ']"
   ]
  },
  {
   "cell_type": "code",
   "execution_count": null,
   "id": "5901c6da",
   "metadata": {},
   "outputs": [],
   "source": []
  },
  {
   "cell_type": "code",
   "execution_count": 1040,
   "id": "f924fe91",
   "metadata": {},
   "outputs": [],
   "source": [
    "train320 = target320[(target320.index>=\"2022-03-10\")&(target320.index<\"2022-03-13\")]\n",
    "test320 = target320[(target320.index>=\"2022-03-13\")&(target320.index<\"2022-03-14\")]"
   ]
  },
  {
   "cell_type": "code",
   "execution_count": 1114,
   "id": "fea4ce4e",
   "metadata": {},
   "outputs": [],
   "source": [
    "def make_dataset(data, label, window_size=3):\n",
    "    feature_list = []\n",
    "    label_list = []\n",
    "    for i in range(len(data) - window_size):\n",
    "        feature_list.append(np.array(data.iloc[i:i+window_size]))\n",
    "        label_list.append(np.array(label.iloc[i+window_size]))\n",
    "    return np.array(feature_list), np.array(label_list)"
   ]
  },
  {
   "cell_type": "code",
   "execution_count": 1126,
   "id": "5116d518",
   "metadata": {},
   "outputs": [
    {
     "data": {
      "text/plain": [
       "((2480, 20, 8), (621, 20, 8))"
      ]
     },
     "execution_count": 1126,
     "metadata": {},
     "output_type": "execute_result"
    }
   ],
   "source": [
    "from sklearn.model_selection import train_test_split\n",
    "\n",
    "feature_cols = tags1\n",
    "label_cols = ['지절']\n",
    "\n",
    "train_feature = train320[feature_cols]\n",
    "train_label = train320[label_cols]\n",
    "\n",
    "train_feature, train_label = make_dataset(train_feature, train_label, 20)\n",
    "\n",
    "x_train, x_valid, y_train, y_valid = train_test_split(train_feature, train_label, test_size=0.2)\n",
    "x_train.shape, x_valid.shape"
   ]
  },
  {
   "cell_type": "code",
   "execution_count": 1116,
   "id": "325fdead",
   "metadata": {},
   "outputs": [
    {
     "data": {
      "text/plain": [
       "((1072, 8), (1072, 1))"
      ]
     },
     "execution_count": 1116,
     "metadata": {},
     "output_type": "execute_result"
    }
   ],
   "source": [
    "test_feature = test320[feature_cols]\n",
    "test_label = test320[label_cols]\n",
    "\n",
    "test_feature.shape, test_label.shape"
   ]
  },
  {
   "cell_type": "code",
   "execution_count": 1117,
   "id": "40203613",
   "metadata": {},
   "outputs": [
    {
     "data": {
      "text/plain": [
       "((1052, 20, 8), (1052, 1))"
      ]
     },
     "execution_count": 1117,
     "metadata": {},
     "output_type": "execute_result"
    }
   ],
   "source": [
    "test_feature, test_label = make_dataset(test_feature, test_label, 20)\n",
    "test_feature.shape, test_label.shape"
   ]
  },
  {
   "cell_type": "code",
   "execution_count": 1118,
   "id": "db68f4da",
   "metadata": {},
   "outputs": [],
   "source": [
    "from keras.models import Sequential\n",
    "from keras.layers import Dense\n",
    "from keras.callbacks import EarlyStopping, ModelCheckpoint\n",
    "from keras.layers import LSTM\n",
    "\n",
    "model = Sequential()\n",
    "model.add(LSTM(16, \n",
    "               input_shape=(train_feature.shape[1], train_feature.shape[2]), \n",
    "               activation='relu', \n",
    "               return_sequences=False)\n",
    "          )\n",
    "\n",
    "model.add(Dense(1))"
   ]
  },
  {
   "cell_type": "code",
   "execution_count": 1119,
   "id": "22872c41",
   "metadata": {
    "scrolled": true
   },
   "outputs": [
    {
     "name": "stdout",
     "output_type": "stream",
     "text": [
      "Epoch 1/200\n",
      "133/155 [========================>.....] - ETA: 0s - loss: 0.0550\n",
      "Epoch 1: val_loss improved from inf to 0.05437, saving model to model\\tmp_checkpoint.h5\n",
      "155/155 [==============================] - 1s 3ms/step - loss: 0.0519 - val_loss: 0.0544\n",
      "Epoch 2/200\n",
      "133/155 [========================>.....] - ETA: 0s - loss: 0.0406\n",
      "Epoch 2: val_loss improved from 0.05437 to 0.05297, saving model to model\\tmp_checkpoint.h5\n",
      "155/155 [==============================] - 0s 2ms/step - loss: 0.0407 - val_loss: 0.0530\n",
      "Epoch 3/200\n",
      "135/155 [=========================>....] - ETA: 0s - loss: 0.0418\n",
      "Epoch 3: val_loss improved from 0.05297 to 0.05063, saving model to model\\tmp_checkpoint.h5\n",
      "155/155 [==============================] - 0s 2ms/step - loss: 0.0397 - val_loss: 0.0506\n",
      "Epoch 4/200\n",
      "131/155 [========================>.....] - ETA: 0s - loss: 0.0402\n",
      "Epoch 4: val_loss improved from 0.05063 to 0.04888, saving model to model\\tmp_checkpoint.h5\n",
      "155/155 [==============================] - 0s 2ms/step - loss: 0.0389 - val_loss: 0.0489\n",
      "Epoch 5/200\n",
      "134/155 [========================>.....] - ETA: 0s - loss: 0.0369\n",
      "Epoch 5: val_loss did not improve from 0.04888\n",
      "155/155 [==============================] - 0s 2ms/step - loss: 0.0381 - val_loss: 0.0491\n",
      "Epoch 6/200\n",
      "134/155 [========================>.....] - ETA: 0s - loss: 0.0367\n",
      "Epoch 6: val_loss improved from 0.04888 to 0.04805, saving model to model\\tmp_checkpoint.h5\n",
      "155/155 [==============================] - 0s 2ms/step - loss: 0.0386 - val_loss: 0.0480\n",
      "Epoch 7/200\n",
      "134/155 [========================>.....] - ETA: 0s - loss: 0.0380\n",
      "Epoch 7: val_loss improved from 0.04805 to 0.04776, saving model to model\\tmp_checkpoint.h5\n",
      "155/155 [==============================] - 0s 2ms/step - loss: 0.0381 - val_loss: 0.0478\n",
      "Epoch 8/200\n",
      "135/155 [=========================>....] - ETA: 0s - loss: 0.0379\n",
      "Epoch 8: val_loss did not improve from 0.04776\n",
      "155/155 [==============================] - 0s 2ms/step - loss: 0.0374 - val_loss: 0.0490\n",
      "Epoch 9/200\n",
      "134/155 [========================>.....] - ETA: 0s - loss: 0.0386\n",
      "Epoch 9: val_loss improved from 0.04776 to 0.04621, saving model to model\\tmp_checkpoint.h5\n",
      "155/155 [==============================] - 0s 2ms/step - loss: 0.0380 - val_loss: 0.0462\n",
      "Epoch 10/200\n",
      "136/155 [=========================>....] - ETA: 0s - loss: 0.0369\n",
      "Epoch 10: val_loss improved from 0.04621 to 0.04566, saving model to model\\tmp_checkpoint.h5\n",
      "155/155 [==============================] - 0s 2ms/step - loss: 0.0370 - val_loss: 0.0457\n",
      "Epoch 11/200\n",
      "135/155 [=========================>....] - ETA: 0s - loss: 0.0379\n",
      "Epoch 11: val_loss did not improve from 0.04566\n",
      "155/155 [==============================] - 0s 2ms/step - loss: 0.0365 - val_loss: 0.0483\n",
      "Epoch 12/200\n",
      "133/155 [========================>.....] - ETA: 0s - loss: 0.0363\n",
      "Epoch 12: val_loss did not improve from 0.04566\n",
      "155/155 [==============================] - 0s 2ms/step - loss: 0.0365 - val_loss: 0.0464\n",
      "Epoch 13/200\n",
      "134/155 [========================>.....] - ETA: 0s - loss: 0.0359\n",
      "Epoch 13: val_loss did not improve from 0.04566\n",
      "155/155 [==============================] - 0s 2ms/step - loss: 0.0361 - val_loss: 0.0493\n",
      "Epoch 14/200\n",
      "135/155 [=========================>....] - ETA: 0s - loss: 0.0369\n",
      "Epoch 14: val_loss improved from 0.04566 to 0.04429, saving model to model\\tmp_checkpoint.h5\n",
      "155/155 [==============================] - 0s 2ms/step - loss: 0.0359 - val_loss: 0.0443\n",
      "Epoch 15/200\n",
      "135/155 [=========================>....] - ETA: 0s - loss: 0.0363\n",
      "Epoch 15: val_loss did not improve from 0.04429\n",
      "155/155 [==============================] - 0s 2ms/step - loss: 0.0347 - val_loss: 0.0451\n",
      "Epoch 16/200\n",
      "135/155 [=========================>....] - ETA: 0s - loss: 0.0359\n",
      "Epoch 16: val_loss did not improve from 0.04429\n",
      "155/155 [==============================] - 0s 2ms/step - loss: 0.0345 - val_loss: 0.0453\n",
      "Epoch 17/200\n",
      "135/155 [=========================>....] - ETA: 0s - loss: 0.0337\n",
      "Epoch 17: val_loss improved from 0.04429 to 0.04351, saving model to model\\tmp_checkpoint.h5\n",
      "155/155 [==============================] - 0s 2ms/step - loss: 0.0342 - val_loss: 0.0435\n",
      "Epoch 18/200\n",
      "136/155 [=========================>....] - ETA: 0s - loss: 0.0349\n",
      "Epoch 18: val_loss did not improve from 0.04351\n",
      "155/155 [==============================] - 0s 2ms/step - loss: 0.0351 - val_loss: 0.0445\n",
      "Epoch 19/200\n",
      "135/155 [=========================>....] - ETA: 0s - loss: 0.0336\n",
      "Epoch 19: val_loss improved from 0.04351 to 0.04331, saving model to model\\tmp_checkpoint.h5\n",
      "155/155 [==============================] - 0s 2ms/step - loss: 0.0332 - val_loss: 0.0433\n",
      "Epoch 20/200\n",
      "134/155 [========================>.....] - ETA: 0s - loss: 0.0341\n",
      "Epoch 20: val_loss did not improve from 0.04331\n",
      "155/155 [==============================] - 0s 2ms/step - loss: 0.0334 - val_loss: 0.0440\n",
      "Epoch 21/200\n",
      "134/155 [========================>.....] - ETA: 0s - loss: 0.0337\n",
      "Epoch 21: val_loss did not improve from 0.04331\n",
      "155/155 [==============================] - 0s 2ms/step - loss: 0.0329 - val_loss: 0.0459\n",
      "Epoch 22/200\n",
      "134/155 [========================>.....] - ETA: 0s - loss: 0.0388\n",
      "Epoch 22: val_loss did not improve from 0.04331\n",
      "155/155 [==============================] - 0s 2ms/step - loss: 0.0387 - val_loss: 0.0498\n",
      "Epoch 23/200\n",
      "134/155 [========================>.....] - ETA: 0s - loss: 0.0361\n",
      "Epoch 23: val_loss did not improve from 0.04331\n",
      "155/155 [==============================] - 0s 2ms/step - loss: 0.0382 - val_loss: 0.0492\n",
      "Epoch 24/200\n",
      "135/155 [=========================>....] - ETA: 0s - loss: 0.0381\n",
      "Epoch 24: val_loss did not improve from 0.04331\n",
      "155/155 [==============================] - 0s 2ms/step - loss: 0.0381 - val_loss: 0.0490\n"
     ]
    }
   ],
   "source": [
    "import os\n",
    "\n",
    "model.compile(loss='mean_squared_error', optimizer='adam')\n",
    "early_stop = EarlyStopping(monitor='val_loss', patience=5)\n",
    "\n",
    "model_path = 'model'\n",
    "filename = os.path.join(model_path, 'tmp_checkpoint.h5')\n",
    "checkpoint = ModelCheckpoint(filename, monitor='val_loss', verbose=1, save_best_only=True, mode='auto')\n",
    "\n",
    "history = model.fit(x_train, y_train, \n",
    "                                    epochs=200, \n",
    "                                    batch_size=16,\n",
    "                                    validation_data=(x_valid, y_valid), \n",
    "                                    callbacks=[early_stop, checkpoint])"
   ]
  },
  {
   "cell_type": "code",
   "execution_count": 1120,
   "id": "d85c5474",
   "metadata": {},
   "outputs": [
    {
     "name": "stdout",
     "output_type": "stream",
     "text": [
      "33/33 [==============================] - 0s 1ms/step\n"
     ]
    },
    {
     "data": {
      "text/plain": [
       "(1052, 1)"
      ]
     },
     "execution_count": 1120,
     "metadata": {},
     "output_type": "execute_result"
    }
   ],
   "source": [
    "model.load_weights(filename)\n",
    "pred = model.predict(test_feature)\n",
    "\n",
    "pred.shape"
   ]
  },
  {
   "cell_type": "code",
   "execution_count": 1121,
   "id": "34f71c7b",
   "metadata": {
    "scrolled": true
   },
   "outputs": [
    {
     "data": {
      "image/png": "[encoded data removed]",
      "text/plain": [
       "<Figure size 864x648 with 1 Axes>"
      ]
     },
     "metadata": {
      "needs_background": "light"
     },
     "output_type": "display_data"
    }
   ],
   "source": [
    "plt.figure(figsize=(12, 9))\n",
    "plt.rc('axes', labelsize=25)   # x,y축 label 폰트 크기\n",
    "plt.rc('xtick', labelsize=25)  # x축 눈금 폰트 크기 \n",
    "plt.rc('ytick', labelsize=25)  # y축 눈금 폰트 크기\n",
    "plt.rc('legend', fontsize=25)  # 범례 폰트 크기\n",
    "plt.plot(test_label, label = 'actual')\n",
    "plt.plot(pred, label = 'prediction')\n",
    "# plt.ylim([0, 1])\n",
    "plt.legend()\n",
    "plt.show()"
   ]
  },
  {
   "cell_type": "code",
   "execution_count": null,
   "id": "742efef2",
   "metadata": {},
   "outputs": [],
   "source": []
  },
  {
   "cell_type": "code",
   "execution_count": 983,
   "id": "3a28c75f",
   "metadata": {},
   "outputs": [],
   "source": [
    "trainPower = targetPower[(targetPower.index>=\"2022-03-10\")&(targetPower.index<\"2022-03-13\")]\n",
    "testPower = targetPower[(targetPower.index>=\"2022-03-13\")&(targetPower.index<\"2022-03-14\")]"
   ]
  },
  {
   "cell_type": "code",
   "execution_count": 984,
   "id": "cff821ab",
   "metadata": {},
   "outputs": [],
   "source": [
    "trainPower.reset_index(drop=True, inplace=True)\n",
    "testPower.reset_index(drop=True, inplace=True)"
   ]
  },
  {
   "cell_type": "code",
   "execution_count": null,
   "id": "2183fc65",
   "metadata": {},
   "outputs": [],
   "source": []
  },
  {
   "cell_type": "code",
   "execution_count": 985,
   "id": "d409d3e5",
   "metadata": {},
   "outputs": [],
   "source": [
    "def make_dataset(data, label, window_size=3):\n",
    "    feature_list = []\n",
    "    label_list = []\n",
    "    for i in range(len(data) - window_size):\n",
    "        feature_list.append(np.array(data.iloc[i:i+window_size]))\n",
    "        label_list.append(np.array(label.iloc[i+window_size]))\n",
    "    return np.array(feature_list), np.array(label_list)"
   ]
  },
  {
   "cell_type": "code",
   "execution_count": 986,
   "id": "77466409",
   "metadata": {},
   "outputs": [
    {
     "ename": "IndexError",
     "evalue": "single positional indexer is out-of-bounds",
     "output_type": "error",
     "traceback": [
      "\u001b[1;31m---------------------------------------------------------------------------\u001b[0m",
      "\u001b[1;31mIndexError\u001b[0m                                Traceback (most recent call last)",
      "Input \u001b[1;32mIn [986]\u001b[0m, in \u001b[0;36m<cell line: 9>\u001b[1;34m()\u001b[0m\n\u001b[0;32m      6\u001b[0m train_feature \u001b[38;5;241m=\u001b[39m trainPower[feature_cols]\n\u001b[0;32m      7\u001b[0m train_label \u001b[38;5;241m=\u001b[39m testPower[label_cols]\n\u001b[1;32m----> 9\u001b[0m train_feature, train_label \u001b[38;5;241m=\u001b[39m \u001b[43mmake_dataset\u001b[49m\u001b[43m(\u001b[49m\u001b[43mtrain_feature\u001b[49m\u001b[43m,\u001b[49m\u001b[43m \u001b[49m\u001b[43mtrain_label\u001b[49m\u001b[43m,\u001b[49m\u001b[43m \u001b[49m\u001b[38;5;241;43m10\u001b[39;49m\u001b[43m)\u001b[49m\n\u001b[0;32m     11\u001b[0m x_train, x_valid, y_train, y_valid \u001b[38;5;241m=\u001b[39m train_test_split(train_feature, train_label, test_size\u001b[38;5;241m=\u001b[39m\u001b[38;5;241m0.2\u001b[39m)\n\u001b[0;32m     12\u001b[0m x_train\u001b[38;5;241m.\u001b[39mshape, x_valid\u001b[38;5;241m.\u001b[39mshape\n",
      "Input \u001b[1;32mIn [985]\u001b[0m, in \u001b[0;36mmake_dataset\u001b[1;34m(data, label, window_size)\u001b[0m\n\u001b[0;32m      4\u001b[0m \u001b[38;5;28;01mfor\u001b[39;00m i \u001b[38;5;129;01min\u001b[39;00m \u001b[38;5;28mrange\u001b[39m(\u001b[38;5;28mlen\u001b[39m(data) \u001b[38;5;241m-\u001b[39m window_size):\n\u001b[0;32m      5\u001b[0m     feature_list\u001b[38;5;241m.\u001b[39mappend(np\u001b[38;5;241m.\u001b[39marray(data\u001b[38;5;241m.\u001b[39miloc[i:i\u001b[38;5;241m+\u001b[39mwindow_size]))\n\u001b[1;32m----> 6\u001b[0m     label_list\u001b[38;5;241m.\u001b[39mappend(np\u001b[38;5;241m.\u001b[39marray(\u001b[43mlabel\u001b[49m\u001b[38;5;241;43m.\u001b[39;49m\u001b[43miloc\u001b[49m\u001b[43m[\u001b[49m\u001b[43mi\u001b[49m\u001b[38;5;241;43m+\u001b[39;49m\u001b[43mwindow_size\u001b[49m\u001b[43m]\u001b[49m))\n\u001b[0;32m      7\u001b[0m \u001b[38;5;28;01mreturn\u001b[39;00m np\u001b[38;5;241m.\u001b[39marray(feature_list), np\u001b[38;5;241m.\u001b[39marray(label_list)\n",
      "File \u001b[1;32m~\\anaconda3\\lib\\site-packages\\pandas\\core\\indexing.py:967\u001b[0m, in \u001b[0;36m_LocationIndexer.__getitem__\u001b[1;34m(self, key)\u001b[0m\n\u001b[0;32m    964\u001b[0m axis \u001b[38;5;241m=\u001b[39m \u001b[38;5;28mself\u001b[39m\u001b[38;5;241m.\u001b[39maxis \u001b[38;5;129;01mor\u001b[39;00m \u001b[38;5;241m0\u001b[39m\n\u001b[0;32m    966\u001b[0m maybe_callable \u001b[38;5;241m=\u001b[39m com\u001b[38;5;241m.\u001b[39mapply_if_callable(key, \u001b[38;5;28mself\u001b[39m\u001b[38;5;241m.\u001b[39mobj)\n\u001b[1;32m--> 967\u001b[0m \u001b[38;5;28;01mreturn\u001b[39;00m \u001b[38;5;28;43mself\u001b[39;49m\u001b[38;5;241;43m.\u001b[39;49m\u001b[43m_getitem_axis\u001b[49m\u001b[43m(\u001b[49m\u001b[43mmaybe_callable\u001b[49m\u001b[43m,\u001b[49m\u001b[43m \u001b[49m\u001b[43maxis\u001b[49m\u001b[38;5;241;43m=\u001b[39;49m\u001b[43maxis\u001b[49m\u001b[43m)\u001b[49m\n",
      "File \u001b[1;32m~\\anaconda3\\lib\\site-packages\\pandas\\core\\indexing.py:1520\u001b[0m, in \u001b[0;36m_iLocIndexer._getitem_axis\u001b[1;34m(self, key, axis)\u001b[0m\n\u001b[0;32m   1517\u001b[0m     \u001b[38;5;28;01mraise\u001b[39;00m \u001b[38;5;167;01mTypeError\u001b[39;00m(\u001b[38;5;124m\"\u001b[39m\u001b[38;5;124mCannot index by location index with a non-integer key\u001b[39m\u001b[38;5;124m\"\u001b[39m)\n\u001b[0;32m   1519\u001b[0m \u001b[38;5;66;03m# validate the location\u001b[39;00m\n\u001b[1;32m-> 1520\u001b[0m \u001b[38;5;28;43mself\u001b[39;49m\u001b[38;5;241;43m.\u001b[39;49m\u001b[43m_validate_integer\u001b[49m\u001b[43m(\u001b[49m\u001b[43mkey\u001b[49m\u001b[43m,\u001b[49m\u001b[43m \u001b[49m\u001b[43maxis\u001b[49m\u001b[43m)\u001b[49m\n\u001b[0;32m   1522\u001b[0m \u001b[38;5;28;01mreturn\u001b[39;00m \u001b[38;5;28mself\u001b[39m\u001b[38;5;241m.\u001b[39mobj\u001b[38;5;241m.\u001b[39m_ixs(key, axis\u001b[38;5;241m=\u001b[39maxis)\n",
      "File \u001b[1;32m~\\anaconda3\\lib\\site-packages\\pandas\\core\\indexing.py:1452\u001b[0m, in \u001b[0;36m_iLocIndexer._validate_integer\u001b[1;34m(self, key, axis)\u001b[0m\n\u001b[0;32m   1450\u001b[0m len_axis \u001b[38;5;241m=\u001b[39m \u001b[38;5;28mlen\u001b[39m(\u001b[38;5;28mself\u001b[39m\u001b[38;5;241m.\u001b[39mobj\u001b[38;5;241m.\u001b[39m_get_axis(axis))\n\u001b[0;32m   1451\u001b[0m \u001b[38;5;28;01mif\u001b[39;00m key \u001b[38;5;241m>\u001b[39m\u001b[38;5;241m=\u001b[39m len_axis \u001b[38;5;129;01mor\u001b[39;00m key \u001b[38;5;241m<\u001b[39m \u001b[38;5;241m-\u001b[39mlen_axis:\n\u001b[1;32m-> 1452\u001b[0m     \u001b[38;5;28;01mraise\u001b[39;00m \u001b[38;5;167;01mIndexError\u001b[39;00m(\u001b[38;5;124m\"\u001b[39m\u001b[38;5;124msingle positional indexer is out-of-bounds\u001b[39m\u001b[38;5;124m\"\u001b[39m)\n",
      "\u001b[1;31mIndexError\u001b[0m: single positional indexer is out-of-bounds"
     ]
    }
   ],
   "source": [
    "from sklearn.model_selection import train_test_split\n",
    "\n",
    "feature_cols = tags3\n",
    "label_cols = ['지절']\n",
    "\n",
    "train_feature = trainPower[feature_cols]\n",
    "train_label = testPower[label_cols]\n",
    "\n",
    "train_feature, train_label = make_dataset(train_feature, train_label, 10)\n",
    "\n",
    "x_train, x_valid, y_train, y_valid = train_test_split(train_feature, train_label, test_size=0.2)\n",
    "x_train.shape, x_valid.shape"
   ]
  },
  {
   "cell_type": "code",
   "execution_count": 904,
   "id": "c5d29f2f",
   "metadata": {},
   "outputs": [
    {
     "ename": "KeyError",
     "evalue": "\"['HFEMS.MRPAP.01.SH01.PL003.05.V_R', 'HFEMS.MRPAP.01.SH01.PL003.02.V_R', 'HFEMS.MRPAP.01.SH01.PL003.03.V_R', 'HFEMS.MRPAP.01.SH01.PL003.01.V_R', 'HFEMS.MRPAP.01.SH01.PL003.04.V_R', 'HFEMS.MRPAP.01.SH01.PL003.05.A_R', 'HFEMS.MRPAP.01.SH01.PL003.02.HZ'] not in index\"",
     "output_type": "error",
     "traceback": [
      "\u001b[1;31m---------------------------------------------------------------------------\u001b[0m",
      "\u001b[1;31mKeyError\u001b[0m                                  Traceback (most recent call last)",
      "Input \u001b[1;32mIn [904]\u001b[0m, in \u001b[0;36m<cell line: 1>\u001b[1;34m()\u001b[0m\n\u001b[1;32m----> 1\u001b[0m test_feature \u001b[38;5;241m=\u001b[39m \u001b[43mtest320\u001b[49m\u001b[43m[\u001b[49m\u001b[43mfeature_cols\u001b[49m\u001b[43m]\u001b[49m\n\u001b[0;32m      2\u001b[0m test_label \u001b[38;5;241m=\u001b[39m test320[label_cols]\n\u001b[0;32m      4\u001b[0m test_feature\u001b[38;5;241m.\u001b[39mshape, test_label\u001b[38;5;241m.\u001b[39mshape\n",
      "File \u001b[1;32m~\\anaconda3\\lib\\site-packages\\pandas\\core\\frame.py:3511\u001b[0m, in \u001b[0;36mDataFrame.__getitem__\u001b[1;34m(self, key)\u001b[0m\n\u001b[0;32m   3509\u001b[0m     \u001b[38;5;28;01mif\u001b[39;00m is_iterator(key):\n\u001b[0;32m   3510\u001b[0m         key \u001b[38;5;241m=\u001b[39m \u001b[38;5;28mlist\u001b[39m(key)\n\u001b[1;32m-> 3511\u001b[0m     indexer \u001b[38;5;241m=\u001b[39m \u001b[38;5;28;43mself\u001b[39;49m\u001b[38;5;241;43m.\u001b[39;49m\u001b[43mcolumns\u001b[49m\u001b[38;5;241;43m.\u001b[39;49m\u001b[43m_get_indexer_strict\u001b[49m\u001b[43m(\u001b[49m\u001b[43mkey\u001b[49m\u001b[43m,\u001b[49m\u001b[43m \u001b[49m\u001b[38;5;124;43m\"\u001b[39;49m\u001b[38;5;124;43mcolumns\u001b[39;49m\u001b[38;5;124;43m\"\u001b[39;49m\u001b[43m)\u001b[49m[\u001b[38;5;241m1\u001b[39m]\n\u001b[0;32m   3513\u001b[0m \u001b[38;5;66;03m# take() does not accept boolean indexers\u001b[39;00m\n\u001b[0;32m   3514\u001b[0m \u001b[38;5;28;01mif\u001b[39;00m \u001b[38;5;28mgetattr\u001b[39m(indexer, \u001b[38;5;124m\"\u001b[39m\u001b[38;5;124mdtype\u001b[39m\u001b[38;5;124m\"\u001b[39m, \u001b[38;5;28;01mNone\u001b[39;00m) \u001b[38;5;241m==\u001b[39m \u001b[38;5;28mbool\u001b[39m:\n",
      "File \u001b[1;32m~\\anaconda3\\lib\\site-packages\\pandas\\core\\indexes\\base.py:5782\u001b[0m, in \u001b[0;36mIndex._get_indexer_strict\u001b[1;34m(self, key, axis_name)\u001b[0m\n\u001b[0;32m   5779\u001b[0m \u001b[38;5;28;01melse\u001b[39;00m:\n\u001b[0;32m   5780\u001b[0m     keyarr, indexer, new_indexer \u001b[38;5;241m=\u001b[39m \u001b[38;5;28mself\u001b[39m\u001b[38;5;241m.\u001b[39m_reindex_non_unique(keyarr)\n\u001b[1;32m-> 5782\u001b[0m \u001b[38;5;28;43mself\u001b[39;49m\u001b[38;5;241;43m.\u001b[39;49m\u001b[43m_raise_if_missing\u001b[49m\u001b[43m(\u001b[49m\u001b[43mkeyarr\u001b[49m\u001b[43m,\u001b[49m\u001b[43m \u001b[49m\u001b[43mindexer\u001b[49m\u001b[43m,\u001b[49m\u001b[43m \u001b[49m\u001b[43maxis_name\u001b[49m\u001b[43m)\u001b[49m\n\u001b[0;32m   5784\u001b[0m keyarr \u001b[38;5;241m=\u001b[39m \u001b[38;5;28mself\u001b[39m\u001b[38;5;241m.\u001b[39mtake(indexer)\n\u001b[0;32m   5785\u001b[0m \u001b[38;5;28;01mif\u001b[39;00m \u001b[38;5;28misinstance\u001b[39m(key, Index):\n\u001b[0;32m   5786\u001b[0m     \u001b[38;5;66;03m# GH 42790 - Preserve name from an Index\u001b[39;00m\n",
      "File \u001b[1;32m~\\anaconda3\\lib\\site-packages\\pandas\\core\\indexes\\base.py:5845\u001b[0m, in \u001b[0;36mIndex._raise_if_missing\u001b[1;34m(self, key, indexer, axis_name)\u001b[0m\n\u001b[0;32m   5842\u001b[0m     \u001b[38;5;28;01mraise\u001b[39;00m \u001b[38;5;167;01mKeyError\u001b[39;00m(\u001b[38;5;124mf\u001b[39m\u001b[38;5;124m\"\u001b[39m\u001b[38;5;124mNone of [\u001b[39m\u001b[38;5;132;01m{\u001b[39;00mkey\u001b[38;5;132;01m}\u001b[39;00m\u001b[38;5;124m] are in the [\u001b[39m\u001b[38;5;132;01m{\u001b[39;00maxis_name\u001b[38;5;132;01m}\u001b[39;00m\u001b[38;5;124m]\u001b[39m\u001b[38;5;124m\"\u001b[39m)\n\u001b[0;32m   5844\u001b[0m not_found \u001b[38;5;241m=\u001b[39m \u001b[38;5;28mlist\u001b[39m(ensure_index(key)[missing_mask\u001b[38;5;241m.\u001b[39mnonzero()[\u001b[38;5;241m0\u001b[39m]]\u001b[38;5;241m.\u001b[39munique())\n\u001b[1;32m-> 5845\u001b[0m \u001b[38;5;28;01mraise\u001b[39;00m \u001b[38;5;167;01mKeyError\u001b[39;00m(\u001b[38;5;124mf\u001b[39m\u001b[38;5;124m\"\u001b[39m\u001b[38;5;132;01m{\u001b[39;00mnot_found\u001b[38;5;132;01m}\u001b[39;00m\u001b[38;5;124m not in index\u001b[39m\u001b[38;5;124m\"\u001b[39m)\n",
      "\u001b[1;31mKeyError\u001b[0m: \"['HFEMS.MRPAP.01.SH01.PL003.05.V_R', 'HFEMS.MRPAP.01.SH01.PL003.02.V_R', 'HFEMS.MRPAP.01.SH01.PL003.03.V_R', 'HFEMS.MRPAP.01.SH01.PL003.01.V_R', 'HFEMS.MRPAP.01.SH01.PL003.04.V_R', 'HFEMS.MRPAP.01.SH01.PL003.05.A_R', 'HFEMS.MRPAP.01.SH01.PL003.02.HZ'] not in index\""
     ]
    }
   ],
   "source": [
    "test_feature = test320[feature_cols]\n",
    "test_label = test320[label_cols]\n",
    "\n",
    "test_feature.shape, test_label.shape"
   ]
  },
  {
   "cell_type": "code",
   "execution_count": 905,
   "id": "4359c51c",
   "metadata": {},
   "outputs": [
    {
     "ename": "AttributeError",
     "evalue": "'numpy.ndarray' object has no attribute 'iloc'",
     "output_type": "error",
     "traceback": [
      "\u001b[1;31m---------------------------------------------------------------------------\u001b[0m",
      "\u001b[1;31mAttributeError\u001b[0m                            Traceback (most recent call last)",
      "Input \u001b[1;32mIn [905]\u001b[0m, in \u001b[0;36m<cell line: 1>\u001b[1;34m()\u001b[0m\n\u001b[1;32m----> 1\u001b[0m test_feature, test_label \u001b[38;5;241m=\u001b[39m \u001b[43mmake_dataset\u001b[49m\u001b[43m(\u001b[49m\u001b[43mtest_feature\u001b[49m\u001b[43m,\u001b[49m\u001b[43m \u001b[49m\u001b[43mtest_label\u001b[49m\u001b[43m,\u001b[49m\u001b[43m \u001b[49m\u001b[38;5;241;43m20\u001b[39;49m\u001b[43m)\u001b[49m\n\u001b[0;32m      2\u001b[0m test_feature\u001b[38;5;241m.\u001b[39mshape, test_label\u001b[38;5;241m.\u001b[39mshape\n",
      "Input \u001b[1;32mIn [901]\u001b[0m, in \u001b[0;36mmake_dataset\u001b[1;34m(data, label, window_size)\u001b[0m\n\u001b[0;32m      3\u001b[0m label_list \u001b[38;5;241m=\u001b[39m []\n\u001b[0;32m      4\u001b[0m \u001b[38;5;28;01mfor\u001b[39;00m i \u001b[38;5;129;01min\u001b[39;00m \u001b[38;5;28mrange\u001b[39m(\u001b[38;5;28mlen\u001b[39m(data) \u001b[38;5;241m-\u001b[39m window_size):\n\u001b[1;32m----> 5\u001b[0m     feature_list\u001b[38;5;241m.\u001b[39mappend(np\u001b[38;5;241m.\u001b[39marray(\u001b[43mdata\u001b[49m\u001b[38;5;241;43m.\u001b[39;49m\u001b[43miloc\u001b[49m[i:i\u001b[38;5;241m+\u001b[39mwindow_size]))\n\u001b[0;32m      6\u001b[0m     label_list\u001b[38;5;241m.\u001b[39mappend(np\u001b[38;5;241m.\u001b[39marray(label\u001b[38;5;241m.\u001b[39miloc[i\u001b[38;5;241m+\u001b[39mwindow_size]))\n\u001b[0;32m      7\u001b[0m \u001b[38;5;28;01mreturn\u001b[39;00m np\u001b[38;5;241m.\u001b[39marray(feature_list), np\u001b[38;5;241m.\u001b[39marray(label_list)\n",
      "\u001b[1;31mAttributeError\u001b[0m: 'numpy.ndarray' object has no attribute 'iloc'"
     ]
    }
   ],
   "source": [
    "test_feature, test_label = make_dataset(test_feature, test_label, 20)\n",
    "test_feature.shape, test_label.shape"
   ]
  },
  {
   "cell_type": "code",
   "execution_count": null,
   "id": "90fefb2d",
   "metadata": {},
   "outputs": [],
   "source": [
    "from keras.models import Sequential\n",
    "from keras.layers import Dense\n",
    "from keras.callbacks import EarlyStopping, ModelCheckpoint\n",
    "from keras.layers import LSTM\n",
    "\n",
    "model = Sequential()\n",
    "model.add(LSTM(16, \n",
    "               input_shape=(train_feature.shape[1], train_feature.shape[2]), \n",
    "               activation='relu', \n",
    "               return_sequences=False)\n",
    "          )\n",
    "\n",
    "model.add(Dense(1))"
   ]
  },
  {
   "cell_type": "code",
   "execution_count": null,
   "id": "cfadf23b",
   "metadata": {
    "scrolled": true
   },
   "outputs": [],
   "source": [
    "import os\n",
    "\n",
    "model.compile(loss='mean_squared_error', optimizer='adam')\n",
    "early_stop = EarlyStopping(monitor='val_loss', patience=5)\n",
    "\n",
    "model_path = 'model'\n",
    "filename = os.path.join(model_path, 'tmp_checkpoint.h5')\n",
    "checkpoint = ModelCheckpoint(filename, monitor='val_loss', verbose=1, save_best_only=True, mode='auto')\n",
    "\n",
    "history = model.fit(x_train, y_train, \n",
    "                                    epochs=200, \n",
    "                                    batch_size=16,\n",
    "                                    validation_data=(x_valid, y_valid), \n",
    "                                    callbacks=[early_stop, checkpoint])"
   ]
  },
  {
   "cell_type": "code",
   "execution_count": null,
   "id": "8cf7162b",
   "metadata": {},
   "outputs": [],
   "source": [
    "model.load_weights(filename)\n",
    "pred = model.predict(test_feature)\n",
    "\n",
    "pred.shape"
   ]
  },
  {
   "cell_type": "code",
   "execution_count": null,
   "id": "32a206b5",
   "metadata": {},
   "outputs": [],
   "source": [
    "plt.figure(figsize=(12, 9))\n",
    "plt.plot(test_label, label = 'actual')\n",
    "plt.plot(pred, label = 'prediction')\n",
    "# plt.ylim([0, 1])\n",
    "plt.legend()\n",
    "plt.show()"
   ]
  },
  {
   "cell_type": "code",
   "execution_count": null,
   "id": "9cc59ecb",
   "metadata": {},
   "outputs": [],
   "source": []
  },
  {
   "cell_type": "markdown",
   "id": "66130cb3",
   "metadata": {},
   "source": [
    "실험1"
   ]
  },
  {
   "cell_type": "code",
   "execution_count": 1205,
   "id": "26c07e41",
   "metadata": {},
   "outputs": [],
   "source": [
    "train1_1 = target1_1[(target1_1.index>=\"2022-03-10\")&(target1_1.index<\"2022-03-13\")]\n",
    "test1_1 = target1_1[(target1_1.index>=\"2022-03-13\")&(target1_1.index<\"2022-03-14\")]"
   ]
  },
  {
   "cell_type": "code",
   "execution_count": 1206,
   "id": "1f049ab6",
   "metadata": {},
   "outputs": [],
   "source": [
    "def make_dataset(data, label, window_size=3):\n",
    "    feature_list = []\n",
    "    label_list = []\n",
    "    for i in range(len(data) - window_size):\n",
    "        feature_list.append(np.array(data.iloc[i:i+window_size]))\n",
    "        label_list.append(np.array(label.iloc[i+window_size]))\n",
    "    return np.array(feature_list), np.array(label_list)"
   ]
  },
  {
   "cell_type": "code",
   "execution_count": 1207,
   "id": "88d0782e",
   "metadata": {},
   "outputs": [
    {
     "data": {
      "text/plain": [
       "((2480, 20, 12), (621, 20, 12))"
      ]
     },
     "execution_count": 1207,
     "metadata": {},
     "output_type": "execute_result"
    }
   ],
   "source": [
    "from sklearn.model_selection import train_test_split\n",
    "\n",
    "feature_cols = tags1_1\n",
    "label_cols = ['지절']\n",
    "\n",
    "train_feature = train1_1[feature_cols]\n",
    "train_label = train1_1[label_cols]\n",
    "\n",
    "train_feature, train_label = make_dataset(train_feature, train_label, 20)\n",
    "\n",
    "x_train, x_valid, y_train, y_valid = train_test_split(train_feature, train_label, test_size=0.2)\n",
    "x_train.shape, x_valid.shape"
   ]
  },
  {
   "cell_type": "code",
   "execution_count": 1208,
   "id": "e272715a",
   "metadata": {},
   "outputs": [
    {
     "data": {
      "text/plain": [
       "((1072, 12), (1072, 1))"
      ]
     },
     "execution_count": 1208,
     "metadata": {},
     "output_type": "execute_result"
    }
   ],
   "source": [
    "test_feature = test1_1[feature_cols]\n",
    "test_label = test1_1[label_cols]\n",
    "\n",
    "test_feature.shape, test_label.shape"
   ]
  },
  {
   "cell_type": "code",
   "execution_count": 1209,
   "id": "ce88b780",
   "metadata": {},
   "outputs": [
    {
     "data": {
      "text/plain": [
       "((1052, 20, 12), (1052, 1))"
      ]
     },
     "execution_count": 1209,
     "metadata": {},
     "output_type": "execute_result"
    }
   ],
   "source": [
    "test_feature, test_label = make_dataset(test_feature, test_label, 20)\n",
    "test_feature.shape, test_label.shape"
   ]
  },
  {
   "cell_type": "code",
   "execution_count": 1210,
   "id": "f13c9ded",
   "metadata": {},
   "outputs": [],
   "source": [
    "from keras.models import Sequential\n",
    "from keras.layers import Dense\n",
    "from keras.callbacks import EarlyStopping, ModelCheckpoint\n",
    "from keras.layers import LSTM\n",
    "\n",
    "model = Sequential()\n",
    "model.add(LSTM(16, \n",
    "               input_shape=(train_feature.shape[1], train_feature.shape[2]), \n",
    "               activation='relu', \n",
    "               return_sequences=False)\n",
    "          )\n",
    "\n",
    "model.add(Dense(1))"
   ]
  },
  {
   "cell_type": "code",
   "execution_count": 1211,
   "id": "18a8fcab",
   "metadata": {
    "scrolled": true
   },
   "outputs": [
    {
     "name": "stdout",
     "output_type": "stream",
     "text": [
      "Epoch 1/200\n",
      "131/155 [========================>.....] - ETA: 0s - loss: 0.0479\n",
      "Epoch 1: val_loss improved from inf to 0.04076, saving model to model\\tmp_checkpoint.h5\n",
      "155/155 [==============================] - 1s 3ms/step - loss: 0.0449 - val_loss: 0.0408\n",
      "Epoch 2/200\n",
      "135/155 [=========================>....] - ETA: 0s - loss: 0.0348\n",
      "Epoch 2: val_loss improved from 0.04076 to 0.03990, saving model to model\\tmp_checkpoint.h5\n",
      "155/155 [==============================] - 0s 2ms/step - loss: 0.0354 - val_loss: 0.0399\n",
      "Epoch 3/200\n",
      "135/155 [=========================>....] - ETA: 0s - loss: 0.0319\n",
      "Epoch 3: val_loss improved from 0.03990 to 0.03660, saving model to model\\tmp_checkpoint.h5\n",
      "155/155 [==============================] - 0s 2ms/step - loss: 0.0332 - val_loss: 0.0366\n",
      "Epoch 4/200\n",
      "134/155 [========================>.....] - ETA: 0s - loss: 0.0301\n",
      "Epoch 4: val_loss did not improve from 0.03660\n",
      "155/155 [==============================] - 0s 2ms/step - loss: 0.0312 - val_loss: 0.0374\n",
      "Epoch 5/200\n",
      "134/155 [========================>.....] - ETA: 0s - loss: 0.0277\n",
      "Epoch 5: val_loss improved from 0.03660 to 0.03564, saving model to model\\tmp_checkpoint.h5\n",
      "155/155 [==============================] - 0s 2ms/step - loss: 0.0303 - val_loss: 0.0356\n",
      "Epoch 6/200\n",
      "135/155 [=========================>....] - ETA: 0s - loss: 0.0284\n",
      "Epoch 6: val_loss improved from 0.03564 to 0.03501, saving model to model\\tmp_checkpoint.h5\n",
      "155/155 [==============================] - 0s 2ms/step - loss: 0.0286 - val_loss: 0.0350\n",
      "Epoch 7/200\n",
      "136/155 [=========================>....] - ETA: 0s - loss: 0.0294\n",
      "Epoch 7: val_loss did not improve from 0.03501\n",
      "155/155 [==============================] - 0s 2ms/step - loss: 0.0287 - val_loss: 0.0359\n",
      "Epoch 8/200\n",
      "133/155 [========================>.....] - ETA: 0s - loss: 0.0265\n",
      "Epoch 8: val_loss improved from 0.03501 to 0.03308, saving model to model\\tmp_checkpoint.h5\n",
      "155/155 [==============================] - 0s 2ms/step - loss: 0.0259 - val_loss: 0.0331\n",
      "Epoch 9/200\n",
      "133/155 [========================>.....] - ETA: 0s - loss: 0.0240\n",
      "Epoch 9: val_loss improved from 0.03308 to 0.03257, saving model to model\\tmp_checkpoint.h5\n",
      "155/155 [==============================] - 0s 2ms/step - loss: 0.0245 - val_loss: 0.0326\n",
      "Epoch 10/200\n",
      "136/155 [=========================>....] - ETA: 0s - loss: 0.0238\n",
      "Epoch 10: val_loss improved from 0.03257 to 0.03000, saving model to model\\tmp_checkpoint.h5\n",
      "155/155 [==============================] - 0s 2ms/step - loss: 0.0225 - val_loss: 0.0300\n",
      "Epoch 11/200\n",
      "136/155 [=========================>....] - ETA: 0s - loss: 0.0233\n",
      "Epoch 11: val_loss improved from 0.03000 to 0.02711, saving model to model\\tmp_checkpoint.h5\n",
      "155/155 [==============================] - 0s 2ms/step - loss: 0.0224 - val_loss: 0.0271\n",
      "Epoch 12/200\n",
      "136/155 [=========================>....] - ETA: 0s - loss: 0.0244\n",
      "Epoch 12: val_loss improved from 0.02711 to 0.02694, saving model to model\\tmp_checkpoint.h5\n",
      "155/155 [==============================] - 0s 2ms/step - loss: 0.0222 - val_loss: 0.0269\n",
      "Epoch 13/200\n",
      "135/155 [=========================>....] - ETA: 0s - loss: 0.0222\n",
      "Epoch 13: val_loss did not improve from 0.02694\n",
      "155/155 [==============================] - 0s 2ms/step - loss: 0.0231 - val_loss: 0.0273\n",
      "Epoch 14/200\n",
      "134/155 [========================>.....] - ETA: 0s - loss: 0.0223\n",
      "Epoch 14: val_loss did not improve from 0.02694\n",
      "155/155 [==============================] - 0s 2ms/step - loss: 0.0221 - val_loss: 0.0282\n",
      "Epoch 15/200\n",
      "155/155 [==============================] - ETA: 0s - loss: 0.0211\n",
      "Epoch 15: val_loss did not improve from 0.02694\n",
      "155/155 [==============================] - 0s 2ms/step - loss: 0.0211 - val_loss: 0.0276\n",
      "Epoch 16/200\n",
      "131/155 [========================>.....] - ETA: 0s - loss: 0.0199\n",
      "Epoch 16: val_loss did not improve from 0.02694\n",
      "155/155 [==============================] - 0s 2ms/step - loss: 0.0211 - val_loss: 0.0325\n",
      "Epoch 17/200\n",
      "133/155 [========================>.....] - ETA: 0s - loss: 0.0202\n",
      "Epoch 17: val_loss improved from 0.02694 to 0.02510, saving model to model\\tmp_checkpoint.h5\n",
      "155/155 [==============================] - 0s 2ms/step - loss: 0.0204 - val_loss: 0.0251\n",
      "Epoch 18/200\n",
      "132/155 [========================>.....] - ETA: 0s - loss: 0.0213\n",
      "Epoch 18: val_loss did not improve from 0.02510\n",
      "155/155 [==============================] - 0s 2ms/step - loss: 0.0212 - val_loss: 0.0262\n",
      "Epoch 19/200\n",
      "134/155 [========================>.....] - ETA: 0s - loss: 0.0187\n",
      "Epoch 19: val_loss improved from 0.02510 to 0.02325, saving model to model\\tmp_checkpoint.h5\n",
      "155/155 [==============================] - 0s 2ms/step - loss: 0.0199 - val_loss: 0.0233\n",
      "Epoch 20/200\n",
      "132/155 [========================>.....] - ETA: 0s - loss: 0.0196\n",
      "Epoch 20: val_loss did not improve from 0.02325\n",
      "155/155 [==============================] - 0s 2ms/step - loss: 0.0194 - val_loss: 0.0241\n",
      "Epoch 21/200\n",
      "134/155 [========================>.....] - ETA: 0s - loss: 0.0178\n",
      "Epoch 21: val_loss improved from 0.02325 to 0.02143, saving model to model\\tmp_checkpoint.h5\n",
      "155/155 [==============================] - 0s 2ms/step - loss: 0.0183 - val_loss: 0.0214\n",
      "Epoch 22/200\n",
      "134/155 [========================>.....] - ETA: 0s - loss: 0.0204\n",
      "Epoch 22: val_loss improved from 0.02143 to 0.02136, saving model to model\\tmp_checkpoint.h5\n",
      "155/155 [==============================] - 0s 2ms/step - loss: 0.0200 - val_loss: 0.0214\n",
      "Epoch 23/200\n",
      "133/155 [========================>.....] - ETA: 0s - loss: 0.0193\n",
      "Epoch 23: val_loss improved from 0.02136 to 0.02096, saving model to model\\tmp_checkpoint.h5\n",
      "155/155 [==============================] - 0s 2ms/step - loss: 0.0192 - val_loss: 0.0210\n",
      "Epoch 24/200\n",
      "135/155 [=========================>....] - ETA: 0s - loss: 0.0187\n",
      "Epoch 24: val_loss improved from 0.02096 to 0.01977, saving model to model\\tmp_checkpoint.h5\n",
      "155/155 [==============================] - 0s 2ms/step - loss: 0.0188 - val_loss: 0.0198\n",
      "Epoch 25/200\n",
      "134/155 [========================>.....] - ETA: 0s - loss: 0.0161\n",
      "Epoch 25: val_loss did not improve from 0.01977\n",
      "155/155 [==============================] - 0s 2ms/step - loss: 0.0176 - val_loss: 0.0212\n",
      "Epoch 26/200\n",
      "132/155 [========================>.....] - ETA: 0s - loss: 0.0184\n",
      "Epoch 26: val_loss did not improve from 0.01977\n",
      "155/155 [==============================] - 0s 2ms/step - loss: 0.0182 - val_loss: 0.0201\n",
      "Epoch 27/200\n",
      "134/155 [========================>.....] - ETA: 0s - loss: 0.0188\n",
      "Epoch 27: val_loss did not improve from 0.01977\n",
      "155/155 [==============================] - 0s 2ms/step - loss: 0.0180 - val_loss: 0.0229\n",
      "Epoch 28/200\n",
      "133/155 [========================>.....] - ETA: 0s - loss: 0.0187\n",
      "Epoch 28: val_loss did not improve from 0.01977\n",
      "155/155 [==============================] - 0s 2ms/step - loss: 0.0186 - val_loss: 0.0207\n",
      "Epoch 29/200\n",
      "132/155 [========================>.....] - ETA: 0s - loss: 0.0176\n",
      "Epoch 29: val_loss did not improve from 0.01977\n",
      "155/155 [==============================] - 0s 2ms/step - loss: 0.0174 - val_loss: 0.0201\n"
     ]
    }
   ],
   "source": [
    "import os\n",
    "\n",
    "model.compile(loss='mean_squared_error', optimizer='adam')\n",
    "early_stop = EarlyStopping(monitor='val_loss', patience=5)\n",
    "\n",
    "model_path = 'model'\n",
    "filename = os.path.join(model_path, 'tmp_checkpoint.h5')\n",
    "checkpoint = ModelCheckpoint(filename, monitor='val_loss', verbose=1, save_best_only=True, mode='auto')\n",
    "\n",
    "history = model.fit(x_train, y_train, \n",
    "                                    epochs=200, \n",
    "                                    batch_size=16,\n",
    "                                    validation_data=(x_valid, y_valid), \n",
    "                                    callbacks=[early_stop, checkpoint])"
   ]
  },
  {
   "cell_type": "code",
   "execution_count": 1212,
   "id": "213daebb",
   "metadata": {},
   "outputs": [
    {
     "name": "stdout",
     "output_type": "stream",
     "text": [
      "33/33 [==============================] - 0s 1ms/step\n"
     ]
    },
    {
     "data": {
      "text/plain": [
       "(1052, 1)"
      ]
     },
     "execution_count": 1212,
     "metadata": {},
     "output_type": "execute_result"
    }
   ],
   "source": [
    "model.load_weights(filename)\n",
    "pred = model.predict(test_feature)\n",
    "\n",
    "pred.shape"
   ]
  },
  {
   "cell_type": "code",
   "execution_count": 1213,
   "id": "813d2fa0",
   "metadata": {
    "scrolled": true
   },
   "outputs": [
    {
     "data": {
      "image/png": "[encoded data removed]",
      "text/plain": [
       "<Figure size 864x648 with 1 Axes>"
      ]
     },
     "metadata": {
      "needs_background": "light"
     },
     "output_type": "display_data"
    }
   ],
   "source": [
    "plt.figure(figsize=(12, 9))\n",
    "plt.rc('axes', labelsize=25)   # x,y축 label 폰트 크기\n",
    "plt.rc('xtick', labelsize=25)  # x축 눈금 폰트 크기 \n",
    "plt.rc('ytick', labelsize=25)  # y축 눈금 폰트 크기\n",
    "plt.rc('legend', fontsize=25)  # 범례 폰트 크기\n",
    "plt.plot(test_label, label = 'actual')\n",
    "plt.plot(pred, label = 'prediction')\n",
    "# plt.ylim([0, 1])\n",
    "plt.legend()\n",
    "plt.show()"
   ]
  },
  {
   "cell_type": "code",
   "execution_count": null,
   "id": "9f26c406",
   "metadata": {},
   "outputs": [],
   "source": []
  },
  {
   "cell_type": "code",
   "execution_count": null,
   "id": "64e12622",
   "metadata": {},
   "outputs": [],
   "source": []
  },
  {
   "cell_type": "code",
   "execution_count": null,
   "id": "2be40f79",
   "metadata": {},
   "outputs": [],
   "source": []
  },
  {
   "cell_type": "code",
   "execution_count": null,
   "id": "d0f9af37",
   "metadata": {},
   "outputs": [],
   "source": []
  },
  {
   "cell_type": "code",
   "execution_count": null,
   "id": "6e4eab49",
   "metadata": {},
   "outputs": [],
   "source": []
  }
 ],
 "metadata": {
  "kernelspec": {
   "display_name": "Python 3 (ipykernel)",
   "language": "python",
   "name": "python3"
  },
  "language_info": {
   "codemirror_mode": {
    "name": "ipython",
    "version": 3
   },
   "file_extension": ".py",
   "mimetype": "text/x-python",
   "name": "python",
   "nbconvert_exporter": "python",
   "pygments_lexer": "ipython3",
   "version": "3.9.12"
  }
 },
 "nbformat": 4,
 "nbformat_minor": 5
}
