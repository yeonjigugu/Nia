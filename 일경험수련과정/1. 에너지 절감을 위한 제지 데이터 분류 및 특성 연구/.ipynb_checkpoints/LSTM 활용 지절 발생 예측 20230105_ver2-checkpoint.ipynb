{
 "cells": [
  {
   "cell_type": "code",
   "execution_count": 3,
   "id": "0855e5be",
   "metadata": {
    "scrolled": false
   },
   "outputs": [
    {
     "name": "stderr",
     "output_type": "stream",
     "text": [
      "C:\\Users\\USER\\AppData\\Local\\Temp\\ipykernel_21360\\2594418531.py:19: DeprecationWarning: Importing display from IPython.core.display is deprecated since IPython 7.14, please import from IPython display\n",
      "  from IPython.core.display import display, HTML\n"
     ]
    },
    {
     "data": {
      "text/html": [
       "<style>.container {width:95% !important;}</style>"
      ],
      "text/plain": [
       "<IPython.core.display.HTML object>"
      ]
     },
     "metadata": {},
     "output_type": "display_data"
    }
   ],
   "source": [
    "%config Completer.use_jedi = False\n",
    "import seaborn as sns\n",
    "import matplotlib.pyplot as plt\n",
    "import pandas as pd\n",
    "import numpy as np\n",
    "import pprint\n",
    "import datetime\n",
    "import torch\n",
    "from pyarrow import csv\n",
    "import os.path\n",
    "import matplotlib.pyplot as plt\n",
    "import seaborn as sns\n",
    "import os\n",
    "from tqdm import notebook\n",
    "import scipy.stats as stats\n",
    "from sklearn.preprocessing import MinMaxScaler\n",
    "os.environ['KMP_DUPLICATE_LIB_OK']='True'\n",
    "\n",
    "from IPython.core.display import display, HTML\n",
    "display(HTML(\"<style>.container {width:95% !important;}</style>\")) #셀 사이즈 조절"
   ]
  },
  {
   "cell_type": "markdown",
   "id": "34c82b7a",
   "metadata": {},
   "source": [
    "태그"
   ]
  },
  {
   "cell_type": "code",
   "execution_count": 1,
   "id": "53a0fe93",
   "metadata": {},
   "outputs": [],
   "source": [
    "tags_PM3=[\n",
    "    'PM3-S3SC.opr:me',\n",
    "    'PM3-S5SC.opr:me',\n",
    "    'PM3_BASIS_WEIGHT_SP',\n",
    "    'PM3_BASIS_WEIGHT_SP2',\n",
    "    'PM3_MOISTURE_SP',\n",
    "    'PM3_MOISTURE_SP2',\n",
    "    'PM3_WIRE_SPEED',\n",
    "    'PM3_ASH_PV',\n",
    "    'PM3_STOCK_CONSISTENCY_PV',\n",
    "    'PM3_STOCK_FLOW_PV',\n",
    "    'PM3-JWC1.opr:me',\n",
    "    'PM3-TSF1.opr:me',\n",
    "    'PM3-RLS1.opr:me',\n",
    "    'PM3-TASH.opr:me'\n",
    "]"
   ]
  },
  {
   "cell_type": "code",
   "execution_count": 2,
   "id": "81beccf5",
   "metadata": {},
   "outputs": [],
   "source": [
    "tags_320=[\n",
    "    '320PIC7509:me',\n",
    "    '320PIC7510:me',\n",
    "    '320PIC7511:me',\n",
    "    '320PIC7513:me',\n",
    "    '320PIC7514:me',\n",
    "    '320PIC7524:me',\n",
    "    '320PIC7533:me',\n",
    "    '320PIC7544:me',\n",
    "    '320PIC7505:me',\n",
    "    '320PIC7506:me',\n",
    "    '320PIC7507:me',\n",
    "    '320PIC7508:me',\n",
    "    '320PDC7516:me',\n",
    "    '320PDC7518:me',\n",
    "    '320PDV7519.1:av',\n",
    "    '320PDC7520:me',\n",
    "    '320PDV7522.1:av',\n",
    "    '320HIC7501:av',\n",
    "    '320TIA7504:av',\n",
    "    '320TIA7530:av',\n",
    "    '320TIA7541:av',\n",
    "    '320TIA7542:av',\n",
    "    '320TIC7523:me',\n",
    "    '320PIC7524:me.1',\n",
    "    '320TIC0004:me',\n",
    "    '320TIC7540:me',\n",
    "    '320TIC7545:me',\n",
    "    '329-GIC1002:me',\n",
    "    '329-PIC7030.A:me',\n",
    "    '329-PIC7030.B:me',\n",
    "    '320-PIC0501:me',\n",
    "    '320LIC7524:me',\n",
    "    '320LIC7525:me',\n",
    "    '320LIC7526:me',\n",
    "    '320LIC7527:me',\n",
    "    '320LIC7528:me',\n",
    "    '320LIC7529:me',\n",
    "    '320LIC7537:me',\n",
    "    '320LIC7529:me.1',\n",
    "    '320LIC7528:me.1',\n",
    "    '320LIC7527:me.1',\n",
    "    '320LIC7526:me.1',\n",
    "    '320LIC7525:me.1',\n",
    "    '320FIA7531:av',\n",
    "    '320FIA7535:av'\n",
    "]"
   ]
  },
  {
   "cell_type": "code",
   "execution_count": 3,
   "id": "91627290",
   "metadata": {},
   "outputs": [],
   "source": [
    "tags_Power = [\n",
    " 'HFEMS.MRPAP.01.SH01.PL003.01.A_R',\n",
    " 'HFEMS.MRPAP.01.SH01.PL003.01.A_S',\n",
    " 'HFEMS.MRPAP.01.SH01.PL003.01.A_T',\n",
    " 'HFEMS.MRPAP.01.SH01.PL003.01.HZ',\n",
    " 'HFEMS.MRPAP.01.SH01.PL003.01.KVARH',\n",
    " 'HFEMS.MRPAP.01.SH01.PL003.01.KW',\n",
    " 'HFEMS.MRPAP.01.SH01.PL003.01.KWH',\n",
    " 'HFEMS.MRPAP.01.SH01.PL003.01.PF',\n",
    " 'HFEMS.MRPAP.01.SH01.PL003.01.VA',\n",
    " 'HFEMS.MRPAP.01.SH01.PL003.01.VAR',\n",
    " 'HFEMS.MRPAP.01.SH01.PL003.01.V_LL_R',\n",
    " 'HFEMS.MRPAP.01.SH01.PL003.01.V_LL_S',\n",
    " 'HFEMS.MRPAP.01.SH01.PL003.01.V_LL_T',\n",
    " 'HFEMS.MRPAP.01.SH01.PL003.01.V_R',\n",
    " 'HFEMS.MRPAP.01.SH01.PL003.01.V_S',\n",
    " 'HFEMS.MRPAP.01.SH01.PL003.01.V_T',\n",
    " 'HFEMS.MRPAP.01.SH01.PL003.02.A_R',\n",
    " 'HFEMS.MRPAP.01.SH01.PL003.02.A_S',\n",
    " 'HFEMS.MRPAP.01.SH01.PL003.02.A_T',\n",
    " 'HFEMS.MRPAP.01.SH01.PL003.02.HZ',\n",
    " 'HFEMS.MRPAP.01.SH01.PL003.02.KVARH',\n",
    " 'HFEMS.MRPAP.01.SH01.PL003.02.KW',\n",
    " 'HFEMS.MRPAP.01.SH01.PL003.02.KWH',\n",
    " 'HFEMS.MRPAP.01.SH01.PL003.02.PF',\n",
    " 'HFEMS.MRPAP.01.SH01.PL003.02.VA',\n",
    " 'HFEMS.MRPAP.01.SH01.PL003.02.VAR',\n",
    " 'HFEMS.MRPAP.01.SH01.PL003.02.V_LL_R',\n",
    " 'HFEMS.MRPAP.01.SH01.PL003.02.V_LL_S',\n",
    " 'HFEMS.MRPAP.01.SH01.PL003.02.V_LL_T',\n",
    " 'HFEMS.MRPAP.01.SH01.PL003.02.V_R',\n",
    " 'HFEMS.MRPAP.01.SH01.PL003.02.V_S',\n",
    " 'HFEMS.MRPAP.01.SH01.PL003.02.V_T',\n",
    " 'HFEMS.MRPAP.01.SH01.PL003.03.A_R',\n",
    " 'HFEMS.MRPAP.01.SH01.PL003.03.A_S',\n",
    " 'HFEMS.MRPAP.01.SH01.PL003.03.A_T',\n",
    " 'HFEMS.MRPAP.01.SH01.PL003.03.HZ',\n",
    " 'HFEMS.MRPAP.01.SH01.PL003.03.KVARH',\n",
    " 'HFEMS.MRPAP.01.SH01.PL003.03.KW',\n",
    " 'HFEMS.MRPAP.01.SH01.PL003.03.KWH',\n",
    " 'HFEMS.MRPAP.01.SH01.PL003.03.PF',\n",
    " 'HFEMS.MRPAP.01.SH01.PL003.03.VA',\n",
    " 'HFEMS.MRPAP.01.SH01.PL003.03.VAR',\n",
    " 'HFEMS.MRPAP.01.SH01.PL003.03.V_LL_R',\n",
    " 'HFEMS.MRPAP.01.SH01.PL003.03.V_LL_S',\n",
    " 'HFEMS.MRPAP.01.SH01.PL003.03.V_LL_T',\n",
    " 'HFEMS.MRPAP.01.SH01.PL003.03.V_R',\n",
    " 'HFEMS.MRPAP.01.SH01.PL003.03.V_S',\n",
    " 'HFEMS.MRPAP.01.SH01.PL003.03.V_T',\n",
    " 'HFEMS.MRPAP.01.SH01.PL003.04.A_R',\n",
    " 'HFEMS.MRPAP.01.SH01.PL003.04.A_S',\n",
    " 'HFEMS.MRPAP.01.SH01.PL003.04.A_T',\n",
    " 'HFEMS.MRPAP.01.SH01.PL003.04.HZ',\n",
    " 'HFEMS.MRPAP.01.SH01.PL003.04.KVARH',\n",
    " 'HFEMS.MRPAP.01.SH01.PL003.04.KW',\n",
    " 'HFEMS.MRPAP.01.SH01.PL003.04.KWH',\n",
    " 'HFEMS.MRPAP.01.SH01.PL003.04.PF',\n",
    " 'HFEMS.MRPAP.01.SH01.PL003.04.VA',\n",
    " 'HFEMS.MRPAP.01.SH01.PL003.04.VAR',\n",
    " 'HFEMS.MRPAP.01.SH01.PL003.04.V_LL_R',\n",
    " 'HFEMS.MRPAP.01.SH01.PL003.04.V_LL_S',\n",
    " 'HFEMS.MRPAP.01.SH01.PL003.04.V_LL_T',\n",
    " 'HFEMS.MRPAP.01.SH01.PL003.04.V_R',\n",
    " 'HFEMS.MRPAP.01.SH01.PL003.04.V_S',\n",
    " 'HFEMS.MRPAP.01.SH01.PL003.04.V_T',\n",
    " 'HFEMS.MRPAP.01.SH01.PL003.05.A_R',\n",
    " 'HFEMS.MRPAP.01.SH01.PL003.05.A_S',\n",
    " 'HFEMS.MRPAP.01.SH01.PL003.05.A_T',\n",
    " 'HFEMS.MRPAP.01.SH01.PL003.05.HZ',\n",
    " 'HFEMS.MRPAP.01.SH01.PL003.05.KVARH',\n",
    " 'HFEMS.MRPAP.01.SH01.PL003.05.KW',\n",
    " 'HFEMS.MRPAP.01.SH01.PL003.05.KWH',\n",
    " 'HFEMS.MRPAP.01.SH01.PL003.05.PF',\n",
    " 'HFEMS.MRPAP.01.SH01.PL003.05.VA',\n",
    " 'HFEMS.MRPAP.01.SH01.PL003.05.VAR',\n",
    " 'HFEMS.MRPAP.01.SH01.PL003.05.V_LL_R',\n",
    " 'HFEMS.MRPAP.01.SH01.PL003.05.V_LL_S',\n",
    " 'HFEMS.MRPAP.01.SH01.PL003.05.V_LL_T',\n",
    " 'HFEMS.MRPAP.01.SH01.PL003.05.V_R',\n",
    " 'HFEMS.MRPAP.01.SH01.PL003.05.V_S',\n",
    " 'HFEMS.MRPAP.01.SH01.PL003.05.V_T',\n",
    " 'HFEMS.MRPAP.01.SH01.PL003.06.A_R',\n",
    " 'HFEMS.MRPAP.01.SH01.PL003.06.A_S',\n",
    " 'HFEMS.MRPAP.01.SH01.PL003.06.A_T',\n",
    " 'HFEMS.MRPAP.01.SH01.PL003.06.HZ',\n",
    " 'HFEMS.MRPAP.01.SH01.PL003.06.KVARH',\n",
    " 'HFEMS.MRPAP.01.SH01.PL003.06.KW',\n",
    " 'HFEMS.MRPAP.01.SH01.PL003.06.KWH',\n",
    " 'HFEMS.MRPAP.01.SH01.PL003.06.PF',\n",
    " 'HFEMS.MRPAP.01.SH01.PL003.06.VA',\n",
    " 'HFEMS.MRPAP.01.SH01.PL003.06.VAR',\n",
    " 'HFEMS.MRPAP.01.SH01.PL003.06.V_LL_R',\n",
    " 'HFEMS.MRPAP.01.SH01.PL003.06.V_LL_S',\n",
    " 'HFEMS.MRPAP.01.SH01.PL003.06.V_LL_T',\n",
    " 'HFEMS.MRPAP.01.SH01.PL003.06.V_R',\n",
    " 'HFEMS.MRPAP.01.SH01.PL003.06.V_S',\n",
    " 'HFEMS.MRPAP.01.SH01.PL003.06.V_T'\n",
    " ]"
   ]
  },
  {
   "cell_type": "code",
   "execution_count": 56,
   "id": "cef14981",
   "metadata": {
    "scrolled": true
   },
   "outputs": [
    {
     "name": "stderr",
     "output_type": "stream",
     "text": [
      "C:\\Users\\USER\\AppData\\Local\\Temp\\ipykernel_21360\\428708869.py:1: DtypeWarning: Columns (8) have mixed types. Specify dtype option on import or set low_memory=False.\n",
      "  df = pd.read_csv('C:/Users/USER/etri_csv/논문/논문자료_v1.csv')\n"
     ]
    }
   ],
   "source": [
    "df = pd.read_csv('C:/Users/USER/etri_csv/논문/논문자료_v1.csv')"
   ]
  },
  {
   "cell_type": "code",
   "execution_count": 57,
   "id": "adfff703",
   "metadata": {},
   "outputs": [],
   "source": [
    "df.set_index('작업시작시간', inplace=True)"
   ]
  },
  {
   "cell_type": "code",
   "execution_count": 58,
   "id": "4dbb952a",
   "metadata": {},
   "outputs": [],
   "source": [
    "df.index =pd.to_datetime(df.index)"
   ]
  },
  {
   "cell_type": "code",
   "execution_count": 59,
   "id": "35b3f90b",
   "metadata": {},
   "outputs": [],
   "source": [
    "df.interpolate('time', inplace=True)"
   ]
  },
  {
   "cell_type": "code",
   "execution_count": 60,
   "id": "d7312b87",
   "metadata": {},
   "outputs": [],
   "source": [
    "df.fillna(method='bfill', inplace=True)"
   ]
  },
  {
   "cell_type": "markdown",
   "id": "2ea694e2",
   "metadata": {},
   "source": [
    "지절 발생이 가장 많은 3월 데이터 사용"
   ]
  },
  {
   "cell_type": "code",
   "execution_count": 675,
   "id": "76dfbe1c",
   "metadata": {},
   "outputs": [],
   "source": [
    "df_3M =df[df['월']==3]"
   ]
  },
  {
   "cell_type": "markdown",
   "id": "18d96cda",
   "metadata": {},
   "source": [
    "결측치 처리"
   ]
  },
  {
   "cell_type": "code",
   "execution_count": 676,
   "id": "839c474a",
   "metadata": {},
   "outputs": [
    {
     "name": "stderr",
     "output_type": "stream",
     "text": [
      "C:\\Users\\USER\\AppData\\Local\\Temp\\ipykernel_21360\\3805525285.py:1: SettingWithCopyWarning: \n",
      "A value is trying to be set on a copy of a slice from a DataFrame\n",
      "\n",
      "See the caveats in the documentation: https://pandas.pydata.org/pandas-docs/stable/user_guide/indexing.html#returning-a-view-versus-a-copy\n",
      "  df_3M.dropna(subset=['설비'], inplace=True)\n",
      "C:\\Users\\USER\\AppData\\Local\\Temp\\ipykernel_21360\\3805525285.py:2: SettingWithCopyWarning: \n",
      "A value is trying to be set on a copy of a slice from a DataFrame\n",
      "\n",
      "See the caveats in the documentation: https://pandas.pydata.org/pandas-docs/stable/user_guide/indexing.html#returning-a-view-versus-a-copy\n",
      "  df_3M.dropna(axis=1, inplace=True)\n"
     ]
    }
   ],
   "source": [
    "df_3M.dropna(subset=['설비'], inplace=True)\n",
    "df_3M.dropna(axis=1, inplace=True)"
   ]
  },
  {
   "cell_type": "code",
   "execution_count": 677,
   "id": "dee10291",
   "metadata": {},
   "outputs": [],
   "source": [
    "df_3M.reset_index(inplace=True)"
   ]
  },
  {
   "cell_type": "code",
   "execution_count": 678,
   "id": "837499a2",
   "metadata": {},
   "outputs": [],
   "source": [
    "condition_1 = ((df_3M['지종']=='네오★백상')&(df_3M['평량']==100.0))\n",
    "condition_2 = ((df_3M['지종']=='네오★스노우화이트기지')&(df_3M['평량']==73.0))\n",
    "condition_3 = ((df_3M['지종']=='네오★스노우화이트기지')&(df_3M['평량']==77.0))\n",
    "condition_4 = ((df_3M['지종']=='네오★스노우화이트기지')&(df_3M['평량']==62.0))\n",
    "condition_5 = ((df_3M['지종']=='네오★아트 R10기지')&(df_3M['평량']==77.0))\n",
    "condition_6 = ((df_3M['지종']=='네오★라벨기지')&(df_3M['평량']==67.0))\n",
    "condition_7 = ((df_3M['지종']=='네오★스노우화이트 R10기지')&(df_3M['평량']==67.0))\n",
    "condition_8 = ((df_3M['지종']=='네오★아트기지')&(df_3M['평량']==62.0))\n",
    "condition_9 = ((df_3M['지종']=='네오★아트기지')&(df_3M['평량']==73.0))"
   ]
  },
  {
   "cell_type": "code",
   "execution_count": 679,
   "id": "8025796e",
   "metadata": {},
   "outputs": [],
   "source": [
    "condition_legend=['네오★백상(100.0)', \n",
    "                  '네오★스노우화이트기지(73.0)',\n",
    "                  '네오★스노우화이트기지(77.0)',\n",
    "                  '네오★스노우화이트기지(62.0)',\n",
    "                  '네오★아트 R10기지(77.0)', \n",
    "                  '네오★라벨기지(67.0)',\n",
    "                  '네오★스노우화이트 R10기지(67.0)',\n",
    "                  '네오★아트기지(62.0)', \n",
    "                  '네오★아트기지(73.0)',\n",
    "                  ]"
   ]
  },
  {
   "cell_type": "code",
   "execution_count": 680,
   "id": "405618e5",
   "metadata": {},
   "outputs": [],
   "source": [
    "conditions=condition_1 | condition_2 | condition_3 | condition_4 | condition_5 | condition_6 | condition_7 | condition_8 | condition_9"
   ]
  },
  {
   "cell_type": "code",
   "execution_count": 694,
   "id": "c6810d1f",
   "metadata": {},
   "outputs": [],
   "source": [
    "tags = ['작업시작시간','지절','지종','평량']+tags_PM3+tags_320+tags_Power"
   ]
  },
  {
   "cell_type": "code",
   "execution_count": 695,
   "id": "2c2afdaf",
   "metadata": {
    "scrolled": true
   },
   "outputs": [],
   "source": [
    "df_3M_temp = df_3M[conditions][tags]"
   ]
  },
  {
   "cell_type": "code",
   "execution_count": 696,
   "id": "18294d69",
   "metadata": {
    "scrolled": true
   },
   "outputs": [],
   "source": [
    "for index,condition in enumerate([condition_1,condition_2,condition_3,condition_4,condition_5,condition_6,condition_7,condition_8,condition_9 ]):\n",
    "    df_3M_temp.loc[condition,['지종']]=index"
   ]
  },
  {
   "cell_type": "code",
   "execution_count": 697,
   "id": "4c9b9c16",
   "metadata": {
    "scrolled": true
   },
   "outputs": [
    {
     "data": {
      "text/plain": [
       "[0, 8, 4, 7, 5, 3, 6, 1, 2]"
      ]
     },
     "execution_count": 697,
     "metadata": {},
     "output_type": "execute_result"
    }
   ],
   "source": [
    "list(df_3M_temp['지종'].unique())"
   ]
  },
  {
   "cell_type": "markdown",
   "id": "2dce4592",
   "metadata": {},
   "source": [
    "LSTM"
   ]
  },
  {
   "cell_type": "code",
   "execution_count": 1745,
   "id": "a1d87312",
   "metadata": {},
   "outputs": [],
   "source": [
    "tags = ['작업시작시간','지종','평량','지절']+['320PIC7513:me', 'PM3-S5SC.opr:me','320PIC7544:me','320PIC7508:me','320PDC7516:me', '320PIC7505:me', '320PIC7514:me', '320PDC7520:me','320PIC7509:me','PM3_ASH_PV','HFEMS.MRPAP.01.SH01.PL003.02.PF','HFEMS.MRPAP.01.SH01.PL003.04.PF']\n",
    "\n",
    "target = df_3M_temp.loc[:,tags]\n",
    "\n",
    "target.set_index('작업시작시간', inplace=True)\n",
    "\n",
    "target['지종']=target['지종'].astype(float)\n",
    "\n",
    "event = target[target['지절']==1]\n",
    "\n",
    "tags.remove('작업시작시간')\n",
    "\n",
    "scaler = MinMaxScaler()\n",
    "scaler.fit(target[tags])\n",
    "target[tags] = scaler.transform(target[tags])\n",
    "\n",
    "target1_1 = target"
   ]
  },
  {
   "cell_type": "code",
   "execution_count": 1746,
   "id": "996095f5",
   "metadata": {},
   "outputs": [],
   "source": [
    "tags1_1 =['지종','평량']+['320PIC7513:me', 'PM3-S5SC.opr:me','320PIC7544:me','320PIC7508:me','320PDC7516:me', '320PIC7505:me', '320PIC7514:me', '320PDC7520:me','320PIC7509:me','PM3_ASH_PV','HFEMS.MRPAP.01.SH01.PL003.02.PF','HFEMS.MRPAP.01.SH01.PL003.04.PF']"
   ]
  },
  {
   "cell_type": "code",
   "execution_count": 1747,
   "id": "ea9086c2",
   "metadata": {},
   "outputs": [],
   "source": [
    "train1_1 = target1_1[(target1_1.index>=\"2022-03-10\")&(target1_1.index<\"2022-03-13\")]\n",
    "test1_1 = target1_1[(target1_1.index>=\"2022-03-13\")&(target1_1.index<\"2022-03-14\")]"
   ]
  },
  {
   "cell_type": "code",
   "execution_count": 1748,
   "id": "facda91f",
   "metadata": {},
   "outputs": [],
   "source": [
    "def make_dataset(data, label, window_size=3):\n",
    "    feature_list = []\n",
    "    label_list = []\n",
    "    for i in range(len(data) - window_size):\n",
    "        feature_list.append(np.array(data.iloc[i:i+window_size]))\n",
    "        label_list.append(np.array(label.iloc[i+window_size]))\n",
    "    return np.array(feature_list), np.array(label_list)"
   ]
  },
  {
   "cell_type": "code",
   "execution_count": 1749,
   "id": "7ed73b39",
   "metadata": {},
   "outputs": [
    {
     "data": {
      "text/plain": [
       "((2480, 20, 14), (621, 20, 14))"
      ]
     },
     "execution_count": 1749,
     "metadata": {},
     "output_type": "execute_result"
    }
   ],
   "source": [
    "from sklearn.model_selection import train_test_split\n",
    "\n",
    "feature_cols = tags1_1\n",
    "label_cols = ['지절']\n",
    "\n",
    "train_feature = train1_1[feature_cols]\n",
    "train_label = train1_1[label_cols]\n",
    "\n",
    "train_feature, train_label = make_dataset(train_feature, train_label, 20)\n",
    "\n",
    "x_train, x_valid, y_train, y_valid = train_test_split(train_feature, train_label, test_size=0.2, random_state = 123)\n",
    "x_train.shape, x_valid.shape"
   ]
  },
  {
   "cell_type": "code",
   "execution_count": 1750,
   "id": "c7de8331",
   "metadata": {},
   "outputs": [
    {
     "data": {
      "text/plain": [
       "((1072, 14), (1072, 1))"
      ]
     },
     "execution_count": 1750,
     "metadata": {},
     "output_type": "execute_result"
    }
   ],
   "source": [
    "test_feature = test1_1[feature_cols]\n",
    "test_label = test1_1[label_cols]\n",
    "\n",
    "test_feature.shape, test_label.shape"
   ]
  },
  {
   "cell_type": "code",
   "execution_count": 1751,
   "id": "55260b00",
   "metadata": {},
   "outputs": [
    {
     "data": {
      "text/plain": [
       "((1052, 20, 14), (1052, 1))"
      ]
     },
     "execution_count": 1751,
     "metadata": {},
     "output_type": "execute_result"
    }
   ],
   "source": [
    "test_feature, test_label = make_dataset(test_feature, test_label, 20)\n",
    "test_feature.shape, test_label.shape"
   ]
  },
  {
   "cell_type": "code",
   "execution_count": 1752,
   "id": "a9beb8d2",
   "metadata": {},
   "outputs": [],
   "source": [
    "from keras.models import Sequential\n",
    "from keras.layers import Dense\n",
    "from keras.callbacks import EarlyStopping, ModelCheckpoint\n",
    "from keras.layers import LSTM\n",
    "\n",
    "model = Sequential()\n",
    "model.add(LSTM(16, \n",
    "               input_shape=(train_feature.shape[1], train_feature.shape[2]), \n",
    "               activation='relu', \n",
    "               return_sequences=False)\n",
    "          )\n",
    "\n",
    "model.add(Dense(1))"
   ]
  },
  {
   "cell_type": "code",
   "execution_count": 1753,
   "id": "13038772",
   "metadata": {
    "scrolled": true
   },
   "outputs": [
    {
     "name": "stdout",
     "output_type": "stream",
     "text": [
      "Epoch 1/200\n",
      "129/155 [=======================>......] - ETA: 0s - loss: 0.0477\n",
      "Epoch 1: val_loss improved from inf to 0.04322, saving model to model\\tmp_checkpoint.h5\n",
      "155/155 [==============================] - 1s 4ms/step - loss: 0.0466 - val_loss: 0.0432\n",
      "Epoch 2/200\n",
      "153/155 [============================>.] - ETA: 0s - loss: 0.0358\n",
      "Epoch 2: val_loss improved from 0.04322 to 0.03713, saving model to model\\tmp_checkpoint.h5\n",
      "155/155 [==============================] - 0s 2ms/step - loss: 0.0363 - val_loss: 0.0371\n",
      "Epoch 3/200\n",
      "153/155 [============================>.] - ETA: 0s - loss: 0.0311\n",
      "Epoch 3: val_loss improved from 0.03713 to 0.03507, saving model to model\\tmp_checkpoint.h5\n",
      "155/155 [==============================] - 0s 2ms/step - loss: 0.0313 - val_loss: 0.0351\n",
      "Epoch 4/200\n",
      "129/155 [=======================>......] - ETA: 0s - loss: 0.0270\n",
      "Epoch 4: val_loss improved from 0.03507 to 0.03420, saving model to model\\tmp_checkpoint.h5\n",
      "155/155 [==============================] - 0s 2ms/step - loss: 0.0290 - val_loss: 0.0342\n",
      "Epoch 5/200\n",
      "131/155 [========================>.....] - ETA: 0s - loss: 0.0265\n",
      "Epoch 5: val_loss improved from 0.03420 to 0.03228, saving model to model\\tmp_checkpoint.h5\n",
      "155/155 [==============================] - 0s 2ms/step - loss: 0.0262 - val_loss: 0.0323\n",
      "Epoch 6/200\n",
      "131/155 [========================>.....] - ETA: 0s - loss: 0.0256\n",
      "Epoch 6: val_loss did not improve from 0.03228\n",
      "155/155 [==============================] - 0s 2ms/step - loss: 0.0251 - val_loss: 0.0330\n",
      "Epoch 7/200\n",
      "155/155 [==============================] - ETA: 0s - loss: 0.0242\n",
      "Epoch 7: val_loss improved from 0.03228 to 0.03120, saving model to model\\tmp_checkpoint.h5\n",
      "155/155 [==============================] - 0s 2ms/step - loss: 0.0242 - val_loss: 0.0312\n",
      "Epoch 8/200\n",
      "153/155 [============================>.] - ETA: 0s - loss: 0.0226\n",
      "Epoch 8: val_loss did not improve from 0.03120\n",
      "155/155 [==============================] - 0s 2ms/step - loss: 0.0233 - val_loss: 0.0330\n",
      "Epoch 9/200\n",
      "131/155 [========================>.....] - ETA: 0s - loss: 0.0220\n",
      "Epoch 9: val_loss improved from 0.03120 to 0.02934, saving model to model\\tmp_checkpoint.h5\n",
      "155/155 [==============================] - 0s 2ms/step - loss: 0.0229 - val_loss: 0.0293\n",
      "Epoch 10/200\n",
      "130/155 [========================>.....] - ETA: 0s - loss: 0.0222\n",
      "Epoch 10: val_loss improved from 0.02934 to 0.02733, saving model to model\\tmp_checkpoint.h5\n",
      "155/155 [==============================] - 0s 2ms/step - loss: 0.0218 - val_loss: 0.0273\n",
      "Epoch 11/200\n",
      "133/155 [========================>.....] - ETA: 0s - loss: 0.0212\n",
      "Epoch 11: val_loss did not improve from 0.02733\n",
      "155/155 [==============================] - 0s 2ms/step - loss: 0.0214 - val_loss: 0.0302\n",
      "Epoch 12/200\n",
      "130/155 [========================>.....] - ETA: 0s - loss: 0.0200\n",
      "Epoch 12: val_loss did not improve from 0.02733\n",
      "155/155 [==============================] - 0s 2ms/step - loss: 0.0206 - val_loss: 0.0292\n",
      "Epoch 13/200\n",
      "130/155 [========================>.....] - ETA: 0s - loss: 0.0189\n",
      "Epoch 13: val_loss improved from 0.02733 to 0.02643, saving model to model\\tmp_checkpoint.h5\n",
      "155/155 [==============================] - 0s 2ms/step - loss: 0.0189 - val_loss: 0.0264\n",
      "Epoch 14/200\n",
      "154/155 [============================>.] - ETA: 0s - loss: 0.0186\n",
      "Epoch 14: val_loss improved from 0.02643 to 0.02396, saving model to model\\tmp_checkpoint.h5\n",
      "155/155 [==============================] - 0s 2ms/step - loss: 0.0185 - val_loss: 0.0240\n",
      "Epoch 15/200\n",
      "132/155 [========================>.....] - ETA: 0s - loss: 0.0201\n",
      "Epoch 15: val_loss improved from 0.02396 to 0.02301, saving model to model\\tmp_checkpoint.h5\n",
      "155/155 [==============================] - 0s 2ms/step - loss: 0.0198 - val_loss: 0.0230\n",
      "Epoch 16/200\n",
      "132/155 [========================>.....] - ETA: 0s - loss: 0.0182\n",
      "Epoch 16: val_loss improved from 0.02301 to 0.02185, saving model to model\\tmp_checkpoint.h5\n",
      "155/155 [==============================] - 0s 2ms/step - loss: 0.0186 - val_loss: 0.0219\n",
      "Epoch 17/200\n",
      "133/155 [========================>.....] - ETA: 0s - loss: 0.0149\n",
      "Epoch 17: val_loss did not improve from 0.02185\n",
      "155/155 [==============================] - 0s 2ms/step - loss: 0.0156 - val_loss: 0.0238\n",
      "Epoch 18/200\n",
      "131/155 [========================>.....] - ETA: 0s - loss: 0.0170\n",
      "Epoch 18: val_loss improved from 0.02185 to 0.02031, saving model to model\\tmp_checkpoint.h5\n",
      "155/155 [==============================] - 0s 2ms/step - loss: 0.0165 - val_loss: 0.0203\n",
      "Epoch 19/200\n",
      "132/155 [========================>.....] - ETA: 0s - loss: 0.0162\n",
      "Epoch 19: val_loss did not improve from 0.02031\n",
      "155/155 [==============================] - 0s 2ms/step - loss: 0.0163 - val_loss: 0.0216\n",
      "Epoch 20/200\n",
      "131/155 [========================>.....] - ETA: 0s - loss: 0.0164\n",
      "Epoch 20: val_loss improved from 0.02031 to 0.01904, saving model to model\\tmp_checkpoint.h5\n",
      "155/155 [==============================] - 0s 2ms/step - loss: 0.0162 - val_loss: 0.0190\n",
      "Epoch 21/200\n",
      "132/155 [========================>.....] - ETA: 0s - loss: 0.0159\n",
      "Epoch 21: val_loss did not improve from 0.01904\n",
      "155/155 [==============================] - 0s 2ms/step - loss: 0.0156 - val_loss: 0.0229\n",
      "Epoch 22/200\n",
      "130/155 [========================>.....] - ETA: 0s - loss: 0.0170\n",
      "Epoch 22: val_loss did not improve from 0.01904\n",
      "155/155 [==============================] - 0s 2ms/step - loss: 0.0155 - val_loss: 0.0230\n",
      "Epoch 23/200\n",
      "131/155 [========================>.....] - ETA: 0s - loss: 0.0132\n",
      "Epoch 23: val_loss did not improve from 0.01904\n",
      "155/155 [==============================] - 0s 2ms/step - loss: 0.0155 - val_loss: 0.0204\n",
      "Epoch 24/200\n",
      "132/155 [========================>.....] - ETA: 0s - loss: 0.0160\n",
      "Epoch 24: val_loss did not improve from 0.01904\n",
      "155/155 [==============================] - 0s 2ms/step - loss: 0.0154 - val_loss: 0.0196\n",
      "Epoch 25/200\n",
      "130/155 [========================>.....] - ETA: 0s - loss: 0.0137\n",
      "Epoch 25: val_loss improved from 0.01904 to 0.01841, saving model to model\\tmp_checkpoint.h5\n",
      "155/155 [==============================] - 0s 2ms/step - loss: 0.0144 - val_loss: 0.0184\n",
      "Epoch 26/200\n",
      "155/155 [==============================] - ETA: 0s - loss: 0.0150\n",
      "Epoch 26: val_loss did not improve from 0.01841\n",
      "155/155 [==============================] - 0s 2ms/step - loss: 0.0150 - val_loss: 0.0188\n",
      "Epoch 27/200\n",
      "131/155 [========================>.....] - ETA: 0s - loss: 0.0133\n",
      "Epoch 27: val_loss did not improve from 0.01841\n",
      "155/155 [==============================] - 0s 2ms/step - loss: 0.0145 - val_loss: 0.0200\n",
      "Epoch 28/200\n",
      "130/155 [========================>.....] - ETA: 0s - loss: 0.0143\n",
      "Epoch 28: val_loss did not improve from 0.01841\n",
      "155/155 [==============================] - 0s 2ms/step - loss: 0.0144 - val_loss: 0.0210\n",
      "Epoch 29/200\n",
      "133/155 [========================>.....] - ETA: 0s - loss: 0.0164\n",
      "Epoch 29: val_loss did not improve from 0.01841\n",
      "155/155 [==============================] - 0s 2ms/step - loss: 0.0157 - val_loss: 0.0205\n",
      "Epoch 30/200\n",
      "131/155 [========================>.....] - ETA: 0s - loss: 0.0142\n",
      "Epoch 30: val_loss did not improve from 0.01841\n",
      "155/155 [==============================] - 0s 2ms/step - loss: 0.0141 - val_loss: 0.0216\n"
     ]
    }
   ],
   "source": [
    "import os\n",
    "\n",
    "model.compile(loss='mean_squared_error', optimizer='adam')\n",
    "early_stop = EarlyStopping(monitor='val_loss', patience=5)\n",
    "\n",
    "model_path = 'model'\n",
    "filename = os.path.join(model_path, 'tmp_checkpoint.h5')\n",
    "checkpoint = ModelCheckpoint(filename, monitor='val_loss', verbose=1, save_best_only=True, mode='auto')\n",
    "\n",
    "history = model.fit(x_train, y_train, \n",
    "                                    epochs=200, \n",
    "                                    batch_size=16,\n",
    "                                    validation_data=(x_valid, y_valid), \n",
    "                                    callbacks=[early_stop, checkpoint])"
   ]
  },
  {
   "cell_type": "code",
   "execution_count": 1754,
   "id": "b450bfaf",
   "metadata": {},
   "outputs": [
    {
     "name": "stdout",
     "output_type": "stream",
     "text": [
      "33/33 [==============================] - 0s 1ms/step\n"
     ]
    },
    {
     "data": {
      "text/plain": [
       "(1052, 1)"
      ]
     },
     "execution_count": 1754,
     "metadata": {},
     "output_type": "execute_result"
    }
   ],
   "source": [
    "model.load_weights(filename)\n",
    "pred = model.predict(test_feature)\n",
    "\n",
    "pred.shape"
   ]
  },
  {
   "cell_type": "code",
   "execution_count": 1755,
   "id": "8cc95b61",
   "metadata": {},
   "outputs": [
    {
     "data": {
      "image/png": "[encoded data removed]",
      "text/plain": [
       "<Figure size 864x648 with 1 Axes>"
      ]
     },
     "metadata": {
      "needs_background": "light"
     },
     "output_type": "display_data"
    }
   ],
   "source": [
    "plt.figure(figsize=(12, 9))\n",
    "plt.rc('axes', labelsize=25)   # x,y축 label 폰트 크기\n",
    "plt.rc('xtick', labelsize=25)  # x축 눈금 폰트 크기 \n",
    "plt.rc('ytick', labelsize=25)  # y축 눈금 폰트 크기\n",
    "plt.rc('legend', fontsize=25)  # 범례 폰트 크기\n",
    "plt.plot(test_label, label = 'actual')\n",
    "plt.plot(pred, label = 'prediction')\n",
    "# plt.ylim([0, 1])\n",
    "plt.legend()\n",
    "plt.show()"
   ]
  },
  {
   "cell_type": "code",
   "execution_count": null,
   "id": "4bca5887",
   "metadata": {},
   "outputs": [],
   "source": []
  }
 ],
 "metadata": {
  "kernelspec": {
   "display_name": "Python 3 (ipykernel)",
   "language": "python",
   "name": "python3"
  },
  "language_info": {
   "codemirror_mode": {
    "name": "ipython",
    "version": 3
   },
   "file_extension": ".py",
   "mimetype": "text/x-python",
   "name": "python",
   "nbconvert_exporter": "python",
   "pygments_lexer": "ipython3",
   "version": "3.9.12"
  }
 },
 "nbformat": 4,
 "nbformat_minor": 5
}
