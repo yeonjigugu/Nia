{
 "cells": [
  {
   "cell_type": "code",
   "execution_count": 1,
   "id": "0855e5be",
   "metadata": {
    "scrolled": true
   },
   "outputs": [
    {
     "name": "stderr",
     "output_type": "stream",
     "text": [
      "C:\\Users\\USER\\AppData\\Local\\Temp\\ipykernel_11128\\3335098552.py:22: DeprecationWarning: Importing display from IPython.core.display is deprecated since IPython 7.14, please import from IPython display\n",
      "  from IPython.core.display import display, HTML\n"
     ]
    },
    {
     "data": {
      "text/html": [
       "<style>.container {width:95% !important;}</style>"
      ],
      "text/plain": [
       "<IPython.core.display.HTML object>"
      ]
     },
     "metadata": {},
     "output_type": "display_data"
    }
   ],
   "source": [
    "%config Completer.use_jedi = False\n",
    "import seaborn as sns\n",
    "import matplotlib.pyplot as plt\n",
    "import pandas as pd\n",
    "import numpy as np\n",
    "import pprint\n",
    "import datetime\n",
    "from datetime import datetime, timedelta\n",
    "import torch\n",
    "from pyarrow import csv\n",
    "import os.path\n",
    "import matplotlib.pyplot as plt\n",
    "import seaborn as sns\n",
    "import os\n",
    "import re\n",
    "import gc\n",
    "from tqdm import tqdm\n",
    "import scipy.stats as stats\n",
    "from sklearn.preprocessing import MinMaxScaler\n",
    "os.environ['KMP_DUPLICATE_LIB_OK']='True'\n",
    "\n",
    "from IPython.core.display import display, HTML\n",
    "display(HTML(\"<style>.container {width:95% !important;}</style>\")) #셀 사이즈 조절\n",
    "\n",
    "import warnings\n",
    "warnings.simplefilter(action='ignore', category=FutureWarning) # FutureWarning 제거\n",
    "\n",
    "#matplotlib 한글\n",
    "from matplotlib import font_manager, rc\n",
    "font_path = \"C:/Windows/Fonts/NGULIM.TTF\"ㅂ\n",
    "font = font_manager.FontProperties(fname=font_path).get_name()\n",
    "rc('font', family=font)"
   ]
  },
  {
   "cell_type": "code",
   "execution_count": 2,
   "id": "cef14981",
   "metadata": {
    "scrolled": false
   },
   "outputs": [
    {
     "name": "stderr",
     "output_type": "stream",
     "text": [
      "C:\\Users\\USER\\AppData\\Local\\Temp\\ipykernel_11128\\428708869.py:1: DtypeWarning: Columns (8) have mixed types. Specify dtype option on import or set low_memory=False.\n",
      "  df = pd.read_csv('C:/Users/USER/etri_csv/논문/논문자료_v1.csv')\n"
     ]
    }
   ],
   "source": [
    "df = pd.read_csv('C:/Users/USER/etri_csv/논문/논문자료_v1.csv')"
   ]
  },
  {
   "cell_type": "code",
   "execution_count": 3,
   "id": "eaa3a36d",
   "metadata": {},
   "outputs": [],
   "source": [
    "df['작업시작시간'] =pd.to_datetime(df['작업시작시간'])"
   ]
  },
  {
   "cell_type": "code",
   "execution_count": 88,
   "id": "cdc3f6c1",
   "metadata": {},
   "outputs": [],
   "source": [
    "temp=df.loc[df['작업시작시간'].dt.month==3, ['작업시작시간', '320LIC7528:me','HFEMS.MRPAP.01.SH01.PL003.05.PF','320TIA7541:av','이력TYPE','지절']]"
   ]
  },
  {
   "cell_type": "code",
   "execution_count": 89,
   "id": "3b43f4ea",
   "metadata": {},
   "outputs": [],
   "source": [
    "temp.set_index('작업시작시간', inplace=True)"
   ]
  },
  {
   "cell_type": "code",
   "execution_count": 90,
   "id": "35b3f90b",
   "metadata": {},
   "outputs": [],
   "source": [
    "temp.interpolate('time', inplace=True)"
   ]
  },
  {
   "cell_type": "code",
   "execution_count": 91,
   "id": "d7312b87",
   "metadata": {},
   "outputs": [],
   "source": [
    "temp.fillna(method='bfill', inplace=True)"
   ]
  },
  {
   "cell_type": "code",
   "execution_count": 92,
   "id": "a10f6f27",
   "metadata": {
    "scrolled": false
   },
   "outputs": [
    {
     "data": {
      "text/html": [
       "<div>\n",
       "<style scoped>\n",
       "    .dataframe tbody tr th:only-of-type {\n",
       "        vertical-align: middle;\n",
       "    }\n",
       "\n",
       "    .dataframe tbody tr th {\n",
       "        vertical-align: top;\n",
       "    }\n",
       "\n",
       "    .dataframe thead th {\n",
       "        text-align: right;\n",
       "    }\n",
       "</style>\n",
       "<table border=\"1\" class=\"dataframe\">\n",
       "  <thead>\n",
       "    <tr style=\"text-align: right;\">\n",
       "      <th></th>\n",
       "      <th>320LIC7528:me</th>\n",
       "      <th>HFEMS.MRPAP.01.SH01.PL003.05.PF</th>\n",
       "      <th>320TIA7541:av</th>\n",
       "      <th>이력TYPE</th>\n",
       "      <th>지절</th>\n",
       "    </tr>\n",
       "    <tr>\n",
       "      <th>작업시작시간</th>\n",
       "      <th></th>\n",
       "      <th></th>\n",
       "      <th></th>\n",
       "      <th></th>\n",
       "      <th></th>\n",
       "    </tr>\n",
       "  </thead>\n",
       "  <tbody>\n",
       "    <tr>\n",
       "      <th>2022-03-05 19:24:00</th>\n",
       "      <td>43.130</td>\n",
       "      <td>0.966695</td>\n",
       "      <td>168.550000</td>\n",
       "      <td>생산</td>\n",
       "      <td>1.0</td>\n",
       "    </tr>\n",
       "    <tr>\n",
       "      <th>2022-03-07 01:52:00</th>\n",
       "      <td>55.360</td>\n",
       "      <td>0.966332</td>\n",
       "      <td>166.783077</td>\n",
       "      <td>Size Press</td>\n",
       "      <td>1.0</td>\n",
       "    </tr>\n",
       "    <tr>\n",
       "      <th>2022-03-07 01:53:00</th>\n",
       "      <td>54.850</td>\n",
       "      <td>0.966392</td>\n",
       "      <td>166.784231</td>\n",
       "      <td>Size Press</td>\n",
       "      <td>1.0</td>\n",
       "    </tr>\n",
       "    <tr>\n",
       "      <th>2022-03-07 01:54:00</th>\n",
       "      <td>52.905</td>\n",
       "      <td>0.966659</td>\n",
       "      <td>166.785385</td>\n",
       "      <td>Size Press</td>\n",
       "      <td>1.0</td>\n",
       "    </tr>\n",
       "    <tr>\n",
       "      <th>2022-03-07 01:55:00</th>\n",
       "      <td>50.960</td>\n",
       "      <td>0.966481</td>\n",
       "      <td>166.786538</td>\n",
       "      <td>Size Press</td>\n",
       "      <td>1.0</td>\n",
       "    </tr>\n",
       "    <tr>\n",
       "      <th>...</th>\n",
       "      <td>...</td>\n",
       "      <td>...</td>\n",
       "      <td>...</td>\n",
       "      <td>...</td>\n",
       "      <td>...</td>\n",
       "    </tr>\n",
       "    <tr>\n",
       "      <th>2022-03-13 21:57:00</th>\n",
       "      <td>33.480</td>\n",
       "      <td>0.968714</td>\n",
       "      <td>167.230000</td>\n",
       "      <td>Pre-Dryer</td>\n",
       "      <td>1.0</td>\n",
       "    </tr>\n",
       "    <tr>\n",
       "      <th>2022-03-13 21:58:00</th>\n",
       "      <td>32.230</td>\n",
       "      <td>0.968742</td>\n",
       "      <td>167.230000</td>\n",
       "      <td>Pre-Dryer</td>\n",
       "      <td>1.0</td>\n",
       "    </tr>\n",
       "    <tr>\n",
       "      <th>2022-03-13 21:59:00</th>\n",
       "      <td>31.600</td>\n",
       "      <td>0.968704</td>\n",
       "      <td>166.908000</td>\n",
       "      <td>생산</td>\n",
       "      <td>1.0</td>\n",
       "    </tr>\n",
       "    <tr>\n",
       "      <th>2022-03-14 02:37:00</th>\n",
       "      <td>39.580</td>\n",
       "      <td>0.967094</td>\n",
       "      <td>167.606667</td>\n",
       "      <td>생산</td>\n",
       "      <td>1.0</td>\n",
       "    </tr>\n",
       "    <tr>\n",
       "      <th>2022-03-18 17:05:00</th>\n",
       "      <td>36.530</td>\n",
       "      <td>0.965239</td>\n",
       "      <td>166.980000</td>\n",
       "      <td>생산</td>\n",
       "      <td>1.0</td>\n",
       "    </tr>\n",
       "  </tbody>\n",
       "</table>\n",
       "<p>234 rows × 5 columns</p>\n",
       "</div>"
      ],
      "text/plain": [
       "                     320LIC7528:me  HFEMS.MRPAP.01.SH01.PL003.05.PF  \\\n",
       "작업시작시간                                                                \n",
       "2022-03-05 19:24:00         43.130                         0.966695   \n",
       "2022-03-07 01:52:00         55.360                         0.966332   \n",
       "2022-03-07 01:53:00         54.850                         0.966392   \n",
       "2022-03-07 01:54:00         52.905                         0.966659   \n",
       "2022-03-07 01:55:00         50.960                         0.966481   \n",
       "...                            ...                              ...   \n",
       "2022-03-13 21:57:00         33.480                         0.968714   \n",
       "2022-03-13 21:58:00         32.230                         0.968742   \n",
       "2022-03-13 21:59:00         31.600                         0.968704   \n",
       "2022-03-14 02:37:00         39.580                         0.967094   \n",
       "2022-03-18 17:05:00         36.530                         0.965239   \n",
       "\n",
       "                     320TIA7541:av      이력TYPE   지절  \n",
       "작업시작시간                                               \n",
       "2022-03-05 19:24:00     168.550000          생산  1.0  \n",
       "2022-03-07 01:52:00     166.783077  Size Press  1.0  \n",
       "2022-03-07 01:53:00     166.784231  Size Press  1.0  \n",
       "2022-03-07 01:54:00     166.785385  Size Press  1.0  \n",
       "2022-03-07 01:55:00     166.786538  Size Press  1.0  \n",
       "...                            ...         ...  ...  \n",
       "2022-03-13 21:57:00     167.230000   Pre-Dryer  1.0  \n",
       "2022-03-13 21:58:00     167.230000   Pre-Dryer  1.0  \n",
       "2022-03-13 21:59:00     166.908000          생산  1.0  \n",
       "2022-03-14 02:37:00     167.606667          생산  1.0  \n",
       "2022-03-18 17:05:00     166.980000          생산  1.0  \n",
       "\n",
       "[234 rows x 5 columns]"
      ]
     },
     "execution_count": 92,
     "metadata": {},
     "output_type": "execute_result"
    }
   ],
   "source": [
    "temp[temp['지절']==1]"
   ]
  },
  {
   "cell_type": "code",
   "execution_count": 82,
   "id": "6c710f34",
   "metadata": {},
   "outputs": [],
   "source": [
    "temp1=temp[(temp.index.day==26)]"
   ]
  },
  {
   "cell_type": "code",
   "execution_count": 84,
   "id": "5ff3fc46",
   "metadata": {},
   "outputs": [],
   "source": [
    "# IQR = temp['320LIC7528:me'].quantile(0.75) - temp['320LIC7528:me'].quantile(0.25)\n",
    "\n",
    "# lowest = temp['320LIC7528:me'].quantile(0.25) - IQR*1.5\n",
    "# highest = temp['320LIC7528:me'].quantile(0.75) + IQR*1.5"
   ]
  },
  {
   "cell_type": "code",
   "execution_count": 85,
   "id": "09d0a785",
   "metadata": {},
   "outputs": [],
   "source": [
    "df_event1 = temp1[(temp1['지절']==1)]"
   ]
  },
  {
   "cell_type": "code",
   "execution_count": 86,
   "id": "8079202a",
   "metadata": {},
   "outputs": [],
   "source": [
    "df_event2 = temp1[(temp1['이력TYPE']=='지종교체') | (temp1['이력TYPE']=='평량교체')]"
   ]
  },
  {
   "cell_type": "code",
   "execution_count": 87,
   "id": "da9cf6ef",
   "metadata": {},
   "outputs": [
    {
     "data": {
      "image/png": "[encoded data removed]",
      "text/plain": [
       "<Figure size 2160x720 with 2 Axes>"
      ]
     },
     "metadata": {
      "needs_background": "light"
     },
     "output_type": "display_data"
    }
   ],
   "source": [
    "from matplotlib import dates\n",
    "\n",
    "plt.figure(figsize = (30,10), constrained_layout = True)\n",
    "\n",
    "plt.rc('font',)        # 기본 폰트 크기\n",
    "plt.rc('axes', labelsize=20)   # x,y축 label 폰트 크기\n",
    "plt.rc('xtick', labelsize=20)  # x축 눈금 폰트 크기 \n",
    "plt.rc('ytick', labelsize=20)  # y축 눈금 폰트 크기\n",
    "plt.rc('legend', fontsize=20)  # 범례 폰트 크기\n",
    "plt.rc('figure', titlesize=50) # figure title 폰트 크기\n",
    "\n",
    "plt.subplot(211)\n",
    "for i in df_event1.index:\n",
    "    plt.axvline(x=i, color='yellow')\n",
    "for i in df_event2.index:\n",
    "    plt.axvline(x=i, color='greenyellow', linestyle = '--')    \n",
    "    \n",
    "plt.plot(temp1['320LIC7528:me'], linewidth=3, color='lightcoral')\n",
    "plt.xlabel('time(hour)', size=25)\n",
    "plt.ylabel('5th dondensate', size=25)\n",
    "plt.tick_params(axis='x', labelcolor='black')\n",
    "# ax = plt.gca()\n",
    "# ax.xaxis.set_major_locator(dates.MinuteLocator(interval=60))\n",
    "# plt.axhspan(lowest, highest, color='yellow', alpha=0.5, hatch='///')\n",
    "\n",
    "plt.subplot(212)\n",
    "for i in df_event1.index:\n",
    "    plt.axvline(x=i, color='yellow')\n",
    "for i in df_event2.index:\n",
    "    plt.axvline(x=i, color='greenyellow', linestyle = '--')    \n",
    "    \n",
    "plt.plot(temp1['HFEMS.MRPAP.01.SH01.PL003.05.PF'], linewidth=3, color='deepskyblue')\n",
    "plt.xlabel('time(hour)', size=25)\n",
    "plt.ylabel('드라이 #3,4 전력', size=25)\n",
    "plt.tick_params(axis='x', labelcolor='black')"
   ]
  },
  {
   "cell_type": "code",
   "execution_count": null,
   "id": "9659d2fb",
   "metadata": {},
   "outputs": [],
   "source": []
  },
  {
   "cell_type": "code",
   "execution_count": null,
   "id": "e62c3ebd",
   "metadata": {},
   "outputs": [],
   "source": []
  },
  {
   "cell_type": "code",
   "execution_count": 142,
   "id": "adfff703",
   "metadata": {},
   "outputs": [],
   "source": [
    "df.set_index('작업시작시간', inplace=True)"
   ]
  },
  {
   "cell_type": "code",
   "execution_count": 143,
   "id": "4dbb952a",
   "metadata": {},
   "outputs": [],
   "source": [
    "df.index =pd.to_datetime(df.index)"
   ]
  },
  {
   "cell_type": "code",
   "execution_count": 5,
   "id": "c96d689a",
   "metadata": {},
   "outputs": [],
   "source": [
    "df.interpolate('time', inplace=True)"
   ]
  },
  {
   "cell_type": "code",
   "execution_count": 6,
   "id": "7ae3e47a",
   "metadata": {},
   "outputs": [],
   "source": [
    "df.fillna(method='bfill', inplace=True)"
   ]
  },
  {
   "cell_type": "markdown",
   "id": "32b2145b",
   "metadata": {},
   "source": [
    "사용할 태그  "
   ]
  },
  {
   "cell_type": "code",
   "execution_count": 7,
   "id": "caa3fe63",
   "metadata": {},
   "outputs": [],
   "source": [
    "tags_Power = [\n",
    " 'HFEMS.MRPAP.01.SH01.PL003.01.A_R',\n",
    " 'HFEMS.MRPAP.01.SH01.PL003.01.A_S',\n",
    " 'HFEMS.MRPAP.01.SH01.PL003.01.A_T',\n",
    " 'HFEMS.MRPAP.01.SH01.PL003.01.HZ',\n",
    " 'HFEMS.MRPAP.01.SH01.PL003.01.KVARH',\n",
    " 'HFEMS.MRPAP.01.SH01.PL003.01.KW',\n",
    " 'HFEMS.MRPAP.01.SH01.PL003.01.KWH',\n",
    " 'HFEMS.MRPAP.01.SH01.PL003.01.PF',\n",
    " 'HFEMS.MRPAP.01.SH01.PL003.01.VA',\n",
    " 'HFEMS.MRPAP.01.SH01.PL003.01.VAR',\n",
    " 'HFEMS.MRPAP.01.SH01.PL003.01.V_LL_R',\n",
    " 'HFEMS.MRPAP.01.SH01.PL003.01.V_LL_S',\n",
    " 'HFEMS.MRPAP.01.SH01.PL003.01.V_LL_T',\n",
    " 'HFEMS.MRPAP.01.SH01.PL003.01.V_R',\n",
    " 'HFEMS.MRPAP.01.SH01.PL003.01.V_S',\n",
    " 'HFEMS.MRPAP.01.SH01.PL003.01.V_T',\n",
    " 'HFEMS.MRPAP.01.SH01.PL003.02.A_R',\n",
    " 'HFEMS.MRPAP.01.SH01.PL003.02.A_S',\n",
    " 'HFEMS.MRPAP.01.SH01.PL003.02.A_T',\n",
    " 'HFEMS.MRPAP.01.SH01.PL003.02.HZ',\n",
    " 'HFEMS.MRPAP.01.SH01.PL003.02.KVARH',\n",
    " 'HFEMS.MRPAP.01.SH01.PL003.02.KW',\n",
    " 'HFEMS.MRPAP.01.SH01.PL003.02.KWH',\n",
    " 'HFEMS.MRPAP.01.SH01.PL003.02.PF',\n",
    " 'HFEMS.MRPAP.01.SH01.PL003.02.VA',\n",
    " 'HFEMS.MRPAP.01.SH01.PL003.02.VAR',\n",
    " 'HFEMS.MRPAP.01.SH01.PL003.02.V_LL_R',\n",
    " 'HFEMS.MRPAP.01.SH01.PL003.02.V_LL_S',\n",
    " 'HFEMS.MRPAP.01.SH01.PL003.02.V_LL_T',\n",
    " 'HFEMS.MRPAP.01.SH01.PL003.02.V_R',\n",
    " 'HFEMS.MRPAP.01.SH01.PL003.02.V_S',\n",
    " 'HFEMS.MRPAP.01.SH01.PL003.02.V_T',\n",
    " 'HFEMS.MRPAP.01.SH01.PL003.03.A_R',\n",
    " 'HFEMS.MRPAP.01.SH01.PL003.03.A_S',\n",
    " 'HFEMS.MRPAP.01.SH01.PL003.03.A_T',\n",
    " 'HFEMS.MRPAP.01.SH01.PL003.03.HZ',\n",
    " 'HFEMS.MRPAP.01.SH01.PL003.03.KVARH',\n",
    " 'HFEMS.MRPAP.01.SH01.PL003.03.KW',\n",
    " 'HFEMS.MRPAP.01.SH01.PL003.03.KWH',\n",
    " 'HFEMS.MRPAP.01.SH01.PL003.03.PF',\n",
    " 'HFEMS.MRPAP.01.SH01.PL003.03.VA',\n",
    " 'HFEMS.MRPAP.01.SH01.PL003.03.VAR',\n",
    " 'HFEMS.MRPAP.01.SH01.PL003.03.V_LL_R',\n",
    " 'HFEMS.MRPAP.01.SH01.PL003.03.V_LL_S',\n",
    " 'HFEMS.MRPAP.01.SH01.PL003.03.V_LL_T',\n",
    " 'HFEMS.MRPAP.01.SH01.PL003.03.V_R',\n",
    " 'HFEMS.MRPAP.01.SH01.PL003.03.V_S',\n",
    " 'HFEMS.MRPAP.01.SH01.PL003.03.V_T',\n",
    " 'HFEMS.MRPAP.01.SH01.PL003.04.A_R',\n",
    " 'HFEMS.MRPAP.01.SH01.PL003.04.A_S',\n",
    " 'HFEMS.MRPAP.01.SH01.PL003.04.A_T',\n",
    " 'HFEMS.MRPAP.01.SH01.PL003.04.HZ',\n",
    " 'HFEMS.MRPAP.01.SH01.PL003.04.KVARH',\n",
    " 'HFEMS.MRPAP.01.SH01.PL003.04.KW',\n",
    " 'HFEMS.MRPAP.01.SH01.PL003.04.KWH',\n",
    " 'HFEMS.MRPAP.01.SH01.PL003.04.PF',\n",
    " 'HFEMS.MRPAP.01.SH01.PL003.04.VA',\n",
    " 'HFEMS.MRPAP.01.SH01.PL003.04.VAR',\n",
    " 'HFEMS.MRPAP.01.SH01.PL003.04.V_LL_R',\n",
    " 'HFEMS.MRPAP.01.SH01.PL003.04.V_LL_S',\n",
    " 'HFEMS.MRPAP.01.SH01.PL003.04.V_LL_T',\n",
    " 'HFEMS.MRPAP.01.SH01.PL003.04.V_R',\n",
    " 'HFEMS.MRPAP.01.SH01.PL003.04.V_S',\n",
    " 'HFEMS.MRPAP.01.SH01.PL003.04.V_T',\n",
    " 'HFEMS.MRPAP.01.SH01.PL003.05.A_R',\n",
    " 'HFEMS.MRPAP.01.SH01.PL003.05.A_S',\n",
    " 'HFEMS.MRPAP.01.SH01.PL003.05.A_T',\n",
    " 'HFEMS.MRPAP.01.SH01.PL003.05.HZ',\n",
    " 'HFEMS.MRPAP.01.SH01.PL003.05.KVARH',\n",
    " 'HFEMS.MRPAP.01.SH01.PL003.05.KW',\n",
    " 'HFEMS.MRPAP.01.SH01.PL003.05.KWH',\n",
    " 'HFEMS.MRPAP.01.SH01.PL003.05.PF',\n",
    " 'HFEMS.MRPAP.01.SH01.PL003.05.VA',\n",
    " 'HFEMS.MRPAP.01.SH01.PL003.05.VAR',\n",
    " 'HFEMS.MRPAP.01.SH01.PL003.05.V_LL_R',\n",
    " 'HFEMS.MRPAP.01.SH01.PL003.05.V_LL_S',\n",
    " 'HFEMS.MRPAP.01.SH01.PL003.05.V_LL_T',\n",
    " 'HFEMS.MRPAP.01.SH01.PL003.05.V_R',\n",
    " 'HFEMS.MRPAP.01.SH01.PL003.05.V_S',\n",
    " 'HFEMS.MRPAP.01.SH01.PL003.05.V_T',\n",
    " 'HFEMS.MRPAP.01.SH01.PL003.06.A_R',\n",
    " 'HFEMS.MRPAP.01.SH01.PL003.06.A_S',\n",
    " 'HFEMS.MRPAP.01.SH01.PL003.06.A_T',\n",
    " 'HFEMS.MRPAP.01.SH01.PL003.06.HZ',\n",
    " 'HFEMS.MRPAP.01.SH01.PL003.06.KVARH',\n",
    " 'HFEMS.MRPAP.01.SH01.PL003.06.KW',\n",
    " 'HFEMS.MRPAP.01.SH01.PL003.06.KWH',\n",
    " 'HFEMS.MRPAP.01.SH01.PL003.06.PF',\n",
    " 'HFEMS.MRPAP.01.SH01.PL003.06.VA',\n",
    " 'HFEMS.MRPAP.01.SH01.PL003.06.VAR',\n",
    " 'HFEMS.MRPAP.01.SH01.PL003.06.V_LL_R',\n",
    " 'HFEMS.MRPAP.01.SH01.PL003.06.V_LL_S',\n",
    " 'HFEMS.MRPAP.01.SH01.PL003.06.V_LL_T',\n",
    " 'HFEMS.MRPAP.01.SH01.PL003.06.V_R',\n",
    " 'HFEMS.MRPAP.01.SH01.PL003.06.V_S',\n",
    " 'HFEMS.MRPAP.01.SH01.PL003.06.V_T'\n",
    " ]"
   ]
  },
  {
   "cell_type": "code",
   "execution_count": 8,
   "id": "6a958676",
   "metadata": {},
   "outputs": [],
   "source": [
    "tags_front=[\n",
    "    '320FIA7535:av', ##Steam auxiliary flow\n",
    "    '320HIC7501:av', ##Main steam valve \n",
    "    '320PIC7509:me',##GR.1\n",
    "    '320PIC7510:me',##GR.2A\n",
    "    '320PIC7511:me',##GR.2B\n",
    "    'PM3-S3SC.opr:me', ##s3 Steam press\n",
    "    '320TIC7545:me', ##Steam box\n",
    "    '320PIC7544:me',#,'320PIC7544:con','320PIC7544:spa' ##Steam box pressure\n",
    "    '320TIC0004:me', ##Wire pit temperature\n",
    "    '320TIA7541:av', ##Steam line\n",
    "    '320PIC7505:me', ##1st dry cylinder pressure\n",
    "    '320PIC7506:me', ##1st dry cylinder\n",
    "    '320PIC7507:me', ##2nd dry cylinder\n",
    "    '320PIC7508:me', ##3rd dry cylinder\n",
    "    '320PIC7524:me',#'320PIC7524:me.1', ##pre steam flash press    \n",
    "    '320TIC7523:me', ##Condenser\n",
    "    '320PDC7516:me', ##1st dry group\n",
    "    '320PDC7518:me', ##2nd end-dry group\n",
    "    '320PDV7519.1:av',##3rd dry group\n",
    "    '320LIC7524:me', ##1st condensate\n",
    "    '320LIC7525:me', #'320LIC7525:me.1', ##2nd condensate\n",
    "    '320LIC7526:me', #'320LIC7526:me.1', ##3rd condensate\n",
    "    '320FIA7531:av', ##Condensate flow\n",
    "    '320TIA7530:av' ##Condensate\n",
    "    #'320PIC7512:me','320PIC7512:spa','PM3_PREDRYER_PV','PM3_PREDRYER_SP', ##GR3\n",
    "]"
   ]
  },
  {
   "cell_type": "code",
   "execution_count": 9,
   "id": "dcdacee7",
   "metadata": {},
   "outputs": [],
   "source": [
    "tags_back=[\n",
    "    '320PIC7513:me',#,'320PIC7513:con','320PIC7513:spa' ##GR.4\n",
    "    '320PIC7514:me',#,'320PIC7514:con','320PIC7514R:av' ##GR.5B \n",
    "    'PM3-S5SC.opr:me', ##s5 Steam press     \n",
    "    '320PDC7520:me', ##4th dry group\n",
    "    '320PDV7522.1:av', ##5th top dry group V/V1\n",
    "    '320LIC7527:me', #'320LIC7527:me.1', ##4th condensate\n",
    "    '320LIC7528:me', #'320LIC7528:me.1', ##5th dondensate\n",
    "    '320LIC7529:me' #'320LIC7529:me.1', ##6th dondensate\n",
    "    \n",
    "    #'320PIC7515:me','320PIC7515:spa','PM3_AFTERDRYER_PV','PM3_AFTERDRYER_SP', ##GR.5T\n",
    "]"
   ]
  },
  {
   "cell_type": "code",
   "execution_count": 10,
   "id": "8519609d",
   "metadata": {},
   "outputs": [],
   "source": [
    "tags_QCS=[\n",
    "    '320PIC7533:me',#,'320PIC7533:con','320PIC7533:spa' ##건조기 스팀헤더 압력    \n",
    "    '320TIA7504:av', ##Feed steam   '\n",
    "    '320TIA7542:av', ##Steam box    \n",
    "    '320TIC7540:me', ##Main steam    \n",
    "    'PM3_BASIS_WEIGHT_SP', ##Basis Weight SP\n",
    "    'PM3_BASIS_WEIGHT_SP2', ##Basis Weight SP\n",
    "    'PM3_MOISTURE_SP', ##Moisture SP\n",
    "    'PM3_MOISTURE_SP2', ##Moisture SP\n",
    "    '329-GIC1002:me', ##SLICE LENGTH\n",
    "    '329-PIC7030.A:me', ##Calender nip T/S Loading press\n",
    "    '329-PIC7030.B:me', ##Calender nip D/S Loading press\n",
    "    '320-PIC0501:me', ##Static head nozzle 1 pressure DS\n",
    "    'PM3_WIRE_SPEED', ##Wire Speed\n",
    "    'PM3_ASH_PV', ##Ash PV\n",
    "    'PM3_STOCK_CONSISTENCY_PV', ##Stock Consistency PV\n",
    "    'PM3_STOCK_FLOW_PV', ##Stock Flow PV\n",
    "    'PM3-JWC1.opr:me', ##j/w ratio\n",
    "    'PM3-TSF1.opr:me', ##stock flow\n",
    "    'PM3-RLS1.opr:me', ##Reel speed\n",
    "    'PM3-TASH.opr:me', ##filler to headbox feed pump\n",
    "    '320LIC7537:me' ##Main condensate tank\n",
    "]"
   ]
  },
  {
   "cell_type": "code",
   "execution_count": 11,
   "id": "a9c78bed",
   "metadata": {},
   "outputs": [],
   "source": [
    "tags = tags_Power+tags_QCS+tags_front+tags_back"
   ]
  },
  {
   "cell_type": "markdown",
   "id": "0bd4254d",
   "metadata": {},
   "source": [
    "15분 단축"
   ]
  },
  {
   "cell_type": "code",
   "execution_count": 12,
   "id": "94dedd96",
   "metadata": {},
   "outputs": [],
   "source": [
    "df_MES = df.copy()"
   ]
  },
  {
   "cell_type": "code",
   "execution_count": 13,
   "id": "dd46bfa7",
   "metadata": {},
   "outputs": [],
   "source": [
    "df_event=df_MES[df_MES['지절']==1]#백업"
   ]
  },
  {
   "cell_type": "code",
   "execution_count": 14,
   "id": "3b9e0989",
   "metadata": {},
   "outputs": [],
   "source": [
    "df_MES.drop(df_event.index, inplace=True)"
   ]
  },
  {
   "cell_type": "code",
   "execution_count": 15,
   "id": "b57d9408",
   "metadata": {},
   "outputs": [],
   "source": [
    "df_MES_15T= df_MES[tags].resample('15T').mean()"
   ]
  },
  {
   "cell_type": "code",
   "execution_count": 16,
   "id": "d460ebb3",
   "metadata": {},
   "outputs": [
    {
     "data": {
      "text/plain": [
       "HFEMS.MRPAP.01.SH01.PL003.01.A_R      28\n",
       "HFEMS.MRPAP.01.SH01.PL003.01.A_S      28\n",
       "HFEMS.MRPAP.01.SH01.PL003.01.A_T      28\n",
       "HFEMS.MRPAP.01.SH01.PL003.01.HZ       28\n",
       "HFEMS.MRPAP.01.SH01.PL003.01.KVARH    28\n",
       "                                      ..\n",
       "320PDC7520:me                         28\n",
       "320PDV7522.1:av                       28\n",
       "320LIC7527:me                         28\n",
       "320LIC7528:me                         28\n",
       "320LIC7529:me                         28\n",
       "Length: 149, dtype: int64"
      ]
     },
     "execution_count": 16,
     "metadata": {},
     "output_type": "execute_result"
    }
   ],
   "source": [
    "df_MES_15T.isnull().sum()"
   ]
  },
  {
   "cell_type": "code",
   "execution_count": 17,
   "id": "9730bb82",
   "metadata": {},
   "outputs": [],
   "source": [
    "df_MES_15T.dropna(inplace=True)"
   ]
  },
  {
   "cell_type": "code",
   "execution_count": 18,
   "id": "08a48bb9",
   "metadata": {},
   "outputs": [],
   "source": [
    "df_MES_15T[['지절','지종','평량']] = df_MES[['지절','지종','평량']].resample('15T').first()"
   ]
  },
  {
   "cell_type": "code",
   "execution_count": 19,
   "id": "3f638e12",
   "metadata": {},
   "outputs": [],
   "source": [
    "tag = ['지절','지종','평량']+tags"
   ]
  },
  {
   "cell_type": "code",
   "execution_count": 20,
   "id": "ad9940f2",
   "metadata": {},
   "outputs": [],
   "source": [
    "df_MES_15T = pd.concat([df_MES_15T, df_event[tag]]) #15분 줄이고 이벤트 합침"
   ]
  },
  {
   "cell_type": "markdown",
   "id": "32db2b4d",
   "metadata": {},
   "source": [
    "데이터를 지종교체시간 기준 앞위 1시간으로 구성"
   ]
  },
  {
   "cell_type": "code",
   "execution_count": 21,
   "id": "c4087cef",
   "metadata": {},
   "outputs": [
    {
     "name": "stderr",
     "output_type": "stream",
     "text": [
      "C:\\Users\\USER\\AppData\\Local\\Temp\\ipykernel_10080\\2489196510.py:1: PerformanceWarning: DataFrame is highly fragmented.  This is usually the result of calling `frame.insert` many times, which has poor performance.  Consider joining all columns at once using pd.concat(axis=1) instead. To get a de-fragmented frame, use `newframe = frame.copy()`\n",
      "  df_MES_15T.reset_index(inplace=True)\n"
     ]
    }
   ],
   "source": [
    "df_MES_15T.reset_index(inplace=True)"
   ]
  },
  {
   "cell_type": "code",
   "execution_count": 22,
   "id": "476d6a65",
   "metadata": {},
   "outputs": [],
   "source": [
    "df_MES1 = pd.read_csv('C:/Users/USER/etri_csv/1/0_result/DataSet_v6.csv')"
   ]
  },
  {
   "cell_type": "code",
   "execution_count": 23,
   "id": "c865a3e9",
   "metadata": {},
   "outputs": [
    {
     "data": {
      "text/plain": [
       "count    6132.000000\n",
       "mean       51.097684\n",
       "std        56.158112\n",
       "min         0.000000\n",
       "25%        45.000000\n",
       "50%        53.000000\n",
       "75%        63.000000\n",
       "max      3458.000000\n",
       "Name: 작업총시간, dtype: float64"
      ]
     },
     "execution_count": 23,
     "metadata": {},
     "output_type": "execute_result"
    }
   ],
   "source": [
    "df_MES1['작업총시간'].describe()"
   ]
  },
  {
   "cell_type": "code",
   "execution_count": 24,
   "id": "b233c8a9",
   "metadata": {},
   "outputs": [],
   "source": [
    "df_MES1['작업시작시간']=pd.to_datetime(df_MES1['작업시작시간'])\n",
    "df_MES1['작업종료시간']=pd.to_datetime(df_MES1['작업종료시간'])"
   ]
  },
  {
   "cell_type": "code",
   "execution_count": 25,
   "id": "9185a2fe",
   "metadata": {},
   "outputs": [],
   "source": [
    "temp=df_MES1.loc[df_MES1['지절']==1,['작업시작시간', '작업종료시간']]"
   ]
  },
  {
   "cell_type": "code",
   "execution_count": 26,
   "id": "6a817913",
   "metadata": {},
   "outputs": [],
   "source": [
    "temp['작업시작 전'] = temp['작업시작시간']+ timedelta(minutes=-60)"
   ]
  },
  {
   "cell_type": "code",
   "execution_count": 27,
   "id": "7e8bd521",
   "metadata": {
    "scrolled": false
   },
   "outputs": [],
   "source": [
    "temp.reset_index(drop=True, inplace=True)"
   ]
  },
  {
   "cell_type": "code",
   "execution_count": 28,
   "id": "be3dfd2f",
   "metadata": {
    "scrolled": true
   },
   "outputs": [
    {
     "name": "stderr",
     "output_type": "stream",
     "text": [
      "100%|█████████████████████████████████████████████████████████████████████████████████| 89/89 [00:00<00:00, 484.41it/s]\n"
     ]
    }
   ],
   "source": [
    "df_MES_temp=pd.DataFrame()\n",
    "\n",
    "for i in tqdm(range(len(temp))):\n",
    "    df_MES_temp=pd.concat([df_MES_temp, df_MES_15T[(temp.loc[i,'작업시작 전']<=df_MES_15T['작업시작시간']) & (temp.loc[i,'작업종료시간']>=df_MES_15T['작업시작시간'])]])"
   ]
  },
  {
   "cell_type": "code",
   "execution_count": 29,
   "id": "8ac44524",
   "metadata": {},
   "outputs": [],
   "source": [
    "df_MES_temp=df_MES_temp.sort_values('작업시작시간')"
   ]
  },
  {
   "cell_type": "code",
   "execution_count": 30,
   "id": "cb958af7",
   "metadata": {},
   "outputs": [],
   "source": [
    "df_MES_15T=df_MES_temp.drop_duplicates(['작업시작시간'], keep='first')"
   ]
  },
  {
   "cell_type": "code",
   "execution_count": 31,
   "id": "9ba4a04b",
   "metadata": {},
   "outputs": [
    {
     "name": "stderr",
     "output_type": "stream",
     "text": [
      "100%|█████████████████████████████████████████████████████████████████████████████████| 89/89 [00:00<00:00, 608.38it/s]\n"
     ]
    }
   ],
   "source": [
    "df_MES_temp=pd.DataFrame()\n",
    "\n",
    "for i in tqdm(range(len(temp))):\n",
    "    df_MES_temp=pd.concat([df_MES_temp, df_MES_15T[(temp.loc[i,'작업시작 전']<=df_MES_15T['작업시작시간']) & (temp.loc[i,'작업종료시간']>=df_MES_15T['작업시작시간'])]])\n",
    "\n",
    "df_MES_temp=df_MES_temp.sort_values('작업시작시간')\n",
    "\n",
    "df_MES_15T=df_MES_temp.drop_duplicates(['작업시작시간'], keep='first')"
   ]
  },
  {
   "cell_type": "markdown",
   "id": "2ea694e2",
   "metadata": {},
   "source": [
    "지절 발생이 가장 많은 3월 데이터 사용"
   ]
  },
  {
   "cell_type": "code",
   "execution_count": 32,
   "id": "76dfbe1c",
   "metadata": {},
   "outputs": [],
   "source": [
    "df_3M_15T =df_MES_15T[df_MES_15T['작업시작시간'].dt.month==3]"
   ]
  },
  {
   "cell_type": "code",
   "execution_count": null,
   "id": "d3ca0fbf",
   "metadata": {},
   "outputs": [],
   "source": []
  },
  {
   "cell_type": "code",
   "execution_count": null,
   "id": "944efa79",
   "metadata": {},
   "outputs": [],
   "source": []
  },
  {
   "cell_type": "markdown",
   "id": "97b9e30c",
   "metadata": {},
   "source": [
    "#### 상관계수"
   ]
  },
  {
   "cell_type": "markdown",
   "id": "f88b26f4",
   "metadata": {},
   "source": [
    "레이블 인코딩"
   ]
  },
  {
   "cell_type": "code",
   "execution_count": 33,
   "id": "d405c843",
   "metadata": {},
   "outputs": [],
   "source": [
    "df_3M_15T.reset_index(drop=True, inplace=True)"
   ]
  },
  {
   "cell_type": "code",
   "execution_count": 34,
   "id": "837499a2",
   "metadata": {},
   "outputs": [],
   "source": [
    "condition_1 = ((df_3M_15T['지종']=='네오★백상')&(df_3M_15T['평량']==100.0))\n",
    "condition_2 = ((df_3M_15T['지종']=='네오★스노우화이트기지')&(df_3M_15T['평량']==73.0))\n",
    "condition_3 = ((df_3M_15T['지종']=='네오★스노우화이트기지')&(df_3M_15T['평량']==77.0))\n",
    "condition_4 = ((df_3M_15T['지종']=='네오★스노우화이트기지')&(df_3M_15T['평량']==62.0))\n",
    "condition_5 = ((df_3M_15T['지종']=='네오★아트 R10기지')&(df_3M_15T['평량']==77.0))\n",
    "condition_6 = ((df_3M_15T['지종']=='네오★라벨기지')&(df_3M_15T['평량']==67.0))\n",
    "condition_7 = ((df_3M_15T['지종']=='네오★스노우화이트 R10기지')&(df_3M_15T['평량']==67.0))\n",
    "condition_8 = ((df_3M_15T['지종']=='네오★아트기지')&(df_3M_15T['평량']==62.0))\n",
    "condition_9 = ((df_3M_15T['지종']=='네오★아트기지')&(df_3M_15T['평량']==73.0))"
   ]
  },
  {
   "cell_type": "code",
   "execution_count": 35,
   "id": "8025796e",
   "metadata": {},
   "outputs": [],
   "source": [
    "condition_legend=['네오★백상(100.0)', \n",
    "                  '네오★스노우화이트기지(73.0)',\n",
    "                  '네오★스노우화이트기지(77.0)',\n",
    "                  '네오★스노우화이트기지(62.0)',\n",
    "                  '네오★아트 R10기지(77.0)', \n",
    "                  '네오★라벨기지(67.0)',\n",
    "                  '네오★스노우화이트 R10기지(67.0)',\n",
    "                  '네오★아트기지(62.0)', \n",
    "                  '네오★아트기지(73.0)',\n",
    "                  ]"
   ]
  },
  {
   "cell_type": "code",
   "execution_count": 36,
   "id": "405618e5",
   "metadata": {},
   "outputs": [],
   "source": [
    "conditions=condition_1 | condition_2 | condition_3 | condition_4 | condition_5 | condition_6 | condition_7 | condition_8 | condition_9"
   ]
  },
  {
   "cell_type": "code",
   "execution_count": 37,
   "id": "c6810d1f",
   "metadata": {},
   "outputs": [],
   "source": [
    "tags = ['작업시작시간','지절','지종','평량']+tags_Power+tags_QCS+tags_front+tags_back"
   ]
  },
  {
   "cell_type": "code",
   "execution_count": 38,
   "id": "2c2afdaf",
   "metadata": {
    "scrolled": true
   },
   "outputs": [],
   "source": [
    "df_3M_15T_temp = df_3M_15T[conditions][tags]"
   ]
  },
  {
   "cell_type": "code",
   "execution_count": 39,
   "id": "18294d69",
   "metadata": {
    "scrolled": true
   },
   "outputs": [],
   "source": [
    "for index,condition in enumerate([condition_1,condition_2,condition_3,condition_4,condition_5,condition_6,condition_7,condition_8,condition_9]):\n",
    "    df_3M_15T_temp.loc[condition,['지종']]=index"
   ]
  },
  {
   "cell_type": "code",
   "execution_count": 40,
   "id": "4c9b9c16",
   "metadata": {
    "scrolled": true
   },
   "outputs": [
    {
     "data": {
      "text/plain": [
       "[8, 4, 5, 3, 6, 1, 2, 0, 7]"
      ]
     },
     "execution_count": 40,
     "metadata": {},
     "output_type": "execute_result"
    }
   ],
   "source": [
    "list(df_3M_15T_temp['지종'].unique())"
   ]
  },
  {
   "cell_type": "markdown",
   "id": "d27be35b",
   "metadata": {},
   "source": [
    "스피어만 상관계수"
   ]
  },
  {
   "cell_type": "code",
   "execution_count": 41,
   "id": "0ba0acef",
   "metadata": {
    "scrolled": true
   },
   "outputs": [
    {
     "name": "stderr",
     "output_type": "stream",
     "text": [
      "C:\\Users\\USER\\anaconda3\\lib\\site-packages\\scipy\\stats\\stats.py:4484: SpearmanRConstantInputWarning: An input array is constant; the correlation coefficient is not defined.\n",
      "  warnings.warn(SpearmanRConstantInputWarning())\n"
     ]
    },
    {
     "data": {
      "text/html": [
       "<div>\n",
       "<style scoped>\n",
       "    .dataframe tbody tr th:only-of-type {\n",
       "        vertical-align: middle;\n",
       "    }\n",
       "\n",
       "    .dataframe tbody tr th {\n",
       "        vertical-align: top;\n",
       "    }\n",
       "\n",
       "    .dataframe thead th {\n",
       "        text-align: right;\n",
       "    }\n",
       "</style>\n",
       "<table border=\"1\" class=\"dataframe\">\n",
       "  <thead>\n",
       "    <tr style=\"text-align: right;\">\n",
       "      <th></th>\n",
       "      <th>Corr</th>\n",
       "      <th>P-val</th>\n",
       "      <th>Corr_abs</th>\n",
       "    </tr>\n",
       "  </thead>\n",
       "  <tbody>\n",
       "    <tr>\n",
       "      <th>329-PIC7030.A:me</th>\n",
       "      <td>-0.621171</td>\n",
       "      <td>3.912744e-37</td>\n",
       "      <td>0.621171</td>\n",
       "    </tr>\n",
       "    <tr>\n",
       "      <th>329-PIC7030.B:me</th>\n",
       "      <td>-0.595499</td>\n",
       "      <td>1.575873e-33</td>\n",
       "      <td>0.595499</td>\n",
       "    </tr>\n",
       "    <tr>\n",
       "      <th>320PDC7520:me</th>\n",
       "      <td>-0.402148</td>\n",
       "      <td>1.877418e-14</td>\n",
       "      <td>0.402148</td>\n",
       "    </tr>\n",
       "    <tr>\n",
       "      <th>지종</th>\n",
       "      <td>-0.399075</td>\n",
       "      <td>3.082158e-14</td>\n",
       "      <td>0.399075</td>\n",
       "    </tr>\n",
       "    <tr>\n",
       "      <th>320LIC7528:me</th>\n",
       "      <td>-0.385258</td>\n",
       "      <td>2.689704e-13</td>\n",
       "      <td>0.385258</td>\n",
       "    </tr>\n",
       "    <tr>\n",
       "      <th>320LIC7527:me</th>\n",
       "      <td>-0.379426</td>\n",
       "      <td>6.513497e-13</td>\n",
       "      <td>0.379426</td>\n",
       "    </tr>\n",
       "    <tr>\n",
       "      <th>320LIC7529:me</th>\n",
       "      <td>-0.363534</td>\n",
       "      <td>6.640419e-12</td>\n",
       "      <td>0.363534</td>\n",
       "    </tr>\n",
       "    <tr>\n",
       "      <th>320PIC7544:me</th>\n",
       "      <td>0.307182</td>\n",
       "      <td>9.426583e-09</td>\n",
       "      <td>0.307182</td>\n",
       "    </tr>\n",
       "    <tr>\n",
       "      <th>PM3_MOISTURE_SP</th>\n",
       "      <td>0.304250</td>\n",
       "      <td>1.322168e-08</td>\n",
       "      <td>0.304250</td>\n",
       "    </tr>\n",
       "    <tr>\n",
       "      <th>PM3_ASH_PV</th>\n",
       "      <td>0.304053</td>\n",
       "      <td>1.352510e-08</td>\n",
       "      <td>0.304053</td>\n",
       "    </tr>\n",
       "  </tbody>\n",
       "</table>\n",
       "</div>"
      ],
      "text/plain": [
       "                      Corr         P-val  Corr_abs\n",
       "329-PIC7030.A:me -0.621171  3.912744e-37  0.621171\n",
       "329-PIC7030.B:me -0.595499  1.575873e-33  0.595499\n",
       "320PDC7520:me    -0.402148  1.877418e-14  0.402148\n",
       "지종               -0.399075  3.082158e-14  0.399075\n",
       "320LIC7528:me    -0.385258  2.689704e-13  0.385258\n",
       "320LIC7527:me    -0.379426  6.513497e-13  0.379426\n",
       "320LIC7529:me    -0.363534  6.640419e-12  0.363534\n",
       "320PIC7544:me     0.307182  9.426583e-09  0.307182\n",
       "PM3_MOISTURE_SP   0.304250  1.322168e-08  0.304250\n",
       "PM3_ASH_PV        0.304053  1.352510e-08  0.304053"
      ]
     },
     "execution_count": 41,
     "metadata": {},
     "output_type": "execute_result"
    }
   ],
   "source": [
    "#tags_QCS+tags_dry+tags_steam\n",
    "y = df_3M_15T_temp.loc[:, '지절'].values\n",
    "temp=pd.DataFrame(columns=['Corr', 'P-val'])\n",
    "\n",
    "tags = tags_QCS+tags_front+tags_back+['지종','평량']\n",
    "\n",
    "for item in tags:\n",
    "    X = df_3M_15T_temp.loc[:, item].values\n",
    "    if ((stats.spearmanr(X,y)[1]<0.05) and (abs(stats.spearmanr(X,y)[0])>0.3)):\n",
    "        temp.loc[item] = [stats.spearmanr(X, y)[0], stats.spearmanr(X, y)[1]]\n",
    "\n",
    "\n",
    "temp['Corr_abs'] = abs(temp['Corr'])\n",
    "target1 = list(temp.index)\n",
    "\n",
    "temp.sort_values(by = 'Corr_abs', ascending=False)"
   ]
  },
  {
   "cell_type": "code",
   "execution_count": 42,
   "id": "a5b613b5",
   "metadata": {
    "scrolled": true
   },
   "outputs": [
    {
     "name": "stderr",
     "output_type": "stream",
     "text": [
      "C:\\Users\\USER\\anaconda3\\lib\\site-packages\\scipy\\stats\\stats.py:4484: SpearmanRConstantInputWarning: An input array is constant; the correlation coefficient is not defined.\n",
      "  warnings.warn(SpearmanRConstantInputWarning())\n"
     ]
    },
    {
     "data": {
      "text/html": [
       "<div>\n",
       "<style scoped>\n",
       "    .dataframe tbody tr th:only-of-type {\n",
       "        vertical-align: middle;\n",
       "    }\n",
       "\n",
       "    .dataframe tbody tr th {\n",
       "        vertical-align: top;\n",
       "    }\n",
       "\n",
       "    .dataframe thead th {\n",
       "        text-align: right;\n",
       "    }\n",
       "</style>\n",
       "<table border=\"1\" class=\"dataframe\">\n",
       "  <thead>\n",
       "    <tr style=\"text-align: right;\">\n",
       "      <th></th>\n",
       "      <th>Corr</th>\n",
       "      <th>P-val</th>\n",
       "      <th>Corr_abs</th>\n",
       "    </tr>\n",
       "  </thead>\n",
       "  <tbody>\n",
       "    <tr>\n",
       "      <th>HFEMS.MRPAP.01.SH01.PL003.02.PF</th>\n",
       "      <td>-0.599577</td>\n",
       "      <td>4.431797e-34</td>\n",
       "      <td>0.599577</td>\n",
       "    </tr>\n",
       "    <tr>\n",
       "      <th>HFEMS.MRPAP.01.SH01.PL003.01.KW</th>\n",
       "      <td>0.592063</td>\n",
       "      <td>4.527221e-33</td>\n",
       "      <td>0.592063</td>\n",
       "    </tr>\n",
       "    <tr>\n",
       "      <th>HFEMS.MRPAP.01.SH01.PL003.01.VAR</th>\n",
       "      <td>0.586715</td>\n",
       "      <td>2.281481e-32</td>\n",
       "      <td>0.586715</td>\n",
       "    </tr>\n",
       "    <tr>\n",
       "      <th>HFEMS.MRPAP.01.SH01.PL003.01.VA</th>\n",
       "      <td>0.577842</td>\n",
       "      <td>3.127546e-31</td>\n",
       "      <td>0.577842</td>\n",
       "    </tr>\n",
       "    <tr>\n",
       "      <th>HFEMS.MRPAP.01.SH01.PL003.01.PF</th>\n",
       "      <td>-0.577598</td>\n",
       "      <td>3.357566e-31</td>\n",
       "      <td>0.577598</td>\n",
       "    </tr>\n",
       "    <tr>\n",
       "      <th>HFEMS.MRPAP.01.SH01.PL003.01.A_R</th>\n",
       "      <td>0.574463</td>\n",
       "      <td>8.301995e-31</td>\n",
       "      <td>0.574463</td>\n",
       "    </tr>\n",
       "    <tr>\n",
       "      <th>HFEMS.MRPAP.01.SH01.PL003.01.A_S</th>\n",
       "      <td>0.552878</td>\n",
       "      <td>3.274499e-28</td>\n",
       "      <td>0.552878</td>\n",
       "    </tr>\n",
       "    <tr>\n",
       "      <th>HFEMS.MRPAP.01.SH01.PL003.01.A_T</th>\n",
       "      <td>0.550533</td>\n",
       "      <td>6.109505e-28</td>\n",
       "      <td>0.550533</td>\n",
       "    </tr>\n",
       "  </tbody>\n",
       "</table>\n",
       "</div>"
      ],
      "text/plain": [
       "                                      Corr         P-val  Corr_abs\n",
       "HFEMS.MRPAP.01.SH01.PL003.02.PF  -0.599577  4.431797e-34  0.599577\n",
       "HFEMS.MRPAP.01.SH01.PL003.01.KW   0.592063  4.527221e-33  0.592063\n",
       "HFEMS.MRPAP.01.SH01.PL003.01.VAR  0.586715  2.281481e-32  0.586715\n",
       "HFEMS.MRPAP.01.SH01.PL003.01.VA   0.577842  3.127546e-31  0.577842\n",
       "HFEMS.MRPAP.01.SH01.PL003.01.PF  -0.577598  3.357566e-31  0.577598\n",
       "HFEMS.MRPAP.01.SH01.PL003.01.A_R  0.574463  8.301995e-31  0.574463\n",
       "HFEMS.MRPAP.01.SH01.PL003.01.A_S  0.552878  3.274499e-28  0.552878\n",
       "HFEMS.MRPAP.01.SH01.PL003.01.A_T  0.550533  6.109505e-28  0.550533"
      ]
     },
     "execution_count": 42,
     "metadata": {},
     "output_type": "execute_result"
    }
   ],
   "source": [
    "#tags_Power\n",
    "y = df_3M_15T_temp.loc[:, '지절'].values\n",
    "temp=pd.DataFrame(columns=['Corr', 'P-val'])\n",
    "\n",
    "tags = tags_Power\n",
    "\n",
    "for item in tags:\n",
    "    X = df_3M_15T_temp.loc[:, item].values\n",
    "    if ((stats.spearmanr(X,y)[1]<0.05)  and (abs(stats.spearmanr(X,y)[0])>0.5)):\n",
    "        temp.loc[item] = [stats.spearmanr(X, y)[0], stats.spearmanr(X, y)[1]]\n",
    "\n",
    "\n",
    "temp['Corr_abs'] = abs(temp['Corr'])\n",
    "target2 = list(temp.index)\n",
    "\n",
    "temp.sort_values(by = 'Corr_abs', ascending=False)"
   ]
  },
  {
   "cell_type": "code",
   "execution_count": 43,
   "id": "67dd1c03",
   "metadata": {},
   "outputs": [
    {
     "data": {
      "text/plain": [
       "['HFEMS.MRPAP.01.SH01.PL003.01.A_R',\n",
       " 'HFEMS.MRPAP.01.SH01.PL003.01.A_S',\n",
       " 'HFEMS.MRPAP.01.SH01.PL003.01.A_T',\n",
       " 'HFEMS.MRPAP.01.SH01.PL003.01.KW',\n",
       " 'HFEMS.MRPAP.01.SH01.PL003.01.PF',\n",
       " 'HFEMS.MRPAP.01.SH01.PL003.01.VA',\n",
       " 'HFEMS.MRPAP.01.SH01.PL003.01.VAR',\n",
       " 'HFEMS.MRPAP.01.SH01.PL003.02.PF']"
      ]
     },
     "execution_count": 43,
     "metadata": {},
     "output_type": "execute_result"
    }
   ],
   "source": [
    "target2"
   ]
  },
  {
   "cell_type": "markdown",
   "id": "75c2f698",
   "metadata": {},
   "source": [
    "svm(지종 vs 지절+DCS/QCS+Power)"
   ]
  },
  {
   "cell_type": "code",
   "execution_count": 44,
   "id": "b84caefd",
   "metadata": {},
   "outputs": [],
   "source": [
    "df.reset_index(inplace=True)"
   ]
  },
  {
   "cell_type": "code",
   "execution_count": 81,
   "id": "1ec0b3de",
   "metadata": {},
   "outputs": [],
   "source": [
    "condition_1 = ((df['지종']=='NEO★MATT 9+ R10기지') & (df['평량']==172.0))\n",
    "condition_2 = ((df['지종']=='네오★아트 R10기지') & (df['평량']==67.0))\n",
    "condition_3 = ((df['지종']=='네오★아트 R10기지') & (df['평량']==77.0))\n",
    "condition_4 = ((df['지종']=='네오★아트 R10기지') & (df['평량']==103.0)) \n",
    "condition_5 = ((df['지종']=='네오★아트 R10기지') & (df['평량']==216.0))\n",
    "condition_6 = ((df['지종']=='네오★아트기지') & (df['평량']==77.0))\n",
    "condition_7 = ((df['지종']=='네오★아트기지') & (df['평량']==103.0))\n",
    "condition_8 = ((df['지종']=='네오★아트기지') & (df['평량']==152.0))\n",
    "condition_9 = ((df['지종']=='네오★아트기지') & (df['평량']==198.0))\n",
    "condition_10 = ((df['지종']=='네오★아트기지') & (df['평량']==216.0))\n",
    "condition_11 = ((df['지종']=='네오★스노우화이트기지') & (df['평량']==62.0))\n",
    "condition_12 = ((df['지종']=='네오★스노우화이트기지') & (df['평량']==77.0))\n",
    "condition_13 = ((df['지종']=='네오★스노우화이트기지') & (df['평량']==103.0))\n",
    "condition_14 = ((df['지종']=='네오★쇼핑백기지') & (df['평량']==113.0))\n",
    "condition_15 = ((df['지종']=='네오★백상') & (df['평량']==100.0))\n",
    "condition_16 = ((df['지종']=='네오★백상') & (df['평량']==150.0))\n",
    "condition_17 = ((df['지종']=='네오★백상') & (df['평량']==180.0))                   #x\n",
    "condition_18 = ((df['지종']=='네오★라벨기지') & (df['평량']==67.0))\n",
    "condition_19 = ((df['지종']=='네오★스노우화이트R10가지') & (df['평량']==77.0))     #x\n",
    "condition_20 = ((df['지종']=='네오★스노우화이트R10가지') & (df['평량']==103.0))    #x"
   ]
  },
  {
   "cell_type": "code",
   "execution_count": 82,
   "id": "e9612464",
   "metadata": {},
   "outputs": [],
   "source": [
    "condition_legend=['#0'\n",
    "                ,'#1'\n",
    "                ,'#2'\n",
    "                ,'#3'\n",
    "                ,'#4'\n",
    "                ,'#5'\n",
    "                ,'#6'\n",
    "                ,'#7'\n",
    "                ,'#8'\n",
    "                ,'#9'\n",
    "                ,'#10'\n",
    "                ,'#11'\n",
    "                ,'#12'\n",
    "                ,'#13'\n",
    "                ,'#14'\n",
    "                ,'#15'\n",
    "                ,'#16' #drop\n",
    "                 ]"
   ]
  },
  {
   "cell_type": "code",
   "execution_count": 83,
   "id": "ec12581e",
   "metadata": {},
   "outputs": [],
   "source": [
    "condition_legend2=['NEO★MATT 9+ R10기지(172.0)'\n",
    "                ,'네오★아트 R10기지(67.0)'\n",
    "                ,'네오★아트 R10기지(77.0)'\n",
    "                ,'네오★아트 R10기지(103.0)'\n",
    "                ,'네오★아트 R10기지(216.0)'\n",
    "                ,'네오★아트기지(77.0)'\n",
    "                ,'네오★아트기지(103.0)'\n",
    "                ,'네오★아트기지(152.0)'\n",
    "                ,'네오★아트기지(198.0)'\n",
    "                ,'네오★아트기지(216.0)'\n",
    "                ,'네오★스노우화이트기지(62.0)'\n",
    "                ,'네오★스노우화이트기지(77.0)'\n",
    "                ,'네오★스노우화이트기지(103.0)'\n",
    "                ,'네오★쇼핑백기지(113.0)'\n",
    "                ,'네오★백상(100.0)'\n",
    "                ,'네오★백상(150.0)'\n",
    "                ,'네오★라벨기지(67.0)'\n",
    "]"
   ]
  },
  {
   "cell_type": "code",
   "execution_count": 84,
   "id": "e4d5cb25",
   "metadata": {},
   "outputs": [],
   "source": [
    "conditions=condition_1 | condition_2 | condition_3 | condition_4 | condition_5 | condition_6 | condition_7 | condition_8 | condition_9 | condition_10 | condition_11 | condition_12 | condition_13 | condition_14 | condition_15 | condition_16 | condition_17 | condition_18 | condition_19 | condition_20"
   ]
  },
  {
   "cell_type": "code",
   "execution_count": 85,
   "id": "ff690505",
   "metadata": {},
   "outputs": [],
   "source": [
    "#기존데이터\n",
    "tags = ['지절','평량','지종']+tags_Power+tags_QCS+tags_front+tags_back\n",
    "\n",
    "df_temp = df[conditions][tags]"
   ]
  },
  {
   "cell_type": "code",
   "execution_count": 86,
   "id": "efa1ec48",
   "metadata": {},
   "outputs": [],
   "source": [
    "for index,condition in enumerate([condition_1, condition_2, condition_3, condition_4, condition_5, condition_6, condition_7, condition_8, condition_9, condition_10, condition_11, condition_12, condition_13, condition_14, condition_15, condition_16, condition_17, condition_18, condition_19, condition_20]):\n",
    "    df_temp.loc[condition,['지종']]=index"
   ]
  },
  {
   "cell_type": "code",
   "execution_count": 87,
   "id": "771b8e21",
   "metadata": {},
   "outputs": [],
   "source": [
    "#svm\n",
    "target = (target1+target2)+['지절','평량']\n",
    "\n",
    "df_target = df[conditions][target]"
   ]
  },
  {
   "cell_type": "code",
   "execution_count": 88,
   "id": "89412b2d",
   "metadata": {},
   "outputs": [],
   "source": [
    "for index,condition in enumerate([condition_1, condition_2, condition_3, condition_4, condition_5, condition_6, condition_7, condition_8, condition_9, condition_10, condition_11, condition_12, condition_13, condition_14, condition_15, condition_16, condition_17, condition_18, condition_19, condition_20]):\n",
    "    df_target.loc[condition,['지종']]=index"
   ]
  },
  {
   "cell_type": "code",
   "execution_count": 128,
   "id": "1968c4af",
   "metadata": {},
   "outputs": [],
   "source": [
    "from sklearn.model_selection import train_test_split\n",
    "\n",
    "seed=1004\n",
    "sample_ratio=0.1\n",
    "\n",
    "X_df = df_temp[tags].sample(frac=sample_ratio,random_state=seed)\n",
    "y_df = df_temp['지종'].sample(frac=sample_ratio,random_state=seed).astype('int')\n",
    "\n",
    "X=df_target[target].sample(frac=sample_ratio,random_state=seed)\n",
    "y=df_target['지종'].sample(frac=sample_ratio,random_state=seed).astype('int')\n",
    "\n",
    "X_train, X_test, y_train, y_test = train_test_split(X, y, test_size = 0.3, random_state = 123)"
   ]
  },
  {
   "cell_type": "code",
   "execution_count": 129,
   "id": "dadf1d53",
   "metadata": {
    "scrolled": true
   },
   "outputs": [],
   "source": [
    "from sklearn.preprocessing import StandardScaler\n",
    "\n",
    "scaler = StandardScaler()\n",
    "scaler.fit(X_train) # X scaler 생성\n",
    "X_train = scaler.transform(X_train)   # 스케일링 적용"
   ]
  },
  {
   "cell_type": "markdown",
   "id": "e8cf84e5",
   "metadata": {},
   "source": [
    "svm모델 생성"
   ]
  },
  {
   "cell_type": "code",
   "execution_count": 135,
   "id": "5d3613c7",
   "metadata": {
    "scrolled": true
   },
   "outputs": [
    {
     "data": {
      "text/plain": [
       "SVC()"
      ]
     },
     "execution_count": 135,
     "metadata": {},
     "output_type": "execute_result"
    }
   ],
   "source": [
    "from sklearn import svm\n",
    "\n",
    "clf= svm.SVC(kernel='rbf')\n",
    "clf.fit(X_train, y_train)"
   ]
  },
  {
   "cell_type": "markdown",
   "id": "dbd7d3d3",
   "metadata": {},
   "source": [
    "정확도"
   ]
  },
  {
   "cell_type": "code",
   "execution_count": 136,
   "id": "477d4856",
   "metadata": {
    "scrolled": false
   },
   "outputs": [
    {
     "data": {
      "text/plain": [
       "0.9760847283908438"
      ]
     },
     "execution_count": 136,
     "metadata": {},
     "output_type": "execute_result"
    }
   ],
   "source": [
    "from sklearn.metrics import accuracy_score\n",
    "\n",
    "X_test = scaler.transform(X_test)\n",
    "ddd = pd.DataFrame(X_test,columns=target)\n",
    "\n",
    "z = clf.predict(X_test)\n",
    "accuracy_score(y_test, z)"
   ]
  },
  {
   "cell_type": "code",
   "execution_count": null,
   "id": "9b5fa9e7",
   "metadata": {},
   "outputs": [],
   "source": [
    "from sklearn.decomposition import PCA\n",
    "pca = PCA(n_components=2) # 주성분을 몇개로 할지 결정\n",
    "printcipalComponents = pca.fit_transform(x)\n",
    "principalDf = pd.DataFrame(data=printcipalComponents, columns = ['principal component1', 'principal component2'])\n",
    "# 주성분으로 이루어진 데이터 프레임 구성"
   ]
  },
  {
   "cell_type": "code",
   "execution_count": null,
   "id": "cc79efdf",
   "metadata": {},
   "outputs": [],
   "source": []
  },
  {
   "cell_type": "code",
   "execution_count": 137,
   "id": "6bea338b",
   "metadata": {},
   "outputs": [],
   "source": [
    "ddd['지종']=z"
   ]
  },
  {
   "cell_type": "code",
   "execution_count": 147,
   "id": "604841e8",
   "metadata": {},
   "outputs": [
    {
     "data": {
      "text/plain": [
       "0       0.678856\n",
       "1      -0.700436\n",
       "2      -0.013348\n",
       "3      -0.453397\n",
       "4      -0.293321\n",
       "          ...   \n",
       "5849   -0.107381\n",
       "5850   -0.170032\n",
       "5851    2.008314\n",
       "5852    1.273347\n",
       "5853   -5.148575\n",
       "Name: HFEMS.MRPAP.01.SH01.PL003.02.PF, Length: 5854, dtype: float64"
      ]
     },
     "execution_count": 147,
     "metadata": {},
     "output_type": "execute_result"
    }
   ],
   "source": [
    "ddd['HFEMS.MRPAP.01.SH01.PL003.02.PF']"
   ]
  },
  {
   "cell_type": "code",
   "execution_count": 145,
   "id": "efd927fc",
   "metadata": {},
   "outputs": [
    {
     "data": {
      "text/plain": [
       "<matplotlib.collections.PathCollection at 0x23a042077c0>"
      ]
     },
     "execution_count": 145,
     "metadata": {},
     "output_type": "execute_result"
    },
    {
     "data": {
      "image/png": "[encoded data removed]",
      "text/plain": [
       "<Figure size 432x288 with 1 Axes>"
      ]
     },
     "metadata": {
      "needs_background": "light"
     },
     "output_type": "display_data"
    }
   ],
   "source": [
    "from mlxtend.plotting import category_scatter\n",
    "\n",
    "category_scatter(x='feature0', y='feature1', label_col='class',data=df,legend_loc='lower right')"
   ]
  },
  {
   "cell_type": "code",
   "execution_count": null,
   "id": "d39df6d0",
   "metadata": {},
   "outputs": [],
   "source": []
  },
  {
   "cell_type": "code",
   "execution_count": null,
   "id": "e2920cfa",
   "metadata": {},
   "outputs": [],
   "source": []
  },
  {
   "cell_type": "code",
   "execution_count": null,
   "id": "54089c25",
   "metadata": {},
   "outputs": [],
   "source": []
  },
  {
   "cell_type": "code",
   "execution_count": 58,
   "id": "24605cb0",
   "metadata": {
    "scrolled": false
   },
   "outputs": [
    {
     "data": {
      "image/png": "[encoded data removed]",
      "text/plain": [
       "<Figure size 1080x648 with 2 Axes>"
      ]
     },
     "metadata": {
      "needs_background": "light"
     },
     "output_type": "display_data"
    }
   ],
   "source": [
    "from sklearn.metrics import confusion_matrix\n",
    "\n",
    "LABELS =condition_legend\n",
    "\n",
    "plt.rc('font',)        # 기본 폰트 크기\n",
    "plt.rc('axes', labelsize=20)   # x,y축 label 폰트 크기\n",
    "plt.rc('xtick', labelsize=20)  # x축 눈금 폰트 크기 \n",
    "plt.rc('ytick', labelsize=20)  # y축 눈금 폰트 크기\n",
    "plt.rc('legend', fontsize=20)  # 범례 폰트 크기\n",
    "plt.rc('figure', titlesize=50) # figure title 폰트 크기\n",
    "plt.rcParams['font.family'] = 'Malgun Gothic'\n",
    "\n",
    "plt.figure(figsize=(15,9))\n",
    "sns.heatmap(confusion_matrix(y_test, y_pred), xticklabels=LABELS, yticklabels=LABELS, annot=True, fmt='d')\n",
    "plt.title('Confusion Matrix', size=30)\n",
    "plt.xlabel('Predicted Class'); plt.ylabel('True Class')\n",
    "\n",
    "\n",
    "\n",
    "plt.show()"
   ]
  },
  {
   "cell_type": "markdown",
   "id": "16b5cb2b",
   "metadata": {},
   "source": [
    "T-SNE"
   ]
  },
  {
   "cell_type": "code",
   "execution_count": 59,
   "id": "dec41fcb",
   "metadata": {},
   "outputs": [],
   "source": [
    "# import matplotlib\n",
    "# from matplotlib import font_manager, rc\n",
    "# import platform\n",
    "\n",
    "# if platform.system() == 'Windows':\n",
    "# # 윈도우인 경우\n",
    "#     font_name = font_manager.FontProperties(fname=\"c:/Windows/Fonts/malgun.ttf\").get_name()\n",
    "#     rc('font', family=font_name)\n",
    "# else:    \n",
    "# # Mac 인 경우\n",
    "#     rc('font', family='AppleGothic')\n",
    "# matplotlib.rcParams['axes.unicode_minus'] = False   \n",
    "# #그래프에서 마이너스 기호가 표시되도록 하는 설정입니다. "
   ]
  },
  {
   "cell_type": "markdown",
   "id": "22c9b2cd",
   "metadata": {},
   "source": [
    "t-SNE 2D"
   ]
  },
  {
   "cell_type": "code",
   "execution_count": 60,
   "id": "be599efd",
   "metadata": {},
   "outputs": [],
   "source": [
    "# from sklearn.manifold import TSNE\n",
    "\n",
    "# # class target 정보 제외\n",
    "\n",
    "# # origin\n",
    "# tsne_np_o = TSNE(n_components=2).fit_transform(X_df)\n",
    "# tsne_df_o = pd.DataFrame(tsne_np_o, columns = ['component 0', 'component 1'])\n",
    "\n",
    "# #svm\n",
    "# tsne_np_s = TSNE(n_components=2, perplexity=50).fit_transform(X_test)\n",
    "# tsne_df_s = pd.DataFrame(tsne_np_s, columns = ['component 0', 'component 1'])"
   ]
  },
  {
   "cell_type": "code",
   "execution_count": 61,
   "id": "5dc058dd",
   "metadata": {
    "scrolled": false
   },
   "outputs": [],
   "source": [
    "# import matplotlib.pyplot as plt\n",
    "\n",
    "# # class target 정보 불러오기 \n",
    "# tsne_df_o['target'] = y_df.values\n",
    "# tsne_df_s['target'] = y_pred\n",
    "\n",
    "# # 기존\n",
    "# tsne_o_0 = tsne_df_o[tsne_df_o['target'] == 0]\n",
    "# tsne_o_1 = tsne_df_o[tsne_df_o['target'] == 1]\n",
    "# tsne_o_2 = tsne_df_o[tsne_df_o['target'] == 2]\n",
    "# tsne_o_3 = tsne_df_o[tsne_df_o['target'] == 3]\n",
    "# tsne_o_4 = tsne_df_o[tsne_df_o['target'] == 4]\n",
    "# tsne_o_5 = tsne_df_o[tsne_df_o['target'] == 5]\n",
    "# tsne_o_6 = tsne_df_o[tsne_df_o['target'] == 6]\n",
    "# tsne_o_7 = tsne_df_o[tsne_df_o['target'] == 7]\n",
    "# tsne_o_8 = tsne_df_o[tsne_df_o['target'] == 8]\n",
    "# tsne_o_9 = tsne_df_o[tsne_df_o['target'] == 9]\n",
    "# tsne_o_10 = tsne_df_o[tsne_df_o['target'] == 10]\n",
    "# tsne_o_11 = tsne_df_o[tsne_df_o['target'] == 11]\n",
    "# tsne_o_12 = tsne_df_o[tsne_df_o['target'] == 12]\n",
    "# tsne_o_13 = tsne_df_o[tsne_df_o['target'] == 13]\n",
    "# tsne_o_14 = tsne_df_o[tsne_df_o['target'] == 14]\n",
    "# tsne_o_15 = tsne_df_o[tsne_df_o['target'] == 15]\n",
    "# tsne_o_17 = tsne_df_o[tsne_df_o['target'] == 17]\n",
    "\n",
    "# #SVM\n",
    "# tsne_s_0 = tsne_df_s[tsne_df_s['target'] == 0]\n",
    "# tsne_s_1 = tsne_df_s[tsne_df_s['target'] == 1]\n",
    "# tsne_s_2 = tsne_df_s[tsne_df_s['target'] == 2]\n",
    "# tsne_s_3 = tsne_df_s[tsne_df_s['target'] == 3]\n",
    "# tsne_s_4 = tsne_df_s[tsne_df_s['target'] == 4]\n",
    "# tsne_s_5 = tsne_df_s[tsne_df_s['target'] == 5]\n",
    "# tsne_s_6 = tsne_df_s[tsne_df_s['target'] == 6]\n",
    "# tsne_s_7 = tsne_df_s[tsne_df_s['target'] == 7]\n",
    "# tsne_s_8 = tsne_df_s[tsne_df_s['target'] == 8]\n",
    "# tsne_s_9 = tsne_df_s[tsne_df_s['target'] == 9]\n",
    "# tsne_s_10 = tsne_df_s[tsne_df_s['target'] == 10]\n",
    "# tsne_s_11 = tsne_df_s[tsne_df_s['target'] == 11]\n",
    "# tsne_s_12 = tsne_df_s[tsne_df_s['target'] == 12]\n",
    "# tsne_s_13 = tsne_df_s[tsne_df_s['target'] == 13]\n",
    "# tsne_s_14 = tsne_df_s[tsne_df_s['target'] == 14]\n",
    "# tsne_s_15 = tsne_df_s[tsne_df_s['target'] == 15]\n",
    "# tsne_s_17 = tsne_df_s[tsne_df_s['target'] == 17]\n",
    "\n",
    "\n",
    "# plt.rc('axes', labelsize=20)   # x,y축 label 폰트 크기\n",
    "# plt.rc('xtick', labelsize=20)  # x축 눈금 폰트 크기 \n",
    "# plt.rc('ytick', labelsize=20)  # y축 눈금 폰트 크기\n",
    "# plt.rc('legend', fontsize=12)  # 범례 폰트 크기\n",
    "# plt.rc('figure', titlesize=50) # figure title 폰트 크기\n",
    "\n",
    "# # target 별 시각화\n",
    "# plt.figure(figsize = (20,6), constrained_layout = True)\n",
    "\n",
    "# plt.subplot(121)\n",
    "# plt.scatter(tsne_o_0['component 0'], tsne_o_0['component 1'], color = 'darkred', label = '0', s=50)\n",
    "# plt.scatter(tsne_o_1['component 0'], tsne_o_1['component 1'], color = 'rosybrown', label = '1', s=50)\n",
    "# plt.scatter(tsne_o_2['component 0'], tsne_o_2['component 1'], color = 'lightcoral', label = '2', s=50)\n",
    "# plt.scatter(tsne_o_3['component 0'], tsne_o_3['component 1'], color = 'orange', label = '3', s=50)\n",
    "# plt.scatter(tsne_o_4['component 0'], tsne_o_4['component 1'], color = 'peru', label = '4', s=50)\n",
    "# plt.scatter(tsne_o_5['component 0'], tsne_o_5['component 1'], color = 'bisque', label = '5', s=50)\n",
    "# plt.scatter(tsne_o_6['component 0'], tsne_o_6['component 1'], color = 'yellow', label = '6', s=50)\n",
    "# plt.scatter(tsne_o_7['component 0'], tsne_o_7['component 1'], color = 'olive', label = '7', s=50)\n",
    "# plt.scatter(tsne_o_8['component 0'], tsne_o_8['component 1'], color = 'yellowgreen', label = '8', s=50)\n",
    "# plt.scatter(tsne_o_9['component 0'], tsne_o_9['component 1'], color = 'forestgreen', label = '9', s=50)\n",
    "# plt.scatter(tsne_o_10['component 0'], tsne_o_10['component 1'], color = 'aquamarine', label = '10', s=50)\n",
    "# plt.scatter(tsne_o_11['component 0'], tsne_o_11['component 1'], color = 'lightblue', label = '11', s=50)\n",
    "# plt.scatter(tsne_o_12['component 0'], tsne_o_12['component 1'], color = 'deeppink', label = '12', s=50)\n",
    "# plt.scatter(tsne_o_13['component 0'], tsne_o_13['component 1'], color = 'slateblue', label = '13', s=50)\n",
    "# plt.scatter(tsne_o_14['component 0'], tsne_o_14['component 1'], color = 'plum', label = '14', s=50)\n",
    "# plt.scatter(tsne_o_15['component 0'], tsne_o_15['component 1'], color = 'royalblue', label = '15', s=50)\n",
    "# plt.scatter(tsne_o_17['component 0'], tsne_o_17['component 1'], color = 'purple', label = '17', s=50)\n",
    "\n",
    "# plt.title('Original', size=15)\n",
    "# plt.legend(condition_legend, loc=(1.05,0.1))\n",
    "# plt.xlabel('Component 1')\n",
    "# plt.ylabel('Component 2')\n",
    "# plt.grid()\n",
    "\n",
    "# plt.subplot(122)\n",
    "# plt.scatter(tsne_s_0['component 0'], tsne_s_0['component 1'], color = 'darkred', label = '0', s=50)\n",
    "# plt.scatter(tsne_s_1['component 0'], tsne_s_1['component 1'], color = 'rosybrown', label = '1', s=50)\n",
    "# plt.scatter(tsne_s_2['component 0'], tsne_s_2['component 1'], color = 'lightcoral', label = '2', s=50)\n",
    "# plt.scatter(tsne_s_3['component 0'], tsne_s_3['component 1'], color = 'orange', label = '3', s=50)\n",
    "# plt.scatter(tsne_s_4['component 0'], tsne_s_4['component 1'], color = 'peru', label = '4', s=50)\n",
    "# plt.scatter(tsne_s_5['component 0'], tsne_s_5['component 1'], color = 'bisque', label = '5', s=50)\n",
    "# plt.scatter(tsne_s_6['component 0'], tsne_s_6['component 1'], color = 'yellow', label = '6', s=50)\n",
    "# plt.scatter(tsne_s_7['component 0'], tsne_s_7['component 1'], color = 'olive', label = '7', s=50)\n",
    "# plt.scatter(tsne_s_8['component 0'], tsne_s_8['component 1'], color = 'yellowgreen', label = '8', s=50)\n",
    "# plt.scatter(tsne_s_9['component 0'], tsne_s_9['component 1'], color = 'forestgreen', label = '9', s=50)\n",
    "# plt.scatter(tsne_s_10['component 0'], tsne_s_10['component 1'], color = 'aquamarine', label = '10', s=50)\n",
    "# plt.scatter(tsne_s_11['component 0'], tsne_s_11['component 1'], color = 'lightblue', label = '11', s=50)\n",
    "# plt.scatter(tsne_s_12['component 0'], tsne_s_12['component 1'], color = 'deeppink', label = '12', s=50)\n",
    "# plt.scatter(tsne_s_13['component 0'], tsne_s_13['component 1'], color = 'slateblue', label = '13', s=50)\n",
    "# plt.scatter(tsne_s_14['component 0'], tsne_s_14['component 1'], color = 'plum', label = '14', s=50)\n",
    "# plt.scatter(tsne_s_15['component 0'], tsne_s_15['component 1'], color = 'royalblue', label = '15', s=50)\n",
    "# plt.scatter(tsne_s_17['component 0'], tsne_s_17['component 1'], color = 'purple', label = '17', s=50)\n",
    "\n",
    "# plt.title('SVM result', size=15)\n",
    "# plt.legend(condition_legend, loc=(1.05,0.1))\n",
    "# plt.xlabel('Component 1')\n",
    "# plt.ylabel('Component 2')\n",
    "# plt.grid()\n",
    "\n",
    "# plt.show()"
   ]
  },
  {
   "cell_type": "markdown",
   "id": "3d573ec0",
   "metadata": {},
   "source": [
    "t-SNE 3D"
   ]
  },
  {
   "cell_type": "code",
   "execution_count": 62,
   "id": "759cb36a",
   "metadata": {},
   "outputs": [],
   "source": [
    "# from sklearn.manifold import TSNE\n",
    "\n",
    "# #original\n",
    "# tsne_np_o = TSNE(n_components = 3).fit_transform(X_df)\n",
    "# tsne_df_o = pd.DataFrame(tsne_np_o, columns = ['component 0', 'component 1', 'component2'])\n",
    "\n",
    "# #original\n",
    "# tsne_np_s = TSNE(n_components = 3, perplexity=50).fit_transform(X_test)\n",
    "# tsne_df_s = pd.DataFrame(tsne_np_s, columns = ['component 0', 'component 1', 'component2'])"
   ]
  },
  {
   "cell_type": "code",
   "execution_count": 63,
   "id": "34e4484c",
   "metadata": {
    "scrolled": false
   },
   "outputs": [],
   "source": [
    "# import matplotlib.pyplot as plt\n",
    "\n",
    "# # class target 정보 불러오기 \n",
    "# tsne_df_o['target'] = y_df.values\n",
    "# tsne_df_s['target'] = y_pred\n",
    "\n",
    "# # 기존\n",
    "# tsne_o_0 = tsne_df_o[tsne_df_o['target'] == 0]\n",
    "# tsne_o_1 = tsne_df_o[tsne_df_o['target'] == 1]\n",
    "# tsne_o_2 = tsne_df_o[tsne_df_o['target'] == 2]\n",
    "# tsne_o_3 = tsne_df_o[tsne_df_o['target'] == 3]\n",
    "# tsne_o_4 = tsne_df_o[tsne_df_o['target'] == 4]\n",
    "# tsne_o_5 = tsne_df_o[tsne_df_o['target'] == 5]\n",
    "# tsne_o_6 = tsne_df_o[tsne_df_o['target'] == 6]\n",
    "# tsne_o_7 = tsne_df_o[tsne_df_o['target'] == 7]\n",
    "# tsne_o_8 = tsne_df_o[tsne_df_o['target'] == 8]\n",
    "# tsne_o_9 = tsne_df_o[tsne_df_o['target'] == 9]\n",
    "# tsne_o_10 = tsne_df_o[tsne_df_o['target'] == 10]\n",
    "# tsne_o_11 = tsne_df_o[tsne_df_o['target'] == 11]\n",
    "# tsne_o_12 = tsne_df_o[tsne_df_o['target'] == 12]\n",
    "# tsne_o_13 = tsne_df_o[tsne_df_o['target'] == 13]\n",
    "# tsne_o_14 = tsne_df_o[tsne_df_o['target'] == 14]\n",
    "# tsne_o_15 = tsne_df_o[tsne_df_o['target'] == 15]\n",
    "# tsne_o_17 = tsne_df_o[tsne_df_o['target'] == 17]\n",
    "\n",
    "# #SVM\n",
    "# tsne_s_0 = tsne_df_s[tsne_df_s['target'] == 0]\n",
    "# tsne_s_1 = tsne_df_s[tsne_df_s['target'] == 1]\n",
    "# tsne_s_2 = tsne_df_s[tsne_df_s['target'] == 2]\n",
    "# tsne_s_3 = tsne_df_s[tsne_df_s['target'] == 3]\n",
    "# tsne_s_4 = tsne_df_s[tsne_df_s['target'] == 4]\n",
    "# tsne_s_5 = tsne_df_s[tsne_df_s['target'] == 5]\n",
    "# tsne_s_6 = tsne_df_s[tsne_df_s['target'] == 6]\n",
    "# tsne_s_7 = tsne_df_s[tsne_df_s['target'] == 7]\n",
    "# tsne_s_8 = tsne_df_s[tsne_df_s['target'] == 8]\n",
    "# tsne_s_9 = tsne_df_s[tsne_df_s['target'] == 9]\n",
    "# tsne_s_10 = tsne_df_s[tsne_df_s['target'] == 10]\n",
    "# tsne_s_11 = tsne_df_s[tsne_df_s['target'] == 11]\n",
    "# tsne_s_12 = tsne_df_s[tsne_df_s['target'] == 12]\n",
    "# tsne_s_13 = tsne_df_s[tsne_df_s['target'] == 13]\n",
    "# tsne_s_14 = tsne_df_s[tsne_df_s['target'] == 14]\n",
    "# tsne_s_15 = tsne_df_s[tsne_df_s['target'] == 15]\n",
    "# tsne_s_17 = tsne_df_s[tsne_df_s['target'] == 17]\n",
    "\n",
    "# # target 별 시각화\n",
    "# fig = plt.figure(figsize=(17,17))\n",
    "\n",
    "# plt.rc('axes', labelsize=20)   # x,y축 label 폰트 크기\n",
    "# plt.rc('xtick', labelsize=20)  # x축 눈금 폰트 크기 \n",
    "# plt.rc('ytick', labelsize=20)  # y축 눈금 폰트 크기\n",
    "# plt.rc('legend', fontsize=20)  # 범례 폰트 크기\n",
    "# #plt.rc('figure', titlesize=50) # figure title 폰트 크기\n",
    "\n",
    "# ax = fig.add_subplot(121, projection='3d')\n",
    "# ax.scatter(tsne_o_0['component 0'], tsne_o_0['component 1'], tsne_o_0['component2'], color = 'darkred', label = '0', s=25)\n",
    "# ax.scatter(tsne_o_1['component 0'], tsne_o_1['component 1'], tsne_o_1['component2'], color = 'rosybrown', label = '1', s=25)\n",
    "# ax.scatter(tsne_o_2['component 0'], tsne_o_2['component 1'], tsne_o_2['component2'], color = 'lightcoral', label = '2', s=25)\n",
    "# ax.scatter(tsne_o_3['component 0'], tsne_o_3['component 1'], tsne_o_3['component2'], color = 'orange', label = '3', s=25)\n",
    "# ax.scatter(tsne_o_4['component 0'], tsne_o_4['component 1'], tsne_o_4['component2'], color = 'peru', label = '4', s=25)\n",
    "# ax.scatter(tsne_o_5['component 0'], tsne_o_5['component 1'], tsne_o_5['component2'], color = 'bisque', label = '5', s=25)\n",
    "# ax.scatter(tsne_o_6['component 0'], tsne_o_6['component 1'], tsne_o_6['component2'], color = 'yellow', label = '6', s=25)\n",
    "# ax.scatter(tsne_o_7['component 0'], tsne_o_7['component 1'], tsne_o_7['component2'], color = 'olive', label = '7', s=25)\n",
    "# ax.scatter(tsne_o_8['component 0'], tsne_o_8['component 1'], tsne_o_8['component2'], color = 'yellowgreen', label = '8', s=25)\n",
    "# ax.scatter(tsne_o_9['component 0'], tsne_o_9['component 1'], tsne_o_9['component2'], color = 'forestgreen', label = '9', s=25)\n",
    "# ax.scatter(tsne_o_10['component 0'], tsne_o_10['component 1'], tsne_o_10['component2'], color = 'aquamarine', label = '10', s=25)\n",
    "# ax.scatter(tsne_o_11['component 0'], tsne_o_11['component 1'], tsne_o_11['component2'], color = 'lightblue', label = '11', s=25)\n",
    "# ax.scatter(tsne_o_12['component 0'], tsne_o_12['component 1'], tsne_o_12['component2'], color = 'deeppink', label = '12', s=25)\n",
    "# ax.scatter(tsne_o_13['component 0'], tsne_o_13['component 1'], tsne_o_13['component2'], color = 'slateblue', label = '13', s=25)\n",
    "# ax.scatter(tsne_o_14['component 0'], tsne_o_14['component 1'], tsne_o_14['component2'], color = 'plum', label = '14', s=25)\n",
    "# ax.scatter(tsne_o_15['component 0'], tsne_o_15['component 1'], tsne_o_15['component2'], color = 'royalblue', label = '15', s=25)\n",
    "# ax.scatter(tsne_o_17['component 0'], tsne_o_17['component 1'], tsne_o_17['component2'], color = 'purple', label = '17', s=25)\n",
    "\n",
    "# ax.set_xlabel('Component 1', labelpad=17)\n",
    "# ax.set_ylabel('Component 2', labelpad=17)\n",
    "# ax.set_zlabel('Component 3', labelpad=17)\n",
    "# ax.set_title('Original', fontsize=20)\n",
    "# ax.view_init(15,50)\n",
    "# ax.grid()\n",
    "\n",
    "# plt.subplots_adjust(wspace=0.3)\n",
    "\n",
    "# ax = fig.add_subplot(122, projection='3d')\n",
    "# ax.scatter(tsne_s_0['component 0'], tsne_s_0['component 1'], tsne_s_0['component2'], color = 'darkred', label = '0', s=25)\n",
    "# ax.scatter(tsne_s_1['component 0'], tsne_s_1['component 1'], tsne_s_1['component2'], color = 'rosybrown', label = '1', s=25)\n",
    "# ax.scatter(tsne_s_2['component 0'], tsne_s_2['component 1'], tsne_s_2['component2'], color = 'lightcoral', label = '2', s=25)\n",
    "# ax.scatter(tsne_s_3['component 0'], tsne_s_3['component 1'], tsne_s_3['component2'], color = 'orange', label = '3', s=25)\n",
    "# ax.scatter(tsne_s_4['component 0'], tsne_s_4['component 1'], tsne_s_4['component2'], color = 'peru', label = '4', s=25)\n",
    "# ax.scatter(tsne_s_5['component 0'], tsne_s_5['component 1'], tsne_s_5['component2'], color = 'bisque', label = '5', s=25)\n",
    "# ax.scatter(tsne_s_6['component 0'], tsne_s_6['component 1'], tsne_s_6['component2'], color = 'yellow', label = '6', s=25)\n",
    "# ax.scatter(tsne_s_7['component 0'], tsne_s_7['component 1'], tsne_s_7['component2'], color = 'olive', label = '7', s=25)\n",
    "# ax.scatter(tsne_s_8['component 0'], tsne_s_8['component 1'], tsne_s_8['component2'], color = 'yellowgreen', label = '8', s=25)\n",
    "# ax.scatter(tsne_s_9['component 0'], tsne_s_9['component 1'], tsne_s_9['component2'], color = 'forestgreen', label = '9', s=25)\n",
    "# ax.scatter(tsne_s_10['component 0'], tsne_s_10['component 1'], tsne_s_10['component2'], color = 'aquamarine', label = '10', s=25)\n",
    "# ax.scatter(tsne_s_11['component 0'], tsne_s_11['component 1'], tsne_s_11['component2'], color = 'lightblue', label = '11', s=25)\n",
    "# ax.scatter(tsne_s_12['component 0'], tsne_s_12['component 1'], tsne_s_12['component2'], color = 'deeppink', label = '12', s=25)\n",
    "# ax.scatter(tsne_s_13['component 0'], tsne_s_13['component 1'], tsne_s_13['component2'], color = 'slateblue', label = '13', s=25)\n",
    "# ax.scatter(tsne_s_14['component 0'], tsne_s_14['component 1'], tsne_s_14['component2'], color = 'plum', label = '14', s=25)\n",
    "# ax.scatter(tsne_s_15['component 0'], tsne_s_15['component 1'], tsne_s_15['component2'], color = 'royalblue', label = '15', s=25)\n",
    "# ax.scatter(tsne_s_17['component 0'], tsne_s_17['component 1'], tsne_s_17['component2'], color = 'purple', label = '17', s=25)\n",
    "# ax.legend(condition_legend, loc=(1.05,0.2), prop={'size': 15})\n",
    "\n",
    "# ax.set_xlabel('Component 1', labelpad=17)\n",
    "# ax.set_ylabel('Component 2', labelpad=17)\n",
    "# ax.set_zlabel('Component 3', labelpad=17)\n",
    "# ax.set_title('SVM result', fontsize=20)\n",
    "# ax.view_init(15,50)\n",
    "# ax.grid()\n",
    "\n",
    "# plt.show()"
   ]
  },
  {
   "cell_type": "code",
   "execution_count": null,
   "id": "00d8301d",
   "metadata": {},
   "outputs": [],
   "source": []
  }
 ],
 "metadata": {
  "kernelspec": {
   "display_name": "Python 3 (ipykernel)",
   "language": "python",
   "name": "python3"
  },
  "language_info": {
   "codemirror_mode": {
    "name": "ipython",
    "version": 3
   },
   "file_extension": ".py",
   "mimetype": "text/x-python",
   "name": "python",
   "nbconvert_exporter": "python",
   "pygments_lexer": "ipython3",
   "version": "3.9.12"
  }
 },
 "nbformat": 4,
 "nbformat_minor": 5
}
