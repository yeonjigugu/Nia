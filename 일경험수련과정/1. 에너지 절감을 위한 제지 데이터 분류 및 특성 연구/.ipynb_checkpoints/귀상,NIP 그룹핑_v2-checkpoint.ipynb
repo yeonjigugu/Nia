{
 "cells": [
  {
   "cell_type": "code",
   "execution_count": 2,
   "id": "1d5f7a3e",
   "metadata": {},
   "outputs": [
    {
     "data": {
      "text/html": [
       "<style>.container { width:90% !important; }</style>"
      ],
      "text/plain": [
       "<IPython.core.display.HTML object>"
      ]
     },
     "metadata": {},
     "output_type": "display_data"
    }
   ],
   "source": [
    "import matplotlib.pyplot as plt\n",
    "from matplotlib import font_manager, rc\n",
    "from IPython.display import display, HTML\n",
    "import pandas as pd\n",
    "from tqdm import tqdm\n",
    "import numpy as np\n",
    "import datetime\n",
    "import scipy.stats as stats\n",
    "import seaborn as sns\n",
    "\n",
    "\n",
    "#모든 행, 열 표시\n",
    "#pd.set_option('display.max_rows', None) \n",
    "pd.set_option('display.max_columns', None) \n",
    "#디스플레이 설정\n",
    "display(HTML(\"<style>.container { width:90% !important; }</style>\"))\n",
    "#matplotlib 한글\n",
    "font_path = \"C:/Windows/Fonts/NGULIM.TTF\"\n",
    "font = font_manager.FontProperties(fname=font_path).get_name()\n",
    "rc('font', family=font)"
   ]
  },
  {
   "cell_type": "markdown",
   "id": "940378a2",
   "metadata": {},
   "source": [
    "----------------------------------------------------------------------------------"
   ]
  },
  {
   "cell_type": "code",
   "execution_count": 101,
   "id": "dded2c7d",
   "metadata": {
    "scrolled": true
   },
   "outputs": [
    {
     "name": "stderr",
     "output_type": "stream",
     "text": [
      "C:\\Users\\USER\\AppData\\Local\\Temp\\ipykernel_22080\\4205031874.py:1: DtypeWarning: Columns (8) have mixed types. Specify dtype option on import or set low_memory=False.\n",
      "  df= pd.read_csv('C:/Users/USER/etri_csv/논문/논문자료_v1.csv')\n"
     ]
    }
   ],
   "source": [
    "df= pd.read_csv('C:/Users/USER/etri_csv/논문/논문자료_v1.csv')"
   ]
  },
  {
   "cell_type": "code",
   "execution_count": 44,
   "id": "6986f687",
   "metadata": {},
   "outputs": [],
   "source": [
    "df_sheet2 = pd.read_excel('C:/Users/USER/etri_csv/1/FEMS Raw Data_220804_v2.0.xlsx', sheet_name=2, engine='openpyxl')"
   ]
  },
  {
   "cell_type": "code",
   "execution_count": 45,
   "id": "e0fec8b3",
   "metadata": {
    "scrolled": true
   },
   "outputs": [],
   "source": [
    "df['작업시작시간']=pd.to_datetime(df['작업시작시간'])"
   ]
  },
  {
   "cell_type": "code",
   "execution_count": 46,
   "id": "89d5e8f4",
   "metadata": {},
   "outputs": [],
   "source": [
    "df_event = df_event[df_event['Note'].str.contains('귀상|닙|NIP|Nip|nip', na=False)]"
   ]
  },
  {
   "cell_type": "code",
   "execution_count": 47,
   "id": "dc3d725f",
   "metadata": {},
   "outputs": [],
   "source": [
    "df_event['귀상']=0\n",
    "df_event['닙']=0"
   ]
  },
  {
   "cell_type": "code",
   "execution_count": 48,
   "id": "f7bd5fe9",
   "metadata": {},
   "outputs": [],
   "source": [
    "df_event.loc[df_event['Note'].str.contains('귀상', na=False), '귀상'] = 1\n",
    "df_event.loc[df_event['Note'].str.contains('닙|NIP|Nip|nip', na=False), '닙'] = 1"
   ]
  },
  {
   "cell_type": "code",
   "execution_count": 49,
   "id": "28483100",
   "metadata": {},
   "outputs": [],
   "source": [
    "from datetime import datetime\n",
    "\n",
    "start = datetime.strptime('2022-01-05 11:02:00','%Y-%m-%d %H:%M:%S')\n",
    "end = datetime.strptime('2022-06-19 16:51:00','%Y-%m-%d %H:%M:%S')\n",
    "\n",
    "df_time = pd.date_range(start, end, freq='1min')"
   ]
  },
  {
   "cell_type": "code",
   "execution_count": 50,
   "id": "33fa4b5f",
   "metadata": {},
   "outputs": [],
   "source": [
    "import datetime\n",
    "\n",
    "df1 = pd.DataFrame(columns=['작업시작시간'])\n",
    "df1['작업시작시간'] = df_time\n",
    "df1['작업종료시간'] = df1['작업시작시간'] + datetime.timedelta(minutes=1)"
   ]
  },
  {
   "cell_type": "code",
   "execution_count": 51,
   "id": "70cd93bc",
   "metadata": {
    "scrolled": true
   },
   "outputs": [],
   "source": [
    "df_Time = pd.merge(df_event, df1, left_on = 'Loss 시작', right_on = '작업시작시간', how = 'right')\n",
    "\n",
    "df_Time['종료'].fillna(method='ffill', inplace=True)\n",
    "\n",
    "df_Time['Loss 시작'] = df_Time['작업시작시간']\n",
    "\n",
    "idx = df_Time[df_Time['Loss 시작']>=df_Time['종료']].index\n",
    "\n",
    "df_Time.drop(idx, inplace=True)\n",
    "df_Time.reset_index(drop=True, inplace=True)\n",
    "\n",
    "df_Time.drop(['작업시작시간','작업종료시간'], axis=1, inplace=True)\n",
    "df_Time.fillna(method='ffill', inplace=True)\n"
   ]
  },
  {
   "cell_type": "code",
   "execution_count": 55,
   "id": "fdf3d83b",
   "metadata": {},
   "outputs": [],
   "source": [
    "temp = df_Time.loc[:,['Loss 시작', '귀상', '닙']]"
   ]
  },
  {
   "cell_type": "code",
   "execution_count": 56,
   "id": "1a593a8b",
   "metadata": {},
   "outputs": [],
   "source": [
    "df_temp = pd.merge(temp, df, left_on = 'Loss 시작', right_on = '작업시작시간', how = 'right')"
   ]
  },
  {
   "cell_type": "code",
   "execution_count": 63,
   "id": "8402856a",
   "metadata": {},
   "outputs": [],
   "source": [
    "df_temp=df_temp.drop(['Loss 시작', '설비','작업총시간','지폭(규격)'], axis=1)"
   ]
  },
  {
   "cell_type": "code",
   "execution_count": 75,
   "id": "2f33ef7b",
   "metadata": {},
   "outputs": [],
   "source": [
    "df_temp.loc[:,['귀상', '닙']]=df_temp.loc[:,['귀상', '닙']].fillna(0)"
   ]
  },
  {
   "cell_type": "code",
   "execution_count": 80,
   "id": "1e926905",
   "metadata": {},
   "outputs": [],
   "source": [
    "# col = list(df_temp.columns) #tags"
   ]
  },
  {
   "cell_type": "code",
   "execution_count": 88,
   "id": "4f35eb0e",
   "metadata": {},
   "outputs": [],
   "source": [
    "#y = '귀상', '닙'\n",
    "#col_MES = [\n",
    "#  '가동상태',\n",
    "#  '이력TYPE',\n",
    "#  '지절',\n",
    "#  '월',\n",
    "#  '지종',\n",
    "#  '평량',\n",
    "#    '지종(평량)'\n",
    "#]"
   ]
  },
  {
   "cell_type": "code",
   "execution_count": 84,
   "id": "1e760835",
   "metadata": {},
   "outputs": [],
   "source": [
    "# for i in col_MES:\n",
    "#     col.remove(i)"
   ]
  },
  {
   "cell_type": "code",
   "execution_count": 87,
   "id": "c71b9765",
   "metadata": {},
   "outputs": [],
   "source": [
    "df_temp['평량'] = df_temp['평량'].astype(str)\n",
    "df_temp['지종(평량)'] = df_temp['지종']+\"(\"+df_temp['평량']+\")\""
   ]
  },
  {
   "cell_type": "code",
   "execution_count": 90,
   "id": "949232db",
   "metadata": {},
   "outputs": [],
   "source": [
    "condition_1 = df_temp['지종(평량)']=='네오★백상(150.0)'\n",
    "condition_2 = df_temp['지종(평량)']=='네오★스노우화이트기지(81.0)'\n",
    "condition_3 = df_temp['지종(평량)']=='네오★스노우화이트기지(73.0)'\n",
    "condition_4 = df_temp['지종(평량)']=='네오★스노우화이트기지(62.0)'\n",
    "condition_5 = df_temp['지종(평량)']=='네오★스노우화이트기지(103.0)'\n",
    "condition_6 = df_temp['지종(평량)']=='NEO★MATT 9+ R10기지(172.0)'\n",
    "condition_7 = df_temp['지종(평량)']=='네오★아트 R10기지(103.0)'\n",
    "condition_8 = df_temp['지종(평량)']=='네오★아트 R10기지(216.0)'\n",
    "condition_9 = df_temp['지종(평량)']=='네오★아트기지(198.0)'\n",
    "condition_10 = df_temp['지종(평량)']=='네오★쇼핑백기지(113.0)'\n",
    "\n",
    "condition_11 = df_temp['지종(평량)']=='네오★쇼핑백기지(133.0)'\n",
    "condition_12 = df_temp['지종(평량)']=='네오★라벨기지(67.0)'\n",
    "condition_13 = df_temp['지종(평량)']=='네오★백상쇼핑백(160.0)'\n",
    "condition_14 = df_temp['지종(평량)']=='네오★아트 R10기지(67.0)'\n",
    "condition_15 = df_temp['지종(평량)']=='네오★선함침지(백색)기지(54.0)'\n",
    "condition_16 = df_temp['지종(평량)']=='네오★아트 R10기지(56.0)'\n",
    "condition_17 = df_temp['지종(평량)']=='네오★아트 R10기지(77.0)'\n",
    "condition_18 = df_temp['지종(평량)']=='네오★백상(100.0)'\n",
    "condition_19 = df_temp['지종(평량)']=='네오★아트기지(134.0)'\n",
    "condition_20 = df_temp['지종(평량)']=='네오★아트기지(152.0)'\n",
    "\n",
    "condition_21 = df_temp['지종(평량)']=='네오★아트기지(216.0)'\n",
    "condition_22 = df_temp['지종(평량)']=='네오★스노우화이트기지(77.0)'\n",
    "condition_23 = df_temp['지종(평량)']=='네오★스노우화이트 R10기지(67.0)'\n",
    "condition_24 = df_temp['지종(평량)']=='네오★스노우화이트 R10기지(77.0)'\n",
    "condition_25 = df_temp['지종(평량)']=='네오★스노우화이트 R10기지(103.0)'\n",
    "condition_26 = df_temp['지종(평량)']=='네오★승화열전사지기지(65.0)'\n",
    "condition_27 = df_temp['지종(평량)']=='네오★승화열전사지기지(75.0)'\n",
    "condition_28 = df_temp['지종(평량)']=='네오★승화열전사지기지(95.0)'\n",
    "condition_29 = df_temp['지종(평량)']=='네오★승화열전사지(속건형)기지(52.0)'\n",
    "condition_30 = df_temp['지종(평량)']=='네오★승화열전사지(속건형)기지(62.0)'\n",
    "\n",
    "condition_31 = df_temp['지종(평량)']=='네오★승화열전사지(속건형)기지(82.0)'\n",
    "condition_32 = df_temp['지종(평량)']=='네오★승화열(STK-S)기지(85.0)'\n",
    "condition_33 = df_temp['지종(평량)']=='네오★승화열(STK-S)기지(95.0)'\n",
    "condition_34 = df_temp['지종(평량)']=='네오★승화열전사(강STKS)기지(95.0)'\n",
    "condition_35 = df_temp['지종(평량)']=='네오★승화열전사지(QE)기지(87.0)'\n",
    "condition_36 = df_temp['지종(평량)']=='네오★아트기지(103.0)'\n",
    "condition_37 = df_temp['지종(평량)']=='네오★아트기지(77.0)'\n",
    "condition_38 = df_temp['지종(평량)']=='네오★파워쇼핑백기지(93.0)'\n",
    "condition_39 = df_temp['지종(평량)']=='네오★파워쇼핑백기지(103.0)'\n",
    "condition_40 = df_temp['지종(평량)']=='네오★파워쇼핑백기지(123.0)'\n",
    "\n",
    "condition_41 = df_temp['지종(평량)']=='네오★아트기지(62.0)'\n",
    "condition_42 = df_temp['지종(평량)']=='네오★백상(70.0)'\n",
    "condition_43 = df_temp['지종(평량)']=='네오★M라벨(P-GLOSS)기지(57.0)'\n",
    "condition_44 = df_temp['지종(평량)']=='네오★라벨기지(57.0)'\n",
    "condition_45 = df_temp['지종(평량)']=='네오★라벨기지(77.0)'\n",
    "condition_46 = df_temp['지종(평량)']=='네오★백상(80.0)'\n",
    "condition_47 = df_temp['지종(평량)']=='네오★아트기지(81.0)'\n",
    "condition_48 = df_temp['지종(평량)']=='네오★라벨기지(52.0)'\n",
    "condition_49 = df_temp['지종(평량)']=='네오★승화열전사원지(100.0)'\n",
    "condition_50 = df_temp['지종(평량)']=='네오★승화열전사지기지(85.0)'\n",
    "\n",
    "condition_51 = df_temp['지종(평량)']=='네오★승화열(STK-S)기지(65.0)'\n",
    "condition_52 = df_temp['지종(평량)']=='네오★승화열전사(약STKS)기지(77.0)'\n",
    "condition_53 = df_temp['지종(평량)']=='네오★승화열전사지(QE)기지(62.0)'\n",
    "condition_54 = df_temp['지종(평량)']=='네오★백상쇼핑백(140.0)'\n",
    "condition_55 = df_temp['지종(평량)']=='네오★파워라벨(S)기지(57.0)'\n",
    "condition_56 = df_temp['지종(평량)']=='네오★백상쇼핑백(180.0)'\n",
    "condition_57 = df_temp['지종(평량)']=='네오★그린박리지(D1)기지(115.0)'\n",
    "condition_58 = df_temp['지종(평량)']=='네오★그린박리지(D1)기지(86.0)'\n",
    "condition_59 = df_temp['지종(평량)']=='네오★그린스노우화이트기지(62.0)'\n",
    "condition_60 = df_temp['지종(평량)']=='네오★그린스노우화이트기지(77.0)'\n",
    "\n",
    "condition_61 = df_temp['지종(평량)']=='네오★백상(PP합지)(80.0)'\n",
    "condition_62 = df_temp['지종(평량)']=='네오★그린스노우화이트기지(103.0)'\n",
    "condition_63 = df_temp['지종(평량)']=='네오★스노우화이트 R10기지(56.0)'\n",
    "condition_64 = df_temp['지종(평량)']=='네오★승화열전사(강STKS)기지(85.0)'\n",
    "condition_65 = df_temp['지종(평량)']=='네오★아트기지(73.0)'\n",
    "condition_66 = df_temp['지종(평량)']=='네오★쇼핑백기지(130.0)'\n",
    "condition_67 = df_temp['지종(평량)']=='네오★백상쇼핑백 PCW40(180.0)'\n",
    "condition_68 = df_temp['지종(평량)']=='네오★SPEEDJET(라벨)(70.0)'\n",
    "condition_69 = df_temp['지종(평량)']=='NEO★SPEEDJET(고백색)(90.0)'\n",
    "condition_70 = df_temp['지종(평량)']=='네오★승화열전사지(속건형)기지(92.0)'\n",
    "\n",
    "condition_71 = df_temp['지종(평량)']=='네오★박리지(백색)(90.0)'\n",
    "condition_72 = df_temp['지종(평량)']=='네오★그랜드보드기지(180.0)'\n",
    "condition_73 = df_temp['지종(평량)']=='네오★그린박리지(S1)기지(67.0)'\n",
    "condition_74 = df_temp['지종(평량)']=='네오★스노우화이트기지(67.0)'\n",
    "condition_75 = df_temp['지종(평량)']=='네오★스노우화이트기지(134.0)'\n",
    "condition_76 = df_temp['지종(평량)']=='네오★스노우화이트기지(152.0)'\n",
    "condition_77 = df_temp['지종(평량)']=='네오★박리지(백색)(130.0)'\n",
    "condition_78 = df_temp['지종(평량)']=='네오★박리지(백색)(120.0)'\n",
    "condition_79 = df_temp['지종(평량)']=='네오★박리지(백색)(100.0)'\n",
    "condition_80 = df_temp['지종(평량)']=='네오★박리지(백색)(80.0)'\n",
    "\n",
    "condition_81 = df_temp['지종(평량)']=='네오★박리지(백색)(70.0)'\n",
    "condition_82 = df_temp['지종(평량)']=='네오★박리지(고백색)(70.0)'\n",
    "condition_83 = df_temp['지종(평량)']=='네오★아트 R10기지(169.0)'\n",
    "condition_84 = df_temp['지종(평량)']=='네오★그랜드보드기지(143.0)'\n",
    "condition_85 = df_temp['지종(평량)']=='네오★그랜드보드기지(162.0)'\n",
    "condition_86 = df_temp['지종(평량)']=='네오★백상(하이벌크EW)(118.0)'\n",
    "condition_87 = df_temp['지종(평량)']=='네오★아트기지(169.0)'\n",
    "condition_88 = df_temp['지종(평량)']=='NEO★SPEEDJET(90.0)'\n",
    "condition_89 = df_temp['지종(평량)']=='NEO★SPEEDJET(80.0)'\n",
    "condition_90 = df_temp['지종(평량)']=='NEO★SPEEDJET(70.0)'\n",
    "condition_91 = df_temp['지종(평량)']=='네오★스노우화이트기지(198.0)'"
   ]
  },
  {
   "cell_type": "code",
   "execution_count": 91,
   "id": "0665d76f",
   "metadata": {},
   "outputs": [],
   "source": [
    "for index,conditions in enumerate([condition_1, condition_2, condition_3, condition_4, condition_5, condition_6, condition_7, condition_8, condition_9, \n",
    "                                  condition_10, condition_11, condition_12, condition_13, condition_14, condition_15, condition_16, condition_17, condition_18, condition_19,\n",
    "                                  condition_20, condition_21, condition_22, condition_23, condition_24, condition_25, condition_26, condition_27, condition_28, condition_29,\n",
    "                                  condition_30, condition_31, condition_32, condition_33, condition_34, condition_35, condition_36, condition_37, condition_38, condition_39,\n",
    "                                  condition_40, condition_41, condition_42, condition_43, condition_44, condition_45, condition_46, condition_47, condition_48, condition_49,\n",
    "                                  condition_50, condition_51, condition_52, condition_53, condition_54, condition_55, condition_56, condition_57, condition_58, condition_59,\n",
    "                                  condition_60, condition_61, condition_62, condition_63, condition_64, condition_65, condition_66, condition_67, condition_68, condition_69,\n",
    "                                  condition_70, condition_71, condition_72, condition_73, condition_74, condition_75, condition_76, condition_77, condition_78, condition_79,\n",
    "                                  condition_80, condition_81, condition_82, condition_83, condition_84, condition_85, condition_86, condition_87, condition_88, condition_89,\n",
    "                                  condition_90, condition_91]):\n",
    "    df_temp.loc[conditions,['지종(평량)']]=index"
   ]
  },
  {
   "cell_type": "code",
   "execution_count": 92,
   "id": "a55062e2",
   "metadata": {},
   "outputs": [],
   "source": [
    "paper1 = df_temp['지종']=='네오★백상'\n",
    "paper2 = df_temp['지종']=='네오★스노우화이트기지'\n",
    "paper3 = df_temp['지종']=='NEO★MATT 9+ R10기지'\n",
    "paper4 = df_temp['지종']=='네오★아트 R10기지'\n",
    "paper5 = df_temp['지종']=='네오★아트기지'\n",
    "paper6 = df_temp['지종']=='네오★쇼핑백기지'\n",
    "paper7 = df_temp['지종']=='네오★라벨기지'\n",
    "paper8 = df_temp['지종']=='네오★백상쇼핑백'\n",
    "paper9 = df_temp['지종']=='네오★선함침지(백색)기지'\n",
    "paper10 = df_temp['지종']=='네오★스노우화이트 R10기지'\n",
    "paper11 = df_temp['지종']=='네오★승화열전사지기지'\n",
    "paper12 = df_temp['지종']=='네오★승화열전사지(속건형)기지'\n",
    "paper13 = df_temp['지종']=='네오★승화열(STK-S)기지'\n",
    "paper14 = df_temp['지종']=='네오★승화열전사(강STKS)기지'\n",
    "paper15 = df_temp['지종']=='네오★승화열전사지(QE)기지'\n",
    "paper16 = df_temp['지종']=='네오★파워쇼핑백기지'\n",
    "paper17 = df_temp['지종']=='네오★M라벨(P-GLOSS)기지'\n",
    "paper18 = df_temp['지종']=='네오★승화열전사원지'\n",
    "paper19 = df_temp['지종']=='네오★승화열전사(약STKS)기지'\n",
    "paper20 = df_temp['지종']=='네오★파워라벨(S)기지'\n",
    "paper21 = df_temp['지종']=='네오★그린박리지(D1)기지'\n",
    "paper22 = df_temp['지종']=='네오★그린스노우화이트기지'\n",
    "paper23 = df_temp['지종']=='네오★백상(PP합지)'\n",
    "paper24 = df_temp['지종']=='네오★백상쇼핑백 PCW40'\n",
    "paper25 = df_temp['지종']=='네오★SPEEDJET(라벨)'\n",
    "paper26 = df_temp['지종']=='NEO★SPEEDJET(고백색)'\n",
    "paper27 = df_temp['지종']=='네오★박리지(백색)'\n",
    "paper28 = df_temp['지종']=='네오★그랜드보드기지'\n",
    "paper29 = df_temp['지종']=='네오★그린박리지(S1)기지'\n",
    "paper30 = df_temp['지종']=='네오★박리지(고백색)'\n",
    "paper31 = df_temp['지종']=='네오★백상(하이벌크EW)'\n",
    "paper32 = df_temp['지종']=='NEO★SPEEDJET'"
   ]
  },
  {
   "cell_type": "code",
   "execution_count": 93,
   "id": "ab9fd78e",
   "metadata": {},
   "outputs": [],
   "source": [
    "for index,condition in enumerate([paper1,paper2,paper3,paper4,paper5,paper6,paper7,paper8,paper9,paper10,paper11,paper12,paper13,paper14,paper15,paper16,paper17,paper18,paper19,paper20,paper21,paper22,paper23,paper24,paper25,paper26,paper27,paper28,paper29,paper30,paper31,paper32]):\n",
    "    df_temp.loc[condition,['지종']]=index"
   ]
  },
  {
   "cell_type": "code",
   "execution_count": 94,
   "id": "b353ff2a",
   "metadata": {},
   "outputs": [],
   "source": [
    "event1 =df_temp['이력TYPE']=='생산'\n",
    "event2 =df_temp['이력TYPE']=='지종교체'\n",
    "event3 =df_temp['이력TYPE']=='유효가동'\n",
    "event4 =df_temp['이력TYPE']=='초출파지'\n",
    "event5 =df_temp['이력TYPE']=='Press'\n",
    "event6 =df_temp['이력TYPE']=='평량교체'\n",
    "event7 =df_temp['이력TYPE']=='Size Press'\n",
    "event8 =df_temp['이력TYPE']=='계획보수'\n",
    "event9 =df_temp['이력TYPE']=='설비가동'\n",
    "event10 =df_temp['이력TYPE']=='Pre-Dryer'\n",
    "event11 =df_temp['이력TYPE']=='Reel'\n",
    "event12 =df_temp['이력TYPE']=='After-Dryer'\n",
    "event13 =df_temp['이력TYPE']=='Calender'\n",
    "event14 =df_temp['이력TYPE']=='W/W Pit (tank)'\n",
    "event15 =df_temp['이력TYPE']=='Air Line'\n",
    "event16 =df_temp['이력TYPE']=='전력부하조정'\n",
    "event17 =df_temp['이력TYPE']=='설비수리'"
   ]
  },
  {
   "cell_type": "code",
   "execution_count": 95,
   "id": "86e6be65",
   "metadata": {},
   "outputs": [],
   "source": [
    "for index,condition in enumerate([event1, event2, event3, event4, event5, event6, event7, event8, event9, event10, event11, event12, event13, event14, event15, event16, event17, ]):\n",
    "    df_temp.loc[condition,['이력TYPE']]=index"
   ]
  },
  {
   "cell_type": "code",
   "execution_count": 100,
   "id": "62d2ae30",
   "metadata": {},
   "outputs": [],
   "source": [
    "df_temp.dropna(subset=['가동상태'], inplace=True)"
   ]
  },
  {
   "cell_type": "code",
   "execution_count": 106,
   "id": "8fec6177",
   "metadata": {},
   "outputs": [],
   "source": [
    "df_temp.set_index('작업시작시간', inplace=True)"
   ]
  },
  {
   "cell_type": "code",
   "execution_count": 107,
   "id": "2f8f82e7",
   "metadata": {},
   "outputs": [],
   "source": [
    "df_temp[col]=df_temp[col].interpolate(method = 'time')"
   ]
  },
  {
   "cell_type": "code",
   "execution_count": 110,
   "id": "d3c31fcd",
   "metadata": {
    "scrolled": true
   },
   "outputs": [
    {
     "name": "stdout",
     "output_type": "stream",
     "text": [
      "HFEMS.MRPAP.01.SH01.PL003.01.KVARH\n",
      "spearmanr Correlation : -0.00\n",
      "spearmanr P-value : 0.0176\n",
      "HFEMS.MRPAP.01.SH01.PL003.01.VAR\n",
      "spearmanr Correlation : 0.00\n",
      "spearmanr P-value : 0.0356\n",
      "HFEMS.MRPAP.01.SH01.PL003.03.A_R\n",
      "spearmanr Correlation : -0.01\n",
      "spearmanr P-value : 0.0085\n",
      "HFEMS.MRPAP.01.SH01.PL003.03.A_S\n",
      "spearmanr Correlation : -0.00\n",
      "spearmanr P-value : 0.0159\n",
      "HFEMS.MRPAP.01.SH01.PL003.03.A_T\n",
      "spearmanr Correlation : -0.00\n",
      "spearmanr P-value : 0.0149\n",
      "HFEMS.MRPAP.01.SH01.PL003.03.KW\n",
      "spearmanr Correlation : -0.01\n",
      "spearmanr P-value : 0.0034\n",
      "HFEMS.MRPAP.01.SH01.PL003.03.VA\n",
      "spearmanr Correlation : -0.00\n",
      "spearmanr P-value : 0.0301\n",
      "HFEMS.MRPAP.01.SH01.PL003.05.PF\n",
      "spearmanr Correlation : 0.01\n",
      "spearmanr P-value : 0.0074\n",
      "HFEMS.MRPAP.01.SH01.PL003.06.HZ\n",
      "spearmanr Correlation : -0.01\n",
      "spearmanr P-value : 0.0047\n"
     ]
    },
    {
     "name": "stderr",
     "output_type": "stream",
     "text": [
      "C:\\Users\\USER\\anaconda3\\lib\\site-packages\\scipy\\stats\\stats.py:4484: SpearmanRConstantInputWarning: An input array is constant; the correlation coefficient is not defined.\n",
      "  warnings.warn(SpearmanRConstantInputWarning())\n"
     ]
    },
    {
     "name": "stdout",
     "output_type": "stream",
     "text": [
      "320PIC7533:me\n",
      "spearmanr Correlation : 0.00\n",
      "spearmanr P-value : 0.0102\n",
      "320TIC7545:me\n",
      "spearmanr Correlation : 0.01\n",
      "spearmanr P-value : 0.0075\n",
      "PM3_MOISTURE_SP2\n",
      "spearmanr Correlation : 0.01\n",
      "spearmanr P-value : 0.0090\n",
      "320LIC7526:me\n",
      "spearmanr Correlation : -0.00\n",
      "spearmanr P-value : 0.0159\n",
      "320LIC7526:me.1\n",
      "spearmanr Correlation : -0.00\n",
      "spearmanr P-value : 0.0159\n"
     ]
    }
   ],
   "source": [
    "y = df_temp.loc[:, '닙'].values\n",
    "temp=pd.DataFrame(index = col, columns=['Corr', 'P-val'])\n",
    "list_nip = []\n",
    "for item in col:\n",
    "    X = df_temp.loc[:, item].values\n",
    "    if (stats.spearmanr(X,y)[1]<0.05) and (stats.spearmanr(X,y)[1]>0.001):\n",
    "        print(item)\n",
    "        list_nip.append(item)\n",
    "        print('spearmanr Correlation : {:.2f}'.format(stats.spearmanr(X, y)[0]))\n",
    "        print('spearmanr P-value : {:.4f}'.format(stats.spearmanr(X,y)[1]))"
   ]
  },
  {
   "cell_type": "code",
   "execution_count": 111,
   "id": "9cd47588",
   "metadata": {
    "scrolled": true
   },
   "outputs": [
    {
     "name": "stdout",
     "output_type": "stream",
     "text": [
      "HFEMS.MRPAP.01.SH01.PL003.02.V_R\n",
      "spearmanr Correlation : 0.00\n",
      "spearmanr P-value : 0.0437\n"
     ]
    },
    {
     "name": "stderr",
     "output_type": "stream",
     "text": [
      "C:\\Users\\USER\\anaconda3\\lib\\site-packages\\scipy\\stats\\stats.py:4484: SpearmanRConstantInputWarning: An input array is constant; the correlation coefficient is not defined.\n",
      "  warnings.warn(SpearmanRConstantInputWarning())\n"
     ]
    },
    {
     "name": "stdout",
     "output_type": "stream",
     "text": [
      "320PIC7533:me\n",
      "spearmanr Correlation : -0.00\n",
      "spearmanr P-value : 0.0407\n",
      "320PIC7506:me\n",
      "spearmanr Correlation : -0.01\n",
      "spearmanr P-value : 0.0022\n",
      "320TIC7545:me\n",
      "spearmanr Correlation : 0.00\n",
      "spearmanr P-value : 0.0172\n"
     ]
    }
   ],
   "source": [
    "y = df_temp.loc[:, '귀상'].values\n",
    "temp=pd.DataFrame(index = col, columns=['Corr', 'P-val'])\n",
    "list_gwisang = []\n",
    "for item in col:\n",
    "    X = df_temp.loc[:, item].values\n",
    "    if (stats.spearmanr(X,y)[1]<0.05) and (stats.spearmanr(X,y)[1]>0.001):\n",
    "        print(item)\n",
    "        list_gwisang.append(item)\n",
    "        print('spearmanr Correlation : {:.2f}'.format(stats.spearmanr(X, y)[0]))\n",
    "        print('spearmanr P-value : {:.4f}'.format(stats.spearmanr(X,y)[1]))"
   ]
  },
  {
   "cell_type": "code",
   "execution_count": null,
   "id": "e8fffc73",
   "metadata": {},
   "outputs": [],
   "source": []
  }
 ],
 "metadata": {
  "kernelspec": {
   "display_name": "Python 3 (ipykernel)",
   "language": "python",
   "name": "python3"
  },
  "language_info": {
   "codemirror_mode": {
    "name": "ipython",
    "version": 3
   },
   "file_extension": ".py",
   "mimetype": "text/x-python",
   "name": "python",
   "nbconvert_exporter": "python",
   "pygments_lexer": "ipython3",
   "version": "3.9.12"
  }
 },
 "nbformat": 4,
 "nbformat_minor": 5
}
