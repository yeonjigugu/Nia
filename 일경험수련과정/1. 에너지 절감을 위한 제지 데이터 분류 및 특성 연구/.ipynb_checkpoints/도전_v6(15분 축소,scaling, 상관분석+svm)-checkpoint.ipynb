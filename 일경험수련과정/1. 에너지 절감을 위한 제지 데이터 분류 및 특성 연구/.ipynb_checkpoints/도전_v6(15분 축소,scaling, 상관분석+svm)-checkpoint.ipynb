{
 "cells": [
  {
   "cell_type": "code",
   "execution_count": 1,
   "id": "0855e5be",
   "metadata": {
    "scrolled": true
   },
   "outputs": [
    {
     "name": "stderr",
     "output_type": "stream",
     "text": [
      "C:\\Users\\USER\\AppData\\Local\\Temp\\ipykernel_10072\\2594418531.py:19: DeprecationWarning: Importing display from IPython.core.display is deprecated since IPython 7.14, please import from IPython display\n",
      "  from IPython.core.display import display, HTML\n"
     ]
    },
    {
     "data": {
      "text/html": [
       "<style>.container {width:95% !important;}</style>"
      ],
      "text/plain": [
       "<IPython.core.display.HTML object>"
      ]
     },
     "metadata": {},
     "output_type": "display_data"
    }
   ],
   "source": [
    "%config Completer.use_jedi = False\n",
    "import seaborn as sns\n",
    "import matplotlib.pyplot as plt\n",
    "import pandas as pd\n",
    "import numpy as np\n",
    "import pprint\n",
    "import datetime\n",
    "import torch\n",
    "from pyarrow import csv\n",
    "import os.path\n",
    "import matplotlib.pyplot as plt\n",
    "import seaborn as sns\n",
    "import os\n",
    "from tqdm import notebook\n",
    "import scipy.stats as stats\n",
    "from sklearn.preprocessing import MinMaxScaler\n",
    "os.environ['KMP_DUPLICATE_LIB_OK']='True'\n",
    "\n",
    "from IPython.core.display import display, HTML\n",
    "display(HTML(\"<style>.container {width:95% !important;}</style>\")) #셀 사이즈 조절"
   ]
  },
  {
   "cell_type": "code",
   "execution_count": 2,
   "id": "cef14981",
   "metadata": {
    "scrolled": true
   },
   "outputs": [
    {
     "name": "stderr",
     "output_type": "stream",
     "text": [
      "C:\\Users\\USER\\AppData\\Local\\Temp\\ipykernel_10072\\428708869.py:1: DtypeWarning: Columns (8) have mixed types. Specify dtype option on import or set low_memory=False.\n",
      "  df = pd.read_csv('C:/Users/USER/etri_csv/논문/논문자료_v1.csv')\n"
     ]
    }
   ],
   "source": [
    "df = pd.read_csv('C:/Users/USER/etri_csv/논문/논문자료_v1.csv')"
   ]
  },
  {
   "cell_type": "code",
   "execution_count": 3,
   "id": "adfff703",
   "metadata": {},
   "outputs": [],
   "source": [
    "df.set_index('작업시작시간', inplace=True)"
   ]
  },
  {
   "cell_type": "code",
   "execution_count": 4,
   "id": "4dbb952a",
   "metadata": {},
   "outputs": [],
   "source": [
    "df.index =pd.to_datetime(df.index)"
   ]
  },
  {
   "cell_type": "code",
   "execution_count": 5,
   "id": "35b3f90b",
   "metadata": {},
   "outputs": [],
   "source": [
    "df.interpolate('time', inplace=True)"
   ]
  },
  {
   "cell_type": "code",
   "execution_count": 6,
   "id": "d7312b87",
   "metadata": {},
   "outputs": [],
   "source": [
    "df.fillna(method='bfill', inplace=True)"
   ]
  },
  {
   "cell_type": "markdown",
   "id": "32b2145b",
   "metadata": {},
   "source": [
    "사용할 태그  "
   ]
  },
  {
   "cell_type": "code",
   "execution_count": 7,
   "id": "caa3fe63",
   "metadata": {},
   "outputs": [],
   "source": [
    "tags_Power = [\n",
    " 'HFEMS.MRPAP.01.SH01.PL003.01.A_R',\n",
    " 'HFEMS.MRPAP.01.SH01.PL003.01.A_S',\n",
    " 'HFEMS.MRPAP.01.SH01.PL003.01.A_T',\n",
    " 'HFEMS.MRPAP.01.SH01.PL003.01.HZ',\n",
    " 'HFEMS.MRPAP.01.SH01.PL003.01.KVARH',\n",
    " 'HFEMS.MRPAP.01.SH01.PL003.01.KW',\n",
    " 'HFEMS.MRPAP.01.SH01.PL003.01.KWH',\n",
    " 'HFEMS.MRPAP.01.SH01.PL003.01.PF',\n",
    " 'HFEMS.MRPAP.01.SH01.PL003.01.VA',\n",
    " 'HFEMS.MRPAP.01.SH01.PL003.01.VAR',\n",
    " 'HFEMS.MRPAP.01.SH01.PL003.01.V_LL_R',\n",
    " 'HFEMS.MRPAP.01.SH01.PL003.01.V_LL_S',\n",
    " 'HFEMS.MRPAP.01.SH01.PL003.01.V_LL_T',\n",
    " 'HFEMS.MRPAP.01.SH01.PL003.01.V_R',\n",
    " 'HFEMS.MRPAP.01.SH01.PL003.01.V_S',\n",
    " 'HFEMS.MRPAP.01.SH01.PL003.01.V_T',\n",
    " 'HFEMS.MRPAP.01.SH01.PL003.02.A_R',\n",
    " 'HFEMS.MRPAP.01.SH01.PL003.02.A_S',\n",
    " 'HFEMS.MRPAP.01.SH01.PL003.02.A_T',\n",
    " 'HFEMS.MRPAP.01.SH01.PL003.02.HZ',\n",
    " 'HFEMS.MRPAP.01.SH01.PL003.02.KVARH',\n",
    " 'HFEMS.MRPAP.01.SH01.PL003.02.KW',\n",
    " 'HFEMS.MRPAP.01.SH01.PL003.02.KWH',\n",
    " 'HFEMS.MRPAP.01.SH01.PL003.02.PF',\n",
    " 'HFEMS.MRPAP.01.SH01.PL003.02.VA',\n",
    " 'HFEMS.MRPAP.01.SH01.PL003.02.VAR',\n",
    " 'HFEMS.MRPAP.01.SH01.PL003.02.V_LL_R',\n",
    " 'HFEMS.MRPAP.01.SH01.PL003.02.V_LL_S',\n",
    " 'HFEMS.MRPAP.01.SH01.PL003.02.V_LL_T',\n",
    " 'HFEMS.MRPAP.01.SH01.PL003.02.V_R',\n",
    " 'HFEMS.MRPAP.01.SH01.PL003.02.V_S',\n",
    " 'HFEMS.MRPAP.01.SH01.PL003.02.V_T',\n",
    " 'HFEMS.MRPAP.01.SH01.PL003.03.A_R',\n",
    " 'HFEMS.MRPAP.01.SH01.PL003.03.A_S',\n",
    " 'HFEMS.MRPAP.01.SH01.PL003.03.A_T',\n",
    " 'HFEMS.MRPAP.01.SH01.PL003.03.HZ',\n",
    " 'HFEMS.MRPAP.01.SH01.PL003.03.KVARH',\n",
    " 'HFEMS.MRPAP.01.SH01.PL003.03.KW',\n",
    " 'HFEMS.MRPAP.01.SH01.PL003.03.KWH',\n",
    " 'HFEMS.MRPAP.01.SH01.PL003.03.PF',\n",
    " 'HFEMS.MRPAP.01.SH01.PL003.03.VA',\n",
    " 'HFEMS.MRPAP.01.SH01.PL003.03.VAR',\n",
    " 'HFEMS.MRPAP.01.SH01.PL003.03.V_LL_R',\n",
    " 'HFEMS.MRPAP.01.SH01.PL003.03.V_LL_S',\n",
    " 'HFEMS.MRPAP.01.SH01.PL003.03.V_LL_T',\n",
    " 'HFEMS.MRPAP.01.SH01.PL003.03.V_R',\n",
    " 'HFEMS.MRPAP.01.SH01.PL003.03.V_S',\n",
    " 'HFEMS.MRPAP.01.SH01.PL003.03.V_T',\n",
    " 'HFEMS.MRPAP.01.SH01.PL003.04.A_R',\n",
    " 'HFEMS.MRPAP.01.SH01.PL003.04.A_S',\n",
    " 'HFEMS.MRPAP.01.SH01.PL003.04.A_T',\n",
    " 'HFEMS.MRPAP.01.SH01.PL003.04.HZ',\n",
    " 'HFEMS.MRPAP.01.SH01.PL003.04.KVARH',\n",
    " 'HFEMS.MRPAP.01.SH01.PL003.04.KW',\n",
    " 'HFEMS.MRPAP.01.SH01.PL003.04.KWH',\n",
    " 'HFEMS.MRPAP.01.SH01.PL003.04.PF',\n",
    " 'HFEMS.MRPAP.01.SH01.PL003.04.VA',\n",
    " 'HFEMS.MRPAP.01.SH01.PL003.04.VAR',\n",
    " 'HFEMS.MRPAP.01.SH01.PL003.04.V_LL_R',\n",
    " 'HFEMS.MRPAP.01.SH01.PL003.04.V_LL_S',\n",
    " 'HFEMS.MRPAP.01.SH01.PL003.04.V_LL_T',\n",
    " 'HFEMS.MRPAP.01.SH01.PL003.04.V_R',\n",
    " 'HFEMS.MRPAP.01.SH01.PL003.04.V_S',\n",
    " 'HFEMS.MRPAP.01.SH01.PL003.04.V_T',\n",
    " 'HFEMS.MRPAP.01.SH01.PL003.05.A_R',\n",
    " 'HFEMS.MRPAP.01.SH01.PL003.05.A_S',\n",
    " 'HFEMS.MRPAP.01.SH01.PL003.05.A_T',\n",
    " 'HFEMS.MRPAP.01.SH01.PL003.05.HZ',\n",
    " 'HFEMS.MRPAP.01.SH01.PL003.05.KVARH',\n",
    " 'HFEMS.MRPAP.01.SH01.PL003.05.KW',\n",
    " 'HFEMS.MRPAP.01.SH01.PL003.05.KWH',\n",
    " 'HFEMS.MRPAP.01.SH01.PL003.05.PF',\n",
    " 'HFEMS.MRPAP.01.SH01.PL003.05.VA',\n",
    " 'HFEMS.MRPAP.01.SH01.PL003.05.VAR',\n",
    " 'HFEMS.MRPAP.01.SH01.PL003.05.V_LL_R',\n",
    " 'HFEMS.MRPAP.01.SH01.PL003.05.V_LL_S',\n",
    " 'HFEMS.MRPAP.01.SH01.PL003.05.V_LL_T',\n",
    " 'HFEMS.MRPAP.01.SH01.PL003.05.V_R',\n",
    " 'HFEMS.MRPAP.01.SH01.PL003.05.V_S',\n",
    " 'HFEMS.MRPAP.01.SH01.PL003.05.V_T',\n",
    " 'HFEMS.MRPAP.01.SH01.PL003.06.A_R',\n",
    " 'HFEMS.MRPAP.01.SH01.PL003.06.A_S',\n",
    " 'HFEMS.MRPAP.01.SH01.PL003.06.A_T',\n",
    " 'HFEMS.MRPAP.01.SH01.PL003.06.HZ',\n",
    " 'HFEMS.MRPAP.01.SH01.PL003.06.KVARH',\n",
    " 'HFEMS.MRPAP.01.SH01.PL003.06.KW',\n",
    " 'HFEMS.MRPAP.01.SH01.PL003.06.KWH',\n",
    " 'HFEMS.MRPAP.01.SH01.PL003.06.PF',\n",
    " 'HFEMS.MRPAP.01.SH01.PL003.06.VA',\n",
    " 'HFEMS.MRPAP.01.SH01.PL003.06.VAR',\n",
    " 'HFEMS.MRPAP.01.SH01.PL003.06.V_LL_R',\n",
    " 'HFEMS.MRPAP.01.SH01.PL003.06.V_LL_S',\n",
    " 'HFEMS.MRPAP.01.SH01.PL003.06.V_LL_T',\n",
    " 'HFEMS.MRPAP.01.SH01.PL003.06.V_R',\n",
    " 'HFEMS.MRPAP.01.SH01.PL003.06.V_S',\n",
    " 'HFEMS.MRPAP.01.SH01.PL003.06.V_T'\n",
    " ]"
   ]
  },
  {
   "cell_type": "code",
   "execution_count": 8,
   "id": "6a958676",
   "metadata": {},
   "outputs": [],
   "source": [
    "tags_QCS=[\n",
    "    '320PIC7509:me',\n",
    " '320PIC7510:me',\n",
    " '320PIC7511:me',\n",
    " 'PM3-S3SC.opr:me',\n",
    " '320PIC7513:me',\n",
    " '320PIC7514:me',\n",
    " 'PM3-S5SC.opr:me',\n",
    " '320PIC7524:me',\n",
    " '320PIC7533:me',\n",
    " '320PIC7544:me',\n",
    " '320PIC7505:me',\n",
    " '320PIC7506:me',\n",
    " '320PIC7507:me',\n",
    " '320PIC7508:me',\n",
    " '320PDC7516:me',\n",
    " '320PDC7518:me',\n",
    " '320PDV7519.1:av',\n",
    " '320PDC7520:me',\n",
    " '320PDV7522.1:av',\n",
    " '320HIC7501:av',\n",
    " '320TIA7504:av',\n",
    " '320TIA7530:av',\n",
    " '320TIA7541:av',\n",
    " '320TIA7542:av',\n",
    " '320TIC7523:me',\n",
    " '320PIC7524:me.1',\n",
    " '320TIC0004:me',\n",
    " '320TIC7540:me',\n",
    " '320TIC7545:me',\n",
    " 'PM3_BASIS_WEIGHT_SP',\n",
    " 'PM3_BASIS_WEIGHT_SP2',\n",
    " 'PM3_MOISTURE_SP',\n",
    " 'PM3_MOISTURE_SP2',\n",
    " '329-GIC1002:me',\n",
    " '329-PIC7030.A:me',\n",
    " '329-PIC7030.B:me',\n",
    " '320-PIC0501:me',\n",
    " 'PM3_WIRE_SPEED',\n",
    " 'PM3_ASH_PV',\n",
    " 'PM3_STOCK_CONSISTENCY_PV',\n",
    " 'PM3_STOCK_FLOW_PV',\n",
    " 'PM3-JWC1.opr:me',\n",
    " 'PM3-TSF1.opr:me',\n",
    " 'PM3-RLS1.opr:me',\n",
    " 'PM3-TASH.opr:me',\n",
    " '320LIC7524:me',\n",
    " '320LIC7525:me',\n",
    " '320LIC7526:me',\n",
    " '320LIC7527:me',\n",
    " '320LIC7528:me',\n",
    " '320LIC7529:me',\n",
    " '320LIC7537:me',\n",
    " '320LIC7529:me.1',\n",
    " '320LIC7528:me.1',\n",
    " '320LIC7527:me.1',\n",
    " '320LIC7526:me.1',\n",
    " '320LIC7525:me.1',\n",
    " '320FIA7531:av',\n",
    " '320FIA7535:av'\n",
    "]"
   ]
  },
  {
   "cell_type": "code",
   "execution_count": 9,
   "id": "490a031b",
   "metadata": {},
   "outputs": [],
   "source": [
    "tags = tags_Power+tags_QCS\n",
    "\n",
    "temp= df[tags].resample('15T').mean()"
   ]
  },
  {
   "cell_type": "code",
   "execution_count": 10,
   "id": "a0a1e65f",
   "metadata": {},
   "outputs": [],
   "source": [
    "temp[['지절','지종','평량']] = df[['지절','지종','평량']].resample('15T').first()"
   ]
  },
  {
   "cell_type": "code",
   "execution_count": null,
   "id": "2ef0ee4f",
   "metadata": {},
   "outputs": [],
   "source": []
  },
  {
   "cell_type": "code",
   "execution_count": 11,
   "id": "3a1e43d1",
   "metadata": {},
   "outputs": [],
   "source": [
    "tags_MES=['가동상태',\n",
    " '이력TYPE',\n",
    " '지절',\n",
    " '월',\n",
    " '지종',\n",
    " '평량']"
   ]
  },
  {
   "cell_type": "markdown",
   "id": "2ea694e2",
   "metadata": {},
   "source": [
    "지절 발생이 가장 많은 3월 데이터 사용"
   ]
  },
  {
   "cell_type": "code",
   "execution_count": 12,
   "id": "76dfbe1c",
   "metadata": {},
   "outputs": [],
   "source": [
    "df_3M =df[df['월']==3]"
   ]
  },
  {
   "cell_type": "markdown",
   "id": "18d96cda",
   "metadata": {},
   "source": [
    "### 결측치 처리"
   ]
  },
  {
   "cell_type": "code",
   "execution_count": 13,
   "id": "839c474a",
   "metadata": {},
   "outputs": [
    {
     "name": "stderr",
     "output_type": "stream",
     "text": [
      "C:\\Users\\USER\\AppData\\Local\\Temp\\ipykernel_10072\\3805525285.py:1: SettingWithCopyWarning: \n",
      "A value is trying to be set on a copy of a slice from a DataFrame\n",
      "\n",
      "See the caveats in the documentation: https://pandas.pydata.org/pandas-docs/stable/user_guide/indexing.html#returning-a-view-versus-a-copy\n",
      "  df_3M.dropna(subset=['설비'], inplace=True)\n",
      "C:\\Users\\USER\\AppData\\Local\\Temp\\ipykernel_10072\\3805525285.py:2: SettingWithCopyWarning: \n",
      "A value is trying to be set on a copy of a slice from a DataFrame\n",
      "\n",
      "See the caveats in the documentation: https://pandas.pydata.org/pandas-docs/stable/user_guide/indexing.html#returning-a-view-versus-a-copy\n",
      "  df_3M.dropna(axis=1, inplace=True)\n"
     ]
    }
   ],
   "source": [
    "df_3M.dropna(subset=['설비'], inplace=True)\n",
    "df_3M.dropna(axis=1, inplace=True)"
   ]
  },
  {
   "cell_type": "markdown",
   "id": "37cc71d2",
   "metadata": {},
   "source": [
    "### 지절 VS MES,DCS,QCS 데이터 상관분석(대상 : 지절이 가장 많이 발생한 3월)"
   ]
  },
  {
   "cell_type": "code",
   "execution_count": 14,
   "id": "4b87b446",
   "metadata": {},
   "outputs": [],
   "source": [
    "df_3M_1 = df_3M[df_3M['지절']==1]"
   ]
  },
  {
   "cell_type": "code",
   "execution_count": 15,
   "id": "f41ce136",
   "metadata": {},
   "outputs": [],
   "source": [
    "temp = df_3M_1.groupby(['지종','평량']).size().sort_values(ascending=False)"
   ]
  },
  {
   "cell_type": "code",
   "execution_count": 16,
   "id": "4c97ac8d",
   "metadata": {
    "scrolled": false
   },
   "outputs": [
    {
     "data": {
      "text/html": [
       "<div>\n",
       "<style scoped>\n",
       "    .dataframe tbody tr th:only-of-type {\n",
       "        vertical-align: middle;\n",
       "    }\n",
       "\n",
       "    .dataframe tbody tr th {\n",
       "        vertical-align: top;\n",
       "    }\n",
       "\n",
       "    .dataframe thead th {\n",
       "        text-align: right;\n",
       "    }\n",
       "</style>\n",
       "<table border=\"1\" class=\"dataframe\">\n",
       "  <thead>\n",
       "    <tr style=\"text-align: right;\">\n",
       "      <th></th>\n",
       "      <th></th>\n",
       "      <th>0</th>\n",
       "    </tr>\n",
       "    <tr>\n",
       "      <th>지종</th>\n",
       "      <th>평량</th>\n",
       "      <th></th>\n",
       "    </tr>\n",
       "  </thead>\n",
       "  <tbody>\n",
       "    <tr>\n",
       "      <th>네오★백상</th>\n",
       "      <th>100.0</th>\n",
       "      <td>80</td>\n",
       "    </tr>\n",
       "    <tr>\n",
       "      <th rowspan=\"3\" valign=\"top\">네오★스노우화이트기지</th>\n",
       "      <th>73.0</th>\n",
       "      <td>53</td>\n",
       "    </tr>\n",
       "    <tr>\n",
       "      <th>77.0</th>\n",
       "      <td>39</td>\n",
       "    </tr>\n",
       "    <tr>\n",
       "      <th>62.0</th>\n",
       "      <td>26</td>\n",
       "    </tr>\n",
       "    <tr>\n",
       "      <th>네오★아트 R10기지</th>\n",
       "      <th>77.0</th>\n",
       "      <td>22</td>\n",
       "    </tr>\n",
       "    <tr>\n",
       "      <th>네오★라벨기지</th>\n",
       "      <th>67.0</th>\n",
       "      <td>11</td>\n",
       "    </tr>\n",
       "    <tr>\n",
       "      <th>네오★스노우화이트 R10기지</th>\n",
       "      <th>67.0</th>\n",
       "      <td>1</td>\n",
       "    </tr>\n",
       "    <tr>\n",
       "      <th rowspan=\"2\" valign=\"top\">네오★아트기지</th>\n",
       "      <th>62.0</th>\n",
       "      <td>1</td>\n",
       "    </tr>\n",
       "    <tr>\n",
       "      <th>73.0</th>\n",
       "      <td>1</td>\n",
       "    </tr>\n",
       "  </tbody>\n",
       "</table>\n",
       "</div>"
      ],
      "text/plain": [
       "                        0\n",
       "지종              평량       \n",
       "네오★백상           100.0  80\n",
       "네오★스노우화이트기지     73.0   53\n",
       "                77.0   39\n",
       "                62.0   26\n",
       "네오★아트 R10기지     77.0   22\n",
       "네오★라벨기지         67.0   11\n",
       "네오★스노우화이트 R10기지 67.0    1\n",
       "네오★아트기지         62.0    1\n",
       "                73.0    1"
      ]
     },
     "execution_count": 16,
     "metadata": {},
     "output_type": "execute_result"
    }
   ],
   "source": [
    "temp.to_frame() #target"
   ]
  },
  {
   "cell_type": "code",
   "execution_count": 17,
   "id": "dee10291",
   "metadata": {},
   "outputs": [],
   "source": [
    "df_3M.reset_index(inplace=True)"
   ]
  },
  {
   "cell_type": "code",
   "execution_count": 18,
   "id": "837499a2",
   "metadata": {},
   "outputs": [],
   "source": [
    "condition_1 = ((df_3M['지종']=='네오★백상')&(df_3M['평량']==100.0))\n",
    "condition_2 = ((df_3M['지종']=='네오★스노우화이트기지')&(df_3M['평량']==73.0))\n",
    "condition_3 = ((df_3M['지종']=='네오★스노우화이트기지')&(df_3M['평량']==77.0))\n",
    "condition_4 = ((df_3M['지종']=='네오★스노우화이트기지')&(df_3M['평량']==62.0))\n",
    "condition_5 = ((df_3M['지종']=='네오★아트 R10기지')&(df_3M['평량']==77.0))\n",
    "condition_6 = ((df_3M['지종']=='네오★라벨기지')&(df_3M['평량']==67.0))\n",
    "condition_7 = ((df_3M['지종']=='네오★스노우화이트 R10기지')&(df_3M['평량']==67.0))\n",
    "condition_8 = ((df_3M['지종']=='네오★아트기지')&(df_3M['평량']==62.0))\n",
    "condition_9 = ((df_3M['지종']=='네오★아트기지')&(df_3M['평량']==73.0))"
   ]
  },
  {
   "cell_type": "code",
   "execution_count": 19,
   "id": "8025796e",
   "metadata": {},
   "outputs": [],
   "source": [
    "condition_legend=['네오★백상(100.0)', \n",
    "                  '네오★스노우화이트기지(73.0)',\n",
    "                  '네오★스노우화이트기지(77.0)',\n",
    "                  '네오★스노우화이트기지(62.0)',\n",
    "                  '네오★아트 R10기지(77.0)', \n",
    "                  '네오★라벨기지(67.0)',\n",
    "                  '네오★스노우화이트 R10기지(67.0)',\n",
    "                  '네오★아트기지(62.0)', \n",
    "                  '네오★아트기지(73.0)',\n",
    "                  ]"
   ]
  },
  {
   "cell_type": "code",
   "execution_count": 20,
   "id": "405618e5",
   "metadata": {},
   "outputs": [],
   "source": [
    "conditions=condition_1 | condition_2 | condition_3 | condition_4 | condition_5 | condition_6 | condition_7 | condition_8 | condition_9"
   ]
  },
  {
   "cell_type": "code",
   "execution_count": 21,
   "id": "c6810d1f",
   "metadata": {},
   "outputs": [],
   "source": [
    "tags = ['작업시작시간','지절','지종','평량']+tags_Power+tags_QCS\n",
    "#tags = ['작업시작시간','지절','지종','평량']+tags_QCS #15T\n",
    "\n",
    "\n",
    "#remv = ['320PIC7509:me', '320PIC7510:me', 'PM3-S3SC.opr:me', '320PIC7513:me', 'PM3-S5SC.opr:me', '320PIC7544:me', '320PIC7506:me', '320PIC7507:me', '320PIC7508:me', '320PDC7516:me', '320PDC7518:me', '320PDV7519.1:av', '320PDV7522.1:av', '320TIA7504:av', '320TIA7541:av', '320TIC7523:me', '320TIC0004:me', '320TIC7540:me', '329-GIC1002:me', '329-PIC7030.A:me', '329-PIC7030.B:me', 'PM3-JWC1.opr:me', 'PM3-TSF1.opr:me', '320LIC7526:me', '320LIC7526:me.1', '320PIC7524:me', '320HIC7501:av', '320PIC7524:me.1', '320FIA7535:av']\n",
    "\n",
    "# for i in remv:\n",
    "#     tags.remove(i)"
   ]
  },
  {
   "cell_type": "code",
   "execution_count": 22,
   "id": "2c2afdaf",
   "metadata": {
    "scrolled": true
   },
   "outputs": [],
   "source": [
    "df_3M_temp = df_3M[conditions][tags]"
   ]
  },
  {
   "cell_type": "code",
   "execution_count": 23,
   "id": "18294d69",
   "metadata": {
    "scrolled": true
   },
   "outputs": [],
   "source": [
    "for index,condition in enumerate([condition_1,condition_2,condition_3,condition_4,condition_5,condition_6,condition_7,condition_8,condition_9 ]):\n",
    "    df_3M_temp.loc[condition,['지종']]=index"
   ]
  },
  {
   "cell_type": "code",
   "execution_count": 24,
   "id": "4c9b9c16",
   "metadata": {
    "scrolled": true
   },
   "outputs": [
    {
     "data": {
      "text/plain": [
       "[0, 8, 4, 7, 5, 3, 6, 1, 2]"
      ]
     },
     "execution_count": 24,
     "metadata": {},
     "output_type": "execute_result"
    }
   ],
   "source": [
    "list(df_3M_temp['지종'].unique())"
   ]
  },
  {
   "cell_type": "code",
   "execution_count": 25,
   "id": "1ac4bfc9",
   "metadata": {},
   "outputs": [],
   "source": [
    "df_3M_temp.set_index('작업시작시간', inplace=True)"
   ]
  },
  {
   "cell_type": "code",
   "execution_count": 26,
   "id": "20b64253",
   "metadata": {},
   "outputs": [],
   "source": [
    "target= list(df_3M_temp.columns)"
   ]
  },
  {
   "cell_type": "markdown",
   "id": "0048a3cf",
   "metadata": {},
   "source": [
    "15분으로 축소"
   ]
  },
  {
   "cell_type": "code",
   "execution_count": 27,
   "id": "0c3aca22",
   "metadata": {
    "scrolled": true
   },
   "outputs": [],
   "source": [
    "tags_15T = ['지절','지종','평량']+tags_Power+tags_QCS\n",
    "\n",
    "#remv = ['320PIC7509:me', '320PIC7510:me', 'PM3-S3SC.opr:me', '320PIC7513:me', 'PM3-S5SC.opr:me', '320PIC7544:me', '320PIC7506:me', '320PIC7507:me', '320PIC7508:me', '320PDC7516:me', '320PDC7518:me', '320PDV7519.1:av', '320PDV7522.1:av', '320TIA7504:av', '320TIA7541:av', '320TIC7523:me', '320TIC0004:me', '320TIC7540:me', '329-GIC1002:me', '329-PIC7030.A:me', '329-PIC7030.B:me', 'PM3-JWC1.opr:me', 'PM3-TSF1.opr:me', '320LIC7526:me', '320LIC7526:me.1', '320PIC7524:me', '320HIC7501:av', '320PIC7524:me.1', '320FIA7535:av']\n",
    "\n",
    "# for i in remv:\n",
    "#     tags_15T.remove(i)\n",
    "\n",
    "df_3M_15T= df_3M_temp[tags_15T].resample('15T').mean()"
   ]
  },
  {
   "cell_type": "code",
   "execution_count": 28,
   "id": "9ee199de",
   "metadata": {
    "scrolled": false
   },
   "outputs": [],
   "source": [
    "df_3M_15T[['지절','지종','평량']] = df_3M_temp[['지절','지종','평량']].resample('15T').first()"
   ]
  },
  {
   "cell_type": "code",
   "execution_count": 29,
   "id": "be982f57",
   "metadata": {},
   "outputs": [],
   "source": [
    "df_3M_15T.dropna(inplace=True)"
   ]
  },
  {
   "cell_type": "code",
   "execution_count": 30,
   "id": "1a50056a",
   "metadata": {},
   "outputs": [],
   "source": [
    "target_15T = list(df_3M_15T.columns)"
   ]
  },
  {
   "cell_type": "markdown",
   "id": "97b9e30c",
   "metadata": {},
   "source": [
    "### 상관계수"
   ]
  },
  {
   "cell_type": "code",
   "execution_count": 31,
   "id": "fe8e22c8",
   "metadata": {
    "scrolled": true
   },
   "outputs": [
    {
     "name": "stderr",
     "output_type": "stream",
     "text": [
      "C:\\Users\\USER\\anaconda3\\lib\\site-packages\\scipy\\stats\\stats.py:4484: SpearmanRConstantInputWarning: An input array is constant; the correlation coefficient is not defined.\n",
      "  warnings.warn(SpearmanRConstantInputWarning())\n"
     ]
    },
    {
     "data": {
      "text/html": [
       "<div>\n",
       "<style scoped>\n",
       "    .dataframe tbody tr th:only-of-type {\n",
       "        vertical-align: middle;\n",
       "    }\n",
       "\n",
       "    .dataframe tbody tr th {\n",
       "        vertical-align: top;\n",
       "    }\n",
       "\n",
       "    .dataframe thead th {\n",
       "        text-align: right;\n",
       "    }\n",
       "</style>\n",
       "<table border=\"1\" class=\"dataframe\">\n",
       "  <thead>\n",
       "    <tr style=\"text-align: right;\">\n",
       "      <th></th>\n",
       "      <th>Corr</th>\n",
       "      <th>P-val</th>\n",
       "      <th>Corr_abs</th>\n",
       "    </tr>\n",
       "  </thead>\n",
       "  <tbody>\n",
       "    <tr>\n",
       "      <th>320TIA7504:av</th>\n",
       "      <td>0.025500</td>\n",
       "      <td>0.004270</td>\n",
       "      <td>0.025500</td>\n",
       "    </tr>\n",
       "    <tr>\n",
       "      <th>PM3_WIRE_SPEED</th>\n",
       "      <td>0.025243</td>\n",
       "      <td>0.004675</td>\n",
       "      <td>0.025243</td>\n",
       "    </tr>\n",
       "    <tr>\n",
       "      <th>HFEMS.MRPAP.01.SH01.PL003.05.V_R</th>\n",
       "      <td>0.025076</td>\n",
       "      <td>0.004955</td>\n",
       "      <td>0.025076</td>\n",
       "    </tr>\n",
       "    <tr>\n",
       "      <th>HFEMS.MRPAP.01.SH01.PL003.02.V_R</th>\n",
       "      <td>0.024818</td>\n",
       "      <td>0.005420</td>\n",
       "      <td>0.024818</td>\n",
       "    </tr>\n",
       "    <tr>\n",
       "      <th>HFEMS.MRPAP.01.SH01.PL003.03.V_R</th>\n",
       "      <td>0.024632</td>\n",
       "      <td>0.005777</td>\n",
       "      <td>0.024632</td>\n",
       "    </tr>\n",
       "    <tr>\n",
       "      <th>HFEMS.MRPAP.01.SH01.PL003.01.V_R</th>\n",
       "      <td>0.024481</td>\n",
       "      <td>0.006085</td>\n",
       "      <td>0.024481</td>\n",
       "    </tr>\n",
       "    <tr>\n",
       "      <th>HFEMS.MRPAP.01.SH01.PL003.04.V_R</th>\n",
       "      <td>0.023852</td>\n",
       "      <td>0.007524</td>\n",
       "      <td>0.023852</td>\n",
       "    </tr>\n",
       "    <tr>\n",
       "      <th>HFEMS.MRPAP.01.SH01.PL003.05.A_R</th>\n",
       "      <td>-0.023797</td>\n",
       "      <td>0.007664</td>\n",
       "      <td>0.023797</td>\n",
       "    </tr>\n",
       "    <tr>\n",
       "      <th>320LIC7525:me</th>\n",
       "      <td>-0.023556</td>\n",
       "      <td>0.008303</td>\n",
       "      <td>0.023556</td>\n",
       "    </tr>\n",
       "    <tr>\n",
       "      <th>320LIC7525:me.1</th>\n",
       "      <td>-0.023556</td>\n",
       "      <td>0.008303</td>\n",
       "      <td>0.023556</td>\n",
       "    </tr>\n",
       "    <tr>\n",
       "      <th>320HIC7501:av</th>\n",
       "      <td>0.022499</td>\n",
       "      <td>0.011700</td>\n",
       "      <td>0.022499</td>\n",
       "    </tr>\n",
       "    <tr>\n",
       "      <th>320FIA7535:av</th>\n",
       "      <td>0.022499</td>\n",
       "      <td>0.011700</td>\n",
       "      <td>0.022499</td>\n",
       "    </tr>\n",
       "    <tr>\n",
       "      <th>320-PIC0501:me</th>\n",
       "      <td>0.019890</td>\n",
       "      <td>0.025834</td>\n",
       "      <td>0.019890</td>\n",
       "    </tr>\n",
       "    <tr>\n",
       "      <th>PM3-S3SC.opr:me</th>\n",
       "      <td>0.018716</td>\n",
       "      <td>0.035986</td>\n",
       "      <td>0.018716</td>\n",
       "    </tr>\n",
       "    <tr>\n",
       "      <th>HFEMS.MRPAP.01.SH01.PL003.02.HZ</th>\n",
       "      <td>0.017710</td>\n",
       "      <td>0.047220</td>\n",
       "      <td>0.017710</td>\n",
       "    </tr>\n",
       "  </tbody>\n",
       "</table>\n",
       "</div>"
      ],
      "text/plain": [
       "                                      Corr     P-val  Corr_abs\n",
       "320TIA7504:av                     0.025500  0.004270  0.025500\n",
       "PM3_WIRE_SPEED                    0.025243  0.004675  0.025243\n",
       "HFEMS.MRPAP.01.SH01.PL003.05.V_R  0.025076  0.004955  0.025076\n",
       "HFEMS.MRPAP.01.SH01.PL003.02.V_R  0.024818  0.005420  0.024818\n",
       "HFEMS.MRPAP.01.SH01.PL003.03.V_R  0.024632  0.005777  0.024632\n",
       "HFEMS.MRPAP.01.SH01.PL003.01.V_R  0.024481  0.006085  0.024481\n",
       "HFEMS.MRPAP.01.SH01.PL003.04.V_R  0.023852  0.007524  0.023852\n",
       "HFEMS.MRPAP.01.SH01.PL003.05.A_R -0.023797  0.007664  0.023797\n",
       "320LIC7525:me                    -0.023556  0.008303  0.023556\n",
       "320LIC7525:me.1                  -0.023556  0.008303  0.023556\n",
       "320HIC7501:av                     0.022499  0.011700  0.022499\n",
       "320FIA7535:av                     0.022499  0.011700  0.022499\n",
       "320-PIC0501:me                    0.019890  0.025834  0.019890\n",
       "PM3-S3SC.opr:me                   0.018716  0.035986  0.018716\n",
       "HFEMS.MRPAP.01.SH01.PL003.02.HZ   0.017710  0.047220  0.017710"
      ]
     },
     "execution_count": 31,
     "metadata": {},
     "output_type": "execute_result"
    }
   ],
   "source": [
    "#base\n",
    "y = df_3M_temp.loc[:, '지절'].values\n",
    "temp=pd.DataFrame(columns=['Corr', 'P-val'])\n",
    "\n",
    "tags = target\n",
    "tags.remove('지절')\n",
    "\n",
    "for item in tags:\n",
    "    X = df_3M_temp.loc[:, item].values\n",
    "    if (stats.spearmanr(X,y)[1]<0.05) and (stats.spearmanr(X,y)[1]>0.001):\n",
    "        temp.loc[item] = [stats.spearmanr(X, y)[0], stats.spearmanr(X, y)[1]]\n",
    "\n",
    "\n",
    "temp['Corr_abs'] = abs(temp['Corr'])\n",
    "target = list(temp.index)\n",
    "\n",
    "temp.sort_values(by = 'Corr_abs', ascending=False)"
   ]
  },
  {
   "cell_type": "code",
   "execution_count": 32,
   "id": "3cbedbbb",
   "metadata": {
    "scrolled": true
   },
   "outputs": [
    {
     "name": "stderr",
     "output_type": "stream",
     "text": [
      "C:\\Users\\USER\\anaconda3\\lib\\site-packages\\scipy\\stats\\stats.py:4484: SpearmanRConstantInputWarning: An input array is constant; the correlation coefficient is not defined.\n",
      "  warnings.warn(SpearmanRConstantInputWarning())\n"
     ]
    },
    {
     "data": {
      "text/html": [
       "<div>\n",
       "<style scoped>\n",
       "    .dataframe tbody tr th:only-of-type {\n",
       "        vertical-align: middle;\n",
       "    }\n",
       "\n",
       "    .dataframe tbody tr th {\n",
       "        vertical-align: top;\n",
       "    }\n",
       "\n",
       "    .dataframe thead th {\n",
       "        text-align: right;\n",
       "    }\n",
       "</style>\n",
       "<table border=\"1\" class=\"dataframe\">\n",
       "  <thead>\n",
       "    <tr style=\"text-align: right;\">\n",
       "      <th></th>\n",
       "      <th>Corr</th>\n",
       "      <th>P-val</th>\n",
       "      <th>Corr_abs</th>\n",
       "    </tr>\n",
       "  </thead>\n",
       "  <tbody>\n",
       "    <tr>\n",
       "      <th>지종</th>\n",
       "      <td>-0.111548</td>\n",
       "      <td>0.001101</td>\n",
       "      <td>0.111548</td>\n",
       "    </tr>\n",
       "    <tr>\n",
       "      <th>HFEMS.MRPAP.01.SH01.PL003.04.PF</th>\n",
       "      <td>-0.108407</td>\n",
       "      <td>0.001520</td>\n",
       "      <td>0.108407</td>\n",
       "    </tr>\n",
       "    <tr>\n",
       "      <th>HFEMS.MRPAP.01.SH01.PL003.03.VA</th>\n",
       "      <td>0.102661</td>\n",
       "      <td>0.002683</td>\n",
       "      <td>0.102661</td>\n",
       "    </tr>\n",
       "    <tr>\n",
       "      <th>320PIC7513:me</th>\n",
       "      <td>0.101311</td>\n",
       "      <td>0.003055</td>\n",
       "      <td>0.101311</td>\n",
       "    </tr>\n",
       "    <tr>\n",
       "      <th>PM3-S5SC.opr:me</th>\n",
       "      <td>0.100617</td>\n",
       "      <td>0.003263</td>\n",
       "      <td>0.100617</td>\n",
       "    </tr>\n",
       "    <tr>\n",
       "      <th>HFEMS.MRPAP.01.SH01.PL003.03.KW</th>\n",
       "      <td>0.099899</td>\n",
       "      <td>0.003493</td>\n",
       "      <td>0.099899</td>\n",
       "    </tr>\n",
       "    <tr>\n",
       "      <th>HFEMS.MRPAP.01.SH01.PL003.02.PF</th>\n",
       "      <td>-0.099835</td>\n",
       "      <td>0.003514</td>\n",
       "      <td>0.099835</td>\n",
       "    </tr>\n",
       "    <tr>\n",
       "      <th>320PIC7544:me</th>\n",
       "      <td>0.099337</td>\n",
       "      <td>0.003682</td>\n",
       "      <td>0.099337</td>\n",
       "    </tr>\n",
       "    <tr>\n",
       "      <th>HFEMS.MRPAP.01.SH01.PL003.03.A_T</th>\n",
       "      <td>0.098862</td>\n",
       "      <td>0.003850</td>\n",
       "      <td>0.098862</td>\n",
       "    </tr>\n",
       "    <tr>\n",
       "      <th>320PIC7508:me</th>\n",
       "      <td>-0.095678</td>\n",
       "      <td>0.005163</td>\n",
       "      <td>0.095678</td>\n",
       "    </tr>\n",
       "    <tr>\n",
       "      <th>320PDC7516:me</th>\n",
       "      <td>0.095290</td>\n",
       "      <td>0.005348</td>\n",
       "      <td>0.095290</td>\n",
       "    </tr>\n",
       "    <tr>\n",
       "      <th>320PIC7505:me</th>\n",
       "      <td>-0.092373</td>\n",
       "      <td>0.006941</td>\n",
       "      <td>0.092373</td>\n",
       "    </tr>\n",
       "    <tr>\n",
       "      <th>HFEMS.MRPAP.01.SH01.PL003.03.VAR</th>\n",
       "      <td>0.077378</td>\n",
       "      <td>0.023822</td>\n",
       "      <td>0.077378</td>\n",
       "    </tr>\n",
       "    <tr>\n",
       "      <th>HFEMS.MRPAP.01.SH01.PL003.03.A_S</th>\n",
       "      <td>0.074490</td>\n",
       "      <td>0.029600</td>\n",
       "      <td>0.074490</td>\n",
       "    </tr>\n",
       "    <tr>\n",
       "      <th>320PIC7514:me</th>\n",
       "      <td>0.074195</td>\n",
       "      <td>0.030253</td>\n",
       "      <td>0.074195</td>\n",
       "    </tr>\n",
       "    <tr>\n",
       "      <th>320PDC7520:me</th>\n",
       "      <td>-0.073109</td>\n",
       "      <td>0.032763</td>\n",
       "      <td>0.073109</td>\n",
       "    </tr>\n",
       "    <tr>\n",
       "      <th>HFEMS.MRPAP.01.SH01.PL003.02.KW</th>\n",
       "      <td>0.071375</td>\n",
       "      <td>0.037143</td>\n",
       "      <td>0.071375</td>\n",
       "    </tr>\n",
       "    <tr>\n",
       "      <th>320PIC7509:me</th>\n",
       "      <td>-0.069676</td>\n",
       "      <td>0.041906</td>\n",
       "      <td>0.069676</td>\n",
       "    </tr>\n",
       "    <tr>\n",
       "      <th>PM3_ASH_PV</th>\n",
       "      <td>0.067169</td>\n",
       "      <td>0.049869</td>\n",
       "      <td>0.067169</td>\n",
       "    </tr>\n",
       "  </tbody>\n",
       "</table>\n",
       "</div>"
      ],
      "text/plain": [
       "                                      Corr     P-val  Corr_abs\n",
       "지종                               -0.111548  0.001101  0.111548\n",
       "HFEMS.MRPAP.01.SH01.PL003.04.PF  -0.108407  0.001520  0.108407\n",
       "HFEMS.MRPAP.01.SH01.PL003.03.VA   0.102661  0.002683  0.102661\n",
       "320PIC7513:me                     0.101311  0.003055  0.101311\n",
       "PM3-S5SC.opr:me                   0.100617  0.003263  0.100617\n",
       "HFEMS.MRPAP.01.SH01.PL003.03.KW   0.099899  0.003493  0.099899\n",
       "HFEMS.MRPAP.01.SH01.PL003.02.PF  -0.099835  0.003514  0.099835\n",
       "320PIC7544:me                     0.099337  0.003682  0.099337\n",
       "HFEMS.MRPAP.01.SH01.PL003.03.A_T  0.098862  0.003850  0.098862\n",
       "320PIC7508:me                    -0.095678  0.005163  0.095678\n",
       "320PDC7516:me                     0.095290  0.005348  0.095290\n",
       "320PIC7505:me                    -0.092373  0.006941  0.092373\n",
       "HFEMS.MRPAP.01.SH01.PL003.03.VAR  0.077378  0.023822  0.077378\n",
       "HFEMS.MRPAP.01.SH01.PL003.03.A_S  0.074490  0.029600  0.074490\n",
       "320PIC7514:me                     0.074195  0.030253  0.074195\n",
       "320PDC7520:me                    -0.073109  0.032763  0.073109\n",
       "HFEMS.MRPAP.01.SH01.PL003.02.KW   0.071375  0.037143  0.071375\n",
       "320PIC7509:me                    -0.069676  0.041906  0.069676\n",
       "PM3_ASH_PV                        0.067169  0.049869  0.067169"
      ]
     },
     "execution_count": 32,
     "metadata": {},
     "output_type": "execute_result"
    }
   ],
   "source": [
    "#15T 튜닝\n",
    "y = df_3M_15T.loc[:, '지절'].values\n",
    "temp=pd.DataFrame(columns=['Corr', 'P-val'])\n",
    "\n",
    "tags = target_15T+['지종', '평량']\n",
    "\n",
    "for item in tags:\n",
    "    X = df_3M_15T.loc[:, item].values\n",
    "    if (stats.spearmanr(X,y)[1]<0.05) and (stats.spearmanr(X,y)[1]>0.001):\n",
    "        temp.loc[item] = [stats.spearmanr(X, y)[0], stats.spearmanr(X, y)[1]]\n",
    "\n",
    "\n",
    "temp['Corr_abs'] = abs(temp['Corr'])\n",
    "target = list(temp.index)\n",
    "\n",
    "temp.sort_values(by = 'Corr_abs', ascending=False)"
   ]
  },
  {
   "cell_type": "code",
   "execution_count": 33,
   "id": "2f35652a",
   "metadata": {},
   "outputs": [],
   "source": [
    "tags = list(temp.index)"
   ]
  },
  {
   "cell_type": "markdown",
   "id": "ce70ee44",
   "metadata": {},
   "source": [
    "이상치 처리(잘 안됌)"
   ]
  },
  {
   "cell_type": "markdown",
   "id": "629847f3",
   "metadata": {},
   "source": [
    "### 정규화(>표준화도 상관계수에 아무 영향 없음)"
   ]
  },
  {
   "cell_type": "code",
   "execution_count": 34,
   "id": "d5df4d4a",
   "metadata": {},
   "outputs": [],
   "source": [
    "tags.remove('지종')"
   ]
  },
  {
   "cell_type": "code",
   "execution_count": 35,
   "id": "b68b3dcd",
   "metadata": {},
   "outputs": [],
   "source": [
    "temp = df_3M_15T[tags]"
   ]
  },
  {
   "cell_type": "code",
   "execution_count": 36,
   "id": "99b52adf",
   "metadata": {},
   "outputs": [],
   "source": [
    "scaler = MinMaxScaler()\n",
    "scaler.fit(temp[tags])\n",
    "temp_scaler = scaler.transform(temp[tags])"
   ]
  },
  {
   "cell_type": "code",
   "execution_count": 37,
   "id": "ad708642",
   "metadata": {},
   "outputs": [],
   "source": [
    "temp_scaler_df = pd.DataFrame(temp_scaler, columns=tags)"
   ]
  },
  {
   "cell_type": "code",
   "execution_count": 38,
   "id": "529e62a9",
   "metadata": {},
   "outputs": [],
   "source": [
    "df_3M_15T.reset_index(inplace=True)"
   ]
  },
  {
   "cell_type": "code",
   "execution_count": 39,
   "id": "f760a54b",
   "metadata": {
    "scrolled": true
   },
   "outputs": [],
   "source": [
    "df_3M_15T[tags] = temp_scaler_df[tags]"
   ]
  },
  {
   "cell_type": "code",
   "execution_count": 40,
   "id": "3ffc7312",
   "metadata": {},
   "outputs": [],
   "source": [
    "df_3M_15T.set_index('작업시작시간', inplace=True)"
   ]
  },
  {
   "cell_type": "code",
   "execution_count": 41,
   "id": "37e030e6",
   "metadata": {},
   "outputs": [],
   "source": [
    "temp_scaler_df=df_3M_15T.copy()"
   ]
  },
  {
   "cell_type": "markdown",
   "id": "a3f51912",
   "metadata": {},
   "source": [
    "### 노이즈 처리 후 상관분석"
   ]
  },
  {
   "cell_type": "code",
   "execution_count": 42,
   "id": "3905bd3c",
   "metadata": {
    "scrolled": false
   },
   "outputs": [
    {
     "name": "stderr",
     "output_type": "stream",
     "text": [
      "C:\\Users\\USER\\anaconda3\\lib\\site-packages\\scipy\\stats\\stats.py:4484: SpearmanRConstantInputWarning: An input array is constant; the correlation coefficient is not defined.\n",
      "  warnings.warn(SpearmanRConstantInputWarning())\n"
     ]
    },
    {
     "data": {
      "text/html": [
       "<div>\n",
       "<style scoped>\n",
       "    .dataframe tbody tr th:only-of-type {\n",
       "        vertical-align: middle;\n",
       "    }\n",
       "\n",
       "    .dataframe tbody tr th {\n",
       "        vertical-align: top;\n",
       "    }\n",
       "\n",
       "    .dataframe thead th {\n",
       "        text-align: right;\n",
       "    }\n",
       "</style>\n",
       "<table border=\"1\" class=\"dataframe\">\n",
       "  <thead>\n",
       "    <tr style=\"text-align: right;\">\n",
       "      <th></th>\n",
       "      <th>Corr</th>\n",
       "      <th>P-val</th>\n",
       "      <th>Corr_abs</th>\n",
       "    </tr>\n",
       "  </thead>\n",
       "  <tbody>\n",
       "    <tr>\n",
       "      <th>지종</th>\n",
       "      <td>-0.111548</td>\n",
       "      <td>0.001101</td>\n",
       "      <td>0.111548</td>\n",
       "    </tr>\n",
       "    <tr>\n",
       "      <th>HFEMS.MRPAP.01.SH01.PL003.04.PF</th>\n",
       "      <td>-0.108407</td>\n",
       "      <td>0.001520</td>\n",
       "      <td>0.108407</td>\n",
       "    </tr>\n",
       "    <tr>\n",
       "      <th>HFEMS.MRPAP.01.SH01.PL003.03.VA</th>\n",
       "      <td>0.102661</td>\n",
       "      <td>0.002683</td>\n",
       "      <td>0.102661</td>\n",
       "    </tr>\n",
       "    <tr>\n",
       "      <th>320PIC7513:me</th>\n",
       "      <td>0.101311</td>\n",
       "      <td>0.003055</td>\n",
       "      <td>0.101311</td>\n",
       "    </tr>\n",
       "    <tr>\n",
       "      <th>PM3-S5SC.opr:me</th>\n",
       "      <td>0.100617</td>\n",
       "      <td>0.003263</td>\n",
       "      <td>0.100617</td>\n",
       "    </tr>\n",
       "    <tr>\n",
       "      <th>HFEMS.MRPAP.01.SH01.PL003.03.KW</th>\n",
       "      <td>0.099899</td>\n",
       "      <td>0.003493</td>\n",
       "      <td>0.099899</td>\n",
       "    </tr>\n",
       "    <tr>\n",
       "      <th>HFEMS.MRPAP.01.SH01.PL003.02.PF</th>\n",
       "      <td>-0.099835</td>\n",
       "      <td>0.003514</td>\n",
       "      <td>0.099835</td>\n",
       "    </tr>\n",
       "    <tr>\n",
       "      <th>320PIC7544:me</th>\n",
       "      <td>0.099337</td>\n",
       "      <td>0.003682</td>\n",
       "      <td>0.099337</td>\n",
       "    </tr>\n",
       "    <tr>\n",
       "      <th>HFEMS.MRPAP.01.SH01.PL003.03.A_T</th>\n",
       "      <td>0.098862</td>\n",
       "      <td>0.003850</td>\n",
       "      <td>0.098862</td>\n",
       "    </tr>\n",
       "    <tr>\n",
       "      <th>320PIC7508:me</th>\n",
       "      <td>-0.095678</td>\n",
       "      <td>0.005163</td>\n",
       "      <td>0.095678</td>\n",
       "    </tr>\n",
       "    <tr>\n",
       "      <th>320PDC7516:me</th>\n",
       "      <td>0.095290</td>\n",
       "      <td>0.005348</td>\n",
       "      <td>0.095290</td>\n",
       "    </tr>\n",
       "    <tr>\n",
       "      <th>320PIC7505:me</th>\n",
       "      <td>-0.092373</td>\n",
       "      <td>0.006941</td>\n",
       "      <td>0.092373</td>\n",
       "    </tr>\n",
       "    <tr>\n",
       "      <th>HFEMS.MRPAP.01.SH01.PL003.03.VAR</th>\n",
       "      <td>0.077378</td>\n",
       "      <td>0.023822</td>\n",
       "      <td>0.077378</td>\n",
       "    </tr>\n",
       "    <tr>\n",
       "      <th>HFEMS.MRPAP.01.SH01.PL003.03.A_S</th>\n",
       "      <td>0.074490</td>\n",
       "      <td>0.029600</td>\n",
       "      <td>0.074490</td>\n",
       "    </tr>\n",
       "    <tr>\n",
       "      <th>320PIC7514:me</th>\n",
       "      <td>0.074195</td>\n",
       "      <td>0.030253</td>\n",
       "      <td>0.074195</td>\n",
       "    </tr>\n",
       "    <tr>\n",
       "      <th>320PDC7520:me</th>\n",
       "      <td>-0.073110</td>\n",
       "      <td>0.032763</td>\n",
       "      <td>0.073110</td>\n",
       "    </tr>\n",
       "    <tr>\n",
       "      <th>HFEMS.MRPAP.01.SH01.PL003.02.KW</th>\n",
       "      <td>0.071375</td>\n",
       "      <td>0.037143</td>\n",
       "      <td>0.071375</td>\n",
       "    </tr>\n",
       "    <tr>\n",
       "      <th>320PIC7509:me</th>\n",
       "      <td>-0.069676</td>\n",
       "      <td>0.041905</td>\n",
       "      <td>0.069676</td>\n",
       "    </tr>\n",
       "    <tr>\n",
       "      <th>PM3_ASH_PV</th>\n",
       "      <td>0.067169</td>\n",
       "      <td>0.049869</td>\n",
       "      <td>0.067169</td>\n",
       "    </tr>\n",
       "  </tbody>\n",
       "</table>\n",
       "</div>"
      ],
      "text/plain": [
       "                                      Corr     P-val  Corr_abs\n",
       "지종                               -0.111548  0.001101  0.111548\n",
       "HFEMS.MRPAP.01.SH01.PL003.04.PF  -0.108407  0.001520  0.108407\n",
       "HFEMS.MRPAP.01.SH01.PL003.03.VA   0.102661  0.002683  0.102661\n",
       "320PIC7513:me                     0.101311  0.003055  0.101311\n",
       "PM3-S5SC.opr:me                   0.100617  0.003263  0.100617\n",
       "HFEMS.MRPAP.01.SH01.PL003.03.KW   0.099899  0.003493  0.099899\n",
       "HFEMS.MRPAP.01.SH01.PL003.02.PF  -0.099835  0.003514  0.099835\n",
       "320PIC7544:me                     0.099337  0.003682  0.099337\n",
       "HFEMS.MRPAP.01.SH01.PL003.03.A_T  0.098862  0.003850  0.098862\n",
       "320PIC7508:me                    -0.095678  0.005163  0.095678\n",
       "320PDC7516:me                     0.095290  0.005348  0.095290\n",
       "320PIC7505:me                    -0.092373  0.006941  0.092373\n",
       "HFEMS.MRPAP.01.SH01.PL003.03.VAR  0.077378  0.023822  0.077378\n",
       "HFEMS.MRPAP.01.SH01.PL003.03.A_S  0.074490  0.029600  0.074490\n",
       "320PIC7514:me                     0.074195  0.030253  0.074195\n",
       "320PDC7520:me                    -0.073110  0.032763  0.073110\n",
       "HFEMS.MRPAP.01.SH01.PL003.02.KW   0.071375  0.037143  0.071375\n",
       "320PIC7509:me                    -0.069676  0.041905  0.069676\n",
       "PM3_ASH_PV                        0.067169  0.049869  0.067169"
      ]
     },
     "execution_count": 42,
     "metadata": {},
     "output_type": "execute_result"
    }
   ],
   "source": [
    "y = temp_scaler_df.loc[:, '지절'].values\n",
    "temp_corr=pd.DataFrame(columns=['Corr', 'P-val'])\n",
    "\n",
    "tags = list(temp_scaler_df.columns)\n",
    "tags.remove('지절')\n",
    "\n",
    "for item in tags:\n",
    "    X = temp_scaler_df.loc[:, item].values\n",
    "    if (stats.spearmanr(X,y)[1]<0.05) and (stats.spearmanr(X,y)[1]>0.001):\n",
    "        temp_corr.loc[item] = [stats.spearmanr(X, y)[0], stats.spearmanr(X, y)[1]]\n",
    "\n",
    "temp_corr['Corr_abs'] = abs(temp_corr['Corr'])\n",
    "temp_corr.sort_values(by = 'Corr_abs', ascending=False)"
   ]
  },
  {
   "cell_type": "code",
   "execution_count": 43,
   "id": "b7685146",
   "metadata": {},
   "outputs": [],
   "source": [
    "target = list(temp_corr.index)"
   ]
  },
  {
   "cell_type": "markdown",
   "id": "75c2f698",
   "metadata": {},
   "source": [
    "svm(지종 vs 지절+DCS/QCS+Power)"
   ]
  },
  {
   "cell_type": "code",
   "execution_count": 44,
   "id": "d36fa5c6",
   "metadata": {},
   "outputs": [],
   "source": [
    "df.dropna(subset=['설비'], inplace=True)"
   ]
  },
  {
   "cell_type": "code",
   "execution_count": 45,
   "id": "b84caefd",
   "metadata": {},
   "outputs": [],
   "source": [
    "df.reset_index(inplace=True)"
   ]
  },
  {
   "cell_type": "code",
   "execution_count": 46,
   "id": "1ec0b3de",
   "metadata": {},
   "outputs": [],
   "source": [
    "condition_1 = ((df['지종']=='NEO★MATT 9+ R10기지') & (df['평량']==172.0))\n",
    "condition_2 = ((df['지종']=='네오★아트 R10기지') & (df['평량']==67.0))\n",
    "condition_3 = ((df['지종']=='네오★아트 R10기지') & (df['평량']==77.0))\n",
    "condition_4 = ((df['지종']=='네오★아트 R10기지') & (df['평량']==103.0)) \n",
    "condition_5 = ((df['지종']=='네오★아트 R10기지') & (df['평량']==216.0))\n",
    "condition_6 = ((df['지종']=='네오★아트기지') & (df['평량']==77.0))\n",
    "condition_7 = ((df['지종']=='네오★아트기지') & (df['평량']==103.0))\n",
    "condition_8 = ((df['지종']=='네오★아트기지') & (df['평량']==152.0))\n",
    "condition_9 = ((df['지종']=='네오★아트기지') & (df['평량']==198.0))\n",
    "condition_10 = ((df['지종']=='네오★아트기지') & (df['평량']==216.0))\n",
    "condition_11 = ((df['지종']=='네오★스노우화이트기지') & (df['평량']==62.0))\n",
    "condition_12 = ((df['지종']=='네오★스노우화이트기지') & (df['평량']==77.0))\n",
    "condition_13 = ((df['지종']=='네오★스노우화이트기지') & (df['평량']==103.0))\n",
    "condition_14 = ((df['지종']=='네오★쇼핑백기지') & (df['평량']==113.0))\n",
    "condition_15 = ((df['지종']=='네오★백상') & (df['평량']==100.0))\n",
    "condition_16 = ((df['지종']=='네오★백상') & (df['평량']==150.0))\n",
    "condition_17 = ((df['지종']=='네오★백상') & (df['평량']==180.0))                   #x\n",
    "condition_18 = ((df['지종']=='네오★라벨기지') & (df['평량']==67.0))\n",
    "condition_19 = ((df['지종']=='네오★스노우화이트R10가지') & (df['평량']==77.0))     #x\n",
    "condition_20 = ((df['지종']=='네오★스노우화이트R10가지') & (df['평량']==103.0))    #x"
   ]
  },
  {
   "cell_type": "code",
   "execution_count": 47,
   "id": "e9612464",
   "metadata": {},
   "outputs": [],
   "source": [
    "condition_legend=['NEO★MATT 9+ R10기지(172.0)'\n",
    "                ,'네오★아트 R10기지(67.0)'\n",
    "                ,'네오★아트 R10기지(77.0)'\n",
    "                ,'네오★아트 R10기지(103.0)'\n",
    "                ,'네오★아트 R10기지(216.0)'\n",
    "                ,'네오★아트기지(77.0)'\n",
    "                ,'네오★아트기지(103.0)'\n",
    "                ,'네오★아트기지(152.0)'\n",
    "                ,'네오★아트기지(198.0)'\n",
    "                ,'네오★아트기지(216.0)'\n",
    "                ,'네오★스노우화이트기지(62.0)'\n",
    "                ,'네오★스노우화이트기지(77.0)'\n",
    "                ,'네오★스노우화이트기지(103.0)'\n",
    "                ,'네오★쇼핑백기지(113.0)'\n",
    "                ,'네오★백상(100.0)'\n",
    "                ,'네오★백상(150.0)'\n",
    "                ,'네오★백상(180.0)' #drop\n",
    "                ,'네오★라벨기지(67.0)'\n",
    "                ,'네오★스노우화이트R10가지(77.0)'#drop\n",
    "                ,'네오★스노우화이트R10가지(103.0)']#drop"
   ]
  },
  {
   "cell_type": "code",
   "execution_count": 48,
   "id": "e4d5cb25",
   "metadata": {},
   "outputs": [],
   "source": [
    "conditions=condition_1 | condition_2 | condition_3 | condition_4 | condition_5 | condition_6 | condition_7 | condition_8 | condition_9 | condition_10 | condition_11 | condition_12 | condition_13 | condition_14 | condition_15 | condition_16 | condition_17 | condition_18 | condition_19 | condition_20"
   ]
  },
  {
   "cell_type": "code",
   "execution_count": 49,
   "id": "285c74cc",
   "metadata": {},
   "outputs": [],
   "source": [
    "tags = ['지절','평량']+target"
   ]
  },
  {
   "cell_type": "code",
   "execution_count": 50,
   "id": "771b8e21",
   "metadata": {},
   "outputs": [],
   "source": [
    "df_temp = df[conditions][tags]"
   ]
  },
  {
   "cell_type": "code",
   "execution_count": 51,
   "id": "89412b2d",
   "metadata": {},
   "outputs": [],
   "source": [
    "for index,condition in enumerate([condition_1, condition_2, condition_3, condition_4, condition_5, condition_6, condition_7, condition_8, condition_9, condition_10, condition_11, condition_12, condition_13, condition_14, condition_15, condition_16, condition_17, condition_18, condition_19, condition_20]):\n",
    "    df_temp.loc[condition,['지종']]=index"
   ]
  },
  {
   "cell_type": "code",
   "execution_count": 52,
   "id": "fa1cee5a",
   "metadata": {},
   "outputs": [
    {
     "data": {
      "text/plain": [
       "[15, 10, 12, 0, 3, 4, 8, 13, 17, 1, 2, 14, 7, 9, 11, 6, 5]"
      ]
     },
     "execution_count": 52,
     "metadata": {},
     "output_type": "execute_result"
    }
   ],
   "source": [
    "list(df_temp['지종'].unique())"
   ]
  },
  {
   "cell_type": "code",
   "execution_count": 53,
   "id": "1968c4af",
   "metadata": {},
   "outputs": [],
   "source": [
    "from sklearn.model_selection import train_test_split\n",
    "\n",
    "seed=1004\n",
    "sample_ratio=0.1\n",
    "\n",
    "X=df_temp[tags].sample(frac=sample_ratio,random_state=seed)\n",
    "y=df_temp['지종'].sample(frac=sample_ratio,random_state=seed).astype('int')\n",
    "\n",
    "X_train, X_test, y_train, y_test = train_test_split(X, y, test_size = 0.3, random_state = 123)"
   ]
  },
  {
   "cell_type": "markdown",
   "id": "20315e8a",
   "metadata": {},
   "source": [
    "스케일링"
   ]
  },
  {
   "cell_type": "code",
   "execution_count": 54,
   "id": "dadf1d53",
   "metadata": {
    "scrolled": true
   },
   "outputs": [],
   "source": [
    "from sklearn.preprocessing import StandardScaler\n",
    "\n",
    "scaler = StandardScaler()\n",
    "scaler.fit(X_train) # X scaler 생성\n",
    "X_train = scaler.transform(X_train)   # 스케일링 적용"
   ]
  },
  {
   "cell_type": "markdown",
   "id": "e8cf84e5",
   "metadata": {},
   "source": [
    "svm모델 생성"
   ]
  },
  {
   "cell_type": "code",
   "execution_count": 55,
   "id": "5d3613c7",
   "metadata": {
    "scrolled": true
   },
   "outputs": [
    {
     "data": {
      "text/plain": [
       "SVC()"
      ]
     },
     "execution_count": 55,
     "metadata": {},
     "output_type": "execute_result"
    }
   ],
   "source": [
    "from sklearn import svm\n",
    "\n",
    "clf= svm.SVC(kernel='rbf')\n",
    "clf.fit(X_train, y_train)"
   ]
  },
  {
   "cell_type": "markdown",
   "id": "dbd7d3d3",
   "metadata": {},
   "source": [
    "정확도"
   ]
  },
  {
   "cell_type": "code",
   "execution_count": 56,
   "id": "477d4856",
   "metadata": {
    "scrolled": true
   },
   "outputs": [
    {
     "data": {
      "text/plain": [
       "0.9803553126067646"
      ]
     },
     "execution_count": 56,
     "metadata": {},
     "output_type": "execute_result"
    }
   ],
   "source": [
    "from sklearn.metrics import accuracy_score\n",
    "\n",
    "X_test = scaler.transform(X_test)\n",
    "\n",
    "y_pred = clf.predict(X_test)\n",
    "accuracy_score(y_test, y_pred)"
   ]
  },
  {
   "cell_type": "code",
   "execution_count": 87,
   "id": "24605cb0",
   "metadata": {
    "scrolled": false
   },
   "outputs": [
    {
     "data": {
      "image/png": "[encoded data removed]",
      "text/plain": [
       "<Figure size 1080x648 with 2 Axes>"
      ]
     },
     "metadata": {
      "needs_background": "light"
     },
     "output_type": "display_data"
    }
   ],
   "source": [
    "from sklearn.metrics import confusion_matrix\n",
    "\n",
    "LABELS = ['#0','#1','#2','#3','#4','#5','#6','#7','#8','#9','#10','#11','#12','#13','#14','#15','#17']\n",
    "\n",
    "plt.rc('font',)        # 기본 폰트 크기\n",
    "plt.rc('axes', labelsize=20)   # x,y축 label 폰트 크기\n",
    "plt.rc('xtick', labelsize=20)  # x축 눈금 폰트 크기 \n",
    "plt.rc('ytick', labelsize=20)  # y축 눈금 폰트 크기\n",
    "plt.rc('legend', fontsize=20)  # 범례 폰트 크기\n",
    "plt.rc('figure', titlesize=50) # figure title 폰트 크기\n",
    "\n",
    "plt.figure(figsize=(15,9))\n",
    "sns.heatmap(confusion_matrix(y_test, y_pred), xticklabels=LABELS, yticklabels=LABELS, annot=True, fmt='d')\n",
    "plt.title('Confusion Matrix')\n",
    "plt.xlabel('Predicted Class'); plt.ylabel('True Class')\n",
    "\n",
    "\n",
    "\n",
    "plt.show()"
   ]
  },
  {
   "cell_type": "markdown",
   "id": "16b5cb2b",
   "metadata": {},
   "source": [
    "T-SNE"
   ]
  },
  {
   "cell_type": "code",
   "execution_count": 58,
   "id": "dec41fcb",
   "metadata": {},
   "outputs": [],
   "source": [
    "import matplotlib\n",
    "from matplotlib import font_manager, rc\n",
    "import platform\n",
    "\n",
    "if platform.system() == 'Windows':\n",
    "# 윈도우인 경우\n",
    "    font_name = font_manager.FontProperties(fname=\"c:/Windows/Fonts/malgun.ttf\").get_name()\n",
    "    rc('font', family=font_name)\n",
    "else:    \n",
    "# Mac 인 경우\n",
    "    rc('font', family='AppleGothic')\n",
    "matplotlib.rcParams['axes.unicode_minus'] = False   \n",
    "#그래프에서 마이너스 기호가 표시되도록 하는 설정입니다. "
   ]
  },
  {
   "cell_type": "code",
   "execution_count": 71,
   "id": "0e55e402",
   "metadata": {},
   "outputs": [
    {
     "name": "stderr",
     "output_type": "stream",
     "text": [
      "C:\\Users\\USER\\anaconda3\\lib\\site-packages\\sklearn\\manifold\\_t_sne.py:780: FutureWarning: The default initialization in TSNE will change from 'random' to 'pca' in 1.2.\n",
      "  warnings.warn(\n",
      "C:\\Users\\USER\\anaconda3\\lib\\site-packages\\sklearn\\manifold\\_t_sne.py:790: FutureWarning: The default learning rate in TSNE will change from 200.0 to 'auto' in 1.2.\n",
      "  warnings.warn(\n"
     ]
    }
   ],
   "source": [
    "from sklearn.manifold import TSNE\n",
    "\n",
    "# class target 정보 제외\n",
    "\n",
    "# 2차원 t-SNE 임베딩\n",
    "tsne_np = TSNE().fit_transform(X_test)\n",
    "\n",
    "# numpy array -> DataFrame 변환\n",
    "tsne_df = pd.DataFrame(tsne_np, columns = ['component 0', 'component 1'])"
   ]
  },
  {
   "cell_type": "markdown",
   "id": "2b2327a5",
   "metadata": {},
   "source": [
    "2D T-SNE"
   ]
  },
  {
   "cell_type": "code",
   "execution_count": 101,
   "id": "c6467e82",
   "metadata": {},
   "outputs": [
    {
     "data": {
      "image/png": "[encoded data removed]",
      "text/plain": [
       "<Figure size 720x504 with 1 Axes>"
      ]
     },
     "metadata": {
      "needs_background": "light"
     },
     "output_type": "display_data"
    }
   ],
   "source": [
    "import matplotlib.pyplot as plt\n",
    "\n",
    "# class target 정보 불러오기 \n",
    "tsne_df['target'] = y_test.values\n",
    "tsne_df['pred'] = y_pred\n",
    "\n",
    "# target 별 분리\n",
    "tsne_df_0 = tsne_df[tsne_df['target'] == 0]\n",
    "tsne_df_1 = tsne_df[tsne_df['target'] == 1]\n",
    "tsne_df_2 = tsne_df[tsne_df['target'] == 2]\n",
    "tsne_df_3 = tsne_df[tsne_df['target'] == 3]\n",
    "tsne_df_4 = tsne_df[tsne_df['target'] == 4]\n",
    "tsne_df_5 = tsne_df[tsne_df['target'] == 5]\n",
    "tsne_df_6 = tsne_df[tsne_df['target'] == 6]\n",
    "tsne_df_7 = tsne_df[tsne_df['target'] == 7]\n",
    "tsne_df_8 = tsne_df[tsne_df['target'] == 8]\n",
    "tsne_df_9 = tsne_df[tsne_df['target'] == 9]\n",
    "\n",
    "#예측 라벨\n",
    "y_pred_0 = tsne_df[tsne_df['pred'] == 0]\n",
    "y_pred_1 = tsne_df[tsne_df['pred'] == 1]\n",
    "y_pred_2 = tsne_df[tsne_df['pred'] == 2]\n",
    "y_pred_3 = tsne_df[tsne_df['pred'] == 3]\n",
    "y_pred_4 = tsne_df[tsne_df['pred'] == 4]\n",
    "y_pred_5 = tsne_df[tsne_df['pred'] == 5]\n",
    "y_pred_6 = tsne_df[tsne_df['pred'] == 6]\n",
    "y_pred_7 = tsne_df[tsne_df['pred'] == 7]\n",
    "y_pred_8 = tsne_df[tsne_df['pred'] == 8]\n",
    "y_pred_9 = tsne_df[tsne_df['pred'] == 9]\n",
    "\n",
    "plt.rc('font',)        # 기본 폰트 크기\n",
    "plt.rc('axes', labelsize=20)   # x,y축 label 폰트 크기\n",
    "plt.rc('xtick', labelsize=20)  # x축 눈금 폰트 크기 \n",
    "plt.rc('ytick', labelsize=20)  # y축 눈금 폰트 크기\n",
    "plt.rc('legend', fontsize=12)  # 범례 폰트 크기\n",
    "plt.rc('figure', titlesize=50) # figure title 폰트 크기\n",
    "\n",
    "# target 별 시각화\n",
    "plt.figure(figsize = (10,7))\n",
    "\n",
    "plt.scatter(y_pred_0['component 0'], y_pred_0['component 1'], color = 'red', label = '0')\n",
    "plt.scatter(y_pred_1['component 0'], y_pred_1['component 1'], color = 'blue', label = '1')\n",
    "plt.scatter(y_pred_2['component 0'], y_pred_2['component 1'], color = 'green', label = '2')\n",
    "plt.scatter(y_pred_3['component 0'], y_pred_3['component 1'], color = 'black', label = '3')\n",
    "plt.scatter(y_pred_4['component 0'], y_pred_4['component 1'], color = 'gray', label = '4')\n",
    "plt.scatter(y_pred_5['component 0'], y_pred_5['component 1'], color = 'yellow', label = '5')\n",
    "plt.scatter(y_pred_6['component 0'], y_pred_6['component 1'], color = 'pink', label = '6')\n",
    "plt.scatter(y_pred_7['component 0'], y_pred_7['component 1'], color = 'lightblue', label = '7')\n",
    "plt.scatter(y_pred_8['component 0'], y_pred_8['component 1'], color = 'darkblue', label = '8')\n",
    "plt.scatter(y_pred_9['component 0'], y_pred_9['component 1'], color = 'purple', label = '9')\n",
    "plt.title('SVM result', size=15)\n",
    "plt.legend(condition_legend, loc=(1.05,0.1))\n",
    "\n",
    "\n",
    "plt.xlabel('Component 1')\n",
    "plt.ylabel('Component 2')\n",
    "plt.grid()\n",
    "plt.show()"
   ]
  }
 ],
 "metadata": {
  "kernelspec": {
   "display_name": "Python 3 (ipykernel)",
   "language": "python",
   "name": "python3"
  },
  "language_info": {
   "codemirror_mode": {
    "name": "ipython",
    "version": 3
   },
   "file_extension": ".py",
   "mimetype": "text/x-python",
   "name": "python",
   "nbconvert_exporter": "python",
   "pygments_lexer": "ipython3",
   "version": "3.9.12"
  }
 },
 "nbformat": 4,
 "nbformat_minor": 5
}
